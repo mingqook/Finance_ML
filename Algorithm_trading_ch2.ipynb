{
 "cells": [
  {
   "cell_type": "code",
   "execution_count": 1,
   "id": "opposed-lancaster",
   "metadata": {},
   "outputs": [],
   "source": [
    "import pandas_datareader.data as web\n",
    "df = web.DataReader('USDCAD=X', 'yahoo', start='2007-07-22', end='2012-03-28')"
   ]
  },
  {
   "cell_type": "code",
   "execution_count": 4,
   "id": "educational-distribution",
   "metadata": {},
   "outputs": [
    {
     "data": {
      "text/plain": [
       "<AxesSubplot:xlabel='Date'>"
      ]
     },
     "execution_count": 4,
     "metadata": {},
     "output_type": "execute_result"
    },
    {
     "data": {
      "image/png": "[encoded data removed]",
      "text/plain": [
       "<Figure size 432x288 with 1 Axes>"
      ]
     },
     "metadata": {
      "needs_background": "light"
     },
     "output_type": "display_data"
    }
   ],
   "source": [
    "data = df['Adj Close']\n",
    "data.plot()"
   ]
  },
  {
   "cell_type": "code",
   "execution_count": 22,
   "id": "anticipated-solomon",
   "metadata": {},
   "outputs": [
    {
     "data": {
      "text/plain": [
       "(-1.814955679296744,\n",
       " 0.37306229931987056,\n",
       " 0,\n",
       " 1215,\n",
       " {'1%': -3.435743555099632,\n",
       "  '5%': -2.8639217381867486,\n",
       "  '10%': -2.568038075665972},\n",
       " -8111.811359194424)"
      ]
     },
     "execution_count": 22,
     "metadata": {},
     "output_type": "execute_result"
    }
   ],
   "source": [
    "#### 귀무가설 기각할 수 없음 - Stationary하다\n",
    "from statsmodels.tsa.stattools import adfuller\n",
    "adfuller(data, maxlag=1, regression='c')\n"
   ]
  },
  {
   "cell_type": "code",
   "execution_count": 18,
   "id": "mathematical-spelling",
   "metadata": {},
   "outputs": [],
   "source": [
    "import numpy as np\n",
    "from statsmodels.regression.linear_model import OLS\n",
    "from statsmodels.tsa.tsatools import lagmat, add_trend\n",
    "from statsmodels.tsa.adfvalues import mackinnonp\n",
    "\n",
    "def adf(ts):\n",
    "    ts = np.asarray(ts)\n",
    "    \n",
    "    nobs = ts.shape[0]\n",
    "    maxlag = 1\n",
    "    tsdiff = np.diff(ts)\n",
    "    \n",
    "    tsdall = lagmat(tsdiff[:, None], maxlag, trim = 'both', original = 'in')\n",
    "    nobs = tsdall.shape[0]\n",
    "    tsdall[:, 0] = ts[-nobs - 1:-1]\n",
    "    tsdshort = tsdiff[-nobs:]\n",
    "    \n",
    "    results = OLS(tsdshort, add_trend(tsdall[:, :maxlag + 1], 'c')).fit()\n",
    "    adfstat = results.tvalues[0]\n",
    "    \n",
    "    pvalue = mackinnonp(adfstat, 'c', N=1)\n",
    "    return (adfstat, pvalue)"
   ]
  },
  {
   "cell_type": "code",
   "execution_count": 19,
   "id": "korean-henry",
   "metadata": {},
   "outputs": [
    {
     "data": {
      "text/plain": [
       "(-1.8319637867741008, 0.3647119589771163)"
      ]
     },
     "execution_count": 19,
     "metadata": {},
     "output_type": "execute_result"
    }
   ],
   "source": [
    "adf(data)"
   ]
  },
  {
   "cell_type": "code",
   "execution_count": 63,
   "id": "identified-portrait",
   "metadata": {},
   "outputs": [],
   "source": [
    "def get_hurst_exponent(ts, max_lag = 20):\n",
    "    \n",
    "    lags = range(2, max_lag)\n",
    "    tau = []\n",
    "    for lag in lags:\n",
    "        diff = np.subtract(np.array(ts[lag:]), np.array(ts[:-lag]))\n",
    "        tau.append(np.std(diff))\n",
    "        \n",
    "    reg = np.polyfit(np.log(lags), np.log(tau), 1)\n",
    "    \n",
    "    return reg[0]"
   ]
  },
  {
   "cell_type": "code",
   "execution_count": 64,
   "id": "republican-hypothesis",
   "metadata": {},
   "outputs": [
    {
     "data": {
      "text/plain": [
       "0.4665241917919693"
      ]
     },
     "execution_count": 64,
     "metadata": {},
     "output_type": "execute_result"
    }
   ],
   "source": [
    "get_hurst_exponent(data)"
   ]
  },
  {
   "cell_type": "code",
   "execution_count": 65,
   "id": "general-immune",
   "metadata": {},
   "outputs": [],
   "source": [
    "def hurst(ts):\n",
    "    \"\"\"\n",
    "    Returns the Hurst Exponent of the time series vector ts\n",
    "    \"\"\"\n",
    "    # make sure we are working with an array, convert if necessary\n",
    "    ts = np.asarray(ts)\n",
    "\n",
    "    # Helper variables used during calculations\n",
    "    lagvec = []\n",
    "    tau = []\n",
    "    # Create the range of lag values\n",
    "    lags = range(2, 100)\n",
    "\n",
    "    #  Step through the different lags\n",
    "    for lag in lags:\n",
    "        #  produce value difference with lag\n",
    "        pdiff = np.subtract(ts[lag:],ts[:-lag])\n",
    "        #  Write the different lags into a vector\n",
    "        lagvec.append(lag)\n",
    "        #  Calculate the variance of the difference vector\n",
    "        tau.append(np.std(pdiff))\n",
    "\n",
    "    #  linear fit to double-log graph\n",
    "    m = np.polyfit(np.log10(np.asarray(lagvec)),\n",
    "                   np.log10(np.asarray(tau).clip(min=0.0000000001)),\n",
    "                   1)\n",
    "    # return the calculated hurst exponent\n",
    "    return m[0]"
   ]
  },
  {
   "cell_type": "code",
   "execution_count": null,
   "id": "expected-conclusion",
   "metadata": {},
   "outputs": [],
   "source": [
    "def variance_ratio_test(ts, lag = 2):\n",
    "    ts = np.asarray(ts)\n",
    "    diff1 = np.substract(ts[1:], ts[:-1])\n",
    "    difftau = "
   ]
  },
  {
   "cell_type": "code",
   "execution_count": 67,
   "id": "specialized-improvement",
   "metadata": {},
   "outputs": [],
   "source": [
    "#### ??? 왜 이렇게 되는거지???\n",
    "def variance_ratio(ts, lag = 2):\n",
    "    \"\"\"\n",
    "    Returns the variance ratio test result\n",
    "    \"\"\"\n",
    "    # make sure we are working with an array, convert if necessary\n",
    "    ts = np.asarray(ts)\n",
    "    \n",
    "    # Apply the formula to calculate the test\n",
    "    n = len(ts)\n",
    "    mu  = sum(ts[1:n]-ts[:n-1])/n;\n",
    "    m=(n-lag+1)*(1-lag/n);\n",
    "    b=sum(np.square(ts[1:n]-ts[:n-1]-mu))/(n-1)\n",
    "    t=sum(np.square(ts[lag:n]-ts[:n-lag]-lag*mu))/m\n",
    "    return t/(lag*b);"
   ]
  },
  {
   "cell_type": "code",
   "execution_count": 68,
   "id": "residential-hungarian",
   "metadata": {},
   "outputs": [
    {
     "data": {
      "text/plain": [
       "1.0078634031661593"
      ]
     },
     "execution_count": 68,
     "metadata": {},
     "output_type": "execute_result"
    }
   ],
   "source": [
    "variance_ratio(data)"
   ]
  },
  {
   "cell_type": "code",
   "execution_count": 97,
   "id": "accepting-dating",
   "metadata": {},
   "outputs": [],
   "source": [
    "#### example 2.4 설명대로 수행(regression 활용)\n",
    "def half_life(ts):\n",
    "    ts = np.asarray(ts)\n",
    "    delta_ts = np.diff(ts)\n",
    "    lag_ts = np.vstack([ts[1:], np.ones(len(ts[1:]))]).T\n",
    "    lamda_sol = np.linalg.lstsq(lag_ts, delta_ts)\n",
    "    print('lamda:', lamda_sol[0][0])\n",
    "    return (np.log(2) / lamda_sol[0])[0]   #### (-) 붙여야되는거 아닌가?\n",
    "\n",
    "### lamda가 양수이므로 price series is not at all mean reverting(??)"
   ]
  },
  {
   "cell_type": "code",
   "execution_count": 98,
   "id": "sustainable-scholar",
   "metadata": {},
   "outputs": [
    {
     "name": "stdout",
     "output_type": "stream",
     "text": [
      "lamda: 0.005971846408856899\n"
     ]
    },
    {
     "name": "stderr",
     "output_type": "stream",
     "text": [
      "/Users/qook/Coding/Finance_ML/venv/lib/python3.6/site-packages/ipykernel_launcher.py:6: FutureWarning: `rcond` parameter will change to the default of machine precision times ``max(M, N)`` where M and N are the input matrix dimensions.\n",
      "To use the future default and silence this warning we advise to pass `rcond=None`, to keep using the old, explicitly pass `rcond=-1`.\n",
      "  \n"
     ]
    },
    {
     "data": {
      "text/plain": [
       "116.06915736009762"
      ]
     },
     "execution_count": 98,
     "metadata": {},
     "output_type": "execute_result"
    }
   ],
   "source": [
    "half_life(data)"
   ]
  },
  {
   "cell_type": "code",
   "execution_count": 144,
   "id": "prescribed-cannon",
   "metadata": {},
   "outputs": [],
   "source": [
    "def lag_fun(ts, lag_num):\n",
    "    return np.hstack([np.zeros(lag_num), np.asarray(data)[:-lag_num]]).T"
   ]
  },
  {
   "cell_type": "code",
   "execution_count": 145,
   "id": "comparable-minority",
   "metadata": {},
   "outputs": [],
   "source": [
    "def backtest_linear_mean_reverting(ts):\n",
    "    lookback = round(half_life(ts))\n",
    "    mktVal = -(ts - ts.rolling(lookback).mean()) / (ts.rolling(lookback).std())\n",
    "    lag_mktVal = pd.Series(lag_fun(mktVal, 1))\n",
    "    lag_ts = pd.Series(lag_fun(ts, 1))\n",
    "    pnl = lag_mktVal * (ts.reset_index()['Adj Close'] - lag_ts) / lag_ts\n",
    "    return pnl"
   ]
  },
  {
   "cell_type": "code",
   "execution_count": 146,
   "id": "isolated-advertiser",
   "metadata": {},
   "outputs": [
    {
     "name": "stdout",
     "output_type": "stream",
     "text": [
      "lamda: 0.005971846408856899\n"
     ]
    },
    {
     "name": "stderr",
     "output_type": "stream",
     "text": [
      "/Users/qook/Coding/Finance_ML/venv/lib/python3.6/site-packages/ipykernel_launcher.py:6: FutureWarning: `rcond` parameter will change to the default of machine precision times ``max(M, N)`` where M and N are the input matrix dimensions.\n",
      "To use the future default and silence this warning we advise to pass `rcond=None`, to keep using the old, explicitly pass `rcond=-1`.\n",
      "  \n"
     ]
    },
    {
     "data": {
      "text/plain": [
       "0           NaN\n",
       "1      -0.01016\n",
       "2       0.00520\n",
       "3       0.01180\n",
       "4       0.01030\n",
       "         ...   \n",
       "1211    0.00090\n",
       "1212    0.00680\n",
       "1213   -0.00230\n",
       "1214   -0.00510\n",
       "1215    0.00420\n",
       "Length: 1216, dtype: float64"
      ]
     },
     "execution_count": 146,
     "metadata": {},
     "output_type": "execute_result"
    }
   ],
   "source": [
    "backtest_linear_mean_reverting(data)"
   ]
  },
  {
   "cell_type": "code",
   "execution_count": 147,
   "id": "acceptable-marina",
   "metadata": {},
   "outputs": [
    {
     "name": "stdout",
     "output_type": "stream",
     "text": [
      "lamda: 0.005971846408856899\n"
     ]
    },
    {
     "name": "stderr",
     "output_type": "stream",
     "text": [
      "/Users/qook/Coding/Finance_ML/venv/lib/python3.6/site-packages/ipykernel_launcher.py:6: FutureWarning: `rcond` parameter will change to the default of machine precision times ``max(M, N)`` where M and N are the input matrix dimensions.\n",
      "To use the future default and silence this warning we advise to pass `rcond=None`, to keep using the old, explicitly pass `rcond=-1`.\n",
      "  \n"
     ]
    },
    {
     "data": {
      "text/plain": [
       "<AxesSubplot:>"
      ]
     },
     "execution_count": 147,
     "metadata": {},
     "output_type": "execute_result"
    },
    {
     "data": {
      "image/png": "[encoded data removed]",
      "text/plain": [
       "<Figure size 432x288 with 1 Axes>"
      ]
     },
     "metadata": {
      "needs_background": "light"
     },
     "output_type": "display_data"
    }
   ],
   "source": [
    "backtest_linear_mean_reverting(data).cumsum().plot()"
   ]
  },
  {
   "cell_type": "code",
   "execution_count": 151,
   "id": "excellent-password",
   "metadata": {},
   "outputs": [],
   "source": [
    "df_ewa = web.DataReader('EWA', 'yahoo', start='2006-04-21', end='2012-04-09')\n",
    "df_ewc = web.DataReader('EWC', 'yahoo', start='2006-04-21', end='2012-04-09')"
   ]
  },
  {
   "cell_type": "code",
   "execution_count": 168,
   "id": "material-marine",
   "metadata": {},
   "outputs": [],
   "source": [
    "df_ewa_data = df_ewa['Adj Close']\n",
    "df_ewc_data = df_ewc['Adj Close']\n",
    "df_ewa_ewc = pd.concat([df_ewa_data, df_ewc_data], axis = 1)\n",
    "df_ewa_ewc.columns = ['ewa', 'ewc']"
   ]
  },
  {
   "cell_type": "code",
   "execution_count": 169,
   "id": "recreational-relaxation",
   "metadata": {},
   "outputs": [
    {
     "data": {
      "text/html": [
       "<div>\n",
       "<style scoped>\n",
       "    .dataframe tbody tr th:only-of-type {\n",
       "        vertical-align: middle;\n",
       "    }\n",
       "\n",
       "    .dataframe tbody tr th {\n",
       "        vertical-align: top;\n",
       "    }\n",
       "\n",
       "    .dataframe thead th {\n",
       "        text-align: right;\n",
       "    }\n",
       "</style>\n",
       "<table border=\"1\" class=\"dataframe\">\n",
       "  <thead>\n",
       "    <tr style=\"text-align: right;\">\n",
       "      <th></th>\n",
       "      <th>ewa</th>\n",
       "      <th>ewc</th>\n",
       "    </tr>\n",
       "    <tr>\n",
       "      <th>Date</th>\n",
       "      <th></th>\n",
       "      <th></th>\n",
       "    </tr>\n",
       "  </thead>\n",
       "  <tbody>\n",
       "    <tr>\n",
       "      <th>2006-04-20</th>\n",
       "      <td>10.209893</td>\n",
       "      <td>17.952795</td>\n",
       "    </tr>\n",
       "    <tr>\n",
       "      <th>2006-04-21</th>\n",
       "      <td>10.349227</td>\n",
       "      <td>18.179028</td>\n",
       "    </tr>\n",
       "    <tr>\n",
       "      <th>2006-04-24</th>\n",
       "      <td>10.330009</td>\n",
       "      <td>18.069559</td>\n",
       "    </tr>\n",
       "    <tr>\n",
       "      <th>2006-04-25</th>\n",
       "      <td>10.334815</td>\n",
       "      <td>18.098751</td>\n",
       "    </tr>\n",
       "    <tr>\n",
       "      <th>2006-04-26</th>\n",
       "      <td>10.541414</td>\n",
       "      <td>18.149839</td>\n",
       "    </tr>\n",
       "    <tr>\n",
       "      <th>...</th>\n",
       "      <td>...</td>\n",
       "      <td>...</td>\n",
       "    </tr>\n",
       "    <tr>\n",
       "      <th>2012-04-02</th>\n",
       "      <td>14.910575</td>\n",
       "      <td>23.200998</td>\n",
       "    </tr>\n",
       "    <tr>\n",
       "      <th>2012-04-03</th>\n",
       "      <td>14.677102</td>\n",
       "      <td>22.854601</td>\n",
       "    </tr>\n",
       "    <tr>\n",
       "      <th>2012-04-04</th>\n",
       "      <td>14.500422</td>\n",
       "      <td>22.451803</td>\n",
       "    </tr>\n",
       "    <tr>\n",
       "      <th>2012-04-05</th>\n",
       "      <td>14.588762</td>\n",
       "      <td>22.322912</td>\n",
       "    </tr>\n",
       "    <tr>\n",
       "      <th>2012-04-09</th>\n",
       "      <td>14.468867</td>\n",
       "      <td>22.121515</td>\n",
       "    </tr>\n",
       "  </tbody>\n",
       "</table>\n",
       "<p>1504 rows × 2 columns</p>\n",
       "</div>"
      ],
      "text/plain": [
       "                  ewa        ewc\n",
       "Date                            \n",
       "2006-04-20  10.209893  17.952795\n",
       "2006-04-21  10.349227  18.179028\n",
       "2006-04-24  10.330009  18.069559\n",
       "2006-04-25  10.334815  18.098751\n",
       "2006-04-26  10.541414  18.149839\n",
       "...               ...        ...\n",
       "2012-04-02  14.910575  23.200998\n",
       "2012-04-03  14.677102  22.854601\n",
       "2012-04-04  14.500422  22.451803\n",
       "2012-04-05  14.588762  22.322912\n",
       "2012-04-09  14.468867  22.121515\n",
       "\n",
       "[1504 rows x 2 columns]"
      ]
     },
     "execution_count": 169,
     "metadata": {},
     "output_type": "execute_result"
    }
   ],
   "source": [
    "df_ewa_ewc"
   ]
  },
  {
   "cell_type": "code",
   "execution_count": 170,
   "id": "million-librarian",
   "metadata": {},
   "outputs": [
    {
     "data": {
      "text/plain": [
       "<AxesSubplot:xlabel='Date'>"
      ]
     },
     "execution_count": 170,
     "metadata": {},
     "output_type": "execute_result"
    },
    {
     "data": {
      "image/png": "[encoded data removed]",
      "text/plain": [
       "<Figure size 432x288 with 1 Axes>"
      ]
     },
     "metadata": {
      "needs_background": "light"
     },
     "output_type": "display_data"
    }
   ],
   "source": [
    "df_ewa_ewc.plot()"
   ]
  },
  {
   "cell_type": "code",
   "execution_count": 172,
   "id": "lucky-thriller",
   "metadata": {},
   "outputs": [
    {
     "data": {
      "text/plain": [
       "<matplotlib.collections.PathCollection at 0x7f99818711d0>"
      ]
     },
     "execution_count": 172,
     "metadata": {},
     "output_type": "execute_result"
    },
    {
     "data": {
      "image/png": "[encoded data removed]",
      "text/plain": [
       "<Figure size 432x288 with 1 Axes>"
      ]
     },
     "metadata": {
      "needs_background": "light"
     },
     "output_type": "display_data"
    }
   ],
   "source": [
    "import matplotlib.pyplot as plt\n",
    "plt.scatter(df_ewa_ewc['ewa'], df_ewa_ewc['ewc'])"
   ]
  },
  {
   "cell_type": "code",
   "execution_count": null,
   "id": "dangerous-playback",
   "metadata": {},
   "outputs": [],
   "source": []
  }
 ],
 "metadata": {
  "kernelspec": {
   "display_name": "Python 3",
   "language": "python",
   "name": "python3"
  },
  "language_info": {
   "codemirror_mode": {
    "name": "ipython",
    "version": 3
   },
   "file_extension": ".py",
   "mimetype": "text/x-python",
   "name": "python",
   "nbconvert_exporter": "python",
   "pygments_lexer": "ipython3",
   "version": "3.6.8"
  }
 },
 "nbformat": 4,
 "nbformat_minor": 5
}
