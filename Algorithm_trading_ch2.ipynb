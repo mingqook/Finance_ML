{
 "cells": [
  {
   "cell_type": "code",
   "execution_count": 3,
   "id": "laughing-request",
   "metadata": {},
   "outputs": [],
   "source": [
    "import pandas_datareader.data as web\n",
    "df = web.DataReader('USDCAD=X', 'yahoo', start='2007-07-22', end='2012-03-28')"
   ]
  },
  {
   "cell_type": "code",
   "execution_count": 4,
   "id": "governing-keyboard",
   "metadata": {},
   "outputs": [
    {
     "data": {
      "text/plain": [
       "<AxesSubplot:xlabel='Date'>"
      ]
     },
     "execution_count": 4,
     "metadata": {},
     "output_type": "execute_result"
    },
    {
     "data": {
      "image/png": "[encoded data removed]",
      "text/plain": [
       "<Figure size 432x288 with 1 Axes>"
      ]
     },
     "metadata": {
      "needs_background": "light"
     },
     "output_type": "display_data"
    }
   ],
   "source": [
    "data = df['Adj Close']\n",
    "data.plot()"
   ]
  },
  {
   "cell_type": "code",
   "execution_count": 22,
   "id": "adult-bermuda",
   "metadata": {},
   "outputs": [
    {
     "data": {
      "text/plain": [
       "(-1.814955679296744,\n",
       " 0.37306229931987056,\n",
       " 0,\n",
       " 1215,\n",
       " {'1%': -3.435743555099632,\n",
       "  '5%': -2.8639217381867486,\n",
       "  '10%': -2.568038075665972},\n",
       " -8111.811359194424)"
      ]
     },
     "execution_count": 22,
     "metadata": {},
     "output_type": "execute_result"
    }
   ],
   "source": [
    "#### 귀무가설 기각할 수 없음 - Stationary하다\n",
    "from statsmodels.tsa.stattools import adfuller\n",
    "adfuller(data, maxlag=1, regression='c')\n"
   ]
  },
  {
   "cell_type": "code",
   "execution_count": 18,
   "id": "civic-duration",
   "metadata": {},
   "outputs": [],
   "source": [
    "import numpy as np\n",
    "from statsmodels.regression.linear_model import OLS\n",
    "from statsmodels.tsa.tsatools import lagmat, add_trend\n",
    "from statsmodels.tsa.adfvalues import mackinnonp\n",
    "\n",
    "def adf(ts):\n",
    "    ts = np.asarray(ts)\n",
    "    \n",
    "    nobs = ts.shape[0]\n",
    "    maxlag = 1\n",
    "    tsdiff = np.diff(ts)\n",
    "    \n",
    "    tsdall = lagmat(tsdiff[:, None], maxlag, trim = 'both', original = 'in')\n",
    "    nobs = tsdall.shape[0]\n",
    "    tsdall[:, 0] = ts[-nobs - 1:-1]\n",
    "    tsdshort = tsdiff[-nobs:]\n",
    "    \n",
    "    results = OLS(tsdshort, add_trend(tsdall[:, :maxlag + 1], 'c')).fit()\n",
    "    adfstat = results.tvalues[0]\n",
    "    \n",
    "    pvalue = mackinnonp(adfstat, 'c', N=1)\n",
    "    return (adfstat, pvalue)"
   ]
  },
  {
   "cell_type": "code",
   "execution_count": 19,
   "id": "according-example",
   "metadata": {},
   "outputs": [
    {
     "data": {
      "text/plain": [
       "(-1.8319637867741008, 0.3647119589771163)"
      ]
     },
     "execution_count": 19,
     "metadata": {},
     "output_type": "execute_result"
    }
   ],
   "source": [
    "adf(data)"
   ]
  },
  {
   "cell_type": "code",
   "execution_count": 63,
   "id": "ambient-belle",
   "metadata": {},
   "outputs": [],
   "source": [
    "def get_hurst_exponent(ts, max_lag = 20):\n",
    "    \n",
    "    lags = range(2, max_lag)\n",
    "    tau = []\n",
    "    for lag in lags:\n",
    "        diff = np.subtract(np.array(ts[lag:]), np.array(ts[:-lag]))\n",
    "        tau.append(np.std(diff))\n",
    "        \n",
    "    reg = np.polyfit(np.log(lags), np.log(tau), 1)\n",
    "    \n",
    "    return reg[0]"
   ]
  },
  {
   "cell_type": "code",
   "execution_count": 64,
   "id": "external-nylon",
   "metadata": {},
   "outputs": [
    {
     "data": {
      "text/plain": [
       "0.4665241917919693"
      ]
     },
     "execution_count": 64,
     "metadata": {},
     "output_type": "execute_result"
    }
   ],
   "source": [
    "get_hurst_exponent(data)"
   ]
  },
  {
   "cell_type": "code",
   "execution_count": 65,
   "id": "vocational-studio",
   "metadata": {},
   "outputs": [],
   "source": [
    "def hurst(ts):\n",
    "    \"\"\"\n",
    "    Returns the Hurst Exponent of the time series vector ts\n",
    "    \"\"\"\n",
    "    # make sure we are working with an array, convert if necessary\n",
    "    ts = np.asarray(ts)\n",
    "\n",
    "    # Helper variables used during calculations\n",
    "    lagvec = []\n",
    "    tau = []\n",
    "    # Create the range of lag values\n",
    "    lags = range(2, 100)\n",
    "\n",
    "    #  Step through the different lags\n",
    "    for lag in lags:\n",
    "        #  produce value difference with lag\n",
    "        pdiff = np.subtract(ts[lag:],ts[:-lag])\n",
    "        #  Write the different lags into a vector\n",
    "        lagvec.append(lag)\n",
    "        #  Calculate the variance of the difference vector\n",
    "        tau.append(np.std(pdiff))\n",
    "\n",
    "    #  linear fit to double-log graph\n",
    "    m = np.polyfit(np.log10(np.asarray(lagvec)),\n",
    "                   np.log10(np.asarray(tau).clip(min=0.0000000001)),\n",
    "                   1)\n",
    "    # return the calculated hurst exponent\n",
    "    return m[0]"
   ]
  },
  {
   "cell_type": "code",
   "execution_count": null,
   "id": "musical-salon",
   "metadata": {},
   "outputs": [],
   "source": [
    "def variance_ratio_test(ts, lag = 2):\n",
    "    ts = np.asarray(ts)\n",
    "    diff1 = np.substract(ts[1:], ts[:-1])\n",
    "    difftau = "
   ]
  },
  {
   "cell_type": "code",
   "execution_count": 67,
   "id": "united-amsterdam",
   "metadata": {},
   "outputs": [],
   "source": [
    "#### ??? 왜 이렇게 되는거지???\n",
    "def variance_ratio(ts, lag = 2):\n",
    "    \"\"\"\n",
    "    Returns the variance ratio test result\n",
    "    \"\"\"\n",
    "    # make sure we are working with an array, convert if necessary\n",
    "    ts = np.asarray(ts)\n",
    "    \n",
    "    # Apply the formula to calculate the test\n",
    "    n = len(ts)\n",
    "    mu  = sum(ts[1:n]-ts[:n-1])/n;\n",
    "    m=(n-lag+1)*(1-lag/n);\n",
    "    b=sum(np.square(ts[1:n]-ts[:n-1]-mu))/(n-1)\n",
    "    t=sum(np.square(ts[lag:n]-ts[:n-lag]-lag*mu))/m\n",
    "    return t/(lag*b);"
   ]
  },
  {
   "cell_type": "code",
   "execution_count": 68,
   "id": "covered-cleaning",
   "metadata": {},
   "outputs": [
    {
     "data": {
      "text/plain": [
       "1.0078634031661593"
      ]
     },
     "execution_count": 68,
     "metadata": {},
     "output_type": "execute_result"
    }
   ],
   "source": [
    "variance_ratio(data)"
   ]
  },
  {
   "cell_type": "code",
   "execution_count": 97,
   "id": "interested-justice",
   "metadata": {},
   "outputs": [],
   "source": [
    "#### example 2.4 설명대로 수행(regression 활용)\n",
    "def half_life(ts):\n",
    "    ts = np.asarray(ts)\n",
    "    delta_ts = np.diff(ts)\n",
    "    lag_ts = np.vstack([ts[1:], np.ones(len(ts[1:]))]).T\n",
    "    lamda_sol = np.linalg.lstsq(lag_ts, delta_ts)\n",
    "    print('lamda:', lamda_sol[0][0])\n",
    "    return (np.log(2) / lamda_sol[0])[0]   #### (-) 붙여야되는거 아닌가?\n",
    "\n",
    "### lamda가 양수이므로 price series is not at all mean reverting(??)"
   ]
  },
  {
   "cell_type": "code",
   "execution_count": 98,
   "id": "stunning-salvation",
   "metadata": {},
   "outputs": [
    {
     "name": "stdout",
     "output_type": "stream",
     "text": [
      "lamda: 0.005971846408856899\n"
     ]
    },
    {
     "name": "stderr",
     "output_type": "stream",
     "text": [
      "/Users/qook/Coding/Finance_ML/venv/lib/python3.6/site-packages/ipykernel_launcher.py:6: FutureWarning: `rcond` parameter will change to the default of machine precision times ``max(M, N)`` where M and N are the input matrix dimensions.\n",
      "To use the future default and silence this warning we advise to pass `rcond=None`, to keep using the old, explicitly pass `rcond=-1`.\n",
      "  \n"
     ]
    },
    {
     "data": {
      "text/plain": [
       "116.06915736009762"
      ]
     },
     "execution_count": 98,
     "metadata": {},
     "output_type": "execute_result"
    }
   ],
   "source": [
    "half_life(data)"
   ]
  },
  {
   "cell_type": "code",
   "execution_count": 144,
   "id": "figured-oriental",
   "metadata": {},
   "outputs": [],
   "source": [
    "def lag_fun(ts, lag_num):\n",
    "    return np.hstack([np.zeros(lag_num), np.asarray(data)[:-lag_num]]).T"
   ]
  },
  {
   "cell_type": "code",
   "execution_count": 145,
   "id": "modular-shade",
   "metadata": {},
   "outputs": [],
   "source": [
    "def backtest_linear_mean_reverting(ts):\n",
    "    lookback = round(half_life(ts))\n",
    "    mktVal = -(ts - ts.rolling(lookback).mean()) / (ts.rolling(lookback).std())\n",
    "    lag_mktVal = pd.Series(lag_fun(mktVal, 1))\n",
    "    lag_ts = pd.Series(lag_fun(ts, 1))\n",
    "    pnl = lag_mktVal * (ts.reset_index()['Adj Close'] - lag_ts) / lag_ts\n",
    "    return pnl"
   ]
  },
  {
   "cell_type": "code",
   "execution_count": 146,
   "id": "automated-secondary",
   "metadata": {},
   "outputs": [
    {
     "name": "stdout",
     "output_type": "stream",
     "text": [
      "lamda: 0.005971846408856899\n"
     ]
    },
    {
     "name": "stderr",
     "output_type": "stream",
     "text": [
      "/Users/qook/Coding/Finance_ML/venv/lib/python3.6/site-packages/ipykernel_launcher.py:6: FutureWarning: `rcond` parameter will change to the default of machine precision times ``max(M, N)`` where M and N are the input matrix dimensions.\n",
      "To use the future default and silence this warning we advise to pass `rcond=None`, to keep using the old, explicitly pass `rcond=-1`.\n",
      "  \n"
     ]
    },
    {
     "data": {
      "text/plain": [
       "0           NaN\n",
       "1      -0.01016\n",
       "2       0.00520\n",
       "3       0.01180\n",
       "4       0.01030\n",
       "         ...   \n",
       "1211    0.00090\n",
       "1212    0.00680\n",
       "1213   -0.00230\n",
       "1214   -0.00510\n",
       "1215    0.00420\n",
       "Length: 1216, dtype: float64"
      ]
     },
     "execution_count": 146,
     "metadata": {},
     "output_type": "execute_result"
    }
   ],
   "source": [
    "backtest_linear_mean_reverting(data)"
   ]
  },
  {
   "cell_type": "code",
   "execution_count": 147,
   "id": "celtic-newman",
   "metadata": {},
   "outputs": [
    {
     "name": "stdout",
     "output_type": "stream",
     "text": [
      "lamda: 0.005971846408856899\n"
     ]
    },
    {
     "name": "stderr",
     "output_type": "stream",
     "text": [
      "/Users/qook/Coding/Finance_ML/venv/lib/python3.6/site-packages/ipykernel_launcher.py:6: FutureWarning: `rcond` parameter will change to the default of machine precision times ``max(M, N)`` where M and N are the input matrix dimensions.\n",
      "To use the future default and silence this warning we advise to pass `rcond=None`, to keep using the old, explicitly pass `rcond=-1`.\n",
      "  \n"
     ]
    },
    {
     "data": {
      "text/plain": [
       "<AxesSubplot:>"
      ]
     },
     "execution_count": 147,
     "metadata": {},
     "output_type": "execute_result"
    },
    {
     "data": {
      "image/png": "[encoded data removed]",
      "text/plain": [
       "<Figure size 432x288 with 1 Axes>"
      ]
     },
     "metadata": {
      "needs_background": "light"
     },
     "output_type": "display_data"
    }
   ],
   "source": [
    "backtest_linear_mean_reverting(data).cumsum().plot()"
   ]
  },
  {
   "cell_type": "code",
   "execution_count": 67,
   "id": "beautiful-island",
   "metadata": {},
   "outputs": [],
   "source": [
    "df_ewa = web.DataReader('EWA', 'yahoo', start='2006-04-21', end='2012-04-09')\n",
    "df_ewc = web.DataReader('EWC', 'yahoo', start='2006-04-21', end='2012-04-09')"
   ]
  },
  {
   "cell_type": "code",
   "execution_count": 6,
   "id": "demonstrated-committee",
   "metadata": {},
   "outputs": [],
   "source": [
    "import pandas as pd\n",
    "df_ewa_data = df_ewa['Adj Close']\n",
    "df_ewc_data = df_ewc['Adj Close']\n",
    "df_ewa_ewc = pd.concat([df_ewa_data, df_ewc_data], axis = 1)\n",
    "df_ewa_ewc.columns = ['ewa', 'ewc']"
   ]
  },
  {
   "cell_type": "code",
   "execution_count": 7,
   "id": "patient-poetry",
   "metadata": {},
   "outputs": [
    {
     "data": {
      "text/html": [
       "<div>\n",
       "<style scoped>\n",
       "    .dataframe tbody tr th:only-of-type {\n",
       "        vertical-align: middle;\n",
       "    }\n",
       "\n",
       "    .dataframe tbody tr th {\n",
       "        vertical-align: top;\n",
       "    }\n",
       "\n",
       "    .dataframe thead th {\n",
       "        text-align: right;\n",
       "    }\n",
       "</style>\n",
       "<table border=\"1\" class=\"dataframe\">\n",
       "  <thead>\n",
       "    <tr style=\"text-align: right;\">\n",
       "      <th></th>\n",
       "      <th>ewa</th>\n",
       "      <th>ewc</th>\n",
       "    </tr>\n",
       "    <tr>\n",
       "      <th>Date</th>\n",
       "      <th></th>\n",
       "      <th></th>\n",
       "    </tr>\n",
       "  </thead>\n",
       "  <tbody>\n",
       "    <tr>\n",
       "      <th>2006-04-20</th>\n",
       "      <td>10.209894</td>\n",
       "      <td>17.952795</td>\n",
       "    </tr>\n",
       "    <tr>\n",
       "      <th>2006-04-21</th>\n",
       "      <td>10.349230</td>\n",
       "      <td>18.179020</td>\n",
       "    </tr>\n",
       "    <tr>\n",
       "      <th>2006-04-24</th>\n",
       "      <td>10.330010</td>\n",
       "      <td>18.069557</td>\n",
       "    </tr>\n",
       "    <tr>\n",
       "      <th>2006-04-25</th>\n",
       "      <td>10.334815</td>\n",
       "      <td>18.098751</td>\n",
       "    </tr>\n",
       "    <tr>\n",
       "      <th>2006-04-26</th>\n",
       "      <td>10.541413</td>\n",
       "      <td>18.149839</td>\n",
       "    </tr>\n",
       "    <tr>\n",
       "      <th>...</th>\n",
       "      <td>...</td>\n",
       "      <td>...</td>\n",
       "    </tr>\n",
       "    <tr>\n",
       "      <th>2012-04-02</th>\n",
       "      <td>14.910575</td>\n",
       "      <td>23.201002</td>\n",
       "    </tr>\n",
       "    <tr>\n",
       "      <th>2012-04-03</th>\n",
       "      <td>14.677101</td>\n",
       "      <td>22.854605</td>\n",
       "    </tr>\n",
       "    <tr>\n",
       "      <th>2012-04-04</th>\n",
       "      <td>14.500421</td>\n",
       "      <td>22.451807</td>\n",
       "    </tr>\n",
       "    <tr>\n",
       "      <th>2012-04-05</th>\n",
       "      <td>14.588765</td>\n",
       "      <td>22.322914</td>\n",
       "    </tr>\n",
       "    <tr>\n",
       "      <th>2012-04-09</th>\n",
       "      <td>14.468873</td>\n",
       "      <td>22.121513</td>\n",
       "    </tr>\n",
       "  </tbody>\n",
       "</table>\n",
       "<p>1504 rows × 2 columns</p>\n",
       "</div>"
      ],
      "text/plain": [
       "                  ewa        ewc\n",
       "Date                            \n",
       "2006-04-20  10.209894  17.952795\n",
       "2006-04-21  10.349230  18.179020\n",
       "2006-04-24  10.330010  18.069557\n",
       "2006-04-25  10.334815  18.098751\n",
       "2006-04-26  10.541413  18.149839\n",
       "...               ...        ...\n",
       "2012-04-02  14.910575  23.201002\n",
       "2012-04-03  14.677101  22.854605\n",
       "2012-04-04  14.500421  22.451807\n",
       "2012-04-05  14.588765  22.322914\n",
       "2012-04-09  14.468873  22.121513\n",
       "\n",
       "[1504 rows x 2 columns]"
      ]
     },
     "execution_count": 7,
     "metadata": {},
     "output_type": "execute_result"
    }
   ],
   "source": [
    "df_ewa_ewc"
   ]
  },
  {
   "cell_type": "code",
   "execution_count": 8,
   "id": "designing-northwest",
   "metadata": {},
   "outputs": [
    {
     "data": {
      "text/plain": [
       "<AxesSubplot:xlabel='Date'>"
      ]
     },
     "execution_count": 8,
     "metadata": {},
     "output_type": "execute_result"
    },
    {
     "data": {
      "image/png": "[encoded data removed]",
      "text/plain": [
       "<Figure size 432x288 with 1 Axes>"
      ]
     },
     "metadata": {
      "needs_background": "light"
     },
     "output_type": "display_data"
    }
   ],
   "source": [
    "df_ewa_ewc.plot()"
   ]
  },
  {
   "cell_type": "code",
   "execution_count": 9,
   "id": "atmospheric-desktop",
   "metadata": {},
   "outputs": [
    {
     "data": {
      "text/plain": [
       "<matplotlib.collections.PathCollection at 0x7fc41aa81c18>"
      ]
     },
     "execution_count": 9,
     "metadata": {},
     "output_type": "execute_result"
    },
    {
     "data": {
      "image/png": "[encoded data removed]",
      "text/plain": [
       "<Figure size 432x288 with 1 Axes>"
      ]
     },
     "metadata": {
      "needs_background": "light"
     },
     "output_type": "display_data"
    }
   ],
   "source": [
    "import matplotlib.pyplot as plt\n",
    "plt.scatter(df_ewa_ewc['ewa'], df_ewa_ewc['ewc'])"
   ]
  },
  {
   "cell_type": "code",
   "execution_count": 46,
   "id": "comparable-shore",
   "metadata": {},
   "outputs": [],
   "source": [
    "import numpy as np\n",
    "from sklearn.linear_model import LinearRegression\n",
    "\n",
    "x = pd.concat([pd.DataFrame(np.ones(len(df_ewc_data))), df_ewc_data.reset_index()['Adj Close']], axis = 1)\n",
    "\n",
    "lr = LinearRegression()\n",
    "\n",
    "lr_fit = lr.fit(x, df_ewa_data.reset_index()['Adj Close'])"
   ]
  },
  {
   "cell_type": "code",
   "execution_count": 47,
   "id": "limited-alert",
   "metadata": {},
   "outputs": [
    {
     "data": {
      "text/plain": [
       "array([0.       , 0.6775692])"
      ]
     },
     "execution_count": 47,
     "metadata": {},
     "output_type": "execute_result"
    }
   ],
   "source": [
    "lr_fit.coef_"
   ]
  },
  {
   "cell_type": "code",
   "execution_count": 52,
   "id": "variable-vanilla",
   "metadata": {},
   "outputs": [],
   "source": [
    "import numpy as np\n",
    "from statsmodels.regression.linear_model import OLS\n",
    "from statsmodels.tsa.tsatools import lagmat, add_trend\n",
    "from statsmodels.tsa.adfvalues import mackinnonp\n",
    "\n",
    "def adf(ts, maxlag = 1):\n",
    "    ts = np.asarray(ts)\n",
    "    nobs = ts.shape[0]\n",
    "    \n",
    "    tsdiff = np.diff(ts)\n",
    "    tsdall = lagmat(tsdiff[:, None], maxlag, trim='both', original='in')\n",
    "    nobs = tsdall.shape[0]\n",
    "    \n",
    "    tsdall[:, 0] = ts[-nobs -1 : -1]\n",
    "    tsdshort = tsdiff[-nobs:]\n",
    "    \n",
    "    results = OLS(tsdshort, add_trend(tsdall[:, :maxlag + 1], 'c')).fit()\n",
    "    adfstat = results.tvalues[0]\n",
    "    \n",
    "    pvalue = mackinnonp(adfstat, 'c', N= 1)\n",
    "    return pvalue\n",
    "   "
   ]
  },
  {
   "cell_type": "code",
   "execution_count": 53,
   "id": "victorian-barbados",
   "metadata": {},
   "outputs": [],
   "source": [
    "def cadf(x, y):\n",
    "    ols_result = OLS(x, y).fit()\n",
    "    \n",
    "    return adf(ols_result.resid)"
   ]
  },
  {
   "cell_type": "code",
   "execution_count": 54,
   "id": "solid-lyric",
   "metadata": {},
   "outputs": [
    {
     "data": {
      "text/plain": [
       "0.008842161749869822"
      ]
     },
     "execution_count": 54,
     "metadata": {},
     "output_type": "execute_result"
    }
   ],
   "source": [
    "cadf(df_ewc_data.reset_index()['Adj Close'], df_ewa_data.reset_index()['Adj Close'])"
   ]
  },
  {
   "cell_type": "code",
   "execution_count": 83,
   "id": "empty-theorem",
   "metadata": {},
   "outputs": [],
   "source": [
    "from statsmodels.tsa.stattools import adfuller"
   ]
  },
  {
   "cell_type": "code",
   "execution_count": 84,
   "id": "fitting-medium",
   "metadata": {},
   "outputs": [],
   "source": [
    "def cadf2(x, y):\n",
    "    ols_result = OLS(x, y).fit()\n",
    "    \n",
    "    return adfuller(ols_result.resid)"
   ]
  },
  {
   "cell_type": "code",
   "execution_count": 85,
   "id": "employed-metabolism",
   "metadata": {},
   "outputs": [
    {
     "data": {
      "text/plain": [
       "(-2.879947192503294,\n",
       " 0.04773005247953831,\n",
       " 10,\n",
       " 1493,\n",
       " {'1%': -3.4347375276423335,\n",
       "  '5%': -2.8634778123668374,\n",
       "  '10%': -2.5678016687520104},\n",
       " 133.1371916621829)"
      ]
     },
     "execution_count": 85,
     "metadata": {},
     "output_type": "execute_result"
    }
   ],
   "source": [
    "cadf2(df_ewc_data.reset_index()['Adj Close'], df_ewa_data.reset_index()['Adj Close'])"
   ]
  },
  {
   "cell_type": "code",
   "execution_count": 55,
   "id": "figured-brass",
   "metadata": {},
   "outputs": [],
   "source": [
    "\n",
    "import numpy as np\n",
    "from statsmodels.tsa.tsatools import lagmat\n",
    " \n",
    " \n",
    "def johansen(ts, lags):\n",
    "    \"\"\"\n",
    "    Calculate the Johansen Test for the given time series\n",
    "    \"\"\"\n",
    "    # Make sure we are working with arrays, convert if necessary\n",
    "    ts = np.asarray(ts)\n",
    " \n",
    "    # nobs is the number of observations\n",
    "    # m is the number of series\n",
    "    nobs, m = ts.shape\n",
    " \n",
    "    # Obtain the cointegrating vectors and corresponding eigenvalues\n",
    "    eigenvectors, eigenvalues = maximum_likelihood_estimation(ts, lags)\n",
    " \n",
    "    # Build table of critical values for the hypothesis test\n",
    "    critical_values_string = \"\"\"2.71   3.84    6.63\n",
    "             13.43   15.50   19.94\n",
    "             27.07   29.80   35.46\n",
    "             44.49   47.86   54.68\n",
    "             65.82   69.82   77.82\n",
    "             91.11   95.75   104.96\n",
    "             120.37  125.61  135.97\n",
    "             153.63  159.53  171.09\n",
    "             190.88  197.37  210.06\n",
    "             232.11  239.25  253.24\n",
    "             277.38  285.14  300.29\n",
    "             326.53  334.98  351.25\"\"\"\n",
    "    select_critical_values = np.array(\n",
    "            critical_values_string.split(),\n",
    "            float).reshape(-1, 3)\n",
    "    critical_values = select_critical_values[:, 1]\n",
    " \n",
    "    # Calculate numbers of cointegrating relations for which\n",
    "    # the null hypothesis is rejected\n",
    "    rejected_r_values = []\n",
    "    for r in range(m):\n",
    "        if h_test(eigenvalues, r, nobs, lags, critical_values):\n",
    "            rejected_r_values.append(r)\n",
    " \n",
    "    return eigenvectors, rejected_r_values\n",
    "\n",
    " \n",
    "def h_test(eigenvalues, r, nobs, lags, critical_values):\n",
    "    \"\"\"\n",
    "    Helper to execute the hypothesis test\n",
    "    \"\"\"\n",
    "    # Calculate statistic\n",
    "    t = nobs - lags - 1\n",
    "    m = len(eigenvalues)\n",
    "    statistic = -t * np.sum(np.log(np.ones(m) - eigenvalues)[r:])\n",
    " \n",
    "    # Get the critical value\n",
    "    critical_value = critical_values[m - r - 1]\n",
    " \n",
    "    # Finally, check the hypothesis\n",
    "    if statistic > critical_value:\n",
    "        return True\n",
    "    else:\n",
    "        return False\n",
    " \n",
    " \n",
    "def maximum_likelihood_estimation(ts, lags):\n",
    "    \"\"\"\n",
    "    Obtain the cointegrating vectors and corresponding eigenvalues\n",
    "    \"\"\"\n",
    "    # Make sure we are working with array, convert if necessary\n",
    "    ts = np.asarray(ts)\n",
    " \n",
    "    # Calculate the differences of ts\n",
    "    ts_diff = np.diff(ts, axis=0)\n",
    " \n",
    "    # Calculate lags of ts_diff.\n",
    "    ts_diff_lags = lagmat(ts_diff, lags, trim='both')\n",
    " \n",
    "    # First lag of ts\n",
    "    ts_lag = lagmat(ts, 1, trim='both')\n",
    " \n",
    "    # Trim ts_diff and ts_lag\n",
    "    ts_diff = ts_diff[lags:]\n",
    "    ts_lag = ts_lag[lags:]\n",
    " \n",
    "    # Include intercept in the regressions\n",
    "    ones = np.ones((ts_diff_lags.shape[0], 1))\n",
    "    ts_diff_lags = np.append(ts_diff_lags, ones, axis=1)\n",
    " \n",
    "    # Calculate the residuals of the regressions of diffs and lags\n",
    "    # into ts_diff_lags\n",
    "    inverse = np.linalg.pinv(ts_diff_lags)\n",
    "    u = ts_diff - np.dot(ts_diff_lags, np.dot(inverse, ts_diff))\n",
    "    v = ts_lag - np.dot(ts_diff_lags, np.dot(inverse, ts_lag))\n",
    " \n",
    "    # Covariance matrices of the calculated residuals\n",
    "    t = ts_diff_lags.shape[0]\n",
    "    Svv = np.dot(v.T, v) / t\n",
    "    Suu = np.dot(u.T, u) / t\n",
    "    Suv = np.dot(u.T, v) / t\n",
    "    Svu = Suv.T\n",
    " \n",
    "    # ToDo: check for singular matrices and exit\n",
    "    Svv_inv = np.linalg.inv(Svv)\n",
    "    Suu_inv = np.linalg.inv(Suu)\n",
    " \n",
    "    # Calculate eigenvalues and eigenvectors of the product of covariances\n",
    "    cov_prod = np.dot(Svv_inv, np.dot(Svu, np.dot(Suu_inv, Suv)))\n",
    "    eigenvalues, eigenvectors = np.linalg.eig(cov_prod)\n",
    " \n",
    "    # Use Cholesky decomposition on eigenvectors\n",
    "    evec_Svv_evec = np.dot(eigenvectors.T, np.dot(Svv, eigenvectors))\n",
    "    cholesky_factor = np.linalg.cholesky(evec_Svv_evec)\n",
    "    eigenvectors = np.dot(eigenvectors, np.linalg.inv(cholesky_factor.T))\n",
    " \n",
    "    # Order the eigenvalues and eigenvectors\n",
    "    indices_ordered = np.argsort(eigenvalues)\n",
    "    indices_ordered = np.flipud(indices_ordered)\n",
    " \n",
    "    # Return the calculated values\n",
    "    return eigenvalues[indices_ordered], eigenvectors[:, indices_ordered]"
   ]
  },
  {
   "cell_type": "code",
   "execution_count": 56,
   "id": "rocky-lloyd",
   "metadata": {},
   "outputs": [],
   "source": [
    "data = pd.concat([df_ewc_data.reset_index()['Adj Close'], df_ewa_data.reset_index()['Adj Close']], axis = 1)"
   ]
  },
  {
   "cell_type": "code",
   "execution_count": 57,
   "id": "lined-continuity",
   "metadata": {},
   "outputs": [
    {
     "data": {
      "text/html": [
       "<div>\n",
       "<style scoped>\n",
       "    .dataframe tbody tr th:only-of-type {\n",
       "        vertical-align: middle;\n",
       "    }\n",
       "\n",
       "    .dataframe tbody tr th {\n",
       "        vertical-align: top;\n",
       "    }\n",
       "\n",
       "    .dataframe thead th {\n",
       "        text-align: right;\n",
       "    }\n",
       "</style>\n",
       "<table border=\"1\" class=\"dataframe\">\n",
       "  <thead>\n",
       "    <tr style=\"text-align: right;\">\n",
       "      <th></th>\n",
       "      <th>Adj Close</th>\n",
       "      <th>Adj Close</th>\n",
       "    </tr>\n",
       "  </thead>\n",
       "  <tbody>\n",
       "    <tr>\n",
       "      <th>0</th>\n",
       "      <td>17.952795</td>\n",
       "      <td>10.209894</td>\n",
       "    </tr>\n",
       "    <tr>\n",
       "      <th>1</th>\n",
       "      <td>18.179020</td>\n",
       "      <td>10.349230</td>\n",
       "    </tr>\n",
       "    <tr>\n",
       "      <th>2</th>\n",
       "      <td>18.069557</td>\n",
       "      <td>10.330010</td>\n",
       "    </tr>\n",
       "    <tr>\n",
       "      <th>3</th>\n",
       "      <td>18.098751</td>\n",
       "      <td>10.334815</td>\n",
       "    </tr>\n",
       "    <tr>\n",
       "      <th>4</th>\n",
       "      <td>18.149839</td>\n",
       "      <td>10.541413</td>\n",
       "    </tr>\n",
       "    <tr>\n",
       "      <th>...</th>\n",
       "      <td>...</td>\n",
       "      <td>...</td>\n",
       "    </tr>\n",
       "    <tr>\n",
       "      <th>1499</th>\n",
       "      <td>23.201002</td>\n",
       "      <td>14.910575</td>\n",
       "    </tr>\n",
       "    <tr>\n",
       "      <th>1500</th>\n",
       "      <td>22.854605</td>\n",
       "      <td>14.677101</td>\n",
       "    </tr>\n",
       "    <tr>\n",
       "      <th>1501</th>\n",
       "      <td>22.451807</td>\n",
       "      <td>14.500421</td>\n",
       "    </tr>\n",
       "    <tr>\n",
       "      <th>1502</th>\n",
       "      <td>22.322914</td>\n",
       "      <td>14.588765</td>\n",
       "    </tr>\n",
       "    <tr>\n",
       "      <th>1503</th>\n",
       "      <td>22.121513</td>\n",
       "      <td>14.468873</td>\n",
       "    </tr>\n",
       "  </tbody>\n",
       "</table>\n",
       "<p>1504 rows × 2 columns</p>\n",
       "</div>"
      ],
      "text/plain": [
       "      Adj Close  Adj Close\n",
       "0     17.952795  10.209894\n",
       "1     18.179020  10.349230\n",
       "2     18.069557  10.330010\n",
       "3     18.098751  10.334815\n",
       "4     18.149839  10.541413\n",
       "...         ...        ...\n",
       "1499  23.201002  14.910575\n",
       "1500  22.854605  14.677101\n",
       "1501  22.451807  14.500421\n",
       "1502  22.322914  14.588765\n",
       "1503  22.121513  14.468873\n",
       "\n",
       "[1504 rows x 2 columns]"
      ]
     },
     "execution_count": 57,
     "metadata": {},
     "output_type": "execute_result"
    }
   ],
   "source": [
    "data"
   ]
  },
  {
   "cell_type": "code",
   "execution_count": 58,
   "id": "later-above",
   "metadata": {},
   "outputs": [
    {
     "data": {
      "text/plain": [
       "(array([0.0108875 , 0.00265691]), [0])"
      ]
     },
     "execution_count": 58,
     "metadata": {},
     "output_type": "execute_result"
    }
   ],
   "source": [
    "johansen(data, 1)"
   ]
  },
  {
   "cell_type": "code",
   "execution_count": 60,
   "id": "allied-cheat",
   "metadata": {},
   "outputs": [],
   "source": [
    "from statsmodels.tsa.vector_ar.vecm import coint_johansen\n",
    "\n",
    "j = coint_johansen(data, det_order=0, k_ar_diff=1)"
   ]
  },
  {
   "cell_type": "code",
   "execution_count": 63,
   "id": "republican-footwear",
   "metadata": {},
   "outputs": [
    {
     "data": {
      "text/plain": [
       "array([20.43868734,  3.99599546])"
      ]
     },
     "execution_count": 63,
     "metadata": {},
     "output_type": "execute_result"
    }
   ],
   "source": [
    "#### joahnsen test trace statistic\n",
    "j.trace_stat"
   ]
  },
  {
   "cell_type": "code",
   "execution_count": 77,
   "id": "imperial-pontiac",
   "metadata": {},
   "outputs": [
    {
     "data": {
      "text/plain": [
       "array([[13.4294, 15.4943, 19.9349],\n",
       "       [ 2.7055,  3.8415,  6.6349]])"
      ]
     },
     "execution_count": 77,
     "metadata": {},
     "output_type": "execute_result"
    }
   ],
   "source": [
    "#### joahnsen test trace statistic critical value(90%, 95%, 99%)\n",
    "j.trace_stat_crit_vals"
   ]
  },
  {
   "cell_type": "code",
   "execution_count": 65,
   "id": "overall-vacation",
   "metadata": {},
   "outputs": [
    {
     "data": {
      "text/plain": [
       "array([16.44269188,  3.99599546])"
      ]
     },
     "execution_count": 65,
     "metadata": {},
     "output_type": "execute_result"
    }
   ],
   "source": [
    "#### joahnsen test eigen statistic\n",
    "j.max_eig_stat"
   ]
  },
  {
   "cell_type": "code",
   "execution_count": 78,
   "id": "generous-update",
   "metadata": {},
   "outputs": [
    {
     "data": {
      "text/plain": [
       "array([[12.2971, 14.2639, 18.52  ],\n",
       "       [ 2.7055,  3.8415,  6.6349]])"
      ]
     },
     "execution_count": 78,
     "metadata": {},
     "output_type": "execute_result"
    }
   ],
   "source": [
    "#### joahnse test eigen statistic critical value(90%, 95%, 99%)\n",
    "j.max_eig_stat_crit_vals"
   ]
  },
  {
   "cell_type": "code",
   "execution_count": 68,
   "id": "white-indonesian",
   "metadata": {},
   "outputs": [],
   "source": [
    "df_ige = web.DataReader('IGE', 'yahoo', start='2006-04-21', end='2012-04-09')"
   ]
  },
  {
   "cell_type": "code",
   "execution_count": 69,
   "id": "conscious-bishop",
   "metadata": {},
   "outputs": [],
   "source": [
    "df_ige_data = df_ige['Adj Close']"
   ]
  },
  {
   "cell_type": "code",
   "execution_count": 70,
   "id": "distant-personal",
   "metadata": {},
   "outputs": [],
   "source": [
    "data2 = pd.concat([data, df_ige_data.reset_index()['Adj Close']], axis = 1)"
   ]
  },
  {
   "cell_type": "code",
   "execution_count": 72,
   "id": "civic-fetish",
   "metadata": {},
   "outputs": [],
   "source": [
    "jj = coint_johansen(data2, det_order=0, k_ar_diff=1)"
   ]
  },
  {
   "cell_type": "code",
   "execution_count": 73,
   "id": "alpine-editor",
   "metadata": {},
   "outputs": [
    {
     "data": {
      "text/plain": [
       "array([35.5188876 , 17.59813944,  4.6976483 ])"
      ]
     },
     "execution_count": 73,
     "metadata": {},
     "output_type": "execute_result"
    }
   ],
   "source": [
    "jj.trace_stat"
   ]
  },
  {
   "cell_type": "code",
   "execution_count": 79,
   "id": "foreign-webcam",
   "metadata": {},
   "outputs": [
    {
     "data": {
      "text/plain": [
       "array([[27.0669, 29.7961, 35.4628],\n",
       "       [13.4294, 15.4943, 19.9349],\n",
       "       [ 2.7055,  3.8415,  6.6349]])"
      ]
     },
     "execution_count": 79,
     "metadata": {},
     "output_type": "execute_result"
    }
   ],
   "source": [
    "jj.trace_stat_crit_vals"
   ]
  },
  {
   "cell_type": "code",
   "execution_count": 74,
   "id": "alert-brazilian",
   "metadata": {},
   "outputs": [
    {
     "data": {
      "text/plain": [
       "array([17.92074816, 12.90049115,  4.6976483 ])"
      ]
     },
     "execution_count": 74,
     "metadata": {},
     "output_type": "execute_result"
    }
   ],
   "source": [
    "jj.max_eig_stat"
   ]
  },
  {
   "cell_type": "code",
   "execution_count": 76,
   "id": "seeing-peoples",
   "metadata": {},
   "outputs": [
    {
     "data": {
      "text/plain": [
       "array([[18.8928, 21.1314, 25.865 ],\n",
       "       [12.2971, 14.2639, 18.52  ],\n",
       "       [ 2.7055,  3.8415,  6.6349]])"
      ]
     },
     "execution_count": 76,
     "metadata": {},
     "output_type": "execute_result"
    }
   ],
   "source": [
    "jj.max_eig_stat_crit_vals"
   ]
  },
  {
   "cell_type": "code",
   "execution_count": 80,
   "id": "expired-perry",
   "metadata": {},
   "outputs": [
    {
     "data": {
      "text/plain": [
       "array([0.01186036, 0.0085521 , 0.00312271])"
      ]
     },
     "execution_count": 80,
     "metadata": {},
     "output_type": "execute_result"
    }
   ],
   "source": [
    "jj.eig"
   ]
  },
  {
   "cell_type": "code",
   "execution_count": 82,
   "id": "wanted-building",
   "metadata": {},
   "outputs": [
    {
     "data": {
      "text/plain": [
       "array([[ 1.38175512,  0.74304843, -0.38239317],\n",
       "       [-1.45068783,  0.17810397, -0.07834962],\n",
       "       [-0.29609892, -0.69420754,  0.12288914]])"
      ]
     },
     "execution_count": 82,
     "metadata": {},
     "output_type": "execute_result"
    }
   ],
   "source": [
    "jj.evec"
   ]
  },
  {
   "cell_type": "code",
   "execution_count": null,
   "id": "dental-plymouth",
   "metadata": {},
   "outputs": [],
   "source": []
  }
 ],
 "metadata": {
  "kernelspec": {
   "display_name": "Python 3",
   "language": "python",
   "name": "python3"
  },
  "language_info": {
   "codemirror_mode": {
    "name": "ipython",
    "version": 3
   },
   "file_extension": ".py",
   "mimetype": "text/x-python",
   "name": "python",
   "nbconvert_exporter": "python",
   "pygments_lexer": "ipython3",
   "version": "3.6.8"
  }
 },
 "nbformat": 4,
 "nbformat_minor": 5
}
