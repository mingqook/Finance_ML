{
 "cells": [
  {
   "cell_type": "markdown",
   "id": "spectacular-queensland",
   "metadata": {},
   "source": [
    "# os 모듈 사용법 - python/3.6 확인\n",
    "-----"
   ]
  },
  {
   "cell_type": "markdown",
   "id": "living-brighton",
   "metadata": {},
   "source": [
    "# 디렉토리 내에 폴더, 파일이 있는 지 먼저 확인\n",
    "# 없으면 폴더를 만들어서 크롤링한 데이터를 저장\n",
    "# 있으면 현재에 있는 데이터를 불러오거나 크롤링 데이터를 불러와서 덮어쓰기\n",
    "# 반복해서 쓰이는 함수는 새로운 함수를 만들어서 계속해서 불러와서 사용"
   ]
  },
  {
   "cell_type": "markdown",
   "id": "atomic-norwegian",
   "metadata": {},
   "source": [
    "----------\n",
    "# Ch5\n",
    "# 업종분류 현황 크롤링 - 코스피"
   ]
  },
  {
   "cell_type": "code",
   "execution_count": 1,
   "id": "prime-relation",
   "metadata": {},
   "outputs": [],
   "source": [
    "import requests\n",
    "import pandas as pd\n",
    "import csv"
   ]
  },
  {
   "cell_type": "code",
   "execution_count": 2,
   "id": "seventh-prompt",
   "metadata": {},
   "outputs": [],
   "source": [
    "gen_stk_otp_url = \"http://data.krx.co.kr/comm/fileDn/GenerateOTP/generate.cmd\"\n",
    "gen_stk_otp_data = {\n",
    "    'mktId' : 'STK',   #### 코스피 = stk, 코스닥 = ksq -> option으로 넣으면 될듯\n",
    "    'trdDd' : '20210312', #### 날짜 -> 추후 영업일로 사용! -> option으로 넣으면 될듯\n",
    "    'money' : '1',\n",
    "    'csvxls_isNo' : 'false',\n",
    "    'name' : 'fileDown',\n",
    "    'url' : \"dbms/MDC/STAT/standard/MDCSTAT03901\"\n",
    "}\n",
    "\n",
    "opt = requests.post(gen_stk_otp_url, data = gen_stk_otp_data) ##bytes 형태\n",
    "opt = opt.content.decode('utf-8') #### byte to string\n",
    "\n"
   ]
  },
  {
   "cell_type": "code",
   "execution_count": 3,
   "id": "comparative-incentive",
   "metadata": {},
   "outputs": [],
   "source": [
    "down_stk_url = \"http://data.krx.co.kr/comm/fileDn/download_csv/download.cmd\"\n",
    "down_stk_data = {\n",
    "    'code' : opt\n",
    "}\n",
    "headers = {\n",
    "    \"Referer\" : gen_stk_otp_url  #### referer 추가 -> bot으로 인식 안하고 데이터를 제공\n",
    "}\n",
    "down = requests.post(down_stk_url, data = down_stk_data, headers = headers )"
   ]
  },
  {
   "cell_type": "code",
   "execution_count": 22,
   "id": "stuffed-mauritius",
   "metadata": {},
   "outputs": [],
   "source": [
    "down_stk_data = down.content.decode('EUC-KR')  #### 다운받은 파일 한글로 디코딩\n",
    "down_stk_data = down_stk_data.split(\"\\n\")    #### \\n으로 구분되어 있는거 자르기 -> 한 번 더 ,로 나눠줘야함 -> 가운데 , 포함되어 있는 내용이 있음 ㅠ\n",
    "down_stk_data = pd.DataFrame(down_stk_data)\n",
    "down_stk_data = down_stk_data[0].str.split(\",\", expand = True)\n",
    "down_stk_data.columns = down_stk_data.iloc[0,:]\n",
    "down_stk_data = down_stk_data.iloc[1:,:-1]\n",
    "\n",
    "#### down_data to csv file\n",
    "down_stk_data.to_csv(\"down_stk.csv\", index=False)"
   ]
  },
  {
   "cell_type": "code",
   "execution_count": 23,
   "id": "announced-manhattan",
   "metadata": {},
   "outputs": [
    {
     "data": {
      "text/html": [
       "<div>\n",
       "<style scoped>\n",
       "    .dataframe tbody tr th:only-of-type {\n",
       "        vertical-align: middle;\n",
       "    }\n",
       "\n",
       "    .dataframe tbody tr th {\n",
       "        vertical-align: top;\n",
       "    }\n",
       "\n",
       "    .dataframe thead th {\n",
       "        text-align: right;\n",
       "    }\n",
       "</style>\n",
       "<table border=\"1\" class=\"dataframe\">\n",
       "  <thead>\n",
       "    <tr style=\"text-align: right;\">\n",
       "      <th></th>\n",
       "      <th>종목코드</th>\n",
       "      <th>종목명</th>\n",
       "      <th>시장구분</th>\n",
       "      <th>업종명</th>\n",
       "      <th>종가</th>\n",
       "      <th>대비</th>\n",
       "      <th>등락률</th>\n",
       "      <th>시가총액</th>\n",
       "    </tr>\n",
       "  </thead>\n",
       "  <tbody>\n",
       "    <tr>\n",
       "      <th>0</th>\n",
       "      <td>\"095570\"</td>\n",
       "      <td>\"AJ네트웍스\"</td>\n",
       "      <td>\"KOSPI\"</td>\n",
       "      <td>\"서비스업\"</td>\n",
       "      <td>\"4000\"</td>\n",
       "      <td>\"30\"</td>\n",
       "      <td>\"0.76\"</td>\n",
       "      <td>\"187289180000\"</td>\n",
       "    </tr>\n",
       "    <tr>\n",
       "      <th>1</th>\n",
       "      <td>\"006840\"</td>\n",
       "      <td>\"AK홀딩스\"</td>\n",
       "      <td>\"KOSPI\"</td>\n",
       "      <td>\"기타금융\"</td>\n",
       "      <td>\"28700\"</td>\n",
       "      <td>\"50\"</td>\n",
       "      <td>\"0.17\"</td>\n",
       "      <td>\"380205000700\"</td>\n",
       "    </tr>\n",
       "    <tr>\n",
       "      <th>2</th>\n",
       "      <td>\"027410\"</td>\n",
       "      <td>\"BGF\"</td>\n",
       "      <td>\"KOSPI\"</td>\n",
       "      <td>\"기타금융\"</td>\n",
       "      <td>\"6530\"</td>\n",
       "      <td>\"520\"</td>\n",
       "      <td>\"8.65\"</td>\n",
       "      <td>\"625030645230\"</td>\n",
       "    </tr>\n",
       "    <tr>\n",
       "      <th>3</th>\n",
       "      <td>\"282330\"</td>\n",
       "      <td>\"BGF리테일\"</td>\n",
       "      <td>\"KOSPI\"</td>\n",
       "      <td>\"유통업\"</td>\n",
       "      <td>\"172500\"</td>\n",
       "      <td>\"-500\"</td>\n",
       "      <td>\"-0.29\"</td>\n",
       "      <td>\"2981473785000\"</td>\n",
       "    </tr>\n",
       "    <tr>\n",
       "      <th>4</th>\n",
       "      <td>\"138930\"</td>\n",
       "      <td>\"BNK금융지주\"</td>\n",
       "      <td>\"KOSPI\"</td>\n",
       "      <td>\"기타금융\"</td>\n",
       "      <td>\"6420\"</td>\n",
       "      <td>\"-10\"</td>\n",
       "      <td>\"-0.16\"</td>\n",
       "      <td>\"2092504279320\"</td>\n",
       "    </tr>\n",
       "  </tbody>\n",
       "</table>\n",
       "</div>"
      ],
      "text/plain": [
       "       종목코드        종목명     시장구분     업종명        종가      대비      등락률  \\\n",
       "0  \"095570\"   \"AJ네트웍스\"  \"KOSPI\"  \"서비스업\"    \"4000\"    \"30\"   \"0.76\"   \n",
       "1  \"006840\"    \"AK홀딩스\"  \"KOSPI\"  \"기타금융\"   \"28700\"    \"50\"   \"0.17\"   \n",
       "2  \"027410\"      \"BGF\"  \"KOSPI\"  \"기타금융\"    \"6530\"   \"520\"   \"8.65\"   \n",
       "3  \"282330\"   \"BGF리테일\"  \"KOSPI\"   \"유통업\"  \"172500\"  \"-500\"  \"-0.29\"   \n",
       "4  \"138930\"  \"BNK금융지주\"  \"KOSPI\"  \"기타금융\"    \"6420\"   \"-10\"  \"-0.16\"   \n",
       "\n",
       "              시가총액  \n",
       "0   \"187289180000\"  \n",
       "1   \"380205000700\"  \n",
       "2   \"625030645230\"  \n",
       "3  \"2981473785000\"  \n",
       "4  \"2092504279320\"  "
      ]
     },
     "execution_count": 23,
     "metadata": {},
     "output_type": "execute_result"
    }
   ],
   "source": [
    "pd.read_csv(\"down_stk.csv\").head()"
   ]
  },
  {
   "cell_type": "markdown",
   "id": "short-husband",
   "metadata": {},
   "source": [
    "------\n",
    "# 업종분류 현황 크롤링 - 코스닥 -> 추후 코스피랑 한번에 할 수 있도록 짜야함"
   ]
  },
  {
   "cell_type": "code",
   "execution_count": 24,
   "id": "academic-replacement",
   "metadata": {},
   "outputs": [],
   "source": [
    "gen_ksq_otp_url = \"http://data.krx.co.kr/comm/fileDn/GenerateOTP/generate.cmd\"\n",
    "gen_ksq_otp_data = {\n",
    "    'mktId' : 'KSQ',   #### 코스피 = stk, 코스닥 = ksq -> option으로 넣으면 될듯\n",
    "    'trdDd' : '20210312', #### 날짜 -> 추후 영업일로 사용! -> option으로 넣으면 될듯\n",
    "    'money' : '1',\n",
    "    'csvxls_isNo' : 'false',\n",
    "    'name' : 'fileDown',\n",
    "    'url' : \"dbms/MDC/STAT/standard/MDCSTAT03901\"\n",
    "}\n",
    "\n",
    "opt = requests.post(gen_ksq_otp_url, data = gen_ksq_otp_data) ##bytes 형태\n",
    "opt = opt.content.decode('utf-8') #### byte to string\n",
    "\n",
    "down_ksq_url = \"http://data.krx.co.kr/comm/fileDn/download_csv/download.cmd\"\n",
    "down_ksq_data = {\n",
    "    'code' : opt\n",
    "}\n",
    "headers = {\n",
    "    \"Referer\" : gen_ksq_otp_url  #### referer 추가 -> bot으로 인식 안하고 데이터를 제공\n",
    "}\n",
    "down = requests.post(down_ksq_url, data = down_ksq_data, headers = headers )\n",
    "\n",
    "down_ksq_data = down.content.decode('EUC-KR')  #### 다운받은 파일 한글로 디코딩\n",
    "down_ksq_data = down_ksq_data.split(\"\\n\")    #### \\n으로 구분되어 있는거 자르기 -> 한 번 더 ,로 나눠줘야함 -> 가운데 , 포함되어 있는 내용이 있음 ㅠ\n",
    "down_ksq_data = pd.DataFrame(down_ksq_data)\n",
    "down_ksq_data = down_ksq_data[0].str.split(\",\", expand = True)\n",
    "down_ksq_data.columns = down_ksq_data.iloc[0,:]\n",
    "down_ksq_data = down_ksq_data.iloc[1:,:-1]\n",
    "\n",
    "#### down_data to csv file\n",
    "down_ksq_data.to_csv(\"down_ksq.csv\", index=False)"
   ]
  },
  {
   "cell_type": "code",
   "execution_count": 25,
   "id": "interesting-porter",
   "metadata": {},
   "outputs": [
    {
     "data": {
      "text/html": [
       "<div>\n",
       "<style scoped>\n",
       "    .dataframe tbody tr th:only-of-type {\n",
       "        vertical-align: middle;\n",
       "    }\n",
       "\n",
       "    .dataframe tbody tr th {\n",
       "        vertical-align: top;\n",
       "    }\n",
       "\n",
       "    .dataframe thead th {\n",
       "        text-align: right;\n",
       "    }\n",
       "</style>\n",
       "<table border=\"1\" class=\"dataframe\">\n",
       "  <thead>\n",
       "    <tr style=\"text-align: right;\">\n",
       "      <th></th>\n",
       "      <th>종목코드</th>\n",
       "      <th>종목명</th>\n",
       "      <th>시장구분</th>\n",
       "      <th>업종명</th>\n",
       "      <th>종가</th>\n",
       "      <th>대비</th>\n",
       "      <th>등락률</th>\n",
       "      <th>시가총액</th>\n",
       "    </tr>\n",
       "  </thead>\n",
       "  <tbody>\n",
       "    <tr>\n",
       "      <th>0</th>\n",
       "      <td>\"060310\"</td>\n",
       "      <td>\"3S\"</td>\n",
       "      <td>\"KOSDAQ\"</td>\n",
       "      <td>\"기계·장비\"</td>\n",
       "      <td>\"2400\"</td>\n",
       "      <td>\"5\"</td>\n",
       "      <td>\"0.21\"</td>\n",
       "      <td>\"107526026400\"</td>\n",
       "    </tr>\n",
       "    <tr>\n",
       "      <th>1</th>\n",
       "      <td>\"054620\"</td>\n",
       "      <td>\"APS홀딩스\"</td>\n",
       "      <td>\"KOSDAQ\"</td>\n",
       "      <td>\"금융\"</td>\n",
       "      <td>\"7710\"</td>\n",
       "      <td>\"150\"</td>\n",
       "      <td>\"1.98\"</td>\n",
       "      <td>\"157239443910\"</td>\n",
       "    </tr>\n",
       "    <tr>\n",
       "      <th>2</th>\n",
       "      <td>\"265520\"</td>\n",
       "      <td>\"AP시스템\"</td>\n",
       "      <td>\"KOSDAQ\"</td>\n",
       "      <td>\"반도체\"</td>\n",
       "      <td>\"29000\"</td>\n",
       "      <td>\"550\"</td>\n",
       "      <td>\"1.93\"</td>\n",
       "      <td>\"419926583000\"</td>\n",
       "    </tr>\n",
       "    <tr>\n",
       "      <th>3</th>\n",
       "      <td>\"211270\"</td>\n",
       "      <td>\"AP위성\"</td>\n",
       "      <td>\"KOSDAQ\"</td>\n",
       "      <td>\"통신장비\"</td>\n",
       "      <td>\"17950\"</td>\n",
       "      <td>\"550\"</td>\n",
       "      <td>\"3.16\"</td>\n",
       "      <td>\"269515731800\"</td>\n",
       "    </tr>\n",
       "    <tr>\n",
       "      <th>4</th>\n",
       "      <td>\"035760\"</td>\n",
       "      <td>\"CJ ENM\"</td>\n",
       "      <td>\"KOSDAQ\"</td>\n",
       "      <td>\"방송서비스\"</td>\n",
       "      <td>\"142300\"</td>\n",
       "      <td>\"2300\"</td>\n",
       "      <td>\"1.64\"</td>\n",
       "      <td>\"3120518614200\"</td>\n",
       "    </tr>\n",
       "  </tbody>\n",
       "</table>\n",
       "</div>"
      ],
      "text/plain": [
       "       종목코드       종목명      시장구분      업종명        종가      대비     등락률  \\\n",
       "0  \"060310\"      \"3S\"  \"KOSDAQ\"  \"기계·장비\"    \"2400\"     \"5\"  \"0.21\"   \n",
       "1  \"054620\"  \"APS홀딩스\"  \"KOSDAQ\"     \"금융\"    \"7710\"   \"150\"  \"1.98\"   \n",
       "2  \"265520\"   \"AP시스템\"  \"KOSDAQ\"    \"반도체\"   \"29000\"   \"550\"  \"1.93\"   \n",
       "3  \"211270\"    \"AP위성\"  \"KOSDAQ\"   \"통신장비\"   \"17950\"   \"550\"  \"3.16\"   \n",
       "4  \"035760\"  \"CJ ENM\"  \"KOSDAQ\"  \"방송서비스\"  \"142300\"  \"2300\"  \"1.64\"   \n",
       "\n",
       "              시가총액  \n",
       "0   \"107526026400\"  \n",
       "1   \"157239443910\"  \n",
       "2   \"419926583000\"  \n",
       "3   \"269515731800\"  \n",
       "4  \"3120518614200\"  "
      ]
     },
     "execution_count": 25,
     "metadata": {},
     "output_type": "execute_result"
    }
   ],
   "source": [
    "pd.read_csv(\"down_ksq.csv\").head()"
   ]
  },
  {
   "cell_type": "markdown",
   "id": "united-bobby",
   "metadata": {},
   "source": [
    "------\n",
    "# 코스피, 코스닥 종목코드 합치기 "
   ]
  },
  {
   "cell_type": "code",
   "execution_count": 26,
   "id": "stopped-repository",
   "metadata": {},
   "outputs": [],
   "source": [
    "stk = pd.read_csv(\"down_stk.csv\") # 코스피\n",
    "ksq = pd.read_csv(\"down_ksq.csv\") # 코스닥\n",
    "\n",
    "sec = pd.concat([stk, ksq])\n",
    "sec.to_csv('down_sec.csv', sep = ',', index = False)"
   ]
  },
  {
   "cell_type": "code",
   "execution_count": 27,
   "id": "frozen-hopkins",
   "metadata": {},
   "outputs": [
    {
     "data": {
      "text/html": [
       "<div>\n",
       "<style scoped>\n",
       "    .dataframe tbody tr th:only-of-type {\n",
       "        vertical-align: middle;\n",
       "    }\n",
       "\n",
       "    .dataframe tbody tr th {\n",
       "        vertical-align: top;\n",
       "    }\n",
       "\n",
       "    .dataframe thead th {\n",
       "        text-align: right;\n",
       "    }\n",
       "</style>\n",
       "<table border=\"1\" class=\"dataframe\">\n",
       "  <thead>\n",
       "    <tr style=\"text-align: right;\">\n",
       "      <th></th>\n",
       "      <th>종목코드</th>\n",
       "      <th>종목명</th>\n",
       "      <th>시장구분</th>\n",
       "      <th>업종명</th>\n",
       "      <th>종가</th>\n",
       "      <th>대비</th>\n",
       "      <th>등락률</th>\n",
       "      <th>시가총액</th>\n",
       "    </tr>\n",
       "  </thead>\n",
       "  <tbody>\n",
       "    <tr>\n",
       "      <th>0</th>\n",
       "      <td>\"095570\"</td>\n",
       "      <td>\"AJ네트웍스\"</td>\n",
       "      <td>\"KOSPI\"</td>\n",
       "      <td>\"서비스업\"</td>\n",
       "      <td>\"4000\"</td>\n",
       "      <td>\"30\"</td>\n",
       "      <td>\"0.76\"</td>\n",
       "      <td>\"187289180000\"</td>\n",
       "    </tr>\n",
       "    <tr>\n",
       "      <th>1</th>\n",
       "      <td>\"006840\"</td>\n",
       "      <td>\"AK홀딩스\"</td>\n",
       "      <td>\"KOSPI\"</td>\n",
       "      <td>\"기타금융\"</td>\n",
       "      <td>\"28700\"</td>\n",
       "      <td>\"50\"</td>\n",
       "      <td>\"0.17\"</td>\n",
       "      <td>\"380205000700\"</td>\n",
       "    </tr>\n",
       "    <tr>\n",
       "      <th>2</th>\n",
       "      <td>\"027410\"</td>\n",
       "      <td>\"BGF\"</td>\n",
       "      <td>\"KOSPI\"</td>\n",
       "      <td>\"기타금융\"</td>\n",
       "      <td>\"6530\"</td>\n",
       "      <td>\"520\"</td>\n",
       "      <td>\"8.65\"</td>\n",
       "      <td>\"625030645230\"</td>\n",
       "    </tr>\n",
       "    <tr>\n",
       "      <th>3</th>\n",
       "      <td>\"282330\"</td>\n",
       "      <td>\"BGF리테일\"</td>\n",
       "      <td>\"KOSPI\"</td>\n",
       "      <td>\"유통업\"</td>\n",
       "      <td>\"172500\"</td>\n",
       "      <td>\"-500\"</td>\n",
       "      <td>\"-0.29\"</td>\n",
       "      <td>\"2981473785000\"</td>\n",
       "    </tr>\n",
       "    <tr>\n",
       "      <th>4</th>\n",
       "      <td>\"138930\"</td>\n",
       "      <td>\"BNK금융지주\"</td>\n",
       "      <td>\"KOSPI\"</td>\n",
       "      <td>\"기타금융\"</td>\n",
       "      <td>\"6420\"</td>\n",
       "      <td>\"-10\"</td>\n",
       "      <td>\"-0.16\"</td>\n",
       "      <td>\"2092504279320\"</td>\n",
       "    </tr>\n",
       "  </tbody>\n",
       "</table>\n",
       "</div>"
      ],
      "text/plain": [
       "       종목코드        종목명     시장구분     업종명        종가      대비      등락률  \\\n",
       "0  \"095570\"   \"AJ네트웍스\"  \"KOSPI\"  \"서비스업\"    \"4000\"    \"30\"   \"0.76\"   \n",
       "1  \"006840\"    \"AK홀딩스\"  \"KOSPI\"  \"기타금융\"   \"28700\"    \"50\"   \"0.17\"   \n",
       "2  \"027410\"      \"BGF\"  \"KOSPI\"  \"기타금융\"    \"6530\"   \"520\"   \"8.65\"   \n",
       "3  \"282330\"   \"BGF리테일\"  \"KOSPI\"   \"유통업\"  \"172500\"  \"-500\"  \"-0.29\"   \n",
       "4  \"138930\"  \"BNK금융지주\"  \"KOSPI\"  \"기타금융\"    \"6420\"   \"-10\"  \"-0.16\"   \n",
       "\n",
       "              시가총액  \n",
       "0   \"187289180000\"  \n",
       "1   \"380205000700\"  \n",
       "2   \"625030645230\"  \n",
       "3  \"2981473785000\"  \n",
       "4  \"2092504279320\"  "
      ]
     },
     "execution_count": 27,
     "metadata": {},
     "output_type": "execute_result"
    }
   ],
   "source": [
    "pd.read_csv(\"down_sec.csv\").head()"
   ]
  },
  {
   "cell_type": "markdown",
   "id": "molecular-mustang",
   "metadata": {},
   "source": [
    "-------\n",
    "# 개별종목 지표 크롤링 -> 업종분류 현황이랑 합칠 수 있는 부분은 합칠 수 있을 듯\n",
    "## 아니면 if 문으로 하던지 그냥 따로 쓰던지!"
   ]
  },
  {
   "cell_type": "code",
   "execution_count": 28,
   "id": "electronic-fountain",
   "metadata": {},
   "outputs": [],
   "source": [
    "gen_ind_otp_url = \"http://data.krx.co.kr/comm/fileDn/GenerateOTP/generate.cmd\"\n",
    "gen_ind_otp_data = {\n",
    "    'searchType' : '1',\n",
    "    'mktId' : 'ALL',   #### 코스피 = stk, 코스닥 = ksq\n",
    "    'trdDd' : '20210312', #### 날짜 -> 추후 영업일로 사용!\n",
    "    'csvxls_isNo' : 'false',\n",
    "    'name' : 'fileDown',\n",
    "    'url' : \"dbms/MDC/STAT/standard/MDCSTAT03501\"\n",
    "}\n",
    "\n",
    "opt = requests.post(gen_ind_otp_url, data = gen_ind_otp_data) ##bytes 형태\n",
    "opt = opt.content.decode('utf-8') #### byte to string"
   ]
  },
  {
   "cell_type": "code",
   "execution_count": 29,
   "id": "found-combine",
   "metadata": {},
   "outputs": [],
   "source": [
    "down_ind_url = \"http://data.krx.co.kr/comm/fileDn/download_csv/download.cmd\"\n",
    "down_ind_data = {\n",
    "    'code' : opt\n",
    "}\n",
    "headers = {\n",
    "    \"Referer\" : gen_ind_otp_url  #### referer 추가 -> bot으로 인식 안하고 데이터를 제공\n",
    "}\n",
    "down = requests.post(down_ind_url, data = down_ind_data, headers = headers )"
   ]
  },
  {
   "cell_type": "code",
   "execution_count": 30,
   "id": "protected-calculation",
   "metadata": {},
   "outputs": [],
   "source": [
    "down_ind_data = down.content.decode('EUC-KR')  #### 다운받은 파일 한글로 디코딩\n",
    "down_ind_data = down_ind_data.split(\"\\n\")    #### \\n으로 구분되어 있는거 자르기 -> 한 번 더 ,로 나눠줘야함 -> 가운데 , 포함되어 있는 내용이 있음 ㅠ\n",
    "\n",
    "#### down_data to csv file -> 어짜피 종목코드랑 종목명만 필요! -> sector는 따로 가져 올 거임\n",
    "with open('down_ind.csv', 'w', newline = '') as file:\n",
    "    writer = csv.writer(file)\n",
    "    for i in range(len(down_ind_data)):\n",
    "        x = down_ind_data[i].split(\",\")\n",
    "        writer.writerow(x)"
   ]
  },
  {
   "cell_type": "code",
   "execution_count": 31,
   "id": "valuable-compression",
   "metadata": {},
   "outputs": [
    {
     "data": {
      "text/html": [
       "<div>\n",
       "<style scoped>\n",
       "    .dataframe tbody tr th:only-of-type {\n",
       "        vertical-align: middle;\n",
       "    }\n",
       "\n",
       "    .dataframe tbody tr th {\n",
       "        vertical-align: top;\n",
       "    }\n",
       "\n",
       "    .dataframe thead th {\n",
       "        text-align: right;\n",
       "    }\n",
       "</style>\n",
       "<table border=\"1\" class=\"dataframe\">\n",
       "  <thead>\n",
       "    <tr style=\"text-align: right;\">\n",
       "      <th></th>\n",
       "      <th>종목코드</th>\n",
       "      <th>종목명</th>\n",
       "      <th>종가</th>\n",
       "      <th>대비</th>\n",
       "      <th>등락률</th>\n",
       "      <th>EPS</th>\n",
       "      <th>PER</th>\n",
       "      <th>BPS</th>\n",
       "      <th>PBR</th>\n",
       "      <th>주당배당금</th>\n",
       "      <th>배당수익률</th>\n",
       "    </tr>\n",
       "  </thead>\n",
       "  <tbody>\n",
       "    <tr>\n",
       "      <th>0</th>\n",
       "      <td>\"060310\"</td>\n",
       "      <td>\"3S \"</td>\n",
       "      <td>\"2400\"</td>\n",
       "      <td>\"5\"</td>\n",
       "      <td>\"0.21\"</td>\n",
       "      <td>NaN</td>\n",
       "      <td>NaN</td>\n",
       "      <td>\"745\"</td>\n",
       "      <td>\"3.22\"</td>\n",
       "      <td>\"0\"</td>\n",
       "      <td>\"0.00\"</td>\n",
       "    </tr>\n",
       "    <tr>\n",
       "      <th>1</th>\n",
       "      <td>\"095570\"</td>\n",
       "      <td>\"AJ네트웍스 \"</td>\n",
       "      <td>\"4000\"</td>\n",
       "      <td>\"30\"</td>\n",
       "      <td>\"0.76\"</td>\n",
       "      <td>\"982\"</td>\n",
       "      <td>\"4.07\"</td>\n",
       "      <td>\"6802\"</td>\n",
       "      <td>\"0.59\"</td>\n",
       "      <td>\"300\"</td>\n",
       "      <td>\"7.50\"</td>\n",
       "    </tr>\n",
       "    <tr>\n",
       "      <th>2</th>\n",
       "      <td>\"006840\"</td>\n",
       "      <td>\"AK홀딩스 \"</td>\n",
       "      <td>\"28700\"</td>\n",
       "      <td>\"50\"</td>\n",
       "      <td>\"0.17\"</td>\n",
       "      <td>\"2168\"</td>\n",
       "      <td>\"13.24\"</td>\n",
       "      <td>\"62448\"</td>\n",
       "      <td>\"0.46\"</td>\n",
       "      <td>\"750\"</td>\n",
       "      <td>\"2.61\"</td>\n",
       "    </tr>\n",
       "    <tr>\n",
       "      <th>3</th>\n",
       "      <td>\"054620\"</td>\n",
       "      <td>\"APS홀딩스 \"</td>\n",
       "      <td>\"7710\"</td>\n",
       "      <td>\"150\"</td>\n",
       "      <td>\"1.98\"</td>\n",
       "      <td>NaN</td>\n",
       "      <td>NaN</td>\n",
       "      <td>\"10530\"</td>\n",
       "      <td>\"0.73\"</td>\n",
       "      <td>\"0\"</td>\n",
       "      <td>\"0.00\"</td>\n",
       "    </tr>\n",
       "    <tr>\n",
       "      <th>4</th>\n",
       "      <td>\"265520\"</td>\n",
       "      <td>\"AP시스템 \"</td>\n",
       "      <td>\"29000\"</td>\n",
       "      <td>\"550\"</td>\n",
       "      <td>\"1.93\"</td>\n",
       "      <td>\"671\"</td>\n",
       "      <td>\"43.22\"</td>\n",
       "      <td>\"7468\"</td>\n",
       "      <td>\"3.88\"</td>\n",
       "      <td>\"50\"</td>\n",
       "      <td>\"0.17\"</td>\n",
       "    </tr>\n",
       "  </tbody>\n",
       "</table>\n",
       "</div>"
      ],
      "text/plain": [
       "       종목코드        종목명       종가     대비     등락률     EPS      PER      BPS  \\\n",
       "0  \"060310\"      \"3S \"   \"2400\"    \"5\"  \"0.21\"     NaN      NaN    \"745\"   \n",
       "1  \"095570\"  \"AJ네트웍스 \"   \"4000\"   \"30\"  \"0.76\"   \"982\"   \"4.07\"   \"6802\"   \n",
       "2  \"006840\"   \"AK홀딩스 \"  \"28700\"   \"50\"  \"0.17\"  \"2168\"  \"13.24\"  \"62448\"   \n",
       "3  \"054620\"  \"APS홀딩스 \"   \"7710\"  \"150\"  \"1.98\"     NaN      NaN  \"10530\"   \n",
       "4  \"265520\"   \"AP시스템 \"  \"29000\"  \"550\"  \"1.93\"   \"671\"  \"43.22\"   \"7468\"   \n",
       "\n",
       "      PBR  주당배당금   배당수익률  \n",
       "0  \"3.22\"    \"0\"  \"0.00\"  \n",
       "1  \"0.59\"  \"300\"  \"7.50\"  \n",
       "2  \"0.46\"  \"750\"  \"2.61\"  \n",
       "3  \"0.73\"    \"0\"  \"0.00\"  \n",
       "4  \"3.88\"   \"50\"  \"0.17\"  "
      ]
     },
     "execution_count": 31,
     "metadata": {},
     "output_type": "execute_result"
    }
   ],
   "source": [
    "pd.read_csv(\"down_ind.csv\").head()"
   ]
  },
  {
   "cell_type": "markdown",
   "id": "polar-theory",
   "metadata": {},
   "source": [
    "------\n",
    "# 최근 영업일 기준 데이터 받기"
   ]
  },
  {
   "cell_type": "code",
   "execution_count": 14,
   "id": "parental-equipment",
   "metadata": {},
   "outputs": [],
   "source": [
    "get_date_url = \"https://finance.naver.com/sise/sise_deposit.nhn\"\n",
    "\n",
    "get_date = requests.get(get_date_url)\n",
    "\n",
    "#### 진짜 삽질 개오졌네;;; 얼마나 소비한거야 ㅠ \n",
    "from lxml import html\n",
    "get_date = html.fromstring(get_date.content)\n",
    "date = get_date.xpath('/html/body/div[3]/div[1]/div[2]/div[1]/div[2]/div[1]/div/ul[2]/li/span')\n",
    "date = date[0].xpath('/html/body/div[3]/div[1]/div[2]/div[1]/div[2]/div[1]/div/ul[2]/li/span/text()')\n",
    "# import re\n",
    "\n",
    "# date = re.findall('[0-9]+\\.+[0-9]+\\.+[0-9]+', date[0])  #### yyyy.mm.dd 형태를 추출하기 위해 정규표현식 사용\n",
    "# biz_date = date[0].replace(\".\", \"\") #### yyyy.mm.dd -> yyyymmdd 변환"
   ]
  },
  {
   "cell_type": "code",
   "execution_count": 15,
   "id": "acoustic-railway",
   "metadata": {},
   "outputs": [
    {
     "data": {
      "text/plain": [
       "['\\xa0\\xa0|\\xa0\\xa02021.04.16']"
      ]
     },
     "execution_count": 15,
     "metadata": {},
     "output_type": "execute_result"
    }
   ],
   "source": [
    "date"
   ]
  },
  {
   "cell_type": "code",
   "execution_count": null,
   "id": "spatial-worse",
   "metadata": {},
   "outputs": [],
   "source": [
    "/html/body/div[3]/div[1]/div[2]/div[1]/div[2]/div[1]/div/ul[2]/li/span"
   ]
  },
  {
   "cell_type": "markdown",
   "id": "indie-offense",
   "metadata": {},
   "source": [
    "------\n",
    "# 거래소 데이터 정리하기"
   ]
  },
  {
   "cell_type": "code",
   "execution_count": 32,
   "id": "novel-anime",
   "metadata": {},
   "outputs": [],
   "source": [
    "sec = pd.read_csv(\"down_sec.csv\")\n",
    "ind = pd.read_csv(\"down_ind.csv\")"
   ]
  },
  {
   "cell_type": "code",
   "execution_count": 33,
   "id": "unable-madrid",
   "metadata": {},
   "outputs": [
    {
     "data": {
      "text/plain": [
       "Index(['종목코드', '종목명', '종가', '대비', '등락률', 'EPS', 'PER', 'BPS', 'PBR', '주당배당금',\n",
       "       '배당수익률'],\n",
       "      dtype='object')"
      ]
     },
     "execution_count": 33,
     "metadata": {},
     "output_type": "execute_result"
    }
   ],
   "source": [
    "ind.columns"
   ]
  },
  {
   "cell_type": "code",
   "execution_count": 34,
   "id": "great-easter",
   "metadata": {},
   "outputs": [
    {
     "data": {
      "text/plain": [
       "Index(['종목코드', '종목명', '시장구분', '업종명', '종가', '대비', '등락률', '시가총액'], dtype='object')"
      ]
     },
     "execution_count": 34,
     "metadata": {},
     "output_type": "execute_result"
    }
   ],
   "source": [
    "sec.columns"
   ]
  },
  {
   "cell_type": "code",
   "execution_count": 35,
   "id": "downtown-reliance",
   "metadata": {},
   "outputs": [],
   "source": [
    "ind['종목명'] = ind['종목명'].str.replace(\" \", \"\") #### 종목명 제일 끝에 공백이 있음 -> 종목명에 공백도 제거 되버림\n",
    "sec['종목명'] = sec['종목명'].str.replace(\" \", \"\") #### 종목명 중간에 공백을 똑같이 제거 "
   ]
  },
  {
   "cell_type": "code",
   "execution_count": 36,
   "id": "latter-ultimate",
   "metadata": {},
   "outputs": [],
   "source": [
    "diff = set(sec['종목명']) - set(ind['종목명']) #### 공통으로 포함되지 않은 종목"
   ]
  },
  {
   "cell_type": "code",
   "execution_count": 37,
   "id": "athletic-adolescent",
   "metadata": {},
   "outputs": [
    {
     "data": {
      "text/plain": [
       "(2361, 14)"
      ]
     },
     "execution_count": 37,
     "metadata": {},
     "output_type": "execute_result"
    }
   ],
   "source": [
    "KOR_ticker = ind.merge(sec) #### ind를기준으로 공통인 애들로 묶어줌\n",
    "KOR_ticker.shape"
   ]
  },
  {
   "cell_type": "code",
   "execution_count": 38,
   "id": "built-reporter",
   "metadata": {},
   "outputs": [
    {
     "data": {
      "text/plain": [
       "29        \"DB금융스팩8호\"\n",
       "68      \"IBKS제12호스팩\"\n",
       "69      \"IBKS제13호스팩\"\n",
       "70      \"IBKS제14호스팩\"\n",
       "71      \"IBKS제15호스팩\"\n",
       "183         \"SK4호스팩\"\n",
       "184         \"SK5호스팩\"\n",
       "185         \"SK6호스팩\"\n",
       "279        \"교보10호스팩\"\n",
       "280         \"교보9호스팩\"\n",
       "441     \"대신밸런스제7호스팩\"\n",
       "442     \"대신밸런스제8호스팩\"\n",
       "443     \"대신밸런스제9호스팩\"\n",
       "742     \"미래에셋대우스팩5호\"\n",
       "743     \"미래에셋대우스팩3호\"\n",
       "744     \"미래에셋대우스팩4호\"\n",
       "859         \"삼성스팩2호\"\n",
       "915      \"상상인이안1호스팩\"\n",
       "916     \"상상인이안제2호스팩\"\n",
       "1086        \"신영스팩5호\"\n",
       "1087        \"신영스팩6호\"\n",
       "1101       \"신한제6호스팩\"\n",
       "1102       \"신한제7호스팩\"\n",
       "1303    \"에이치엠씨제4호스팩\"\n",
       "1304    \"에이치엠씨제5호스팩\"\n",
       "1346     \"엔에이치스팩13호\"\n",
       "1347     \"엔에이치스팩16호\"\n",
       "1348     \"엔에이치스팩17호\"\n",
       "1349     \"엔에이치스팩18호\"\n",
       "1539      \"유안타제3호스팩\"\n",
       "1540      \"유안타제4호스팩\"\n",
       "1541      \"유안타제5호스팩\"\n",
       "1542      \"유안타제6호스팩\"\n",
       "1543      \"유안타제7호스팩\"\n",
       "1556        \"유진스팩4호\"\n",
       "1557        \"유진스팩5호\"\n",
       "1594      \"이베스트스팩5호\"\n",
       "1595    \"이베스트이안스팩1호\"\n",
       "1830      \"케이비17호스팩\"\n",
       "1832     \"케이비제18호스팩\"\n",
       "1833     \"케이비제19호스팩\"\n",
       "1834     \"케이비제20호스팩\"\n",
       "1945       \"키움제5호스팩\"\n",
       "2103     \"하나금융14호스팩\"\n",
       "2104     \"하나금융15호스팩\"\n",
       "2105     \"하나금융16호스팩\"\n",
       "2106     \"하나금융17호스팩\"\n",
       "2110     \"하나머스트7호스팩\"\n",
       "2111    \"하나머스트제6호스팩\"\n",
       "2122       \"하이제5호스팩\"\n",
       "2131        \"한국9호스팩\"\n",
       "2161       \"한국제8호스팩\"\n",
       "2253     \"한화에스비아이스팩\"\n",
       "2258    \"한화플러스제1호스팩\"\n",
       "Name: 종목명, dtype: object"
      ]
     },
     "execution_count": 38,
     "metadata": {},
     "output_type": "execute_result"
    }
   ],
   "source": [
    "KOR_ticker['종목명'][KOR_ticker['종목명'].str.find('스팩') >= 0] #### 스팩주"
   ]
  },
  {
   "cell_type": "code",
   "execution_count": 39,
   "id": "studied-bernard",
   "metadata": {},
   "outputs": [],
   "source": [
    "KOR_ticker = KOR_ticker[KOR_ticker['종목명'].str.find(\"스팩\") == -1] #### 스팩주 제거"
   ]
  },
  {
   "cell_type": "code",
   "execution_count": 40,
   "id": "guided-economy",
   "metadata": {},
   "outputs": [
    {
     "data": {
      "text/plain": [
       "10          \"BYC우\"\n",
       "14      \"CJ4우(전환)\"\n",
       "17       \"CJ씨푸드1우\"\n",
       "18           \"CJ우\"\n",
       "20       \"CJ제일제당우\"\n",
       "           ...    \n",
       "2296      \"현대차3우B\"\n",
       "2297        \"현대차우\"\n",
       "2311       \"호텔신라우\"\n",
       "2356     \"흥국화재2우B\"\n",
       "2357       \"흥국화재우\"\n",
       "Name: 종목명, Length: 121, dtype: object"
      ]
     },
     "execution_count": 40,
     "metadata": {},
     "output_type": "execute_result"
    }
   ],
   "source": [
    "KOR_ticker['종목명'][KOR_ticker['종목코드'].str[-2] != \"0\"] #### 우선주 목록 -> 가장 끝은 \"\"이라서 그 다음 문자열을 찾아줘야함"
   ]
  },
  {
   "cell_type": "code",
   "execution_count": 41,
   "id": "abstract-diesel",
   "metadata": {},
   "outputs": [],
   "source": [
    "KOR_ticker = KOR_ticker[KOR_ticker['종목코드'].str[-2] == \"0\"] #### 우선주 제거"
   ]
  },
  {
   "cell_type": "code",
   "execution_count": 42,
   "id": "emotional-precipitation",
   "metadata": {},
   "outputs": [],
   "source": [
    "KOR_ticker.to_csv(\"KOR_ticker.csv\", index=False)"
   ]
  },
  {
   "cell_type": "markdown",
   "id": "infrared-cargo",
   "metadata": {},
   "source": [
    "-----\n",
    "# WICS 기준 섹터 정보 크롤링"
   ]
  },
  {
   "cell_type": "code",
   "execution_count": 3,
   "id": "hindu-expansion",
   "metadata": {},
   "outputs": [],
   "source": [
    "import time\n",
    "\n",
    "sector_code = ['G25', 'G35', 'G50', 'G40', 'G10',\n",
    "              'G20', 'G55', 'G30', 'G15', 'G45',]\n",
    "data_sector = pd.DataFrame()\n",
    "\n",
    "for code in sector_code:\n",
    "    url = \"http://www.wiseindex.com/Index/GetIndexComponets?ceil_yn=0&dt=20210316&sec_cd=\" + code\n",
    "    data = requests.get(url)\n",
    "    data_df = pd.DataFrame(data.json()['list']) #### 받아온 결과를 json으로 출력 -> dict로 출력되는 데 key가 'list'가 해당 정보\n",
    "    data_sector = pd.concat([data_sector, data_df])\n",
    "    time.sleep(1) #### 1초간 휴식 -> R에서 Sys.sleep(1)과 같은역할"
   ]
  },
  {
   "cell_type": "code",
   "execution_count": 227,
   "id": "declared-triple",
   "metadata": {},
   "outputs": [],
   "source": [
    "data_sector.index = range(len(data_sector)) #### index를 편하게 숫자순서대로 변경"
   ]
  },
  {
   "cell_type": "code",
   "execution_count": 229,
   "id": "governmental-heritage",
   "metadata": {},
   "outputs": [],
   "source": [
    "data_sector.to_csv(\"KOR_sector.csv\", index=False)"
   ]
  },
  {
   "cell_type": "markdown",
   "id": "acceptable-hours",
   "metadata": {},
   "source": [
    "-----\n",
    "# Ch6\n",
    "# 개별 종목 수정주가 크롤링 - 더 효율적인 방법 찾아야함 - 너무 무식하게 짰다...."
   ]
  },
  {
   "cell_type": "code",
   "execution_count": 1,
   "id": "documented-clearing",
   "metadata": {},
   "outputs": [],
   "source": [
    "url = \"https://fchart.stock.naver.com/siseJson.nhn?symbol=005930&requestType=1&startTime=20190608&endTime=20200622&timeframe=day\""
   ]
  },
  {
   "cell_type": "code",
   "execution_count": 4,
   "id": "third-bathroom",
   "metadata": {},
   "outputs": [],
   "source": [
    "url_data = requests.get(url)"
   ]
  },
  {
   "cell_type": "code",
   "execution_count": 8,
   "id": "athletic-riding",
   "metadata": {},
   "outputs": [
    {
     "ename": "ImportError",
     "evalue": "html5lib not found, please install it",
     "output_type": "error",
     "traceback": [
      "\u001b[0;31m---------------------------------------------------------------------------\u001b[0m",
      "\u001b[0;31mImportError\u001b[0m                               Traceback (most recent call last)",
      "\u001b[0;32m<ipython-input-8-17d379e090ed>\u001b[0m in \u001b[0;36m<module>\u001b[0;34m\u001b[0m\n\u001b[0;32m----> 1\u001b[0;31m \u001b[0mpd\u001b[0m\u001b[0;34m.\u001b[0m\u001b[0mread_html\u001b[0m\u001b[0;34m(\u001b[0m\u001b[0murl_data\u001b[0m\u001b[0;34m.\u001b[0m\u001b[0mtext\u001b[0m\u001b[0;34m)\u001b[0m\u001b[0;34m\u001b[0m\u001b[0;34m\u001b[0m\u001b[0m\n\u001b[0m",
      "\u001b[0;32m~/Coding/Finance_ML/venv/lib/python3.6/site-packages/pandas/util/_decorators.py\u001b[0m in \u001b[0;36mwrapper\u001b[0;34m(*args, **kwargs)\u001b[0m\n\u001b[1;32m    294\u001b[0m                 )\n\u001b[1;32m    295\u001b[0m                 \u001b[0mwarnings\u001b[0m\u001b[0;34m.\u001b[0m\u001b[0mwarn\u001b[0m\u001b[0;34m(\u001b[0m\u001b[0mmsg\u001b[0m\u001b[0;34m,\u001b[0m \u001b[0mFutureWarning\u001b[0m\u001b[0;34m,\u001b[0m \u001b[0mstacklevel\u001b[0m\u001b[0;34m=\u001b[0m\u001b[0mstacklevel\u001b[0m\u001b[0;34m)\u001b[0m\u001b[0;34m\u001b[0m\u001b[0;34m\u001b[0m\u001b[0m\n\u001b[0;32m--> 296\u001b[0;31m             \u001b[0;32mreturn\u001b[0m \u001b[0mfunc\u001b[0m\u001b[0;34m(\u001b[0m\u001b[0;34m*\u001b[0m\u001b[0margs\u001b[0m\u001b[0;34m,\u001b[0m \u001b[0;34m**\u001b[0m\u001b[0mkwargs\u001b[0m\u001b[0;34m)\u001b[0m\u001b[0;34m\u001b[0m\u001b[0;34m\u001b[0m\u001b[0m\n\u001b[0m\u001b[1;32m    297\u001b[0m \u001b[0;34m\u001b[0m\u001b[0m\n\u001b[1;32m    298\u001b[0m         \u001b[0;32mreturn\u001b[0m \u001b[0mwrapper\u001b[0m\u001b[0;34m\u001b[0m\u001b[0;34m\u001b[0m\u001b[0m\n",
      "\u001b[0;32m~/Coding/Finance_ML/venv/lib/python3.6/site-packages/pandas/io/html.py\u001b[0m in \u001b[0;36mread_html\u001b[0;34m(io, match, flavor, header, index_col, skiprows, attrs, parse_dates, thousands, encoding, decimal, converters, na_values, keep_default_na, displayed_only)\u001b[0m\n\u001b[1;32m   1099\u001b[0m         \u001b[0mna_values\u001b[0m\u001b[0;34m=\u001b[0m\u001b[0mna_values\u001b[0m\u001b[0;34m,\u001b[0m\u001b[0;34m\u001b[0m\u001b[0;34m\u001b[0m\u001b[0m\n\u001b[1;32m   1100\u001b[0m         \u001b[0mkeep_default_na\u001b[0m\u001b[0;34m=\u001b[0m\u001b[0mkeep_default_na\u001b[0m\u001b[0;34m,\u001b[0m\u001b[0;34m\u001b[0m\u001b[0;34m\u001b[0m\u001b[0m\n\u001b[0;32m-> 1101\u001b[0;31m         \u001b[0mdisplayed_only\u001b[0m\u001b[0;34m=\u001b[0m\u001b[0mdisplayed_only\u001b[0m\u001b[0;34m,\u001b[0m\u001b[0;34m\u001b[0m\u001b[0;34m\u001b[0m\u001b[0m\n\u001b[0m\u001b[1;32m   1102\u001b[0m     )\n",
      "\u001b[0;32m~/Coding/Finance_ML/venv/lib/python3.6/site-packages/pandas/io/html.py\u001b[0m in \u001b[0;36m_parse\u001b[0;34m(flavor, io, match, attrs, encoding, displayed_only, **kwargs)\u001b[0m\n\u001b[1;32m    892\u001b[0m     \u001b[0mretained\u001b[0m \u001b[0;34m=\u001b[0m \u001b[0;32mNone\u001b[0m\u001b[0;34m\u001b[0m\u001b[0;34m\u001b[0m\u001b[0m\n\u001b[1;32m    893\u001b[0m     \u001b[0;32mfor\u001b[0m \u001b[0mflav\u001b[0m \u001b[0;32min\u001b[0m \u001b[0mflavor\u001b[0m\u001b[0;34m:\u001b[0m\u001b[0;34m\u001b[0m\u001b[0;34m\u001b[0m\u001b[0m\n\u001b[0;32m--> 894\u001b[0;31m         \u001b[0mparser\u001b[0m \u001b[0;34m=\u001b[0m \u001b[0m_parser_dispatch\u001b[0m\u001b[0;34m(\u001b[0m\u001b[0mflav\u001b[0m\u001b[0;34m)\u001b[0m\u001b[0;34m\u001b[0m\u001b[0;34m\u001b[0m\u001b[0m\n\u001b[0m\u001b[1;32m    895\u001b[0m         \u001b[0mp\u001b[0m \u001b[0;34m=\u001b[0m \u001b[0mparser\u001b[0m\u001b[0;34m(\u001b[0m\u001b[0mio\u001b[0m\u001b[0;34m,\u001b[0m \u001b[0mcompiled_match\u001b[0m\u001b[0;34m,\u001b[0m \u001b[0mattrs\u001b[0m\u001b[0;34m,\u001b[0m \u001b[0mencoding\u001b[0m\u001b[0;34m,\u001b[0m \u001b[0mdisplayed_only\u001b[0m\u001b[0;34m)\u001b[0m\u001b[0;34m\u001b[0m\u001b[0;34m\u001b[0m\u001b[0m\n\u001b[1;32m    896\u001b[0m \u001b[0;34m\u001b[0m\u001b[0m\n",
      "\u001b[0;32m~/Coding/Finance_ML/venv/lib/python3.6/site-packages/pandas/io/html.py\u001b[0m in \u001b[0;36m_parser_dispatch\u001b[0;34m(flavor)\u001b[0m\n\u001b[1;32m    841\u001b[0m     \u001b[0;32mif\u001b[0m \u001b[0mflavor\u001b[0m \u001b[0;32min\u001b[0m \u001b[0;34m(\u001b[0m\u001b[0;34m\"bs4\"\u001b[0m\u001b[0;34m,\u001b[0m \u001b[0;34m\"html5lib\"\u001b[0m\u001b[0;34m)\u001b[0m\u001b[0;34m:\u001b[0m\u001b[0;34m\u001b[0m\u001b[0;34m\u001b[0m\u001b[0m\n\u001b[1;32m    842\u001b[0m         \u001b[0;32mif\u001b[0m \u001b[0;32mnot\u001b[0m \u001b[0m_HAS_HTML5LIB\u001b[0m\u001b[0;34m:\u001b[0m\u001b[0;34m\u001b[0m\u001b[0;34m\u001b[0m\u001b[0m\n\u001b[0;32m--> 843\u001b[0;31m             \u001b[0;32mraise\u001b[0m \u001b[0mImportError\u001b[0m\u001b[0;34m(\u001b[0m\u001b[0;34m\"html5lib not found, please install it\"\u001b[0m\u001b[0;34m)\u001b[0m\u001b[0;34m\u001b[0m\u001b[0;34m\u001b[0m\u001b[0m\n\u001b[0m\u001b[1;32m    844\u001b[0m         \u001b[0;32mif\u001b[0m \u001b[0;32mnot\u001b[0m \u001b[0m_HAS_BS4\u001b[0m\u001b[0;34m:\u001b[0m\u001b[0;34m\u001b[0m\u001b[0;34m\u001b[0m\u001b[0m\n\u001b[1;32m    845\u001b[0m             \u001b[0;32mraise\u001b[0m \u001b[0mImportError\u001b[0m\u001b[0;34m(\u001b[0m\u001b[0;34m\"BeautifulSoup4 (bs4) not found, please install it\"\u001b[0m\u001b[0;34m)\u001b[0m\u001b[0;34m\u001b[0m\u001b[0;34m\u001b[0m\u001b[0m\n",
      "\u001b[0;31mImportError\u001b[0m: html5lib not found, please install it"
     ]
    }
   ],
   "source": [
    "pd.read_html(url_data.text)"
   ]
  },
  {
   "cell_type": "code",
   "execution_count": 70,
   "id": "neutral-algebra",
   "metadata": {},
   "outputs": [],
   "source": [
    "url_data = url_data.content.decode(\"utf8\").replace(\"\\t\", \"\").replace(\"\\n\", \"\") #### \\t, \\n을 공백으로 대체"
   ]
  },
  {
   "cell_type": "code",
   "execution_count": 71,
   "id": "several-nebraska",
   "metadata": {},
   "outputs": [],
   "source": [
    "url_data = url_data.replace(\"[\",\"\")\n",
    "url_data = url_data.replace(\" \",\"\")\n",
    "url_data = url_data.split(\"]\")    #### 최대한 안에 결과 값들만 뽑아내기 위함"
   ]
  },
  {
   "cell_type": "code",
   "execution_count": 72,
   "id": "brilliant-relations",
   "metadata": {},
   "outputs": [],
   "source": [
    "#### 맨 앞의 ','를 제거해주기 위함\n",
    "\n",
    "df = []\n",
    "df.append(url_data[0])  #### 가장 첫줄 먼저 포함\n",
    "for i in range(1, len(url_data)):\n",
    "    x = url_data[i][1:]\n",
    "    df.append(x)\n"
   ]
  },
  {
   "cell_type": "code",
   "execution_count": 73,
   "id": "dried-intervention",
   "metadata": {},
   "outputs": [],
   "source": [
    "df = df[:-2] #### 가장 마지막 2개가 빈 칸이므로 제거"
   ]
  },
  {
   "cell_type": "code",
   "execution_count": 74,
   "id": "requested-samoa",
   "metadata": {},
   "outputs": [],
   "source": [
    "#### 최대한 dataframe에 맞춰서 만듦 - expand는 시리즈일 때만 있는 옵션인듯 - split 결과를 서로 다른 열에 넣어줌\n",
    "#### 첫번째 row를 행 이름으로 쓰기위해서 이 방법이 진짜 이게 최선이라고...? ㅋ\n",
    "df = pd.DataFrame(df)[0].str.split(\",\", expand=True)\n",
    "df.columns = df.iloc[0,:]\n",
    "df = df.iloc[1:,:]"
   ]
  },
  {
   "cell_type": "code",
   "execution_count": 75,
   "id": "behind-relationship",
   "metadata": {},
   "outputs": [],
   "source": [
    "df[\"'날짜'\"] = pd.to_datetime(df[\"'날짜'\"], format='\"%Y%m%d\"') #### 날짜형태로 변환 - columns 이름이랑 날짜 값들이 모두 \"\"를 값으로 포함"
   ]
  },
  {
   "cell_type": "code",
   "execution_count": 76,
   "id": "opponent-disposal",
   "metadata": {},
   "outputs": [],
   "source": [
    "df.set_index(\"'날짜'\", inplace = True) #### 날짜를 인덱스로 변환"
   ]
  },
  {
   "cell_type": "code",
   "execution_count": 82,
   "id": "existing-consent",
   "metadata": {},
   "outputs": [],
   "source": [
    "df_price_volume = df[[\"'종가'\", \"'거래량'\"]] #### 종가, 거래량 추출"
   ]
  },
  {
   "cell_type": "code",
   "execution_count": 90,
   "id": "passive-terminology",
   "metadata": {},
   "outputs": [],
   "source": [
    "df_price_volume.to_csv(\"KOR_price_volume.csv\") #### csv로 저장"
   ]
  },
  {
   "cell_type": "markdown",
   "id": "everyday-track",
   "metadata": {},
   "source": [
    "-------\n",
    "# 전 종목 주가 크롤링 - 위에서 짠 개인 종목을 ticker를 불러와서 ticker정보를 통해 url 변경\n",
    "# csv 파일이 많아지므로 새로운 폴더를 만드는 과정이 가장 먼저 필요"
   ]
  },
  {
   "cell_type": "markdown",
   "id": "reverse-length",
   "metadata": {},
   "source": [
    "## 재무제표 및 가치지표 크롤링"
   ]
  },
  {
   "cell_type": "markdown",
   "id": "diverse-xerox",
   "metadata": {},
   "source": [
    "### 재무제표 다운로드 - 개별"
   ]
  },
  {
   "cell_type": "markdown",
   "id": "judicial-authority",
   "metadata": {},
   "source": [
    "http://comp.fnguide.com/SVO2/ASP/SVD_Finance.asp?pGB=1&gicode=A005930"
   ]
  },
  {
   "cell_type": "code",
   "execution_count": 12,
   "id": "faced-presentation",
   "metadata": {},
   "outputs": [],
   "source": [
    "url = \"http://comp.fnguide.com/SVO2/ASP/SVD_Finance.asp?pGB=1&gicode=A005930\"\n",
    "url_data = requests.get(url)"
   ]
  },
  {
   "cell_type": "code",
   "execution_count": 13,
   "id": "soviet-sailing",
   "metadata": {},
   "outputs": [
    {
     "data": {
      "text/html": [
       "<div>\n",
       "<style scoped>\n",
       "    .dataframe tbody tr th:only-of-type {\n",
       "        vertical-align: middle;\n",
       "    }\n",
       "\n",
       "    .dataframe tbody tr th {\n",
       "        vertical-align: top;\n",
       "    }\n",
       "\n",
       "    .dataframe thead th {\n",
       "        text-align: right;\n",
       "    }\n",
       "</style>\n",
       "<table border=\"1\" class=\"dataframe\">\n",
       "  <thead>\n",
       "    <tr style=\"text-align: right;\">\n",
       "      <th></th>\n",
       "      <th>IFRS(연결)</th>\n",
       "      <th>2017/12</th>\n",
       "      <th>2018/12</th>\n",
       "      <th>2019/12</th>\n",
       "      <th>2020/12</th>\n",
       "      <th>전년동기</th>\n",
       "      <th>전년동기(%)</th>\n",
       "    </tr>\n",
       "  </thead>\n",
       "  <tbody>\n",
       "    <tr>\n",
       "      <th>0</th>\n",
       "      <td>매출액</td>\n",
       "      <td>2395754.0</td>\n",
       "      <td>2437714.0</td>\n",
       "      <td>2304009.0</td>\n",
       "      <td>2368070.0</td>\n",
       "      <td>2304009.0</td>\n",
       "      <td>2.8</td>\n",
       "    </tr>\n",
       "    <tr>\n",
       "      <th>1</th>\n",
       "      <td>매출원가</td>\n",
       "      <td>1292907.0</td>\n",
       "      <td>1323944.0</td>\n",
       "      <td>1472395.0</td>\n",
       "      <td>1444883.0</td>\n",
       "      <td>1472395.0</td>\n",
       "      <td>-1.9</td>\n",
       "    </tr>\n",
       "    <tr>\n",
       "      <th>2</th>\n",
       "      <td>매출총이익</td>\n",
       "      <td>1102847.0</td>\n",
       "      <td>1113770.0</td>\n",
       "      <td>831613.0</td>\n",
       "      <td>923187.0</td>\n",
       "      <td>831613.0</td>\n",
       "      <td>11.0</td>\n",
       "    </tr>\n",
       "    <tr>\n",
       "      <th>3</th>\n",
       "      <td>판매비와관리비계산에 참여한 계정 펼치기</td>\n",
       "      <td>566397.0</td>\n",
       "      <td>524903.0</td>\n",
       "      <td>553928.0</td>\n",
       "      <td>563248.0</td>\n",
       "      <td>553928.0</td>\n",
       "      <td>1.7</td>\n",
       "    </tr>\n",
       "    <tr>\n",
       "      <th>4</th>\n",
       "      <td>인건비</td>\n",
       "      <td>67972.0</td>\n",
       "      <td>64514.0</td>\n",
       "      <td>64226.0</td>\n",
       "      <td>70429.0</td>\n",
       "      <td>64226.0</td>\n",
       "      <td>9.7</td>\n",
       "    </tr>\n",
       "    <tr>\n",
       "      <th>...</th>\n",
       "      <td>...</td>\n",
       "      <td>...</td>\n",
       "      <td>...</td>\n",
       "      <td>...</td>\n",
       "      <td>...</td>\n",
       "      <td>...</td>\n",
       "      <td>...</td>\n",
       "    </tr>\n",
       "    <tr>\n",
       "      <th>74</th>\n",
       "      <td>계속영업이익</td>\n",
       "      <td>421867.0</td>\n",
       "      <td>443449.0</td>\n",
       "      <td>217389.0</td>\n",
       "      <td>264078.0</td>\n",
       "      <td>217389.0</td>\n",
       "      <td>21.5</td>\n",
       "    </tr>\n",
       "    <tr>\n",
       "      <th>75</th>\n",
       "      <td>중단영업이익</td>\n",
       "      <td>NaN</td>\n",
       "      <td>NaN</td>\n",
       "      <td>NaN</td>\n",
       "      <td>NaN</td>\n",
       "      <td>NaN</td>\n",
       "      <td>NaN</td>\n",
       "    </tr>\n",
       "    <tr>\n",
       "      <th>76</th>\n",
       "      <td>당기순이익</td>\n",
       "      <td>421867.0</td>\n",
       "      <td>443449.0</td>\n",
       "      <td>217389.0</td>\n",
       "      <td>264078.0</td>\n",
       "      <td>217389.0</td>\n",
       "      <td>21.5</td>\n",
       "    </tr>\n",
       "    <tr>\n",
       "      <th>77</th>\n",
       "      <td>지배주주순이익</td>\n",
       "      <td>413446.0</td>\n",
       "      <td>438909.0</td>\n",
       "      <td>215051.0</td>\n",
       "      <td>260908.0</td>\n",
       "      <td>215051.0</td>\n",
       "      <td>21.3</td>\n",
       "    </tr>\n",
       "    <tr>\n",
       "      <th>78</th>\n",
       "      <td>비지배주주순이익</td>\n",
       "      <td>8422.0</td>\n",
       "      <td>4540.0</td>\n",
       "      <td>2338.0</td>\n",
       "      <td>3170.0</td>\n",
       "      <td>2338.0</td>\n",
       "      <td>35.6</td>\n",
       "    </tr>\n",
       "  </tbody>\n",
       "</table>\n",
       "<p>79 rows × 7 columns</p>\n",
       "</div>"
      ],
      "text/plain": [
       "                 IFRS(연결)    2017/12    2018/12    2019/12    2020/12  \\\n",
       "0                     매출액  2395754.0  2437714.0  2304009.0  2368070.0   \n",
       "1                    매출원가  1292907.0  1323944.0  1472395.0  1444883.0   \n",
       "2                   매출총이익  1102847.0  1113770.0   831613.0   923187.0   \n",
       "3   판매비와관리비계산에 참여한 계정 펼치기   566397.0   524903.0   553928.0   563248.0   \n",
       "4                     인건비    67972.0    64514.0    64226.0    70429.0   \n",
       "..                    ...        ...        ...        ...        ...   \n",
       "74                 계속영업이익   421867.0   443449.0   217389.0   264078.0   \n",
       "75                 중단영업이익        NaN        NaN        NaN        NaN   \n",
       "76                  당기순이익   421867.0   443449.0   217389.0   264078.0   \n",
       "77                지배주주순이익   413446.0   438909.0   215051.0   260908.0   \n",
       "78               비지배주주순이익     8422.0     4540.0     2338.0     3170.0   \n",
       "\n",
       "         전년동기  전년동기(%)  \n",
       "0   2304009.0      2.8  \n",
       "1   1472395.0     -1.9  \n",
       "2    831613.0     11.0  \n",
       "3    553928.0      1.7  \n",
       "4     64226.0      9.7  \n",
       "..        ...      ...  \n",
       "74   217389.0     21.5  \n",
       "75        NaN      NaN  \n",
       "76   217389.0     21.5  \n",
       "77   215051.0     21.3  \n",
       "78     2338.0     35.6  \n",
       "\n",
       "[79 rows x 7 columns]"
      ]
     },
     "execution_count": 13,
     "metadata": {},
     "output_type": "execute_result"
    }
   ],
   "source": [
    "#displayed_only = False -> 버튼을 눌러서 표시해야 하는것까지 한번에 데이터를 긁어옴\n",
    "pd.read_html(url_data.text,displayed_only=False)[0]"
   ]
  },
  {
   "cell_type": "code",
   "execution_count": 14,
   "id": "growing-telling",
   "metadata": {},
   "outputs": [],
   "source": [
    "# 포괄손익계산서(연간), 재무상태표(연간), 현금흐름표(연간)\n",
    "data_is = pd.read_html(url_data.text,displayed_only=False)[0]\n",
    "data_bs = pd.read_html(url_data.text,displayed_only=False)[2]\n",
    "data_cf = pd.read_html(url_data.text,displayed_only=False)[4]"
   ]
  },
  {
   "cell_type": "code",
   "execution_count": 15,
   "id": "future-lyric",
   "metadata": {},
   "outputs": [],
   "source": [
    "# 3개의 테이블 하나로 합침\n",
    "data_fs = pd.concat((data_is,data_bs,data_cf), axis = 0)"
   ]
  },
  {
   "cell_type": "code",
   "execution_count": 16,
   "id": "boring-stock",
   "metadata": {},
   "outputs": [],
   "source": [
    "# 필요없는 단어 제거\n",
    "data_fs.iloc[:,0] = data_fs.iloc[:,0].str.replace(\"계산에 참여한 계정 펼치기\", \"\")"
   ]
  },
  {
   "cell_type": "code",
   "execution_count": 17,
   "id": "global-respect",
   "metadata": {},
   "outputs": [],
   "source": [
    "data_fs.drop_duplicates(subset = 'IFRS(연결)', inplace=True)"
   ]
  },
  {
   "cell_type": "code",
   "execution_count": 18,
   "id": "described-diameter",
   "metadata": {},
   "outputs": [],
   "source": [
    "data_fs.index = data_fs['IFRS(연결)']\n",
    "data_fs = data_fs.iloc[:,1:]"
   ]
  },
  {
   "cell_type": "code",
   "execution_count": 19,
   "id": "european-discharge",
   "metadata": {},
   "outputs": [
    {
     "data": {
      "text/plain": [
       "2017/12    float64\n",
       "2018/12    float64\n",
       "2019/12    float64\n",
       "2020/12    float64\n",
       "전년동기       float64\n",
       "전년동기(%)    float64\n",
       "dtype: object"
      ]
     },
     "execution_count": 19,
     "metadata": {},
     "output_type": "execute_result"
    }
   ],
   "source": [
    "data_fs.dtypes"
   ]
  },
  {
   "cell_type": "markdown",
   "id": "assisted-stamp",
   "metadata": {},
   "source": [
    "### 가치지표 계산하기"
   ]
  },
  {
   "cell_type": "code",
   "execution_count": 31,
   "id": "answering-positive",
   "metadata": {},
   "outputs": [
    {
     "data": {
      "text/html": [
       "<div>\n",
       "<style scoped>\n",
       "    .dataframe tbody tr th:only-of-type {\n",
       "        vertical-align: middle;\n",
       "    }\n",
       "\n",
       "    .dataframe tbody tr th {\n",
       "        vertical-align: top;\n",
       "    }\n",
       "\n",
       "    .dataframe thead th {\n",
       "        text-align: right;\n",
       "    }\n",
       "</style>\n",
       "<table border=\"1\" class=\"dataframe\">\n",
       "  <thead>\n",
       "    <tr style=\"text-align: right;\">\n",
       "      <th></th>\n",
       "      <th>2017/12</th>\n",
       "      <th>2018/12</th>\n",
       "      <th>2019/12</th>\n",
       "      <th>2020/12</th>\n",
       "    </tr>\n",
       "    <tr>\n",
       "      <th>IFRS(연결)</th>\n",
       "      <th></th>\n",
       "      <th></th>\n",
       "      <th></th>\n",
       "      <th></th>\n",
       "    </tr>\n",
       "  </thead>\n",
       "  <tbody>\n",
       "    <tr>\n",
       "      <th>매출액</th>\n",
       "      <td>2395754.0</td>\n",
       "      <td>2437714.0</td>\n",
       "      <td>2304009.0</td>\n",
       "      <td>2368070.0</td>\n",
       "    </tr>\n",
       "    <tr>\n",
       "      <th>매출원가</th>\n",
       "      <td>1292907.0</td>\n",
       "      <td>1323944.0</td>\n",
       "      <td>1472395.0</td>\n",
       "      <td>1444883.0</td>\n",
       "    </tr>\n",
       "    <tr>\n",
       "      <th>매출총이익</th>\n",
       "      <td>1102847.0</td>\n",
       "      <td>1113770.0</td>\n",
       "      <td>831613.0</td>\n",
       "      <td>923187.0</td>\n",
       "    </tr>\n",
       "    <tr>\n",
       "      <th>판매비와관리비</th>\n",
       "      <td>566397.0</td>\n",
       "      <td>524903.0</td>\n",
       "      <td>553928.0</td>\n",
       "      <td>563248.0</td>\n",
       "    </tr>\n",
       "    <tr>\n",
       "      <th>인건비</th>\n",
       "      <td>67972.0</td>\n",
       "      <td>64514.0</td>\n",
       "      <td>64226.0</td>\n",
       "      <td>70429.0</td>\n",
       "    </tr>\n",
       "    <tr>\n",
       "      <th>...</th>\n",
       "      <td>...</td>\n",
       "      <td>...</td>\n",
       "      <td>...</td>\n",
       "      <td>...</td>\n",
       "    </tr>\n",
       "    <tr>\n",
       "      <th>연결범위변동으로인한현금의증가</th>\n",
       "      <td>NaN</td>\n",
       "      <td>NaN</td>\n",
       "      <td>NaN</td>\n",
       "      <td>NaN</td>\n",
       "    </tr>\n",
       "    <tr>\n",
       "      <th>환율변동효과</th>\n",
       "      <td>-17823.0</td>\n",
       "      <td>942.0</td>\n",
       "      <td>5953.0</td>\n",
       "      <td>-8339.0</td>\n",
       "    </tr>\n",
       "    <tr>\n",
       "      <th>현금및현금성자산의증가</th>\n",
       "      <td>-15663.0</td>\n",
       "      <td>-2046.0</td>\n",
       "      <td>-34545.0</td>\n",
       "      <td>24966.0</td>\n",
       "    </tr>\n",
       "    <tr>\n",
       "      <th>기초현금및현금성자산</th>\n",
       "      <td>321114.0</td>\n",
       "      <td>305451.0</td>\n",
       "      <td>303405.0</td>\n",
       "      <td>268860.0</td>\n",
       "    </tr>\n",
       "    <tr>\n",
       "      <th>기말현금및현금성자산</th>\n",
       "      <td>305451.0</td>\n",
       "      <td>303405.0</td>\n",
       "      <td>268860.0</td>\n",
       "      <td>293826.0</td>\n",
       "    </tr>\n",
       "  </tbody>\n",
       "</table>\n",
       "<p>237 rows × 4 columns</p>\n",
       "</div>"
      ],
      "text/plain": [
       "                   2017/12    2018/12    2019/12    2020/12\n",
       "IFRS(연결)                                                   \n",
       "매출액              2395754.0  2437714.0  2304009.0  2368070.0\n",
       "매출원가             1292907.0  1323944.0  1472395.0  1444883.0\n",
       "매출총이익            1102847.0  1113770.0   831613.0   923187.0\n",
       "판매비와관리비           566397.0   524903.0   553928.0   563248.0\n",
       "인건비                67972.0    64514.0    64226.0    70429.0\n",
       "...                    ...        ...        ...        ...\n",
       "연결범위변동으로인한현금의증가        NaN        NaN        NaN        NaN\n",
       "환율변동효과            -17823.0      942.0     5953.0    -8339.0\n",
       "현금및현금성자산의증가       -15663.0    -2046.0   -34545.0    24966.0\n",
       "기초현금및현금성자산        321114.0   305451.0   303405.0   268860.0\n",
       "기말현금및현금성자산        305451.0   303405.0   268860.0   293826.0\n",
       "\n",
       "[237 rows x 4 columns]"
      ]
     },
     "execution_count": 31,
     "metadata": {},
     "output_type": "execute_result"
    }
   ],
   "source": [
    "#가장 끝 칼럼 2개는 제거 - 전년동기 관련\n",
    "data_fs = data_fs.iloc[:,:-2]\n",
    "data_fs"
   ]
  },
  {
   "cell_type": "code",
   "execution_count": 32,
   "id": "naval-maintenance",
   "metadata": {},
   "outputs": [],
   "source": [
    "value_type = ['지배주주순이익', '자본', '영업활동으로인한현금흐름', '매출액']"
   ]
  },
  {
   "cell_type": "code",
   "execution_count": 34,
   "id": "artistic-programmer",
   "metadata": {},
   "outputs": [],
   "source": [
    "value_index = data_fs.iloc[data_fs.index.isin(value_type)].iloc[:,-1]"
   ]
  },
  {
   "cell_type": "code",
   "execution_count": 35,
   "id": "modern-values",
   "metadata": {},
   "outputs": [
    {
     "data": {
      "text/plain": [
       "IFRS(연결)\n",
       "매출액             2368070.0\n",
       "지배주주순이익          260908.0\n",
       "자본              2759480.0\n",
       "영업활동으로인한현금흐름     652870.0\n",
       "Name: 2020/12, dtype: float64"
      ]
     },
     "execution_count": 35,
     "metadata": {},
     "output_type": "execute_result"
    }
   ],
   "source": [
    "value_index"
   ]
  },
  {
   "cell_type": "markdown",
   "id": "amino-fellowship",
   "metadata": {},
   "source": [
    "#### 가격과 보통주 모두 str을 숫자로 바꿔주는 절차 필요할듯!"
   ]
  },
  {
   "cell_type": "code",
   "execution_count": 58,
   "id": "rubber-typing",
   "metadata": {},
   "outputs": [],
   "source": [
    "#### 현재 날짜를 가져오는 방법 그대로 사용\n",
    "get_price_url = \"http://comp.fnguide.com/SVO2/ASP/SVD_main.asp?pGB=1&gicode=A005930\"\n",
    "get_price = requests.get(get_price_url)\n",
    "\n",
    "from lxml import html\n",
    "get_price = html.fromstring(get_price.content)\n",
    "price = get_price.xpath('//*[@id=\"svdMainChartTxt11\"]')\n",
    "price = price[0].xpath('//*[@id=\"svdMainChartTxt11\"]/text()')\n",
    "price = str(price[0])"
   ]
  },
  {
   "cell_type": "code",
   "execution_count": 88,
   "id": "helpful-bubble",
   "metadata": {},
   "outputs": [],
   "source": [
    "# 문자형식으로 불러와서 숫자로 바꿔주는 과정\n",
    "price = price.replace(\",\",\"\")\n",
    "price = int(price)"
   ]
  },
  {
   "cell_type": "code",
   "execution_count": 71,
   "id": "adjusted-house",
   "metadata": {},
   "outputs": [],
   "source": [
    "number = get_price.xpath('//*[@id=\"svdMainGrid1\"]/table/tbody/tr[7]/td[1]')\n",
    "number = number[0].xpath('//*[@id=\"svdMainGrid1\"]/table/tbody/tr[7]/td[1]/text()')\n",
    "number = str(number[0])\n",
    "normal_number = number.split(\"/\")[0]"
   ]
  },
  {
   "cell_type": "code",
   "execution_count": 84,
   "id": "twenty-respect",
   "metadata": {},
   "outputs": [],
   "source": [
    "normal_number = normal_number.replace(\",\",\"\")"
   ]
  },
  {
   "cell_type": "code",
   "execution_count": 89,
   "id": "designing-blame",
   "metadata": {},
   "outputs": [],
   "source": [
    "normal_number = int(normal_number)"
   ]
  },
  {
   "cell_type": "code",
   "execution_count": 93,
   "id": "religious-plaza",
   "metadata": {},
   "outputs": [],
   "source": [
    "# 인덱스 순서를 내가 원하는 대로 변경\n",
    "value_index = value_index.reindex(value_type)"
   ]
  },
  {
   "cell_type": "code",
   "execution_count": 95,
   "id": "comfortable-girlfriend",
   "metadata": {},
   "outputs": [],
   "source": [
    "data_value = price / (value_index * 100000000 / normal_number)"
   ]
  },
  {
   "cell_type": "code",
   "execution_count": 97,
   "id": "identified-meter",
   "metadata": {},
   "outputs": [],
   "source": [
    "# 인덱스 이름 변경\n",
    "data_value.index = ['PER', 'PBR', 'PCR', 'PSR']"
   ]
  },
  {
   "cell_type": "code",
   "execution_count": 98,
   "id": "dietary-saudi",
   "metadata": {},
   "outputs": [
    {
     "data": {
      "text/plain": [
       "PER    18.533444\n",
       "PBR     1.752332\n",
       "PCR     7.406565\n",
       "PSR     2.041968\n",
       "Name: 2020/12, dtype: float64"
      ]
     },
     "execution_count": 98,
     "metadata": {},
     "output_type": "execute_result"
    }
   ],
   "source": [
    "data_value"
   ]
  },
  {
   "cell_type": "markdown",
   "id": "conditional-buffer",
   "metadata": {},
   "source": [
    "# 전체 기업이랑 dart는 일단 보류"
   ]
  },
  {
   "cell_type": "code",
   "execution_count": null,
   "id": "antique-document",
   "metadata": {},
   "outputs": [],
   "source": []
  }
 ],
 "metadata": {
  "kernelspec": {
   "display_name": "Python 3",
   "language": "python",
   "name": "python3"
  },
  "language_info": {
   "codemirror_mode": {
    "name": "ipython",
    "version": 3
   },
   "file_extension": ".py",
   "mimetype": "text/x-python",
   "name": "python",
   "nbconvert_exporter": "python",
   "pygments_lexer": "ipython3",
   "version": "3.6.8"
  }
 },
 "nbformat": 4,
 "nbformat_minor": 5
}
