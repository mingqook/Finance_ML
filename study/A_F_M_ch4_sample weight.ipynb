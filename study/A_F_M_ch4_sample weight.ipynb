{
 "cells": [
  {
   "cell_type": "code",
   "execution_count": 8,
   "id": "lyric-afternoon",
   "metadata": {},
   "outputs": [],
   "source": [
    "import pandas as pd\n",
    "from datetime import datetime\n",
    "import numpy as np"
   ]
  },
  {
   "cell_type": "code",
   "execution_count": 2,
   "id": "foreign-search",
   "metadata": {},
   "outputs": [
    {
     "data": {
      "text/html": [
       "<div>\n",
       "<style scoped>\n",
       "    .dataframe tbody tr th:only-of-type {\n",
       "        vertical-align: middle;\n",
       "    }\n",
       "\n",
       "    .dataframe tbody tr th {\n",
       "        vertical-align: top;\n",
       "    }\n",
       "\n",
       "    .dataframe thead th {\n",
       "        text-align: right;\n",
       "    }\n",
       "</style>\n",
       "<table border=\"1\" class=\"dataframe\">\n",
       "  <thead>\n",
       "    <tr style=\"text-align: right;\">\n",
       "      <th></th>\n",
       "      <th>days_passed</th>\n",
       "      <th>price</th>\n",
       "      <th>vert_barrier</th>\n",
       "      <th>top_barrier</th>\n",
       "      <th>bottom_barrier</th>\n",
       "      <th>out</th>\n",
       "    </tr>\n",
       "    <tr>\n",
       "      <th>Date</th>\n",
       "      <th></th>\n",
       "      <th></th>\n",
       "      <th></th>\n",
       "      <th></th>\n",
       "      <th></th>\n",
       "      <th></th>\n",
       "    </tr>\n",
       "  </thead>\n",
       "  <tbody>\n",
       "    <tr>\n",
       "      <th>2000-01-06</th>\n",
       "      <td>1</td>\n",
       "      <td>0.729382</td>\n",
       "      <td>2000-01-24 00:00:00</td>\n",
       "      <td>0.833740</td>\n",
       "      <td>0.625023</td>\n",
       "      <td>1.000000</td>\n",
       "    </tr>\n",
       "    <tr>\n",
       "      <th>2000-01-07</th>\n",
       "      <td>2</td>\n",
       "      <td>0.763932</td>\n",
       "      <td>2000-01-25 00:00:00</td>\n",
       "      <td>0.872059</td>\n",
       "      <td>0.655804</td>\n",
       "      <td>0.905325</td>\n",
       "    </tr>\n",
       "    <tr>\n",
       "      <th>2000-01-10</th>\n",
       "      <td>3</td>\n",
       "      <td>0.750496</td>\n",
       "      <td>2000-01-26 00:00:00</td>\n",
       "      <td>0.835410</td>\n",
       "      <td>0.665581</td>\n",
       "      <td>1.000000</td>\n",
       "    </tr>\n",
       "    <tr>\n",
       "      <th>2000-01-11</th>\n",
       "      <td>4</td>\n",
       "      <td>0.712107</td>\n",
       "      <td>2000-01-27 00:00:00</td>\n",
       "      <td>0.785646</td>\n",
       "      <td>0.638568</td>\n",
       "      <td>1.000000</td>\n",
       "    </tr>\n",
       "    <tr>\n",
       "      <th>2000-01-12</th>\n",
       "      <td>5</td>\n",
       "      <td>0.669400</td>\n",
       "      <td>2000-01-28 00:00:00</td>\n",
       "      <td>0.734199</td>\n",
       "      <td>0.604601</td>\n",
       "      <td>1.000000</td>\n",
       "    </tr>\n",
       "  </tbody>\n",
       "</table>\n",
       "</div>"
      ],
      "text/plain": [
       "            days_passed     price         vert_barrier  top_barrier  \\\n",
       "Date                                                                  \n",
       "2000-01-06            1  0.729382  2000-01-24 00:00:00     0.833740   \n",
       "2000-01-07            2  0.763932  2000-01-25 00:00:00     0.872059   \n",
       "2000-01-10            3  0.750496  2000-01-26 00:00:00     0.835410   \n",
       "2000-01-11            4  0.712107  2000-01-27 00:00:00     0.785646   \n",
       "2000-01-12            5  0.669400  2000-01-28 00:00:00     0.734199   \n",
       "\n",
       "            bottom_barrier       out  \n",
       "Date                                  \n",
       "2000-01-06        0.625023  1.000000  \n",
       "2000-01-07        0.655804  0.905325  \n",
       "2000-01-10        0.665581  1.000000  \n",
       "2000-01-11        0.638568  1.000000  \n",
       "2000-01-12        0.604601  1.000000  "
      ]
     },
     "execution_count": 2,
     "metadata": {},
     "output_type": "execute_result"
    }
   ],
   "source": [
    "df_t = pd.read_csv('aapl_triple_barrier.csv', index_col = 'Date')\n",
    "df_t.head()"
   ]
  },
  {
   "cell_type": "markdown",
   "id": "announced-above",
   "metadata": {},
   "source": [
    "#### 4.1 Estimating the Uniqueness of a label- 3.3 결과의 t1 필요? & 멀티쓰레딩 필요?"
   ]
  },
  {
   "cell_type": "code",
   "execution_count": 3,
   "id": "finished-participant",
   "metadata": {},
   "outputs": [],
   "source": [
    "def mpNumCoEvents(closeIdx, t1, molecule):\n",
    "    #1 find events that span the period [molecule[0], molecule[-1]]\n",
    "    t1 = t1.fillna(closeIdx[-1])\n",
    "    t1 = t1[t1>=molecule[0]]\n",
    "    t1 = t1.loc[:t1[molecule].max()]\n",
    "    #2 count events spanninga bar\n",
    "    ilco = closeIdx.searchsorted(np.array([t1.index[0], t1.max()]))\n",
    "    count = pd.Series(0, index = closeIdx[iloc[0]:iloc[1] + 1])\n",
    "    for tIn, tOut in t1.iteritems(): count.loc[tIn:tOut] += 1\n",
    "    return count.loc[molecule[0] : t1[molecule].max()]"
   ]
  },
  {
   "cell_type": "markdown",
   "id": "closing-absolute",
   "metadata": {},
   "source": [
    "#### 4.2 Estimating the Average Uniqueness of a label - 3.3 결과의 t1 필요? & 멀티쓰레딩 필요?"
   ]
  },
  {
   "cell_type": "code",
   "execution_count": 4,
   "id": "dressed-species",
   "metadata": {},
   "outputs": [],
   "source": [
    "def mpSampleTW(t1, numCoEvents, molecule):\n",
    "    # derive average uniqueness over the event's lifespan\n",
    "    wght = pd.Series(index = molecule)\n",
    "    for tIn, tOut in t1.loc[wght.index].iteritems():\n",
    "        wght.loc[tIn] = (1./numCoEvents.loc[tIn:tOut]).mean()\n",
    "    return wght\n",
    "\n",
    "# numCoEvents = mpPandasObj(mpNumCoEvents, ('molecule', events.index), numThreads, closeIdx=close.index, t1 = events['t1'])\n",
    "# numCoEvents = numCoEvents.loc[~numCoEvents.index.duplicated(keep = 'last')]\n",
    "# numCoEvents = numCoEvents.reindex(close.index).fillna(0)\n",
    "# out['tW'] = mpPandasObj(mpSampleTW, ('molecule', events.index), numThreads, t1 = events['t1'], numCoEvents = numCoEvents)"
   ]
  },
  {
   "cell_type": "markdown",
   "id": "characteristic-caution",
   "metadata": {},
   "source": [
    "#### 4.3 Build an indicator matrix"
   ]
  },
  {
   "cell_type": "code",
   "execution_count": 5,
   "id": "welsh-assessment",
   "metadata": {},
   "outputs": [],
   "source": [
    "def getIndMatrix(barIx, t1):\n",
    "    indM = pd.DataFrame(0, index = barIx, columns = range(t1.shape[0]))\n",
    "    for i, (t0, t1) in enumerate(t1.iteritems()) : indM.loc[t0:t1, i] = 1\n",
    "    return indM"
   ]
  },
  {
   "cell_type": "markdown",
   "id": "unique-healing",
   "metadata": {},
   "source": [
    "#### 4.4 Compute Average Uniqueness"
   ]
  },
  {
   "cell_type": "code",
   "execution_count": 6,
   "id": "naked-harvard",
   "metadata": {},
   "outputs": [],
   "source": [
    "def getAvgUniqueness(indM):\n",
    "    c = indM.sum(axis = 1)\n",
    "    u = indM.div(c, axis = 0)\n",
    "    avgU = u[u>0].mean()\n",
    "    return avgU"
   ]
  },
  {
   "cell_type": "markdown",
   "id": "considerable-conservation",
   "metadata": {},
   "source": [
    "#### 4.5 Return Sample from Sequential Bootstrap"
   ]
  },
  {
   "cell_type": "code",
   "execution_count": 7,
   "id": "nominated-hepatitis",
   "metadata": {},
   "outputs": [],
   "source": [
    "def seqBootstrap(indM, sLength = None):\n",
    "    if sLength is None : sLength = indM.shape[1]\n",
    "    phi = []\n",
    "    while len(phi) < sLength:\n",
    "        avgU = pd.Series()\n",
    "        for i in indM:\n",
    "            indM_ = indM[phi+[i]]\n",
    "            avgU.loc[i] = getAvgUniqueness(indM_).iloc[-1]\n",
    "        prob = avgU/avgU.sum()\n",
    "        phi += [np.random.choice(indM.columns, p = prob)]\n",
    "    return phi"
   ]
  },
  {
   "cell_type": "markdown",
   "id": "julian-bidder",
   "metadata": {},
   "source": [
    "#### 4.6 Example of Sequential Bootstrip"
   ]
  },
  {
   "cell_type": "code",
   "execution_count": 10,
   "id": "directed-drink",
   "metadata": {},
   "outputs": [],
   "source": [
    "def main():\n",
    "    t1 = pd.Series([2,3,5], index = [0,2,4])\n",
    "    barIx = range(t1.max() + 1)\n",
    "    indM = getIndMatrix(barIx, t1)\n",
    "    phi = np.random.choice(indM.columns, size = indM.shape[1])\n",
    "    print(phi)\n",
    "    print('standard uniqueness : ', getAvgUniqueness(indM[phi]).mean())\n",
    "    phi = seqBootstrap(indM)\n",
    "    print(phi)\n",
    "    print('sequential uniquness : ', getAvgUniqueness(indM[phi]).mean())\n",
    "    return "
   ]
  },
  {
   "cell_type": "code",
   "execution_count": 11,
   "id": "daily-state",
   "metadata": {},
   "outputs": [
    {
     "name": "stdout",
     "output_type": "stream",
     "text": [
      "[1 1 1]\n",
      "standard uniqueness :  0.3333333333333333\n",
      "[0, 2, 2]\n",
      "sequential uniquness :  0.6666666666666666\n"
     ]
    },
    {
     "name": "stderr",
     "output_type": "stream",
     "text": [
      "/Users/qook/Coding/Finance_ML/venv/lib/python3.6/site-packages/ipykernel_launcher.py:5: DeprecationWarning: The default dtype for empty Series will be 'object' instead of 'float64' in a future version. Specify a dtype explicitly to silence this warning.\n",
      "  \"\"\"\n",
      "/Users/qook/Coding/Finance_ML/venv/lib/python3.6/site-packages/ipykernel_launcher.py:5: DeprecationWarning: The default dtype for empty Series will be 'object' instead of 'float64' in a future version. Specify a dtype explicitly to silence this warning.\n",
      "  \"\"\"\n",
      "/Users/qook/Coding/Finance_ML/venv/lib/python3.6/site-packages/ipykernel_launcher.py:5: DeprecationWarning: The default dtype for empty Series will be 'object' instead of 'float64' in a future version. Specify a dtype explicitly to silence this warning.\n",
      "  \"\"\"\n"
     ]
    }
   ],
   "source": [
    "main()"
   ]
  },
  {
   "cell_type": "markdown",
   "id": "armed-stand",
   "metadata": {},
   "source": [
    "#### 4.7 Generting a Random T1 Series"
   ]
  },
  {
   "cell_type": "code",
   "execution_count": 12,
   "id": "pleasant-separate",
   "metadata": {},
   "outputs": [],
   "source": [
    "def getRndT1(numObs, numBars, maxH):\n",
    "    t1 = pd.Series()\n",
    "    for i in xrange(numObs):\n",
    "        ix = np.random.randint(0, numBars)\n",
    "        val = ix+np.random.randint(1, maxH)\n",
    "        t1.loc[ix] = val\n",
    "        \n",
    "    return t1.sort_index()"
   ]
  },
  {
   "cell_type": "markdown",
   "id": "everyday-information",
   "metadata": {},
   "source": [
    "#### 4.8 Uniqueness from Standard and Sequential Bootstraps"
   ]
  },
  {
   "cell_type": "code",
   "execution_count": 13,
   "id": "challenging-entrepreneur",
   "metadata": {},
   "outputs": [],
   "source": [
    "def auxMc(numObs, numBars, maxH):\n",
    "    t1 = getRndT1(numObs, numBars, maxH)\n",
    "    barIx = range(t1.max() + 1)\n",
    "    indM = getIndMatrix(barIx, t1)\n",
    "    phi = np.random.choice(indM.columns, size = indM.shape[1])\n",
    "    stdU = getAvgUniqueness(indM[phi]).mean()\n",
    "    phi = seqBootstrap(indM)\n",
    "    seqU = getAvgUniqueness(indM[phi]).mean()\n",
    "    return {'stdU' : stdU, 'seqU' : seqU}"
   ]
  },
  {
   "cell_type": "markdown",
   "id": "significant-electronics",
   "metadata": {},
   "source": [
    "#### 4.10 Determination of sample weight by Absolute Return Attribution "
   ]
  },
  {
   "cell_type": "code",
   "execution_count": 15,
   "id": "ahead-worcester",
   "metadata": {},
   "outputs": [],
   "source": [
    "def mpSampleW(t1, numCoEvents, close, molecule):\n",
    "    ret = np.log(colse).diff()\n",
    "    for tIn, tOut in t1.loc[wght.index].iteritems():\n",
    "        wght.loc[tIn] = (ret.loc[tIn:tOut] / numCoEvents.loc[tIn:tOut]).sum()\n",
    "    return wght.abs()"
   ]
  },
  {
   "cell_type": "markdown",
   "id": "incorrect-working",
   "metadata": {},
   "source": [
    "#### 4.11 Implementaion of time-decay Factor"
   ]
  },
  {
   "cell_type": "code",
   "execution_count": 16,
   "id": "apparent-participant",
   "metadata": {},
   "outputs": [],
   "source": [
    "def getTimeDecay(tW, clfLastW = 1):\n",
    "    clfW = tW.sort_index().cumsum()\n",
    "    if clfLastW >=0 : slope = (1-clfLastW) / clfW.iloc[-1]\n",
    "    else: slope = 1 / ((clfLastW+1) * clfW.iloc[-1])\n",
    "    const = 1 - slope*clfW.iloc[-1]\n",
    "    clfW = const + slope * clfW\n",
    "    clfW[clfW < 0] = 0\n",
    "    print(const, slope)\n",
    "    return clfW"
   ]
  },
  {
   "cell_type": "code",
   "execution_count": null,
   "id": "figured-place",
   "metadata": {},
   "outputs": [],
   "source": []
  }
 ],
 "metadata": {
  "kernelspec": {
   "display_name": "Python 3",
   "language": "python",
   "name": "python3"
  },
  "language_info": {
   "codemirror_mode": {
    "name": "ipython",
    "version": 3
   },
   "file_extension": ".py",
   "mimetype": "text/x-python",
   "name": "python",
   "nbconvert_exporter": "python",
   "pygments_lexer": "ipython3",
   "version": "3.6.8"
  }
 },
 "nbformat": 4,
 "nbformat_minor": 5
}
