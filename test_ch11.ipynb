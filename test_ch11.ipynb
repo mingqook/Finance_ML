{
 "cells": [
  {
   "cell_type": "code",
   "execution_count": 1,
   "id": "sought-arbitration",
   "metadata": {},
   "outputs": [
    {
     "name": "stdout",
     "output_type": "stream",
     "text": [
      "/Users/qook/Coding/finance_ml\n"
     ]
    }
   ],
   "source": [
    "!pwd"
   ]
  },
  {
   "cell_type": "code",
   "execution_count": 2,
   "id": "elegant-calculator",
   "metadata": {},
   "outputs": [],
   "source": [
    "import pandas as pd\n",
    "import numpy as np\n",
    "import matplotlib.pyplot as plt\n",
    "import seaborn as sns"
   ]
  },
  {
   "cell_type": "code",
   "execution_count": 3,
   "id": "stunning-jurisdiction",
   "metadata": {},
   "outputs": [],
   "source": [
    "# mac\n",
    "data_p = pd.read_pickle('data/krx/prices.pkl')  #### 가격(종가) data\n",
    "data_t = pd.read_pickle('data/krx/tickers.pkl') #### 기업 정보 data\n",
    "data_v = pd.read_pickle('data/krx/volumes.pkl') #### 거래량 data\n",
    "data_i = pd.read_pickle('data/krx/indicators.pkl') #### 지표 data\n",
    "data_f = pd.read_pickle('data/krx/fss.pkl')  #### 재무제표 data"
   ]
  },
  {
   "cell_type": "code",
   "execution_count": 4,
   "id": "internal-prairie",
   "metadata": {},
   "outputs": [],
   "source": [
    "# # window\n",
    "# data_p = pd.read_pickle('data_p/krx/prices.pkl')  #### 가격(종가) data\n",
    "# data_t = pd.read_pickle('data_p/krx/tickers.pkl') #### 기업 정보 data\n",
    "# data_v = pd.read_pickle('data_p/krx/volumes.pkl') #### 거래량 data\n",
    "# data_i = pd.read_pickle('data_p/krx/indicators.pkl') #### 지표 data\n",
    "# data_f = pd.read_pickle('data_p/krx/fss.pkl')  #### 재무제표 data"
   ]
  },
  {
   "cell_type": "code",
   "execution_count": 5,
   "id": "indoor-netscape",
   "metadata": {},
   "outputs": [
    {
     "name": "stdout",
     "output_type": "stream",
     "text": [
      "/Users/qook/R\n"
     ]
    }
   ],
   "source": [
    "%cd /Users/qook/R"
   ]
  },
  {
   "cell_type": "code",
   "execution_count": 6,
   "id": "advanced-controversy",
   "metadata": {},
   "outputs": [],
   "source": [
    "# mac\n",
    "data_s = pd.read_csv('data/KOR_sector.csv') #### sector 정보 data"
   ]
  },
  {
   "cell_type": "code",
   "execution_count": 7,
   "id": "resident-figure",
   "metadata": {},
   "outputs": [
    {
     "name": "stdout",
     "output_type": "stream",
     "text": [
      "/Users/qook/Coding/Finance_ML\n"
     ]
    }
   ],
   "source": [
    "%cd /Users/qook/Coding/finance_ml"
   ]
  },
  {
   "cell_type": "code",
   "execution_count": null,
   "id": "banner-customer",
   "metadata": {},
   "outputs": [],
   "source": []
  }
 ],
 "metadata": {
  "kernelspec": {
   "display_name": "Python 3",
   "language": "python",
   "name": "python3"
  },
  "language_info": {
   "codemirror_mode": {
    "name": "ipython",
    "version": 3
   },
   "file_extension": ".py",
   "mimetype": "text/x-python",
   "name": "python",
   "nbconvert_exporter": "python",
   "pygments_lexer": "ipython3",
   "version": "3.6.8"
  }
 },
 "nbformat": 4,
 "nbformat_minor": 5
}
