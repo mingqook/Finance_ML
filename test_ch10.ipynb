{
 "cells": [
  {
   "cell_type": "code",
   "execution_count": 1,
   "id": "raised-shelter",
   "metadata": {},
   "outputs": [
    {
     "name": "stdout",
     "output_type": "stream",
     "text": [
      "C:\\Users\\minguk\\Desktop\\coding\\Finance_ML\n"
     ]
    }
   ],
   "source": [
    "!cd"
   ]
  },
  {
   "cell_type": "code",
   "execution_count": 1,
   "id": "greek-institution",
   "metadata": {
    "collapsed": true,
    "jupyter": {
     "outputs_hidden": true
    }
   },
   "outputs": [
    {
     "name": "stdout",
     "output_type": "stream",
     "text": [
      "/Users/qook/Coding/FinML\n"
     ]
    }
   ],
   "source": [
    "# %cd /Users/qook/Coding/FinML"
   ]
  },
  {
   "cell_type": "code",
   "execution_count": 2,
   "id": "novel-comparison",
   "metadata": {
    "collapsed": true,
    "jupyter": {
     "outputs_hidden": true
    },
    "tags": []
   },
   "outputs": [],
   "source": [
    "# Import basic packages\n",
    "# import os\n",
    "# from datetime import datetime\n",
    "# # Import a module for data retrieval\n",
    "# from finml.data_reader import GetInitData\n"
   ]
  },
  {
   "cell_type": "code",
   "execution_count": 94,
   "id": "advanced-louis",
   "metadata": {
    "collapsed": true,
    "jupyter": {
     "outputs_hidden": true
    },
    "tags": []
   },
   "outputs": [
    {
     "name": "stdout",
     "output_type": "stream",
     "text": [
      "/Users/qook/Coding/Finance_ML\n"
     ]
    }
   ],
   "source": [
    "# %cd /Users/qook/Coding/Finance_ML"
   ]
  },
  {
   "cell_type": "code",
   "execution_count": 4,
   "id": "important-ultimate",
   "metadata": {
    "collapsed": true,
    "jupyter": {
     "outputs_hidden": true
    },
    "tags": []
   },
   "outputs": [
    {
     "name": "stdout",
     "output_type": "stream",
     "text": [
      "Get ticker symbol from [krx] ... "
     ]
    },
    {
     "name": "stderr",
     "output_type": "stream",
     "text": [
      "  0%|          | 0/2430 [00:00<?, ?it/s]"
     ]
    },
    {
     "name": "stdout",
     "output_type": "stream",
     "text": [
      "Complete!\n",
      "Get prices/volumes from [naver] ..."
     ]
    },
    {
     "name": "stderr",
     "output_type": "stream",
     "text": [
      "100%|██████████| 2430/2430 [30:16<00:00,  1.34it/s]\n",
      "  0%|          | 0/2427 [00:00<?, ?it/s]"
     ]
    },
    {
     "name": "stdout",
     "output_type": "stream",
     "text": [
      "Complete!\n",
      "Get financial statements from [fnguide] ..."
     ]
    },
    {
     "name": "stderr",
     "output_type": "stream",
     "text": [
      "  3%|▎         | 70/2427 [01:18<43:05,  1.10s/it]  "
     ]
    },
    {
     "name": "stdout",
     "output_type": "stream",
     "text": [
      "No indicator calculated with ticker: 168490\n"
     ]
    },
    {
     "name": "stderr",
     "output_type": "stream",
     "text": [
      " 26%|██▌       | 628/2427 [10:58<20:43,  1.45it/s]  "
     ]
    },
    {
     "name": "stdout",
     "output_type": "stream",
     "text": [
      "No indicator calculated with ticker: 088980\n"
     ]
    },
    {
     "name": "stderr",
     "output_type": "stream",
     "text": [
      " 26%|██▌       | 635/2427 [11:03<21:04,  1.42it/s]"
     ]
    },
    {
     "name": "stdout",
     "output_type": "stream",
     "text": [
      "No indicator calculated with ticker: 096300\n"
     ]
    },
    {
     "name": "stderr",
     "output_type": "stream",
     "text": [
      " 39%|███▊      | 935/2427 [15:24<12:56,  1.92it/s]"
     ]
    },
    {
     "name": "stdout",
     "output_type": "stream",
     "text": [
      "No indicator calculated with ticker: 094800\n"
     ]
    },
    {
     "name": "stderr",
     "output_type": "stream",
     "text": [
      " 65%|██████▍   | 1574/2427 [23:57<10:14,  1.39it/s]  "
     ]
    },
    {
     "name": "stdout",
     "output_type": "stream",
     "text": [
      "No indicator calculated with ticker: 152550\n"
     ]
    },
    {
     "name": "stderr",
     "output_type": "stream",
     "text": [
      "100%|██████████| 2427/2427 [35:42<00:00,  1.13it/s]\n",
      "  0%|          | 0/2427 [00:00<?, ?it/s]"
     ]
    },
    {
     "name": "stdout",
     "output_type": "stream",
     "text": [
      "Complete!\n",
      "Cleansing financial statements ..."
     ]
    },
    {
     "name": "stderr",
     "output_type": "stream",
     "text": [
      "  2%|▏         | 46/2427 [00:12<10:31,  3.77it/s]"
     ]
    },
    {
     "name": "stdout",
     "output_type": "stream",
     "text": [
      "Financial statement is not complete: 293940\n"
     ]
    },
    {
     "name": "stderr",
     "output_type": "stream",
     "text": [
      "  3%|▎         | 69/2427 [00:18<10:40,  3.68it/s]"
     ]
    },
    {
     "name": "stdout",
     "output_type": "stream",
     "text": [
      "Not exists: 168490\n"
     ]
    },
    {
     "name": "stderr",
     "output_type": "stream",
     "text": [
      "  4%|▎         | 90/2427 [00:23<10:16,  3.79it/s]"
     ]
    },
    {
     "name": "stdout",
     "output_type": "stream",
     "text": [
      "Financial statement is not complete: 337450\n"
     ]
    },
    {
     "name": "stderr",
     "output_type": "stream",
     "text": [
      "  5%|▍         | 121/2427 [00:32<10:18,  3.73it/s]"
     ]
    },
    {
     "name": "stdout",
     "output_type": "stream",
     "text": [
      "Financial statement is not complete: 021880\n"
     ]
    },
    {
     "name": "stderr",
     "output_type": "stream",
     "text": [
      "  6%|▋         | 155/2427 [00:41<10:03,  3.76it/s]"
     ]
    },
    {
     "name": "stdout",
     "output_type": "stream",
     "text": [
      "Financial statement is not complete: 900120\n"
     ]
    },
    {
     "name": "stderr",
     "output_type": "stream",
     "text": [
      " 10%|█         | 248/2427 [01:06<09:45,  3.72it/s]"
     ]
    },
    {
     "name": "stdout",
     "output_type": "stream",
     "text": [
      "Financial statement is not complete: 024850\n"
     ]
    },
    {
     "name": "stderr",
     "output_type": "stream",
     "text": [
      " 12%|█▏        | 300/2427 [01:20<09:26,  3.75it/s]"
     ]
    },
    {
     "name": "stdout",
     "output_type": "stream",
     "text": [
      "Financial statement is not complete: 018500\n"
     ]
    },
    {
     "name": "stderr",
     "output_type": "stream",
     "text": [
      " 20%|██        | 494/2427 [02:13<08:51,  3.64it/s]"
     ]
    },
    {
     "name": "stdout",
     "output_type": "stream",
     "text": [
      "Financial statement is not complete: 099750\n"
     ]
    },
    {
     "name": "stderr",
     "output_type": "stream",
     "text": [
      " 22%|██▏       | 546/2427 [02:27<08:33,  3.67it/s]"
     ]
    },
    {
     "name": "stdout",
     "output_type": "stream",
     "text": [
      "Financial statement is not complete: 093380\n"
     ]
    },
    {
     "name": "stderr",
     "output_type": "stream",
     "text": [
      " 24%|██▍       | 582/2427 [02:37<08:20,  3.69it/s]"
     ]
    },
    {
     "name": "stdout",
     "output_type": "stream",
     "text": [
      "Financial statement is not complete: 222160\n"
     ]
    },
    {
     "name": "stderr",
     "output_type": "stream",
     "text": [
      " 26%|██▌       | 627/2427 [02:49<08:12,  3.65it/s]"
     ]
    },
    {
     "name": "stdout",
     "output_type": "stream",
     "text": [
      "Not exists: 088980\n"
     ]
    },
    {
     "name": "stderr",
     "output_type": "stream",
     "text": [
      " 26%|██▌       | 634/2427 [02:51<07:49,  3.82it/s]"
     ]
    },
    {
     "name": "stdout",
     "output_type": "stream",
     "text": [
      "Not exists: 096300\n"
     ]
    },
    {
     "name": "stderr",
     "output_type": "stream",
     "text": [
      " 29%|██▉       | 705/2427 [03:10<07:56,  3.61it/s]"
     ]
    },
    {
     "name": "stdout",
     "output_type": "stream",
     "text": [
      "Financial statement is not complete: 950170\n"
     ]
    },
    {
     "name": "stderr",
     "output_type": "stream",
     "text": [
      " 29%|██▉       | 712/2427 [03:12<07:52,  3.63it/s]"
     ]
    },
    {
     "name": "stdout",
     "output_type": "stream",
     "text": [
      "Financial statement is not complete: 950110\n"
     ]
    },
    {
     "name": "stderr",
     "output_type": "stream",
     "text": [
      " 31%|███       | 749/2427 [03:22<07:40,  3.64it/s]"
     ]
    },
    {
     "name": "stdout",
     "output_type": "stream",
     "text": [
      "Financial statement is not complete: 054180\n"
     ]
    },
    {
     "name": "stderr",
     "output_type": "stream",
     "text": [
      " 32%|███▏      | 773/2427 [03:29<07:34,  3.64it/s]"
     ]
    },
    {
     "name": "stdout",
     "output_type": "stream",
     "text": [
      "Financial statement is not complete: 131100\n"
     ]
    },
    {
     "name": "stderr",
     "output_type": "stream",
     "text": [
      " 35%|███▌      | 856/2427 [03:52<07:19,  3.58it/s]"
     ]
    },
    {
     "name": "stdout",
     "output_type": "stream",
     "text": [
      "Financial statement is not complete: 190650\n"
     ]
    },
    {
     "name": "stderr",
     "output_type": "stream",
     "text": [
      " 37%|███▋      | 900/2427 [04:05<07:13,  3.52it/s]"
     ]
    },
    {
     "name": "stdout",
     "output_type": "stream",
     "text": [
      "Financial statement is not complete: 365550\n"
     ]
    },
    {
     "name": "stderr",
     "output_type": "stream",
     "text": [
      " 38%|███▊      | 921/2427 [04:11<07:01,  3.57it/s]"
     ]
    },
    {
     "name": "stdout",
     "output_type": "stream",
     "text": [
      "Financial statement is not complete: 092440\n"
     ]
    },
    {
     "name": "stderr",
     "output_type": "stream",
     "text": [
      " 38%|███▊      | 924/2427 [04:12<07:01,  3.57it/s]"
     ]
    },
    {
     "name": "stdout",
     "output_type": "stream",
     "text": [
      "Financial statement is not complete: 008110\n"
     ]
    },
    {
     "name": "stderr",
     "output_type": "stream",
     "text": [
      " 38%|███▊      | 934/2427 [04:15<07:04,  3.52it/s]"
     ]
    },
    {
     "name": "stdout",
     "output_type": "stream",
     "text": [
      "Not exists: 094800\n"
     ]
    },
    {
     "name": "stderr",
     "output_type": "stream",
     "text": [
      " 39%|███▉      | 956/2427 [04:21<06:58,  3.51it/s]"
     ]
    },
    {
     "name": "stdout",
     "output_type": "stream",
     "text": [
      "Financial statement is not complete: 021820\n"
     ]
    },
    {
     "name": "stderr",
     "output_type": "stream",
     "text": [
      " 40%|███▉      | 961/2427 [04:22<06:55,  3.53it/s]"
     ]
    },
    {
     "name": "stdout",
     "output_type": "stream",
     "text": [
      "Financial statement is not complete: 005390\n"
     ]
    },
    {
     "name": "stderr",
     "output_type": "stream",
     "text": [
      " 42%|████▏     | 1014/2427 [04:37<06:43,  3.50it/s]"
     ]
    },
    {
     "name": "stdout",
     "output_type": "stream",
     "text": [
      "Financial statement is not complete: 950180\n"
     ]
    },
    {
     "name": "stderr",
     "output_type": "stream",
     "text": [
      " 44%|████▍     | 1076/2427 [04:54<06:17,  3.58it/s]"
     ]
    },
    {
     "name": "stdout",
     "output_type": "stream",
     "text": [
      "Financial statement is not complete: 154030\n"
     ]
    },
    {
     "name": "stderr",
     "output_type": "stream",
     "text": [
      " 45%|████▌     | 1104/2427 [05:02<06:06,  3.61it/s]"
     ]
    },
    {
     "name": "stdout",
     "output_type": "stream",
     "text": [
      "Financial statement is not complete: 169330\n"
     ]
    },
    {
     "name": "stderr",
     "output_type": "stream",
     "text": [
      " 46%|████▋     | 1128/2427 [05:09<06:05,  3.55it/s]"
     ]
    },
    {
     "name": "stdout",
     "output_type": "stream",
     "text": [
      "Financial statement is not complete: 017250\n"
     ]
    },
    {
     "name": "stderr",
     "output_type": "stream",
     "text": [
      " 48%|████▊     | 1177/2427 [05:23<05:57,  3.50it/s]"
     ]
    },
    {
     "name": "stdout",
     "output_type": "stream",
     "text": [
      "Financial statement is not complete: 097870\n"
     ]
    },
    {
     "name": "stderr",
     "output_type": "stream",
     "text": [
      " 49%|████▉     | 1191/2427 [05:27<05:50,  3.52it/s]"
     ]
    },
    {
     "name": "stdout",
     "output_type": "stream",
     "text": [
      "Financial statement is not complete: 084440\n"
     ]
    },
    {
     "name": "stderr",
     "output_type": "stream",
     "text": [
      " 50%|████▉     | 1206/2427 [05:31<05:43,  3.56it/s]"
     ]
    },
    {
     "name": "stdout",
     "output_type": "stream",
     "text": [
      "Financial statement is not complete: 338100\n"
     ]
    },
    {
     "name": "stderr",
     "output_type": "stream",
     "text": [
      " 50%|█████     | 1223/2427 [05:36<05:41,  3.53it/s]"
     ]
    },
    {
     "name": "stdout",
     "output_type": "stream",
     "text": [
      "Financial statement is not complete: 001080\n"
     ]
    },
    {
     "name": "stderr",
     "output_type": "stream",
     "text": [
      " 52%|█████▏    | 1250/2427 [05:44<05:32,  3.54it/s]"
     ]
    },
    {
     "name": "stdout",
     "output_type": "stream",
     "text": [
      "Financial statement is not complete: 001720\n"
     ]
    },
    {
     "name": "stderr",
     "output_type": "stream",
     "text": [
      " 53%|█████▎    | 1294/2427 [05:56<05:22,  3.51it/s]"
     ]
    },
    {
     "name": "stdout",
     "output_type": "stream",
     "text": [
      "Financial statement is not complete: 093240\n"
     ]
    },
    {
     "name": "stderr",
     "output_type": "stream",
     "text": [
      " 54%|█████▍    | 1312/2427 [06:01<05:17,  3.52it/s]"
     ]
    },
    {
     "name": "stdout",
     "output_type": "stream",
     "text": [
      "Financial statement is not complete: 289080\n"
     ]
    },
    {
     "name": "stderr",
     "output_type": "stream",
     "text": [
      " 56%|█████▌    | 1352/2427 [06:12<05:06,  3.51it/s]"
     ]
    },
    {
     "name": "stdout",
     "output_type": "stream",
     "text": [
      "Financial statement is not complete: 033200\n"
     ]
    },
    {
     "name": "stderr",
     "output_type": "stream",
     "text": [
      " 56%|█████▌    | 1360/2427 [06:15<05:00,  3.55it/s]"
     ]
    },
    {
     "name": "stdout",
     "output_type": "stream",
     "text": [
      "Financial statement is not complete: 082920\n"
     ]
    },
    {
     "name": "stderr",
     "output_type": "stream",
     "text": [
      " 59%|█████▉    | 1431/2427 [06:35<04:45,  3.49it/s]"
     ]
    },
    {
     "name": "stdout",
     "output_type": "stream",
     "text": [
      "Financial statement is not complete: 160600\n"
     ]
    },
    {
     "name": "stderr",
     "output_type": "stream",
     "text": [
      " 60%|██████    | 1464/2427 [06:45<04:36,  3.48it/s]"
     ]
    },
    {
     "name": "stdout",
     "output_type": "stream",
     "text": [
      "Financial statement is not complete: 263750\n"
     ]
    },
    {
     "name": "stderr",
     "output_type": "stream",
     "text": [
      " 63%|██████▎   | 1518/2427 [07:00<04:22,  3.46it/s]"
     ]
    },
    {
     "name": "stdout",
     "output_type": "stream",
     "text": [
      "Financial statement is not complete: 008870\n"
     ]
    },
    {
     "name": "stderr",
     "output_type": "stream",
     "text": [
      " 64%|██████▍   | 1549/2427 [07:09<04:14,  3.46it/s]"
     ]
    },
    {
     "name": "stdout",
     "output_type": "stream",
     "text": [
      "Financial statement is not complete: 088260\n"
     ]
    },
    {
     "name": "stderr",
     "output_type": "stream",
     "text": [
      " 64%|██████▍   | 1558/2427 [07:12<04:11,  3.46it/s]"
     ]
    },
    {
     "name": "stdout",
     "output_type": "stream",
     "text": [
      "Financial statement is not complete: 348950\n"
     ]
    },
    {
     "name": "stderr",
     "output_type": "stream",
     "text": [
      " 65%|██████▍   | 1573/2427 [07:16<04:08,  3.44it/s]"
     ]
    },
    {
     "name": "stdout",
     "output_type": "stream",
     "text": [
      "Not exists: 152550\n"
     ]
    },
    {
     "name": "stderr",
     "output_type": "stream",
     "text": [
      " 65%|██████▍   | 1575/2427 [07:16<03:11,  4.46it/s]"
     ]
    },
    {
     "name": "stdout",
     "output_type": "stream",
     "text": [
      "Financial statement is not complete: 000970\n"
     ]
    },
    {
     "name": "stderr",
     "output_type": "stream",
     "text": [
      " 66%|██████▌   | 1593/2427 [07:22<04:08,  3.36it/s]"
     ]
    },
    {
     "name": "stdout",
     "output_type": "stream",
     "text": [
      "Financial statement is not complete: 060310\n"
     ]
    },
    {
     "name": "stderr",
     "output_type": "stream",
     "text": [
      " 66%|██████▋   | 1610/2427 [07:27<04:04,  3.34it/s]"
     ]
    },
    {
     "name": "stdout",
     "output_type": "stream",
     "text": [
      "Financial statement is not complete: 020180\n"
     ]
    },
    {
     "name": "stderr",
     "output_type": "stream",
     "text": [
      " 67%|██████▋   | 1624/2427 [07:31<04:00,  3.35it/s]"
     ]
    },
    {
     "name": "stdout",
     "output_type": "stream",
     "text": [
      "Financial statement is not complete: 019570\n"
     ]
    },
    {
     "name": "stderr",
     "output_type": "stream",
     "text": [
      " 68%|██████▊   | 1643/2427 [07:36<03:55,  3.33it/s]"
     ]
    },
    {
     "name": "stdout",
     "output_type": "stream",
     "text": [
      "Financial statement is not complete: 042370\n"
     ]
    },
    {
     "name": "stderr",
     "output_type": "stream",
     "text": [
      " 70%|███████   | 1704/2427 [07:55<03:36,  3.34it/s]"
     ]
    },
    {
     "name": "stdout",
     "output_type": "stream",
     "text": [
      "Financial statement is not complete: 330350\n"
     ]
    },
    {
     "name": "stderr",
     "output_type": "stream",
     "text": [
      " 73%|███████▎  | 1768/2427 [08:14<03:18,  3.31it/s]"
     ]
    },
    {
     "name": "stdout",
     "output_type": "stream",
     "text": [
      "Financial statement is not complete: 185190\n"
     ]
    },
    {
     "name": "stderr",
     "output_type": "stream",
     "text": [
      " 75%|███████▍  | 1818/2427 [08:29<03:04,  3.31it/s]"
     ]
    },
    {
     "name": "stdout",
     "output_type": "stream",
     "text": [
      "Financial statement is not complete: 330590\n"
     ]
    },
    {
     "name": "stderr",
     "output_type": "stream",
     "text": [
      " 75%|███████▌  | 1822/2427 [08:30<03:01,  3.33it/s]"
     ]
    },
    {
     "name": "stdout",
     "output_type": "stream",
     "text": [
      "Financial statement is not complete: 003610\n"
     ]
    },
    {
     "name": "stderr",
     "output_type": "stream",
     "text": [
      " 76%|███████▌  | 1844/2427 [08:37<02:54,  3.34it/s]"
     ]
    },
    {
     "name": "stdout",
     "output_type": "stream",
     "text": [
      "Financial statement is not complete: 002630\n"
     ]
    },
    {
     "name": "stderr",
     "output_type": "stream",
     "text": [
      " 76%|███████▌  | 1850/2427 [08:39<02:54,  3.31it/s]"
     ]
    },
    {
     "name": "stdout",
     "output_type": "stream",
     "text": [
      "Financial statement is not complete: 334890\n"
     ]
    },
    {
     "name": "stderr",
     "output_type": "stream",
     "text": [
      " 77%|███████▋  | 1880/2427 [08:48<02:44,  3.32it/s]"
     ]
    },
    {
     "name": "stdout",
     "output_type": "stream",
     "text": [
      "Financial statement is not complete: 004310\n"
     ]
    },
    {
     "name": "stderr",
     "output_type": "stream",
     "text": [
      " 80%|███████▉  | 1939/2427 [09:06<02:28,  3.29it/s]"
     ]
    },
    {
     "name": "stdout",
     "output_type": "stream",
     "text": [
      "Financial statement is not complete: 018700\n"
     ]
    },
    {
     "name": "stderr",
     "output_type": "stream",
     "text": [
      " 84%|████████▍ | 2038/2427 [09:36<01:58,  3.28it/s]"
     ]
    },
    {
     "name": "stdout",
     "output_type": "stream",
     "text": [
      "Financial statement is not complete: 225430\n"
     ]
    },
    {
     "name": "stderr",
     "output_type": "stream",
     "text": [
      " 85%|████████▌ | 2065/2427 [09:45<01:45,  3.44it/s]"
     ]
    },
    {
     "name": "stdout",
     "output_type": "stream",
     "text": [
      "Financial statement is not complete: 042520\n"
     ]
    },
    {
     "name": "stderr",
     "output_type": "stream",
     "text": [
      " 85%|████████▌ | 2072/2427 [09:47<01:43,  3.43it/s]"
     ]
    },
    {
     "name": "stdout",
     "output_type": "stream",
     "text": [
      "Financial statement is not complete: 178600\n"
     ]
    },
    {
     "name": "stderr",
     "output_type": "stream",
     "text": [
      " 89%|████████▉ | 2158/2427 [10:12<01:18,  3.42it/s]"
     ]
    },
    {
     "name": "stdout",
     "output_type": "stream",
     "text": [
      "Financial statement is not complete: 350520\n"
     ]
    },
    {
     "name": "stderr",
     "output_type": "stream",
     "text": [
      " 89%|████████▉ | 2169/2427 [10:15<01:17,  3.34it/s]"
     ]
    },
    {
     "name": "stdout",
     "output_type": "stream",
     "text": [
      "Financial statement is not complete: 033250\n"
     ]
    },
    {
     "name": "stderr",
     "output_type": "stream",
     "text": [
      " 90%|█████████ | 2195/2427 [10:24<01:09,  3.35it/s]"
     ]
    },
    {
     "name": "stdout",
     "output_type": "stream",
     "text": [
      "Financial statement is not complete: 900290\n"
     ]
    },
    {
     "name": "stderr",
     "output_type": "stream",
     "text": [
      " 93%|█████████▎| 2261/2427 [10:43<00:48,  3.39it/s]"
     ]
    },
    {
     "name": "stdout",
     "output_type": "stream",
     "text": [
      "Financial statement is not complete: 054220\n"
     ]
    },
    {
     "name": "stderr",
     "output_type": "stream",
     "text": [
      " 94%|█████████▍| 2278/2427 [10:48<00:44,  3.38it/s]"
     ]
    },
    {
     "name": "stdout",
     "output_type": "stream",
     "text": [
      "Financial statement is not complete: 039670\n"
     ]
    },
    {
     "name": "stderr",
     "output_type": "stream",
     "text": [
      " 94%|█████████▍| 2289/2427 [10:52<00:40,  3.38it/s]"
     ]
    },
    {
     "name": "stdout",
     "output_type": "stream",
     "text": [
      "Financial statement is not complete: 050860\n"
     ]
    },
    {
     "name": "stderr",
     "output_type": "stream",
     "text": [
      " 95%|█████████▍| 2296/2427 [10:54<00:38,  3.38it/s]"
     ]
    },
    {
     "name": "stdout",
     "output_type": "stream",
     "text": [
      "Financial statement is not complete: 030960\n"
     ]
    },
    {
     "name": "stderr",
     "output_type": "stream",
     "text": [
      " 95%|█████████▌| 2314/2427 [10:59<00:33,  3.39it/s]"
     ]
    },
    {
     "name": "stdout",
     "output_type": "stream",
     "text": [
      "Financial statement is not complete: 227950\n"
     ]
    },
    {
     "name": "stderr",
     "output_type": "stream",
     "text": [
      " 97%|█████████▋| 2344/2427 [11:08<00:24,  3.39it/s]"
     ]
    },
    {
     "name": "stdout",
     "output_type": "stream",
     "text": [
      "Financial statement is not complete: 067010\n"
     ]
    },
    {
     "name": "stderr",
     "output_type": "stream",
     "text": [
      " 98%|█████████▊| 2389/2427 [11:21<00:11,  3.36it/s]"
     ]
    },
    {
     "name": "stdout",
     "output_type": "stream",
     "text": [
      "Financial statement is not complete: 189690\n"
     ]
    },
    {
     "name": "stderr",
     "output_type": "stream",
     "text": [
      "100%|██████████| 2427/2427 [11:33<00:00,  3.50it/s]\n",
      "  0%|          | 0/2427 [00:00<?, ?it/s]"
     ]
    },
    {
     "name": "stdout",
     "output_type": "stream",
     "text": [
      "Complete!\n",
      "Calculate investment indicators ...\n"
     ]
    },
    {
     "name": "stderr",
     "output_type": "stream",
     "text": [
      "  3%|▎         | 69/2427 [00:19<10:22,  3.79it/s]"
     ]
    },
    {
     "name": "stdout",
     "output_type": "stream",
     "text": [
      "Error in ticker: 168490\n"
     ]
    },
    {
     "name": "stderr",
     "output_type": "stream",
     "text": [
      " 26%|██▌       | 627/2427 [03:05<10:25,  2.88it/s]"
     ]
    },
    {
     "name": "stdout",
     "output_type": "stream",
     "text": [
      "Error in ticker: 088980\n"
     ]
    },
    {
     "name": "stderr",
     "output_type": "stream",
     "text": [
      " 26%|██▌       | 634/2427 [03:07<09:28,  3.16it/s]"
     ]
    },
    {
     "name": "stdout",
     "output_type": "stream",
     "text": [
      "Error in ticker: 096300\n"
     ]
    },
    {
     "name": "stderr",
     "output_type": "stream",
     "text": [
      " 38%|███▊      | 934/2427 [04:36<06:59,  3.56it/s]"
     ]
    },
    {
     "name": "stdout",
     "output_type": "stream",
     "text": [
      "Error in ticker: 094800\n"
     ]
    },
    {
     "name": "stderr",
     "output_type": "stream",
     "text": [
      " 65%|██████▍   | 1573/2427 [10:46<04:38,  3.06it/s]   "
     ]
    },
    {
     "name": "stdout",
     "output_type": "stream",
     "text": [
      "Error in ticker: 152550\n"
     ]
    },
    {
     "name": "stderr",
     "output_type": "stream",
     "text": [
      "100%|██████████| 2427/2427 [14:49<00:00,  2.73it/s]"
     ]
    },
    {
     "name": "stdout",
     "output_type": "stream",
     "text": [
      "Complete!\n"
     ]
    },
    {
     "name": "stderr",
     "output_type": "stream",
     "text": [
      "\n"
     ]
    }
   ],
   "source": [
    "# kor_market = GetInitData(source='krx', data_path = 'data')\n",
    "# kor_market.get_tickers() # Get a list of stock tickers\n",
    "# kor_market.get_prices_and_volumes(start=datetime(2010,1,1), # Get price information (for all stocks)\n",
    "#                       end=datetime.now()) \n",
    "# kor_market.get_fs() # Get financial statements (for all stocks)\n",
    "# kor_market.fs_cleansing(standard='005930') # Filter elements of financial statements with the given standard\n",
    "# kor_market.calculate_indicators() # Calculate investment indicators"
   ]
  },
  {
   "cell_type": "code",
   "execution_count": null,
   "id": "instant-minimum",
   "metadata": {
    "collapsed": true,
    "jupyter": {
     "outputs_hidden": true
    }
   },
   "outputs": [],
   "source": [
    "# import pickle\n",
    "# with open('data/krx/prices.pkl', 'rb') as f:\n",
    "#     data = pickle.load(f)"
   ]
  },
  {
   "cell_type": "code",
   "execution_count": null,
   "id": "norman-first",
   "metadata": {
    "collapsed": true,
    "jupyter": {
     "outputs_hidden": true
    }
   },
   "outputs": [],
   "source": [
    "# data.dropna(axis=1)"
   ]
  },
  {
   "cell_type": "code",
   "execution_count": null,
   "id": "sporting-stewart",
   "metadata": {
    "collapsed": true,
    "jupyter": {
     "outputs_hidden": true
    }
   },
   "outputs": [],
   "source": [
    "# !pip install seaborn"
   ]
  },
  {
   "cell_type": "code",
   "execution_count": 2,
   "id": "packed-restaurant",
   "metadata": {
    "tags": []
   },
   "outputs": [],
   "source": [
    "import pandas as pd\n",
    "import numpy as np\n",
    "import matplotlib.pyplot as plt\n",
    "import seaborn as sns"
   ]
  },
  {
   "cell_type": "code",
   "execution_count": 2,
   "id": "thick-palmer",
   "metadata": {
    "collapsed": true,
    "jupyter": {
     "outputs_hidden": true
    },
    "tags": []
   },
   "outputs": [],
   "source": [
    "# mac\n",
    "# data_p = pd.read_pickle('data/krx/prices.pkl')  #### 가격(종가) data\n",
    "# data_t = pd.read_pickle('data/krx/tickers.pkl') #### 기업 정보 data\n",
    "# data_v = pd.read_pickle('data/krx/volumes.pkl') #### 거래량 data\n",
    "# data_i = pd.read_pickle('data/krx/indicators.pkl') #### 지표 data\n",
    "# data_f = pd.read_pickle('data/krx/fss.pkl')  #### 재무제표 data"
   ]
  },
  {
   "cell_type": "code",
   "execution_count": 3,
   "id": "economic-swiss",
   "metadata": {
    "tags": []
   },
   "outputs": [],
   "source": [
    "# window\n",
    "data_p = pd.read_pickle('data_p/krx/prices.pkl')  #### 가격(종가) data\n",
    "data_t = pd.read_pickle('data_p/krx/tickers.pkl') #### 기업 정보 data\n",
    "data_v = pd.read_pickle('data_p/krx/volumes.pkl') #### 거래량 data\n",
    "data_i = pd.read_pickle('data_p/krx/indicators.pkl') #### 지표 data\n",
    "data_f = pd.read_pickle('data_p/krx/fss.pkl')  #### 재무제표 data"
   ]
  },
  {
   "cell_type": "code",
   "execution_count": 4,
   "id": "neither-friendship",
   "metadata": {
    "tags": []
   },
   "outputs": [
    {
     "data": {
      "text/plain": [
       "Index(['001250', '001390', '011070', '066570', '010060', '100840', '064960',\n",
       "       '096770', '011810', '024070',\n",
       "       ...\n",
       "       '039740', '052600', '092460', '045100', '066110', '008800', '060560',\n",
       "       'KOSPI', 'KPI200', 'KOSDAQ'],\n",
       "      dtype='object', length=1367)"
      ]
     },
     "execution_count": 4,
     "metadata": {},
     "output_type": "execute_result"
    }
   ],
   "source": [
    "data_p = data_p.dropna(axis = 1) #### na 제거\n",
    "# data_p.head()\n",
    "# data_p.columns"
   ]
  },
  {
   "cell_type": "code",
   "execution_count": 5,
   "id": "western-citation",
   "metadata": {
    "tags": []
   },
   "outputs": [
    {
     "name": "stdout",
     "output_type": "stream",
     "text": [
      "         회사명    종목코드\n",
      "0        DSR  155660\n",
      "1      GS글로벌  001250\n",
      "2  HDC현대산업개발  294870\n",
      "3      KG케미칼  001390\n",
      "4      LG이노텍  011070            회사명    종목코드\n",
      "2422        코셋  189350\n",
      "2423        툴젠  199800\n",
      "2424  플럼라인생명과학  222670\n",
      "2425  한국미라클피플사  331660\n",
      "2426       휴벡셀  212310\n"
     ]
    }
   ],
   "source": [
    "#### 회사명 & 종목코드 추출\n",
    "tn = data_t.iloc[:,0:2]\n",
    "print(tn.head(),tn.tail())"
   ]
  },
  {
   "cell_type": "code",
   "execution_count": 6,
   "id": "allied-factory",
   "metadata": {
    "tags": []
   },
   "outputs": [
    {
     "data": {
      "text/html": [
       "<div>\n",
       "<style scoped>\n",
       "    .dataframe tbody tr th:only-of-type {\n",
       "        vertical-align: middle;\n",
       "    }\n",
       "\n",
       "    .dataframe tbody tr th {\n",
       "        vertical-align: top;\n",
       "    }\n",
       "\n",
       "    .dataframe thead th {\n",
       "        text-align: right;\n",
       "    }\n",
       "</style>\n",
       "<table border=\"1\" class=\"dataframe\">\n",
       "  <thead>\n",
       "    <tr style=\"text-align: right;\">\n",
       "      <th></th>\n",
       "      <th>종목코드</th>\n",
       "    </tr>\n",
       "  </thead>\n",
       "  <tbody>\n",
       "    <tr>\n",
       "      <th>0</th>\n",
       "      <td>001250</td>\n",
       "    </tr>\n",
       "    <tr>\n",
       "      <th>1</th>\n",
       "      <td>001390</td>\n",
       "    </tr>\n",
       "    <tr>\n",
       "      <th>2</th>\n",
       "      <td>011070</td>\n",
       "    </tr>\n",
       "    <tr>\n",
       "      <th>3</th>\n",
       "      <td>066570</td>\n",
       "    </tr>\n",
       "    <tr>\n",
       "      <th>4</th>\n",
       "      <td>010060</td>\n",
       "    </tr>\n",
       "    <tr>\n",
       "      <th>...</th>\n",
       "      <td>...</td>\n",
       "    </tr>\n",
       "    <tr>\n",
       "      <th>1362</th>\n",
       "      <td>008800</td>\n",
       "    </tr>\n",
       "    <tr>\n",
       "      <th>1363</th>\n",
       "      <td>060560</td>\n",
       "    </tr>\n",
       "    <tr>\n",
       "      <th>1364</th>\n",
       "      <td>KOSPI</td>\n",
       "    </tr>\n",
       "    <tr>\n",
       "      <th>1365</th>\n",
       "      <td>KPI200</td>\n",
       "    </tr>\n",
       "    <tr>\n",
       "      <th>1366</th>\n",
       "      <td>KOSDAQ</td>\n",
       "    </tr>\n",
       "  </tbody>\n",
       "</table>\n",
       "<p>1367 rows × 1 columns</p>\n",
       "</div>"
      ],
      "text/plain": [
       "        종목코드\n",
       "0     001250\n",
       "1     001390\n",
       "2     011070\n",
       "3     066570\n",
       "4     010060\n",
       "...      ...\n",
       "1362  008800\n",
       "1363  060560\n",
       "1364   KOSPI\n",
       "1365  KPI200\n",
       "1366  KOSDAQ\n",
       "\n",
       "[1367 rows x 1 columns]"
      ]
     },
     "execution_count": 6,
     "metadata": {},
     "output_type": "execute_result"
    }
   ],
   "source": [
    "pn = pd.DataFrame({\"종목코드\" :list(data_p.columns)})\n",
    "# pn"
   ]
  },
  {
   "cell_type": "code",
   "execution_count": 7,
   "id": "hollywood-berry",
   "metadata": {
    "tags": []
   },
   "outputs": [
    {
     "data": {
      "text/html": [
       "<div>\n",
       "<style scoped>\n",
       "    .dataframe tbody tr th:only-of-type {\n",
       "        vertical-align: middle;\n",
       "    }\n",
       "\n",
       "    .dataframe tbody tr th {\n",
       "        vertical-align: top;\n",
       "    }\n",
       "\n",
       "    .dataframe thead th {\n",
       "        text-align: right;\n",
       "    }\n",
       "</style>\n",
       "<table border=\"1\" class=\"dataframe\">\n",
       "  <thead>\n",
       "    <tr style=\"text-align: right;\">\n",
       "      <th></th>\n",
       "      <th>회사명</th>\n",
       "      <th>종목코드</th>\n",
       "    </tr>\n",
       "  </thead>\n",
       "  <tbody>\n",
       "    <tr>\n",
       "      <th>0</th>\n",
       "      <td>GS글로벌</td>\n",
       "      <td>001250</td>\n",
       "    </tr>\n",
       "    <tr>\n",
       "      <th>1</th>\n",
       "      <td>KG케미칼</td>\n",
       "      <td>001390</td>\n",
       "    </tr>\n",
       "    <tr>\n",
       "      <th>2</th>\n",
       "      <td>LG이노텍</td>\n",
       "      <td>011070</td>\n",
       "    </tr>\n",
       "    <tr>\n",
       "      <th>3</th>\n",
       "      <td>LG전자</td>\n",
       "      <td>066570</td>\n",
       "    </tr>\n",
       "    <tr>\n",
       "      <th>4</th>\n",
       "      <td>OCI</td>\n",
       "      <td>010060</td>\n",
       "    </tr>\n",
       "  </tbody>\n",
       "</table>\n",
       "</div>"
      ],
      "text/plain": [
       "     회사명    종목코드\n",
       "0  GS글로벌  001250\n",
       "1  KG케미칼  001390\n",
       "2  LG이노텍  011070\n",
       "3   LG전자  066570\n",
       "4    OCI  010060"
      ]
     },
     "execution_count": 7,
     "metadata": {},
     "output_type": "execute_result"
    }
   ],
   "source": [
    "#### data_p의 col 순서에 맞는 종목코드와 해당하는 종목명 매칭\n",
    "pn = pd.DataFrame({\"종목코드\" :list(data_p.columns)})\n",
    "pc_n = tn.merge(pn)\n",
    "# pc_n_1 = pn.merge(tn)\n",
    "# pc_n.head()"
   ]
  },
  {
   "cell_type": "code",
   "execution_count": 8,
   "id": "spoken-holiday",
   "metadata": {
    "tags": []
   },
   "outputs": [
    {
     "data": {
      "text/plain": [
       "['행남사', '홈센타홀딩스', 'KOSPI', 'KPI200', 'KOSDAQ']"
      ]
     },
     "execution_count": 8,
     "metadata": {},
     "output_type": "execute_result"
    }
   ],
   "source": [
    "#### 원래 가장 끝에 있던 3개는 종목명에 없어서 따로 추가\n",
    "lp = list(pc_n['회사명'])\n",
    "lp.append('KOSPI')\n",
    "lp.append('KPI200')\n",
    "lp.append('KOSDAQ')\n",
    "lp[-5:]"
   ]
  },
  {
   "cell_type": "code",
   "execution_count": 9,
   "id": "separate-zimbabwe",
   "metadata": {
    "tags": []
   },
   "outputs": [
    {
     "data": {
      "text/html": [
       "<div>\n",
       "<style scoped>\n",
       "    .dataframe tbody tr th:only-of-type {\n",
       "        vertical-align: middle;\n",
       "    }\n",
       "\n",
       "    .dataframe tbody tr th {\n",
       "        vertical-align: top;\n",
       "    }\n",
       "\n",
       "    .dataframe thead th {\n",
       "        text-align: right;\n",
       "    }\n",
       "</style>\n",
       "<table border=\"1\" class=\"dataframe\">\n",
       "  <thead>\n",
       "    <tr style=\"text-align: right;\">\n",
       "      <th></th>\n",
       "      <th>GS글로벌</th>\n",
       "      <th>KG케미칼</th>\n",
       "      <th>LG이노텍</th>\n",
       "      <th>LG전자</th>\n",
       "      <th>OCI</th>\n",
       "      <th>S&amp;TC</th>\n",
       "      <th>S&amp;T모티브</th>\n",
       "      <th>SK이노베이션</th>\n",
       "      <th>STX</th>\n",
       "      <th>WISCOM</th>\n",
       "      <th>...</th>\n",
       "      <th>한국정보공학</th>\n",
       "      <th>한네트</th>\n",
       "      <th>한라IMS</th>\n",
       "      <th>한양이엔지</th>\n",
       "      <th>한프</th>\n",
       "      <th>행남사</th>\n",
       "      <th>홈센타홀딩스</th>\n",
       "      <th>KOSPI</th>\n",
       "      <th>KPI200</th>\n",
       "      <th>KOSDAQ</th>\n",
       "    </tr>\n",
       "    <tr>\n",
       "      <th>Date</th>\n",
       "      <th></th>\n",
       "      <th></th>\n",
       "      <th></th>\n",
       "      <th></th>\n",
       "      <th></th>\n",
       "      <th></th>\n",
       "      <th></th>\n",
       "      <th></th>\n",
       "      <th></th>\n",
       "      <th></th>\n",
       "      <th></th>\n",
       "      <th></th>\n",
       "      <th></th>\n",
       "      <th></th>\n",
       "      <th></th>\n",
       "      <th></th>\n",
       "      <th></th>\n",
       "      <th></th>\n",
       "      <th></th>\n",
       "      <th></th>\n",
       "      <th></th>\n",
       "    </tr>\n",
       "  </thead>\n",
       "  <tbody>\n",
       "    <tr>\n",
       "      <th>2010-01-04</th>\n",
       "      <td>12831.0</td>\n",
       "      <td>10450.0</td>\n",
       "      <td>96778.0</td>\n",
       "      <td>123136.0</td>\n",
       "      <td>215000.0</td>\n",
       "      <td>33118.0</td>\n",
       "      <td>29100.0</td>\n",
       "      <td>117000.0</td>\n",
       "      <td>1439553.0</td>\n",
       "      <td>3947.0</td>\n",
       "      <td>...</td>\n",
       "      <td>2435.0</td>\n",
       "      <td>2450.0</td>\n",
       "      <td>6570.0</td>\n",
       "      <td>7109.0</td>\n",
       "      <td>3564.0</td>\n",
       "      <td>3848.0</td>\n",
       "      <td>1949.0</td>\n",
       "      <td>1696.14</td>\n",
       "      <td>223.49</td>\n",
       "      <td>528.09</td>\n",
       "    </tr>\n",
       "    <tr>\n",
       "      <th>2010-01-05</th>\n",
       "      <td>12831.0</td>\n",
       "      <td>10550.0</td>\n",
       "      <td>106078.0</td>\n",
       "      <td>122648.0</td>\n",
       "      <td>213500.0</td>\n",
       "      <td>31320.0</td>\n",
       "      <td>29500.0</td>\n",
       "      <td>121500.0</td>\n",
       "      <td>1435191.0</td>\n",
       "      <td>3942.0</td>\n",
       "      <td>...</td>\n",
       "      <td>2545.0</td>\n",
       "      <td>2420.0</td>\n",
       "      <td>6670.0</td>\n",
       "      <td>7081.0</td>\n",
       "      <td>3564.0</td>\n",
       "      <td>3842.0</td>\n",
       "      <td>1884.0</td>\n",
       "      <td>1690.62</td>\n",
       "      <td>222.84</td>\n",
       "      <td>533.09</td>\n",
       "    </tr>\n",
       "    <tr>\n",
       "      <th>2010-01-06</th>\n",
       "      <td>13476.0</td>\n",
       "      <td>10500.0</td>\n",
       "      <td>107531.0</td>\n",
       "      <td>121670.0</td>\n",
       "      <td>216500.0</td>\n",
       "      <td>32124.0</td>\n",
       "      <td>29400.0</td>\n",
       "      <td>122000.0</td>\n",
       "      <td>1487538.0</td>\n",
       "      <td>3952.0</td>\n",
       "      <td>...</td>\n",
       "      <td>2520.0</td>\n",
       "      <td>2440.0</td>\n",
       "      <td>7300.0</td>\n",
       "      <td>7194.0</td>\n",
       "      <td>3564.0</td>\n",
       "      <td>3842.0</td>\n",
       "      <td>1887.0</td>\n",
       "      <td>1705.32</td>\n",
       "      <td>224.67</td>\n",
       "      <td>539.12</td>\n",
       "    </tr>\n",
       "    <tr>\n",
       "      <th>2010-01-07</th>\n",
       "      <td>13651.0</td>\n",
       "      <td>10750.0</td>\n",
       "      <td>101234.0</td>\n",
       "      <td>112386.0</td>\n",
       "      <td>218500.0</td>\n",
       "      <td>32076.0</td>\n",
       "      <td>28600.0</td>\n",
       "      <td>121500.0</td>\n",
       "      <td>1596595.0</td>\n",
       "      <td>3982.0</td>\n",
       "      <td>...</td>\n",
       "      <td>2510.0</td>\n",
       "      <td>2435.0</td>\n",
       "      <td>7700.0</td>\n",
       "      <td>7858.0</td>\n",
       "      <td>3503.0</td>\n",
       "      <td>3875.0</td>\n",
       "      <td>1855.0</td>\n",
       "      <td>1683.45</td>\n",
       "      <td>221.31</td>\n",
       "      <td>535.52</td>\n",
       "    </tr>\n",
       "    <tr>\n",
       "      <th>2010-01-08</th>\n",
       "      <td>14355.0</td>\n",
       "      <td>10800.0</td>\n",
       "      <td>104141.0</td>\n",
       "      <td>108477.0</td>\n",
       "      <td>227000.0</td>\n",
       "      <td>32549.0</td>\n",
       "      <td>29150.0</td>\n",
       "      <td>122500.0</td>\n",
       "      <td>1596595.0</td>\n",
       "      <td>3972.0</td>\n",
       "      <td>...</td>\n",
       "      <td>2510.0</td>\n",
       "      <td>2475.0</td>\n",
       "      <td>7810.0</td>\n",
       "      <td>8199.0</td>\n",
       "      <td>3533.0</td>\n",
       "      <td>3895.0</td>\n",
       "      <td>1819.0</td>\n",
       "      <td>1695.26</td>\n",
       "      <td>222.66</td>\n",
       "      <td>538.96</td>\n",
       "    </tr>\n",
       "  </tbody>\n",
       "</table>\n",
       "<p>5 rows × 1367 columns</p>\n",
       "</div>"
      ],
      "text/plain": [
       "              GS글로벌    KG케미칼     LG이노텍      LG전자       OCI     S&TC   S&T모티브  \\\n",
       "Date                                                                           \n",
       "2010-01-04  12831.0  10450.0   96778.0  123136.0  215000.0  33118.0  29100.0   \n",
       "2010-01-05  12831.0  10550.0  106078.0  122648.0  213500.0  31320.0  29500.0   \n",
       "2010-01-06  13476.0  10500.0  107531.0  121670.0  216500.0  32124.0  29400.0   \n",
       "2010-01-07  13651.0  10750.0  101234.0  112386.0  218500.0  32076.0  28600.0   \n",
       "2010-01-08  14355.0  10800.0  104141.0  108477.0  227000.0  32549.0  29150.0   \n",
       "\n",
       "             SK이노베이션        STX  WISCOM  ...  한국정보공학     한네트   한라IMS   한양이엔지  \\\n",
       "Date                                     ...                                   \n",
       "2010-01-04  117000.0  1439553.0  3947.0  ...  2435.0  2450.0  6570.0  7109.0   \n",
       "2010-01-05  121500.0  1435191.0  3942.0  ...  2545.0  2420.0  6670.0  7081.0   \n",
       "2010-01-06  122000.0  1487538.0  3952.0  ...  2520.0  2440.0  7300.0  7194.0   \n",
       "2010-01-07  121500.0  1596595.0  3982.0  ...  2510.0  2435.0  7700.0  7858.0   \n",
       "2010-01-08  122500.0  1596595.0  3972.0  ...  2510.0  2475.0  7810.0  8199.0   \n",
       "\n",
       "                한프     행남사  홈센타홀딩스    KOSPI  KPI200  KOSDAQ  \n",
       "Date                                                         \n",
       "2010-01-04  3564.0  3848.0  1949.0  1696.14  223.49  528.09  \n",
       "2010-01-05  3564.0  3842.0  1884.0  1690.62  222.84  533.09  \n",
       "2010-01-06  3564.0  3842.0  1887.0  1705.32  224.67  539.12  \n",
       "2010-01-07  3503.0  3875.0  1855.0  1683.45  221.31  535.52  \n",
       "2010-01-08  3533.0  3895.0  1819.0  1695.26  222.66  538.96  \n",
       "\n",
       "[5 rows x 1367 columns]"
      ]
     },
     "execution_count": 9,
     "metadata": {},
     "output_type": "execute_result"
    }
   ],
   "source": [
    "##### data_p의 col name 변경\n",
    "data_p.columns = lp\n",
    "# data_p.head()"
   ]
  },
  {
   "cell_type": "code",
   "execution_count": 10,
   "id": "macro-massage",
   "metadata": {
    "tags": []
   },
   "outputs": [],
   "source": [
    "data_p_cr = (data_p.pct_change() + 1).prod() #### 전체기간 누적 수익률(1일단위 수익률의 곱)"
   ]
  },
  {
   "cell_type": "code",
   "execution_count": 11,
   "id": "jewish-portugal",
   "metadata": {
    "tags": []
   },
   "outputs": [
    {
     "data": {
      "text/plain": [
       "F&F           44.660194\n",
       "신풍제약          43.602318\n",
       "NHN한국사이버결제    31.104034\n",
       "포스코케미칼        29.239766\n",
       "삼천당제약         22.546973\n",
       "                ...    \n",
       "남광토건           0.005164\n",
       "현진소재           0.003952\n",
       "STX            0.003835\n",
       "릭스솔루션          0.003761\n",
       "STX중공업         0.000648\n",
       "Length: 1367, dtype: float64"
      ]
     },
     "execution_count": 11,
     "metadata": {},
     "output_type": "execute_result"
    }
   ],
   "source": [
    "data_p_cr = data_p_cr.sort_values(ascending=False) ### 누적 수익률 내림차순 정렬\n",
    "# data_p_cr"
   ]
  },
  {
   "cell_type": "code",
   "execution_count": 12,
   "id": "boxed-jacket",
   "metadata": {
    "tags": []
   },
   "outputs": [],
   "source": [
    "# %cd /Users/qook/R"
   ]
  },
  {
   "cell_type": "code",
   "execution_count": 13,
   "id": "challenging-alexandria",
   "metadata": {
    "tags": []
   },
   "outputs": [],
   "source": [
    "# mac\n",
    "# data_s = pd.read_csv('data/KOR_sector.csv') #### sector 정보 data"
   ]
  },
  {
   "cell_type": "code",
   "execution_count": 14,
   "id": "continuing-metabolism",
   "metadata": {
    "tags": []
   },
   "outputs": [],
   "source": [
    "# window\n",
    "data_s = pd.read_csv('data_R/KOR_sector.csv') #### sector 정보 data"
   ]
  },
  {
   "cell_type": "code",
   "execution_count": 15,
   "id": "acute-maldives",
   "metadata": {
    "tags": []
   },
   "outputs": [],
   "source": [
    "data_s = data_s.iloc[:,[2,4,5,]]"
   ]
  },
  {
   "cell_type": "code",
   "execution_count": 16,
   "id": "annoying-worse",
   "metadata": {
    "tags": []
   },
   "outputs": [
    {
     "data": {
      "text/html": [
       "<div>\n",
       "<style scoped>\n",
       "    .dataframe tbody tr th:only-of-type {\n",
       "        vertical-align: middle;\n",
       "    }\n",
       "\n",
       "    .dataframe tbody tr th {\n",
       "        vertical-align: top;\n",
       "    }\n",
       "\n",
       "    .dataframe thead th {\n",
       "        text-align: right;\n",
       "    }\n",
       "</style>\n",
       "<table border=\"1\" class=\"dataframe\">\n",
       "  <thead>\n",
       "    <tr style=\"text-align: right;\">\n",
       "      <th></th>\n",
       "      <th>IDX_NM_KOR</th>\n",
       "      <th>CMP_CD</th>\n",
       "      <th>CMP_KOR</th>\n",
       "    </tr>\n",
       "  </thead>\n",
       "  <tbody>\n",
       "    <tr>\n",
       "      <th>0</th>\n",
       "      <td>WICS 경기관련소비재</td>\n",
       "      <td>5380</td>\n",
       "      <td>현대차</td>\n",
       "    </tr>\n",
       "    <tr>\n",
       "      <th>1</th>\n",
       "      <td>WICS 경기관련소비재</td>\n",
       "      <td>270</td>\n",
       "      <td>기아차</td>\n",
       "    </tr>\n",
       "    <tr>\n",
       "      <th>2</th>\n",
       "      <td>WICS 경기관련소비재</td>\n",
       "      <td>12330</td>\n",
       "      <td>현대모비스</td>\n",
       "    </tr>\n",
       "    <tr>\n",
       "      <th>3</th>\n",
       "      <td>WICS 경기관련소비재</td>\n",
       "      <td>51900</td>\n",
       "      <td>LG생활건강</td>\n",
       "    </tr>\n",
       "    <tr>\n",
       "      <th>4</th>\n",
       "      <td>WICS 경기관련소비재</td>\n",
       "      <td>90430</td>\n",
       "      <td>아모레퍼시픽</td>\n",
       "    </tr>\n",
       "  </tbody>\n",
       "</table>\n",
       "</div>"
      ],
      "text/plain": [
       "     IDX_NM_KOR  CMP_CD CMP_KOR\n",
       "0  WICS 경기관련소비재    5380     현대차\n",
       "1  WICS 경기관련소비재     270     기아차\n",
       "2  WICS 경기관련소비재   12330   현대모비스\n",
       "3  WICS 경기관련소비재   51900  LG생활건강\n",
       "4  WICS 경기관련소비재   90430  아모레퍼시픽"
      ]
     },
     "execution_count": 16,
     "metadata": {},
     "output_type": "execute_result"
    }
   ],
   "source": [
    "# data_s.head()"
   ]
  },
  {
   "cell_type": "code",
   "execution_count": 17,
   "id": "heavy-bachelor",
   "metadata": {
    "tags": []
   },
   "outputs": [],
   "source": [
    "data_s[\"IDX_NM_KOR\"] = data_s[\"IDX_NM_KOR\"].str.split(expand=True)[1] #### 섹터명만 추출"
   ]
  },
  {
   "cell_type": "code",
   "execution_count": 18,
   "id": "unlike-preliminary",
   "metadata": {
    "tags": []
   },
   "outputs": [],
   "source": [
    "data_s[\"CMP_CD\"] = data_s[\"CMP_CD\"].astype(str).str.pad(width=6, side = 'left', fillchar='0')  #### 종목코드 맞춰주기"
   ]
  },
  {
   "cell_type": "code",
   "execution_count": 19,
   "id": "educated-assignment",
   "metadata": {
    "tags": []
   },
   "outputs": [],
   "source": [
    "data_s.columns = ['섹터','종목코드','회사명'] #### column 이름 통일화"
   ]
  },
  {
   "cell_type": "code",
   "execution_count": 20,
   "id": "absolute-teaching",
   "metadata": {
    "tags": []
   },
   "outputs": [
    {
     "data": {
      "text/html": [
       "<div>\n",
       "<style scoped>\n",
       "    .dataframe tbody tr th:only-of-type {\n",
       "        vertical-align: middle;\n",
       "    }\n",
       "\n",
       "    .dataframe tbody tr th {\n",
       "        vertical-align: top;\n",
       "    }\n",
       "\n",
       "    .dataframe thead th {\n",
       "        text-align: right;\n",
       "    }\n",
       "</style>\n",
       "<table border=\"1\" class=\"dataframe\">\n",
       "  <thead>\n",
       "    <tr style=\"text-align: right;\">\n",
       "      <th></th>\n",
       "      <th>회사명</th>\n",
       "      <th>종목코드</th>\n",
       "    </tr>\n",
       "  </thead>\n",
       "  <tbody>\n",
       "    <tr>\n",
       "      <th>0</th>\n",
       "      <td>GS글로벌</td>\n",
       "      <td>001250</td>\n",
       "    </tr>\n",
       "    <tr>\n",
       "      <th>1</th>\n",
       "      <td>KG케미칼</td>\n",
       "      <td>001390</td>\n",
       "    </tr>\n",
       "    <tr>\n",
       "      <th>2</th>\n",
       "      <td>LG이노텍</td>\n",
       "      <td>011070</td>\n",
       "    </tr>\n",
       "    <tr>\n",
       "      <th>3</th>\n",
       "      <td>LG전자</td>\n",
       "      <td>066570</td>\n",
       "    </tr>\n",
       "    <tr>\n",
       "      <th>4</th>\n",
       "      <td>OCI</td>\n",
       "      <td>010060</td>\n",
       "    </tr>\n",
       "  </tbody>\n",
       "</table>\n",
       "</div>"
      ],
      "text/plain": [
       "     회사명    종목코드\n",
       "0  GS글로벌  001250\n",
       "1  KG케미칼  001390\n",
       "2  LG이노텍  011070\n",
       "3   LG전자  066570\n",
       "4    OCI  010060"
      ]
     },
     "execution_count": 20,
     "metadata": {},
     "output_type": "execute_result"
    }
   ],
   "source": [
    "# pc_n.head()"
   ]
  },
  {
   "cell_type": "code",
   "execution_count": 21,
   "id": "hourly-capitol",
   "metadata": {
    "tags": []
   },
   "outputs": [
    {
     "data": {
      "text/html": [
       "<div>\n",
       "<style scoped>\n",
       "    .dataframe tbody tr th:only-of-type {\n",
       "        vertical-align: middle;\n",
       "    }\n",
       "\n",
       "    .dataframe tbody tr th {\n",
       "        vertical-align: top;\n",
       "    }\n",
       "\n",
       "    .dataframe thead th {\n",
       "        text-align: right;\n",
       "    }\n",
       "</style>\n",
       "<table border=\"1\" class=\"dataframe\">\n",
       "  <thead>\n",
       "    <tr style=\"text-align: right;\">\n",
       "      <th></th>\n",
       "      <th>섹터</th>\n",
       "      <th>종목코드</th>\n",
       "      <th>회사명</th>\n",
       "    </tr>\n",
       "  </thead>\n",
       "  <tbody>\n",
       "    <tr>\n",
       "      <th>0</th>\n",
       "      <td>경기관련소비재</td>\n",
       "      <td>005380</td>\n",
       "      <td>현대차</td>\n",
       "    </tr>\n",
       "    <tr>\n",
       "      <th>1</th>\n",
       "      <td>경기관련소비재</td>\n",
       "      <td>000270</td>\n",
       "      <td>기아차</td>\n",
       "    </tr>\n",
       "    <tr>\n",
       "      <th>2</th>\n",
       "      <td>경기관련소비재</td>\n",
       "      <td>012330</td>\n",
       "      <td>현대모비스</td>\n",
       "    </tr>\n",
       "    <tr>\n",
       "      <th>3</th>\n",
       "      <td>경기관련소비재</td>\n",
       "      <td>051900</td>\n",
       "      <td>LG생활건강</td>\n",
       "    </tr>\n",
       "    <tr>\n",
       "      <th>4</th>\n",
       "      <td>경기관련소비재</td>\n",
       "      <td>090430</td>\n",
       "      <td>아모레퍼시픽</td>\n",
       "    </tr>\n",
       "  </tbody>\n",
       "</table>\n",
       "</div>"
      ],
      "text/plain": [
       "        섹터    종목코드     회사명\n",
       "0  경기관련소비재  005380     현대차\n",
       "1  경기관련소비재  000270     기아차\n",
       "2  경기관련소비재  012330   현대모비스\n",
       "3  경기관련소비재  051900  LG생활건강\n",
       "4  경기관련소비재  090430  아모레퍼시픽"
      ]
     },
     "execution_count": 21,
     "metadata": {},
     "output_type": "execute_result"
    }
   ],
   "source": [
    "# data_s.head()"
   ]
  },
  {
   "cell_type": "code",
   "execution_count": 22,
   "id": "built-history",
   "metadata": {
    "tags": []
   },
   "outputs": [],
   "source": [
    "pcs_n = pc_n.merge(data_s)  #### 섹터, 종목코드, 회사명 합치기"
   ]
  },
  {
   "cell_type": "code",
   "execution_count": 23,
   "id": "solar-demonstration",
   "metadata": {
    "tags": []
   },
   "outputs": [],
   "source": [
    "# data_s.merge(pc_n) #### 이렇게 합치면 안되네?? 위에서는 상관없던데... 위에서는 같은 곳에서 긁어온거라서 우연히 순서가 겹쳤던건가..?"
   ]
  },
  {
   "cell_type": "code",
   "execution_count": 24,
   "id": "frank-noise",
   "metadata": {
    "tags": []
   },
   "outputs": [
    {
     "data": {
      "text/html": [
       "<div>\n",
       "<style scoped>\n",
       "    .dataframe tbody tr th:only-of-type {\n",
       "        vertical-align: middle;\n",
       "    }\n",
       "\n",
       "    .dataframe tbody tr th {\n",
       "        vertical-align: top;\n",
       "    }\n",
       "\n",
       "    .dataframe thead th {\n",
       "        text-align: right;\n",
       "    }\n",
       "</style>\n",
       "<table border=\"1\" class=\"dataframe\">\n",
       "  <thead>\n",
       "    <tr style=\"text-align: right;\">\n",
       "      <th></th>\n",
       "      <th>회사명</th>\n",
       "      <th>종목코드</th>\n",
       "      <th>섹터</th>\n",
       "    </tr>\n",
       "  </thead>\n",
       "  <tbody>\n",
       "    <tr>\n",
       "      <th>0</th>\n",
       "      <td>GS글로벌</td>\n",
       "      <td>001250</td>\n",
       "      <td>산업재</td>\n",
       "    </tr>\n",
       "    <tr>\n",
       "      <th>1</th>\n",
       "      <td>KG케미칼</td>\n",
       "      <td>001390</td>\n",
       "      <td>소재</td>\n",
       "    </tr>\n",
       "    <tr>\n",
       "      <th>2</th>\n",
       "      <td>LG이노텍</td>\n",
       "      <td>011070</td>\n",
       "      <td>IT</td>\n",
       "    </tr>\n",
       "    <tr>\n",
       "      <th>3</th>\n",
       "      <td>LG전자</td>\n",
       "      <td>066570</td>\n",
       "      <td>IT</td>\n",
       "    </tr>\n",
       "    <tr>\n",
       "      <th>4</th>\n",
       "      <td>OCI</td>\n",
       "      <td>010060</td>\n",
       "      <td>소재</td>\n",
       "    </tr>\n",
       "  </tbody>\n",
       "</table>\n",
       "</div>"
      ],
      "text/plain": [
       "     회사명    종목코드   섹터\n",
       "0  GS글로벌  001250  산업재\n",
       "1  KG케미칼  001390   소재\n",
       "2  LG이노텍  011070   IT\n",
       "3   LG전자  066570   IT\n",
       "4    OCI  010060   소재"
      ]
     },
     "execution_count": 24,
     "metadata": {},
     "output_type": "execute_result"
    }
   ],
   "source": [
    "# pcs_n.head()"
   ]
  },
  {
   "cell_type": "code",
   "execution_count": 25,
   "id": "accompanied-boards",
   "metadata": {
    "tags": []
   },
   "outputs": [],
   "source": [
    "data_p_cr_d = pd.DataFrame({'회사명': list(data_p_cr.index), \n",
    "                            '누적수익률' : list(data_p_cr.values)}) #### 기존의 누적수익률 series를 df로 변경"
   ]
  },
  {
   "cell_type": "code",
   "execution_count": 26,
   "id": "expensive-visit",
   "metadata": {
    "tags": []
   },
   "outputs": [],
   "source": [
    "rank_data = data_p_cr_d.merge(pcs_n) #### 누적수익률 데이터를 섹터, 종목명, 종목코드와 합치기"
   ]
  },
  {
   "cell_type": "code",
   "execution_count": 27,
   "id": "peripheral-interference",
   "metadata": {
    "tags": []
   },
   "outputs": [],
   "source": [
    "rank_30_data = rank_data.iloc[:30,:] #### 누적수익률 상위 30개 종목"
   ]
  },
  {
   "cell_type": "code",
   "execution_count": 28,
   "id": "yellow-throat",
   "metadata": {
    "tags": []
   },
   "outputs": [],
   "source": [
    "rank_30_group = rank_30_data.groupby('섹터') #### 누적수익률 상위 30개 종목 섹터로 그룹화"
   ]
  },
  {
   "cell_type": "code",
   "execution_count": 29,
   "id": "unsigned-angola",
   "metadata": {
    "tags": []
   },
   "outputs": [
    {
     "data": {
      "text/html": [
       "<div>\n",
       "<style scoped>\n",
       "    .dataframe tbody tr th:only-of-type {\n",
       "        vertical-align: middle;\n",
       "    }\n",
       "\n",
       "    .dataframe tbody tr th {\n",
       "        vertical-align: top;\n",
       "    }\n",
       "\n",
       "    .dataframe thead th {\n",
       "        text-align: right;\n",
       "    }\n",
       "</style>\n",
       "<table border=\"1\" class=\"dataframe\">\n",
       "  <thead>\n",
       "    <tr style=\"text-align: right;\">\n",
       "      <th></th>\n",
       "      <th>회사명</th>\n",
       "      <th>누적수익률</th>\n",
       "      <th>종목코드</th>\n",
       "    </tr>\n",
       "    <tr>\n",
       "      <th>섹터</th>\n",
       "      <th></th>\n",
       "      <th></th>\n",
       "      <th></th>\n",
       "    </tr>\n",
       "  </thead>\n",
       "  <tbody>\n",
       "    <tr>\n",
       "      <th>IT</th>\n",
       "      <td>10</td>\n",
       "      <td>10</td>\n",
       "      <td>10</td>\n",
       "    </tr>\n",
       "    <tr>\n",
       "      <th>건강관리</th>\n",
       "      <td>7</td>\n",
       "      <td>7</td>\n",
       "      <td>7</td>\n",
       "    </tr>\n",
       "    <tr>\n",
       "      <th>경기관련소비재</th>\n",
       "      <td>3</td>\n",
       "      <td>3</td>\n",
       "      <td>3</td>\n",
       "    </tr>\n",
       "    <tr>\n",
       "      <th>금융</th>\n",
       "      <td>1</td>\n",
       "      <td>1</td>\n",
       "      <td>1</td>\n",
       "    </tr>\n",
       "    <tr>\n",
       "      <th>산업재</th>\n",
       "      <td>3</td>\n",
       "      <td>3</td>\n",
       "      <td>3</td>\n",
       "    </tr>\n",
       "    <tr>\n",
       "      <th>소재</th>\n",
       "      <td>5</td>\n",
       "      <td>5</td>\n",
       "      <td>5</td>\n",
       "    </tr>\n",
       "    <tr>\n",
       "      <th>필수소비재</th>\n",
       "      <td>1</td>\n",
       "      <td>1</td>\n",
       "      <td>1</td>\n",
       "    </tr>\n",
       "  </tbody>\n",
       "</table>\n",
       "</div>"
      ],
      "text/plain": [
       "         회사명  누적수익률  종목코드\n",
       "섹터                       \n",
       "IT        10     10    10\n",
       "건강관리       7      7     7\n",
       "경기관련소비재    3      3     3\n",
       "금융         1      1     1\n",
       "산업재        3      3     3\n",
       "소재         5      5     5\n",
       "필수소비재      1      1     1"
      ]
     },
     "execution_count": 29,
     "metadata": {},
     "output_type": "execute_result"
    }
   ],
   "source": [
    "# rank_30_group.count()"
   ]
  },
  {
   "cell_type": "code",
   "execution_count": 30,
   "id": "tested-operation",
   "metadata": {
    "tags": []
   },
   "outputs": [
    {
     "data": {
      "text/plain": [
       "회사명       object\n",
       "누적수익률    float64\n",
       "종목코드      object\n",
       "섹터        object\n",
       "dtype: object"
      ]
     },
     "execution_count": 30,
     "metadata": {},
     "output_type": "execute_result"
    }
   ],
   "source": [
    "# rank_data.dtypes"
   ]
  },
  {
   "cell_type": "code",
   "execution_count": 31,
   "id": "delayed-monthly",
   "metadata": {
    "tags": []
   },
   "outputs": [],
   "source": [
    "rank_data_group = rank_data.groupby('섹터') #### 전체 data를 섹터로 그룹화"
   ]
  },
  {
   "cell_type": "code",
   "execution_count": 32,
   "id": "allied-tuition",
   "metadata": {
    "tags": []
   },
   "outputs": [],
   "source": [
    "# r_i = list(rank_data_group.apply(lambda x: (x.iloc[:,1] -x.iloc[:,1].mean())/x.iloc[:,1].std()).index) # 멀티인덱스 시리즈"
   ]
  },
  {
   "cell_type": "code",
   "execution_count": 33,
   "id": "august-farming",
   "metadata": {
    "tags": []
   },
   "outputs": [],
   "source": [
    "# rank_data.pivot_table(values='누적수익률', index=['섹터','회사명'], aggfunc = 'count')"
   ]
  },
  {
   "cell_type": "code",
   "execution_count": 34,
   "id": "constant-focus",
   "metadata": {
    "tags": []
   },
   "outputs": [
    {
     "data": {
      "text/html": [
       "<div>\n",
       "<style scoped>\n",
       "    .dataframe tbody tr th:only-of-type {\n",
       "        vertical-align: middle;\n",
       "    }\n",
       "\n",
       "    .dataframe tbody tr th {\n",
       "        vertical-align: top;\n",
       "    }\n",
       "\n",
       "    .dataframe thead th {\n",
       "        text-align: right;\n",
       "    }\n",
       "</style>\n",
       "<table border=\"1\" class=\"dataframe\">\n",
       "  <thead>\n",
       "    <tr style=\"text-align: right;\">\n",
       "      <th></th>\n",
       "      <th>155660</th>\n",
       "      <th>001250</th>\n",
       "      <th>294870</th>\n",
       "      <th>001390</th>\n",
       "      <th>011070</th>\n",
       "      <th>066570</th>\n",
       "      <th>037560</th>\n",
       "      <th>010060</th>\n",
       "      <th>100840</th>\n",
       "      <th>064960</th>\n",
       "      <th>...</th>\n",
       "      <th>238170</th>\n",
       "      <th>216280</th>\n",
       "      <th>122830</th>\n",
       "      <th>344860</th>\n",
       "      <th>299480</th>\n",
       "      <th>189350</th>\n",
       "      <th>199800</th>\n",
       "      <th>222670</th>\n",
       "      <th>331660</th>\n",
       "      <th>212310</th>\n",
       "    </tr>\n",
       "  </thead>\n",
       "  <tbody>\n",
       "    <tr>\n",
       "      <th>PER</th>\n",
       "      <td>9.563218</td>\n",
       "      <td>NaN</td>\n",
       "      <td>4.317352</td>\n",
       "      <td>3.650491</td>\n",
       "      <td>47.773779</td>\n",
       "      <td>755.498694</td>\n",
       "      <td>NaN</td>\n",
       "      <td>NaN</td>\n",
       "      <td>7.991015</td>\n",
       "      <td>357.048237</td>\n",
       "      <td>...</td>\n",
       "      <td>13.503545</td>\n",
       "      <td>NaN</td>\n",
       "      <td>NaN</td>\n",
       "      <td>NaN</td>\n",
       "      <td>NaN</td>\n",
       "      <td>NaN</td>\n",
       "      <td>NaN</td>\n",
       "      <td>NaN</td>\n",
       "      <td>NaN</td>\n",
       "      <td>NaN</td>\n",
       "    </tr>\n",
       "    <tr>\n",
       "      <th>PBR</th>\n",
       "      <td>0.535737</td>\n",
       "      <td>0.484470</td>\n",
       "      <td>0.800326</td>\n",
       "      <td>0.259553</td>\n",
       "      <td>2.216846</td>\n",
       "      <td>1.439693</td>\n",
       "      <td>0.362689</td>\n",
       "      <td>1.083376</td>\n",
       "      <td>0.505554</td>\n",
       "      <td>1.164288</td>\n",
       "      <td>...</td>\n",
       "      <td>0.865612</td>\n",
       "      <td>27.527733</td>\n",
       "      <td>2.935548</td>\n",
       "      <td>0.906750</td>\n",
       "      <td>2.978699</td>\n",
       "      <td>1.138739</td>\n",
       "      <td>28.133496</td>\n",
       "      <td>NaN</td>\n",
       "      <td>4.694186</td>\n",
       "      <td>5.766157</td>\n",
       "    </tr>\n",
       "    <tr>\n",
       "      <th>PCR</th>\n",
       "      <td>6.028986</td>\n",
       "      <td>5.543684</td>\n",
       "      <td>NaN</td>\n",
       "      <td>2.391358</td>\n",
       "      <td>6.355341</td>\n",
       "      <td>6.409820</td>\n",
       "      <td>1.377898</td>\n",
       "      <td>NaN</td>\n",
       "      <td>NaN</td>\n",
       "      <td>8.629565</td>\n",
       "      <td>...</td>\n",
       "      <td>3.821758</td>\n",
       "      <td>NaN</td>\n",
       "      <td>19.814951</td>\n",
       "      <td>5.440500</td>\n",
       "      <td>NaN</td>\n",
       "      <td>25.280000</td>\n",
       "      <td>NaN</td>\n",
       "      <td>NaN</td>\n",
       "      <td>NaN</td>\n",
       "      <td>NaN</td>\n",
       "    </tr>\n",
       "    <tr>\n",
       "      <th>PSR</th>\n",
       "      <td>0.352095</td>\n",
       "      <td>0.047321</td>\n",
       "      <td>0.423595</td>\n",
       "      <td>0.169606</td>\n",
       "      <td>0.612792</td>\n",
       "      <td>0.379531</td>\n",
       "      <td>0.310219</td>\n",
       "      <td>1.116895</td>\n",
       "      <td>0.580688</td>\n",
       "      <td>0.877718</td>\n",
       "      <td>...</td>\n",
       "      <td>0.386552</td>\n",
       "      <td>1.407668</td>\n",
       "      <td>3.602718</td>\n",
       "      <td>0.388607</td>\n",
       "      <td>3.574439</td>\n",
       "      <td>1.080342</td>\n",
       "      <td>685.434273</td>\n",
       "      <td>NaN</td>\n",
       "      <td>0.885307</td>\n",
       "      <td>4.051894</td>\n",
       "    </tr>\n",
       "  </tbody>\n",
       "</table>\n",
       "<p>4 rows × 2422 columns</p>\n",
       "</div>"
      ],
      "text/plain": [
       "       155660    001250    294870    001390     011070      066570    037560  \\\n",
       "PER  9.563218       NaN  4.317352  3.650491  47.773779  755.498694       NaN   \n",
       "PBR  0.535737  0.484470  0.800326  0.259553   2.216846    1.439693  0.362689   \n",
       "PCR  6.028986  5.543684       NaN  2.391358   6.355341    6.409820  1.377898   \n",
       "PSR  0.352095  0.047321  0.423595  0.169606   0.612792    0.379531  0.310219   \n",
       "\n",
       "       010060    100840      064960  ...     238170     216280     122830  \\\n",
       "PER       NaN  7.991015  357.048237  ...  13.503545        NaN        NaN   \n",
       "PBR  1.083376  0.505554    1.164288  ...   0.865612  27.527733   2.935548   \n",
       "PCR       NaN       NaN    8.629565  ...   3.821758        NaN  19.814951   \n",
       "PSR  1.116895  0.580688    0.877718  ...   0.386552   1.407668   3.602718   \n",
       "\n",
       "       344860    299480     189350      199800  222670    331660    212310  \n",
       "PER       NaN       NaN        NaN         NaN     NaN       NaN       NaN  \n",
       "PBR  0.906750  2.978699   1.138739   28.133496     NaN  4.694186  5.766157  \n",
       "PCR  5.440500       NaN  25.280000         NaN     NaN       NaN       NaN  \n",
       "PSR  0.388607  3.574439   1.080342  685.434273     NaN  0.885307  4.051894  \n",
       "\n",
       "[4 rows x 2422 columns]"
      ]
     },
     "execution_count": 34,
     "metadata": {},
     "output_type": "execute_result"
    }
   ],
   "source": [
    "# data_i"
   ]
  },
  {
   "cell_type": "code",
   "execution_count": 35,
   "id": "formed-kernel",
   "metadata": {
    "tags": []
   },
   "outputs": [
    {
     "data": {
      "text/html": [
       "<div>\n",
       "<style scoped>\n",
       "    .dataframe tbody tr th:only-of-type {\n",
       "        vertical-align: middle;\n",
       "    }\n",
       "\n",
       "    .dataframe tbody tr th {\n",
       "        vertical-align: top;\n",
       "    }\n",
       "\n",
       "    .dataframe thead th {\n",
       "        text-align: right;\n",
       "    }\n",
       "</style>\n",
       "<table border=\"1\" class=\"dataframe\">\n",
       "  <thead>\n",
       "    <tr style=\"text-align: right;\">\n",
       "      <th></th>\n",
       "      <th>종목코드</th>\n",
       "    </tr>\n",
       "  </thead>\n",
       "  <tbody>\n",
       "    <tr>\n",
       "      <th>0</th>\n",
       "      <td>155660</td>\n",
       "    </tr>\n",
       "    <tr>\n",
       "      <th>1</th>\n",
       "      <td>001250</td>\n",
       "    </tr>\n",
       "    <tr>\n",
       "      <th>2</th>\n",
       "      <td>294870</td>\n",
       "    </tr>\n",
       "    <tr>\n",
       "      <th>3</th>\n",
       "      <td>001390</td>\n",
       "    </tr>\n",
       "    <tr>\n",
       "      <th>4</th>\n",
       "      <td>011070</td>\n",
       "    </tr>\n",
       "    <tr>\n",
       "      <th>...</th>\n",
       "      <td>...</td>\n",
       "    </tr>\n",
       "    <tr>\n",
       "      <th>2417</th>\n",
       "      <td>189350</td>\n",
       "    </tr>\n",
       "    <tr>\n",
       "      <th>2418</th>\n",
       "      <td>199800</td>\n",
       "    </tr>\n",
       "    <tr>\n",
       "      <th>2419</th>\n",
       "      <td>222670</td>\n",
       "    </tr>\n",
       "    <tr>\n",
       "      <th>2420</th>\n",
       "      <td>331660</td>\n",
       "    </tr>\n",
       "    <tr>\n",
       "      <th>2421</th>\n",
       "      <td>212310</td>\n",
       "    </tr>\n",
       "  </tbody>\n",
       "</table>\n",
       "<p>2422 rows × 1 columns</p>\n",
       "</div>"
      ],
      "text/plain": [
       "        종목코드\n",
       "0     155660\n",
       "1     001250\n",
       "2     294870\n",
       "3     001390\n",
       "4     011070\n",
       "...      ...\n",
       "2417  189350\n",
       "2418  199800\n",
       "2419  222670\n",
       "2420  331660\n",
       "2421  212310\n",
       "\n",
       "[2422 rows x 1 columns]"
      ]
     },
     "execution_count": 35,
     "metadata": {},
     "output_type": "execute_result"
    }
   ],
   "source": [
    "i_n = pd.DataFrame({\"종목코드\" :list(data_i.columns)})\n",
    "# i_n"
   ]
  },
  {
   "cell_type": "code",
   "execution_count": 36,
   "id": "distinguished-horizontal",
   "metadata": {
    "tags": []
   },
   "outputs": [
    {
     "data": {
      "text/plain": [
       "(2427, 2)"
      ]
     },
     "execution_count": 36,
     "metadata": {},
     "output_type": "execute_result"
    }
   ],
   "source": [
    "tn = data_t.iloc[:,0:2]\n",
    "tn.head()\n",
    "tn.shape"
   ]
  },
  {
   "cell_type": "code",
   "execution_count": 37,
   "id": "studied-correction",
   "metadata": {
    "tags": []
   },
   "outputs": [],
   "source": [
    "i_nn = i_n.merge(tn)"
   ]
  },
  {
   "cell_type": "code",
   "execution_count": 38,
   "id": "sought-curve",
   "metadata": {
    "tags": []
   },
   "outputs": [],
   "source": [
    "data_i.columns = list(i_nn['회사명'])"
   ]
  },
  {
   "cell_type": "code",
   "execution_count": 39,
   "id": "particular-hormone",
   "metadata": {
    "tags": []
   },
   "outputs": [
    {
     "data": {
      "text/html": [
       "<div>\n",
       "<style scoped>\n",
       "    .dataframe tbody tr th:only-of-type {\n",
       "        vertical-align: middle;\n",
       "    }\n",
       "\n",
       "    .dataframe tbody tr th {\n",
       "        vertical-align: top;\n",
       "    }\n",
       "\n",
       "    .dataframe thead th {\n",
       "        text-align: right;\n",
       "    }\n",
       "</style>\n",
       "<table border=\"1\" class=\"dataframe\">\n",
       "  <thead>\n",
       "    <tr style=\"text-align: right;\">\n",
       "      <th></th>\n",
       "      <th>DSR</th>\n",
       "      <th>GS글로벌</th>\n",
       "      <th>HDC현대산업개발</th>\n",
       "      <th>KG케미칼</th>\n",
       "      <th>LG이노텍</th>\n",
       "      <th>LG전자</th>\n",
       "      <th>LG헬로비전</th>\n",
       "      <th>OCI</th>\n",
       "      <th>S&amp;TC</th>\n",
       "      <th>S&amp;T모티브</th>\n",
       "      <th>...</th>\n",
       "      <th>엔에스엠</th>\n",
       "      <th>원텍</th>\n",
       "      <th>원포유</th>\n",
       "      <th>이노진</th>\n",
       "      <th>지앤이헬스케어</th>\n",
       "      <th>코셋</th>\n",
       "      <th>툴젠</th>\n",
       "      <th>플럼라인생명과학</th>\n",
       "      <th>한국미라클피플사</th>\n",
       "      <th>휴벡셀</th>\n",
       "    </tr>\n",
       "  </thead>\n",
       "  <tbody>\n",
       "    <tr>\n",
       "      <th>PER</th>\n",
       "      <td>9.563218</td>\n",
       "      <td>NaN</td>\n",
       "      <td>4.317352</td>\n",
       "      <td>3.650491</td>\n",
       "      <td>47.773779</td>\n",
       "      <td>755.498694</td>\n",
       "      <td>NaN</td>\n",
       "      <td>NaN</td>\n",
       "      <td>7.991015</td>\n",
       "      <td>357.048237</td>\n",
       "      <td>...</td>\n",
       "      <td>13.503545</td>\n",
       "      <td>NaN</td>\n",
       "      <td>NaN</td>\n",
       "      <td>NaN</td>\n",
       "      <td>NaN</td>\n",
       "      <td>NaN</td>\n",
       "      <td>NaN</td>\n",
       "      <td>NaN</td>\n",
       "      <td>NaN</td>\n",
       "      <td>NaN</td>\n",
       "    </tr>\n",
       "    <tr>\n",
       "      <th>PBR</th>\n",
       "      <td>0.535737</td>\n",
       "      <td>0.484470</td>\n",
       "      <td>0.800326</td>\n",
       "      <td>0.259553</td>\n",
       "      <td>2.216846</td>\n",
       "      <td>1.439693</td>\n",
       "      <td>0.362689</td>\n",
       "      <td>1.083376</td>\n",
       "      <td>0.505554</td>\n",
       "      <td>1.164288</td>\n",
       "      <td>...</td>\n",
       "      <td>0.865612</td>\n",
       "      <td>27.527733</td>\n",
       "      <td>2.935548</td>\n",
       "      <td>0.906750</td>\n",
       "      <td>2.978699</td>\n",
       "      <td>1.138739</td>\n",
       "      <td>28.133496</td>\n",
       "      <td>NaN</td>\n",
       "      <td>4.694186</td>\n",
       "      <td>5.766157</td>\n",
       "    </tr>\n",
       "    <tr>\n",
       "      <th>PCR</th>\n",
       "      <td>6.028986</td>\n",
       "      <td>5.543684</td>\n",
       "      <td>NaN</td>\n",
       "      <td>2.391358</td>\n",
       "      <td>6.355341</td>\n",
       "      <td>6.409820</td>\n",
       "      <td>1.377898</td>\n",
       "      <td>NaN</td>\n",
       "      <td>NaN</td>\n",
       "      <td>8.629565</td>\n",
       "      <td>...</td>\n",
       "      <td>3.821758</td>\n",
       "      <td>NaN</td>\n",
       "      <td>19.814951</td>\n",
       "      <td>5.440500</td>\n",
       "      <td>NaN</td>\n",
       "      <td>25.280000</td>\n",
       "      <td>NaN</td>\n",
       "      <td>NaN</td>\n",
       "      <td>NaN</td>\n",
       "      <td>NaN</td>\n",
       "    </tr>\n",
       "    <tr>\n",
       "      <th>PSR</th>\n",
       "      <td>0.352095</td>\n",
       "      <td>0.047321</td>\n",
       "      <td>0.423595</td>\n",
       "      <td>0.169606</td>\n",
       "      <td>0.612792</td>\n",
       "      <td>0.379531</td>\n",
       "      <td>0.310219</td>\n",
       "      <td>1.116895</td>\n",
       "      <td>0.580688</td>\n",
       "      <td>0.877718</td>\n",
       "      <td>...</td>\n",
       "      <td>0.386552</td>\n",
       "      <td>1.407668</td>\n",
       "      <td>3.602718</td>\n",
       "      <td>0.388607</td>\n",
       "      <td>3.574439</td>\n",
       "      <td>1.080342</td>\n",
       "      <td>685.434273</td>\n",
       "      <td>NaN</td>\n",
       "      <td>0.885307</td>\n",
       "      <td>4.051894</td>\n",
       "    </tr>\n",
       "  </tbody>\n",
       "</table>\n",
       "<p>4 rows × 2422 columns</p>\n",
       "</div>"
      ],
      "text/plain": [
       "          DSR     GS글로벌  HDC현대산업개발     KG케미칼      LG이노텍        LG전자    LG헬로비전  \\\n",
       "PER  9.563218       NaN   4.317352  3.650491  47.773779  755.498694       NaN   \n",
       "PBR  0.535737  0.484470   0.800326  0.259553   2.216846    1.439693  0.362689   \n",
       "PCR  6.028986  5.543684        NaN  2.391358   6.355341    6.409820  1.377898   \n",
       "PSR  0.352095  0.047321   0.423595  0.169606   0.612792    0.379531  0.310219   \n",
       "\n",
       "          OCI      S&TC      S&T모티브  ...       엔에스엠         원텍        원포유  \\\n",
       "PER       NaN  7.991015  357.048237  ...  13.503545        NaN        NaN   \n",
       "PBR  1.083376  0.505554    1.164288  ...   0.865612  27.527733   2.935548   \n",
       "PCR       NaN       NaN    8.629565  ...   3.821758        NaN  19.814951   \n",
       "PSR  1.116895  0.580688    0.877718  ...   0.386552   1.407668   3.602718   \n",
       "\n",
       "          이노진   지앤이헬스케어         코셋          툴젠  플럼라인생명과학  한국미라클피플사       휴벡셀  \n",
       "PER       NaN       NaN        NaN         NaN       NaN       NaN       NaN  \n",
       "PBR  0.906750  2.978699   1.138739   28.133496       NaN  4.694186  5.766157  \n",
       "PCR  5.440500       NaN  25.280000         NaN       NaN       NaN       NaN  \n",
       "PSR  0.388607  3.574439   1.080342  685.434273       NaN  0.885307  4.051894  \n",
       "\n",
       "[4 rows x 2422 columns]"
      ]
     },
     "execution_count": 39,
     "metadata": {},
     "output_type": "execute_result"
    }
   ],
   "source": [
    "# data_i #### 각 회사별 indicator"
   ]
  },
  {
   "cell_type": "code",
   "execution_count": 40,
   "id": "common-detector",
   "metadata": {
    "tags": []
   },
   "outputs": [
    {
     "data": {
      "text/html": [
       "<div>\n",
       "<style scoped>\n",
       "    .dataframe tbody tr th:only-of-type {\n",
       "        vertical-align: middle;\n",
       "    }\n",
       "\n",
       "    .dataframe tbody tr th {\n",
       "        vertical-align: top;\n",
       "    }\n",
       "\n",
       "    .dataframe thead th {\n",
       "        text-align: right;\n",
       "    }\n",
       "</style>\n",
       "<table border=\"1\" class=\"dataframe\">\n",
       "  <thead>\n",
       "    <tr style=\"text-align: right;\">\n",
       "      <th></th>\n",
       "      <th>155660</th>\n",
       "      <th>001250</th>\n",
       "      <th>294870</th>\n",
       "      <th>001390</th>\n",
       "      <th>011070</th>\n",
       "      <th>066570</th>\n",
       "      <th>037560</th>\n",
       "      <th>010060</th>\n",
       "      <th>100840</th>\n",
       "      <th>064960</th>\n",
       "      <th>...</th>\n",
       "      <th>238170</th>\n",
       "      <th>216280</th>\n",
       "      <th>122830</th>\n",
       "      <th>344860</th>\n",
       "      <th>299480</th>\n",
       "      <th>189350</th>\n",
       "      <th>199800</th>\n",
       "      <th>222670</th>\n",
       "      <th>331660</th>\n",
       "      <th>212310</th>\n",
       "    </tr>\n",
       "  </thead>\n",
       "  <tbody>\n",
       "    <tr>\n",
       "      <th>2017/12</th>\n",
       "      <td>0.148927</td>\n",
       "      <td>0.100150</td>\n",
       "      <td>NaN</td>\n",
       "      <td>0.217532</td>\n",
       "      <td>0.150523</td>\n",
       "      <td>0.355612</td>\n",
       "      <td>0.552510</td>\n",
       "      <td>0.082020</td>\n",
       "      <td>0.126540</td>\n",
       "      <td>0.142950</td>\n",
       "      <td>...</td>\n",
       "      <td>0.090717</td>\n",
       "      <td>0.690141</td>\n",
       "      <td>NaN</td>\n",
       "      <td>NaN</td>\n",
       "      <td>0.500000</td>\n",
       "      <td>0.162037</td>\n",
       "      <td>0.190789</td>\n",
       "      <td>NaN</td>\n",
       "      <td>NaN</td>\n",
       "      <td>0.304636</td>\n",
       "    </tr>\n",
       "    <tr>\n",
       "      <th>2018/12</th>\n",
       "      <td>0.122667</td>\n",
       "      <td>0.103817</td>\n",
       "      <td>0.092302</td>\n",
       "      <td>0.264285</td>\n",
       "      <td>0.150084</td>\n",
       "      <td>0.340211</td>\n",
       "      <td>0.547806</td>\n",
       "      <td>0.064634</td>\n",
       "      <td>0.074021</td>\n",
       "      <td>0.093272</td>\n",
       "      <td>...</td>\n",
       "      <td>0.109914</td>\n",
       "      <td>0.527083</td>\n",
       "      <td>0.181034</td>\n",
       "      <td>NaN</td>\n",
       "      <td>0.459184</td>\n",
       "      <td>0.096045</td>\n",
       "      <td>0.020672</td>\n",
       "      <td>NaN</td>\n",
       "      <td>0.959459</td>\n",
       "      <td>0.237805</td>\n",
       "    </tr>\n",
       "    <tr>\n",
       "      <th>2019/12</th>\n",
       "      <td>0.122712</td>\n",
       "      <td>0.122801</td>\n",
       "      <td>0.170900</td>\n",
       "      <td>0.115838</td>\n",
       "      <td>0.180547</td>\n",
       "      <td>0.341855</td>\n",
       "      <td>0.570838</td>\n",
       "      <td>0.008314</td>\n",
       "      <td>0.106918</td>\n",
       "      <td>0.147560</td>\n",
       "      <td>...</td>\n",
       "      <td>0.156522</td>\n",
       "      <td>0.242820</td>\n",
       "      <td>0.110345</td>\n",
       "      <td>0.931818</td>\n",
       "      <td>0.155963</td>\n",
       "      <td>0.054983</td>\n",
       "      <td>0.023411</td>\n",
       "      <td>NaN</td>\n",
       "      <td>0.693182</td>\n",
       "      <td>-0.000000</td>\n",
       "    </tr>\n",
       "  </tbody>\n",
       "</table>\n",
       "<p>3 rows × 2422 columns</p>\n",
       "</div>"
      ],
      "text/plain": [
       "           155660    001250    294870    001390    011070    066570    037560  \\\n",
       "2017/12  0.148927  0.100150       NaN  0.217532  0.150523  0.355612  0.552510   \n",
       "2018/12  0.122667  0.103817  0.092302  0.264285  0.150084  0.340211  0.547806   \n",
       "2019/12  0.122712  0.122801  0.170900  0.115838  0.180547  0.341855  0.570838   \n",
       "\n",
       "           010060    100840    064960  ...    238170    216280    122830  \\\n",
       "2017/12  0.082020  0.126540  0.142950  ...  0.090717  0.690141       NaN   \n",
       "2018/12  0.064634  0.074021  0.093272  ...  0.109914  0.527083  0.181034   \n",
       "2019/12  0.008314  0.106918  0.147560  ...  0.156522  0.242820  0.110345   \n",
       "\n",
       "           344860    299480    189350    199800  222670    331660    212310  \n",
       "2017/12       NaN  0.500000  0.162037  0.190789     NaN       NaN  0.304636  \n",
       "2018/12       NaN  0.459184  0.096045  0.020672     NaN  0.959459  0.237805  \n",
       "2019/12  0.931818  0.155963  0.054983  0.023411     NaN  0.693182 -0.000000  \n",
       "\n",
       "[3 rows x 2422 columns]"
      ]
     },
     "execution_count": 40,
     "metadata": {},
     "output_type": "execute_result"
    }
   ],
   "source": [
    "sales_profit = data_f['매출총이익'] / data_f['자산']\n",
    "sales_profit = sales_profit.T\n",
    "# sales_profit"
   ]
  },
  {
   "cell_type": "code",
   "execution_count": 41,
   "id": "satisfied-builder",
   "metadata": {
    "tags": []
   },
   "outputs": [],
   "source": [
    "#### 이름 변경 방법은 계속해서 쓰임!\n",
    "sp_n = pd.DataFrame({\"종목코드\" :list(sales_profit.columns)})\n",
    "sp_nn = sp_n.merge(tn)\n",
    "sales_profit.columns = list(sp_nn['회사명'])"
   ]
  },
  {
   "cell_type": "code",
   "execution_count": 42,
   "id": "economic-spouse",
   "metadata": {
    "tags": []
   },
   "outputs": [
    {
     "data": {
      "text/html": [
       "<div>\n",
       "<style scoped>\n",
       "    .dataframe tbody tr th:only-of-type {\n",
       "        vertical-align: middle;\n",
       "    }\n",
       "\n",
       "    .dataframe tbody tr th {\n",
       "        vertical-align: top;\n",
       "    }\n",
       "\n",
       "    .dataframe thead th {\n",
       "        text-align: right;\n",
       "    }\n",
       "</style>\n",
       "<table border=\"1\" class=\"dataframe\">\n",
       "  <thead>\n",
       "    <tr style=\"text-align: right;\">\n",
       "      <th></th>\n",
       "      <th>DSR</th>\n",
       "      <th>GS글로벌</th>\n",
       "      <th>HDC현대산업개발</th>\n",
       "      <th>KG케미칼</th>\n",
       "      <th>LG이노텍</th>\n",
       "      <th>LG전자</th>\n",
       "      <th>LG헬로비전</th>\n",
       "      <th>OCI</th>\n",
       "      <th>S&amp;TC</th>\n",
       "      <th>S&amp;T모티브</th>\n",
       "      <th>...</th>\n",
       "      <th>엔에스엠</th>\n",
       "      <th>원텍</th>\n",
       "      <th>원포유</th>\n",
       "      <th>이노진</th>\n",
       "      <th>지앤이헬스케어</th>\n",
       "      <th>코셋</th>\n",
       "      <th>툴젠</th>\n",
       "      <th>플럼라인생명과학</th>\n",
       "      <th>한국미라클피플사</th>\n",
       "      <th>휴벡셀</th>\n",
       "    </tr>\n",
       "  </thead>\n",
       "  <tbody>\n",
       "    <tr>\n",
       "      <th>2017/12</th>\n",
       "      <td>0.148927</td>\n",
       "      <td>0.100150</td>\n",
       "      <td>NaN</td>\n",
       "      <td>0.217532</td>\n",
       "      <td>0.150523</td>\n",
       "      <td>0.355612</td>\n",
       "      <td>0.552510</td>\n",
       "      <td>0.082020</td>\n",
       "      <td>0.126540</td>\n",
       "      <td>0.142950</td>\n",
       "      <td>...</td>\n",
       "      <td>0.090717</td>\n",
       "      <td>0.690141</td>\n",
       "      <td>NaN</td>\n",
       "      <td>NaN</td>\n",
       "      <td>0.500000</td>\n",
       "      <td>0.162037</td>\n",
       "      <td>0.190789</td>\n",
       "      <td>NaN</td>\n",
       "      <td>NaN</td>\n",
       "      <td>0.304636</td>\n",
       "    </tr>\n",
       "    <tr>\n",
       "      <th>2018/12</th>\n",
       "      <td>0.122667</td>\n",
       "      <td>0.103817</td>\n",
       "      <td>0.092302</td>\n",
       "      <td>0.264285</td>\n",
       "      <td>0.150084</td>\n",
       "      <td>0.340211</td>\n",
       "      <td>0.547806</td>\n",
       "      <td>0.064634</td>\n",
       "      <td>0.074021</td>\n",
       "      <td>0.093272</td>\n",
       "      <td>...</td>\n",
       "      <td>0.109914</td>\n",
       "      <td>0.527083</td>\n",
       "      <td>0.181034</td>\n",
       "      <td>NaN</td>\n",
       "      <td>0.459184</td>\n",
       "      <td>0.096045</td>\n",
       "      <td>0.020672</td>\n",
       "      <td>NaN</td>\n",
       "      <td>0.959459</td>\n",
       "      <td>0.237805</td>\n",
       "    </tr>\n",
       "    <tr>\n",
       "      <th>2019/12</th>\n",
       "      <td>0.122712</td>\n",
       "      <td>0.122801</td>\n",
       "      <td>0.170900</td>\n",
       "      <td>0.115838</td>\n",
       "      <td>0.180547</td>\n",
       "      <td>0.341855</td>\n",
       "      <td>0.570838</td>\n",
       "      <td>0.008314</td>\n",
       "      <td>0.106918</td>\n",
       "      <td>0.147560</td>\n",
       "      <td>...</td>\n",
       "      <td>0.156522</td>\n",
       "      <td>0.242820</td>\n",
       "      <td>0.110345</td>\n",
       "      <td>0.931818</td>\n",
       "      <td>0.155963</td>\n",
       "      <td>0.054983</td>\n",
       "      <td>0.023411</td>\n",
       "      <td>NaN</td>\n",
       "      <td>0.693182</td>\n",
       "      <td>-0.000000</td>\n",
       "    </tr>\n",
       "  </tbody>\n",
       "</table>\n",
       "<p>3 rows × 2422 columns</p>\n",
       "</div>"
      ],
      "text/plain": [
       "              DSR     GS글로벌  HDC현대산업개발     KG케미칼     LG이노텍      LG전자  \\\n",
       "2017/12  0.148927  0.100150        NaN  0.217532  0.150523  0.355612   \n",
       "2018/12  0.122667  0.103817   0.092302  0.264285  0.150084  0.340211   \n",
       "2019/12  0.122712  0.122801   0.170900  0.115838  0.180547  0.341855   \n",
       "\n",
       "           LG헬로비전       OCI      S&TC    S&T모티브  ...      엔에스엠        원텍  \\\n",
       "2017/12  0.552510  0.082020  0.126540  0.142950  ...  0.090717  0.690141   \n",
       "2018/12  0.547806  0.064634  0.074021  0.093272  ...  0.109914  0.527083   \n",
       "2019/12  0.570838  0.008314  0.106918  0.147560  ...  0.156522  0.242820   \n",
       "\n",
       "              원포유       이노진   지앤이헬스케어        코셋        툴젠  플럼라인생명과학  한국미라클피플사  \\\n",
       "2017/12       NaN       NaN  0.500000  0.162037  0.190789       NaN       NaN   \n",
       "2018/12  0.181034       NaN  0.459184  0.096045  0.020672       NaN  0.959459   \n",
       "2019/12  0.110345  0.931818  0.155963  0.054983  0.023411       NaN  0.693182   \n",
       "\n",
       "              휴벡셀  \n",
       "2017/12  0.304636  \n",
       "2018/12  0.237805  \n",
       "2019/12 -0.000000  \n",
       "\n",
       "[3 rows x 2422 columns]"
      ]
     },
     "execution_count": 42,
     "metadata": {},
     "output_type": "execute_result"
    }
   ],
   "source": [
    "# sales_profit #### 회사별 매출총이익 / 자산"
   ]
  },
  {
   "cell_type": "code",
   "execution_count": 43,
   "id": "imposed-forest",
   "metadata": {
    "tags": []
   },
   "outputs": [],
   "source": [
    "s_p_2017 = pd.DataFrame({\"sales_profit\" : sales_profit.iloc[0,:], \"pbr\" : data_i.iloc[1,:]}) #### 2017년 & pbr 데이터프레임"
   ]
  },
  {
   "cell_type": "code",
   "execution_count": 44,
   "id": "nutritional-worry",
   "metadata": {
    "tags": []
   },
   "outputs": [
    {
     "data": {
      "text/html": [
       "<div>\n",
       "<style scoped>\n",
       "    .dataframe tbody tr th:only-of-type {\n",
       "        vertical-align: middle;\n",
       "    }\n",
       "\n",
       "    .dataframe tbody tr th {\n",
       "        vertical-align: top;\n",
       "    }\n",
       "\n",
       "    .dataframe thead th {\n",
       "        text-align: right;\n",
       "    }\n",
       "</style>\n",
       "<table border=\"1\" class=\"dataframe\">\n",
       "  <thead>\n",
       "    <tr style=\"text-align: right;\">\n",
       "      <th></th>\n",
       "      <th>sales_profit</th>\n",
       "      <th>pbr</th>\n",
       "    </tr>\n",
       "  </thead>\n",
       "  <tbody>\n",
       "    <tr>\n",
       "      <th>sales_profit</th>\n",
       "      <td>1.000000</td>\n",
       "      <td>0.018431</td>\n",
       "    </tr>\n",
       "    <tr>\n",
       "      <th>pbr</th>\n",
       "      <td>0.018431</td>\n",
       "      <td>1.000000</td>\n",
       "    </tr>\n",
       "  </tbody>\n",
       "</table>\n",
       "</div>"
      ],
      "text/plain": [
       "              sales_profit       pbr\n",
       "sales_profit      1.000000  0.018431\n",
       "pbr               0.018431  1.000000"
      ]
     },
     "execution_count": 44,
     "metadata": {},
     "output_type": "execute_result"
    }
   ],
   "source": [
    "# s_p_2017.corr() #### pearson corr"
   ]
  },
  {
   "cell_type": "code",
   "execution_count": 45,
   "id": "infrared-papua",
   "metadata": {
    "tags": []
   },
   "outputs": [
    {
     "data": {
      "text/html": [
       "<div>\n",
       "<style scoped>\n",
       "    .dataframe tbody tr th:only-of-type {\n",
       "        vertical-align: middle;\n",
       "    }\n",
       "\n",
       "    .dataframe tbody tr th {\n",
       "        vertical-align: top;\n",
       "    }\n",
       "\n",
       "    .dataframe thead th {\n",
       "        text-align: right;\n",
       "    }\n",
       "</style>\n",
       "<table border=\"1\" class=\"dataframe\">\n",
       "  <thead>\n",
       "    <tr style=\"text-align: right;\">\n",
       "      <th></th>\n",
       "      <th>sales_profit</th>\n",
       "      <th>pbr</th>\n",
       "    </tr>\n",
       "  </thead>\n",
       "  <tbody>\n",
       "    <tr>\n",
       "      <th>sales_profit</th>\n",
       "      <td>1.000000</td>\n",
       "      <td>0.202503</td>\n",
       "    </tr>\n",
       "    <tr>\n",
       "      <th>pbr</th>\n",
       "      <td>0.202503</td>\n",
       "      <td>1.000000</td>\n",
       "    </tr>\n",
       "  </tbody>\n",
       "</table>\n",
       "</div>"
      ],
      "text/plain": [
       "              sales_profit       pbr\n",
       "sales_profit      1.000000  0.202503\n",
       "pbr               0.202503  1.000000"
      ]
     },
     "execution_count": 45,
     "metadata": {},
     "output_type": "execute_result"
    }
   ],
   "source": [
    "# s_p_2017.corr(method = 'spearman') #### spearman corr"
   ]
  },
  {
   "cell_type": "code",
   "execution_count": 46,
   "id": "rural-hundred",
   "metadata": {
    "tags": []
   },
   "outputs": [],
   "source": [
    "s_p_2018 = pd.DataFrame({\"sales_profit\" : sales_profit.iloc[1,:], \"pbr\" : data_i.iloc[1,:]}) #### 2018년 & pbr\n",
    "s_p_2019 = pd.DataFrame({\"sales_profit\" : sales_profit.iloc[2,:], \"pbr\" : data_i.iloc[1,:]}) #### 2019년 & pbr"
   ]
  },
  {
   "cell_type": "code",
   "execution_count": 47,
   "id": "advance-moore",
   "metadata": {
    "tags": []
   },
   "outputs": [
    {
     "data": {
      "text/html": [
       "<div>\n",
       "<style scoped>\n",
       "    .dataframe tbody tr th:only-of-type {\n",
       "        vertical-align: middle;\n",
       "    }\n",
       "\n",
       "    .dataframe tbody tr th {\n",
       "        vertical-align: top;\n",
       "    }\n",
       "\n",
       "    .dataframe thead th {\n",
       "        text-align: right;\n",
       "    }\n",
       "</style>\n",
       "<table border=\"1\" class=\"dataframe\">\n",
       "  <thead>\n",
       "    <tr style=\"text-align: right;\">\n",
       "      <th></th>\n",
       "      <th>sales_profit</th>\n",
       "      <th>pbr</th>\n",
       "    </tr>\n",
       "  </thead>\n",
       "  <tbody>\n",
       "    <tr>\n",
       "      <th>sales_profit</th>\n",
       "      <td>1.00000</td>\n",
       "      <td>-0.00144</td>\n",
       "    </tr>\n",
       "    <tr>\n",
       "      <th>pbr</th>\n",
       "      <td>-0.00144</td>\n",
       "      <td>1.00000</td>\n",
       "    </tr>\n",
       "  </tbody>\n",
       "</table>\n",
       "</div>"
      ],
      "text/plain": [
       "              sales_profit      pbr\n",
       "sales_profit       1.00000 -0.00144\n",
       "pbr               -0.00144  1.00000"
      ]
     },
     "execution_count": 47,
     "metadata": {},
     "output_type": "execute_result"
    }
   ],
   "source": [
    "# s_p_2018.corr()"
   ]
  },
  {
   "cell_type": "code",
   "execution_count": 48,
   "id": "recognized-forest",
   "metadata": {
    "tags": []
   },
   "outputs": [
    {
     "data": {
      "text/html": [
       "<div>\n",
       "<style scoped>\n",
       "    .dataframe tbody tr th:only-of-type {\n",
       "        vertical-align: middle;\n",
       "    }\n",
       "\n",
       "    .dataframe tbody tr th {\n",
       "        vertical-align: top;\n",
       "    }\n",
       "\n",
       "    .dataframe thead th {\n",
       "        text-align: right;\n",
       "    }\n",
       "</style>\n",
       "<table border=\"1\" class=\"dataframe\">\n",
       "  <thead>\n",
       "    <tr style=\"text-align: right;\">\n",
       "      <th></th>\n",
       "      <th>sales_profit</th>\n",
       "      <th>pbr</th>\n",
       "    </tr>\n",
       "  </thead>\n",
       "  <tbody>\n",
       "    <tr>\n",
       "      <th>sales_profit</th>\n",
       "      <td>1.000000</td>\n",
       "      <td>0.187434</td>\n",
       "    </tr>\n",
       "    <tr>\n",
       "      <th>pbr</th>\n",
       "      <td>0.187434</td>\n",
       "      <td>1.000000</td>\n",
       "    </tr>\n",
       "  </tbody>\n",
       "</table>\n",
       "</div>"
      ],
      "text/plain": [
       "              sales_profit       pbr\n",
       "sales_profit      1.000000  0.187434\n",
       "pbr               0.187434  1.000000"
      ]
     },
     "execution_count": 48,
     "metadata": {},
     "output_type": "execute_result"
    }
   ],
   "source": [
    "# s_p_2018.corr(method = 'spearman')"
   ]
  },
  {
   "cell_type": "code",
   "execution_count": 49,
   "id": "level-local",
   "metadata": {
    "tags": []
   },
   "outputs": [
    {
     "data": {
      "text/html": [
       "<div>\n",
       "<style scoped>\n",
       "    .dataframe tbody tr th:only-of-type {\n",
       "        vertical-align: middle;\n",
       "    }\n",
       "\n",
       "    .dataframe tbody tr th {\n",
       "        vertical-align: top;\n",
       "    }\n",
       "\n",
       "    .dataframe thead th {\n",
       "        text-align: right;\n",
       "    }\n",
       "</style>\n",
       "<table border=\"1\" class=\"dataframe\">\n",
       "  <thead>\n",
       "    <tr style=\"text-align: right;\">\n",
       "      <th></th>\n",
       "      <th>sales_profit</th>\n",
       "      <th>pbr</th>\n",
       "    </tr>\n",
       "  </thead>\n",
       "  <tbody>\n",
       "    <tr>\n",
       "      <th>sales_profit</th>\n",
       "      <td>1.000000</td>\n",
       "      <td>0.195118</td>\n",
       "    </tr>\n",
       "    <tr>\n",
       "      <th>pbr</th>\n",
       "      <td>0.195118</td>\n",
       "      <td>1.000000</td>\n",
       "    </tr>\n",
       "  </tbody>\n",
       "</table>\n",
       "</div>"
      ],
      "text/plain": [
       "              sales_profit       pbr\n",
       "sales_profit      1.000000  0.195118\n",
       "pbr               0.195118  1.000000"
      ]
     },
     "execution_count": 49,
     "metadata": {},
     "output_type": "execute_result"
    }
   ],
   "source": [
    "# s_p_2019.corr(method = 'spearman')"
   ]
  },
  {
   "cell_type": "code",
   "execution_count": 50,
   "id": "turned-engineering",
   "metadata": {
    "tags": []
   },
   "outputs": [
    {
     "data": {
      "text/plain": [
       "dict_keys(['매출액', '매출원가', '매출총이익', '판매비와관리비', '인건비', '유무형자산상각비', '연구개발비', '광고선전비', '판매비', '관리비', '기타원가성비용', '기타', '영업이익', '영업이익(발표기준)', '금융수익', '이자수익', '배당금수익', '외환이익', '대손충당금환입액', '매출채권처분이익', '당기손익-공정가치측정\\xa0금융자산관련이익', '금융자산처분이익', '금융자산평가이익', '금융자산손상차손환입', '파생상품이익', '기타금융수익', '금융원가', '이자비용', '외환손실', '대손상각비', '당기손익-공정가치측정\\xa0금융자산관련손실', '매출채권처분손실', '금융자산처분손실', '금융자산평가손실', '금융자산손상차손', '파생상품손실', '기타금융원가', '기타수익', '재고자산감모손실환입', '재고자산폐기(처분)이익', '당기손익-공정가치측정\\xa0금융자산평가이익', '자산처분(폐기)이익', '자산평가이익', '자산손상차손환입', '임대료수익', '로열티수익', '수수료수익', '대손충당금환입', '충당부채환입액', '기타비용', '재고자산감모손실', '재고자산폐기(처분)손실', '당기손익-공정가치측정\\xa0금융자산평가손실', '자산처분(폐기)손실', '자산평가손실', '자산손상차손', '기타대손상각비', '충당부채전입액', '종속기업,공동지배기업및관계기업관련손익', '지분법손익', '종속기업,공동지배기업및관계기업투자주식처분손익', '종속기업,공동지배기업및관계기업투자주식손상관련손익', '세전계속사업이익', '법인세비용', '계속영업이익', '중단영업이익', '당기순이익', '지배주주순이익', '비지배주주순이익', '자산', '유동자산', '재고자산', '유동생물자산', '유동금융자산', '매출채권및기타유동채권', '당기법인세자산', '계약자산', '반품(환불)자산', '배출권', '기타유동자산', '현금및현금성자산', '매각예정비유동자산및처분자산집단', '비유동자산', '유형자산', '무형자산', '비유동생물자산', '투자부동산', '장기금융자산', '관계기업등지분관련투자자산', '장기매출채권및기타비유동채권', '이연법인세자산', '장기당기법인세자산', '기타비유동자산', '기타금융업자산', '부채', '유동부채', '단기사채', '단기차입금', '유동성장기부채', '유동금융부채', '매입채무및기타유동채무', '유동종업원급여충당부채', '기타단기충당부채', '당기법인세부채', '계약부채', '반품(환불)부채', '배출부채', '기타유동부채', '매각예정으로분류된처분자산집단에포함된부채', '비유동부채', '사채', '장기차입금', '비유동금융부채', '장기매입채무및기타비유동채무', '비유동종업원급여충당부채', '기타장기충당부채', '이연법인세부채', '장기당기법인세부채', '기타비유동부채', '기타금융업부채', '자본', '지배기업주주지분', '자본금', '신종자본증권', '자본잉여금', '기타자본', '기타포괄손익누계액', '이익잉여금(결손금)', '비지배주주지분', '영업활동으로인한현금흐름', '당기순손익', '법인세비용차감전계속사업이익', '현금유출이없는비용등가산', '퇴직급여', '종업원급여', '주식보상비', '감가상각비', '무형자산상각비', '계약부채전입액', '반품(환불)부채전입액', '배출부채전입액', '기타의대손상각비', '배당금지급', '금융부채관련손실', '사채상환손실', '투자자산평가손실', '자산재평가손실', '지분법관련손실', '종속기업관련손실', '관계기업관련손익', '(현금유입이없는수익등차감)', '금융부채관련이익', '사채상환이익', '퇴직급여충당부채환입액', '계약부채환입액', '반품(환불)부채환입액', '배출부채환입액', '주식보상비환입', '투자자산평가이익', '자산재평가이익', '지분법관련이익', '종속회사관련이익', '법인세수익', '영업활동으로인한자산부채변동(운전자본변동)', '자산의감소(증가)', '부채의증가(감소)', '정부보조금등의변동', '기타운전자본의변동', '*영업에서창출된현금흐름', '기타영업활동으로인한현금흐름', '이자수입', '이자지급(-)', '배당금수입', '배당금지급(-)', '법인세환입', '법인세납부(-)', '중단영업관련현금흐름', '투자활동으로인한현금흐름', '투자활동으로인한현금유입액', '유동금융자산의감소', '장기금융상품의감소', '매도가능금융자산의감소', '만기보유금융자산의감소', '장기대여금의감소', '파생상품의변동', '기타비유동금융자산의감소', '관계기업등지분관련투자자산의감소', '유형자산의감소', '무형자산의감소', '생물자산의감소', '투자부동산의감소', '기타투자활동으로인한현금유입액', '(투자활동으로인한현금유출액)', '유동금융자산의증가', '장기금융상품의증가', '매도가능금융자산의증가', '만기보유금융자산의증가', '장기대여금의증가', '기타비유동금융자산의증가', '관계기업등지분관련투자자산의증가', '유형자산의증가', '무형자산의증가', '생물자산의증가', '투자부동산의증가', '기타투자활동으로인한현금유출액', '기타투자활동으로인한현금흐름', '재무활동으로인한현금흐름', '재무활동으로인한현금유입액', '사채의증가', '차입금의증가', '미지급금의증가', '유동성장기부채의증가', '기타금융부채의증가', '기타부채의증가', '유상증자', '자기주식의처분', '주식매입선택권의행사', '자본구성항목의증가', '기타재무활동으로인한현금유입액', '(재무활동으로인한현금유출액)', '사채의감소', '차입금의감소', '미지급금의감소', '유동성장기부채의감소', '기타금융부채의감소', '기타부채의감소', '유상감자', '자기주식의취득', '자본구성항목의감소', '기타재무활동으로인한현금유출액', '기타재무활동으로인한현금흐름', '영업투자재무활동기타현금흐름', '연결범위변동으로인한현금의증가', '환율변동효과', '현금및현금성자산의증가', '기초현금및현금성자산', '기말현금및현금성자산'])"
      ]
     },
     "execution_count": 50,
     "metadata": {},
     "output_type": "execute_result"
    }
   ],
   "source": [
    "# data_f.keys()"
   ]
  },
  {
   "cell_type": "code",
   "execution_count": 51,
   "id": "solid-smooth",
   "metadata": {
    "tags": []
   },
   "outputs": [
    {
     "data": {
      "text/html": [
       "<div>\n",
       "<style scoped>\n",
       "    .dataframe tbody tr th:only-of-type {\n",
       "        vertical-align: middle;\n",
       "    }\n",
       "\n",
       "    .dataframe tbody tr th {\n",
       "        vertical-align: top;\n",
       "    }\n",
       "\n",
       "    .dataframe thead th {\n",
       "        text-align: right;\n",
       "    }\n",
       "</style>\n",
       "<table border=\"1\" class=\"dataframe\">\n",
       "  <thead>\n",
       "    <tr style=\"text-align: right;\">\n",
       "      <th></th>\n",
       "      <th>DSR</th>\n",
       "      <th>GS글로벌</th>\n",
       "      <th>HDC현대산업개발</th>\n",
       "      <th>KG케미칼</th>\n",
       "      <th>LG이노텍</th>\n",
       "      <th>LG전자</th>\n",
       "      <th>LG헬로비전</th>\n",
       "      <th>OCI</th>\n",
       "      <th>S&amp;TC</th>\n",
       "      <th>S&amp;T모티브</th>\n",
       "      <th>...</th>\n",
       "      <th>엔에스엠</th>\n",
       "      <th>원텍</th>\n",
       "      <th>원포유</th>\n",
       "      <th>이노진</th>\n",
       "      <th>지앤이헬스케어</th>\n",
       "      <th>코셋</th>\n",
       "      <th>툴젠</th>\n",
       "      <th>플럼라인생명과학</th>\n",
       "      <th>한국미라클피플사</th>\n",
       "      <th>휴벡셀</th>\n",
       "    </tr>\n",
       "  </thead>\n",
       "  <tbody>\n",
       "    <tr>\n",
       "      <th>2017/12</th>\n",
       "      <td>147.0</td>\n",
       "      <td>393.0</td>\n",
       "      <td>NaN</td>\n",
       "      <td>245.0</td>\n",
       "      <td>2720.0</td>\n",
       "      <td>27817.0</td>\n",
       "      <td>602.0</td>\n",
       "      <td>3452.0</td>\n",
       "      <td>NaN</td>\n",
       "      <td>700.0</td>\n",
       "      <td>...</td>\n",
       "      <td>-33.0</td>\n",
       "      <td>NaN</td>\n",
       "      <td>NaN</td>\n",
       "      <td>NaN</td>\n",
       "      <td>NaN</td>\n",
       "      <td>NaN</td>\n",
       "      <td>NaN</td>\n",
       "      <td>NaN</td>\n",
       "      <td>NaN</td>\n",
       "      <td>NaN</td>\n",
       "    </tr>\n",
       "    <tr>\n",
       "      <th>2018/12</th>\n",
       "      <td>111.0</td>\n",
       "      <td>498.0</td>\n",
       "      <td>3382.0</td>\n",
       "      <td>349.0</td>\n",
       "      <td>2383.0</td>\n",
       "      <td>21904.0</td>\n",
       "      <td>696.0</td>\n",
       "      <td>1979.0</td>\n",
       "      <td>NaN</td>\n",
       "      <td>750.0</td>\n",
       "      <td>...</td>\n",
       "      <td>1.0</td>\n",
       "      <td>NaN</td>\n",
       "      <td>NaN</td>\n",
       "      <td>NaN</td>\n",
       "      <td>NaN</td>\n",
       "      <td>NaN</td>\n",
       "      <td>NaN</td>\n",
       "      <td>NaN</td>\n",
       "      <td>NaN</td>\n",
       "      <td>NaN</td>\n",
       "    </tr>\n",
       "    <tr>\n",
       "      <th>2019/12</th>\n",
       "      <td>130.0</td>\n",
       "      <td>121.0</td>\n",
       "      <td>5761.0</td>\n",
       "      <td>1802.0</td>\n",
       "      <td>2490.0</td>\n",
       "      <td>7872.0</td>\n",
       "      <td>-714.0</td>\n",
       "      <td>-9457.0</td>\n",
       "      <td>201.0</td>\n",
       "      <td>262.0</td>\n",
       "      <td>...</td>\n",
       "      <td>25.0</td>\n",
       "      <td>NaN</td>\n",
       "      <td>NaN</td>\n",
       "      <td>NaN</td>\n",
       "      <td>NaN</td>\n",
       "      <td>NaN</td>\n",
       "      <td>NaN</td>\n",
       "      <td>NaN</td>\n",
       "      <td>NaN</td>\n",
       "      <td>NaN</td>\n",
       "    </tr>\n",
       "  </tbody>\n",
       "</table>\n",
       "<p>3 rows × 2422 columns</p>\n",
       "</div>"
      ],
      "text/plain": [
       "           DSR  GS글로벌  HDC현대산업개발   KG케미칼   LG이노텍     LG전자  LG헬로비전     OCI  \\\n",
       "2017/12  147.0  393.0        NaN   245.0  2720.0  27817.0   602.0  3452.0   \n",
       "2018/12  111.0  498.0     3382.0   349.0  2383.0  21904.0   696.0  1979.0   \n",
       "2019/12  130.0  121.0     5761.0  1802.0  2490.0   7872.0  -714.0 -9457.0   \n",
       "\n",
       "          S&TC  S&T모티브  ...  엔에스엠  원텍  원포유  이노진  지앤이헬스케어  코셋  툴젠  플럼라인생명과학  \\\n",
       "2017/12    NaN   700.0  ... -33.0 NaN  NaN  NaN      NaN NaN NaN       NaN   \n",
       "2018/12    NaN   750.0  ...   1.0 NaN  NaN  NaN      NaN NaN NaN       NaN   \n",
       "2019/12  201.0   262.0  ...  25.0 NaN  NaN  NaN      NaN NaN NaN       NaN   \n",
       "\n",
       "         한국미라클피플사  휴벡셀  \n",
       "2017/12       NaN  NaN  \n",
       "2018/12       NaN  NaN  \n",
       "2019/12       NaN  NaN  \n",
       "\n",
       "[3 rows x 2422 columns]"
      ]
     },
     "execution_count": 51,
     "metadata": {},
     "output_type": "execute_result"
    }
   ],
   "source": [
    "sh_profit = data_f['지배주주순이익']\n",
    "sh_profit = sh_profit.T\n",
    "tax = data_f['법인세비용']\n",
    "tax = tax.T\n",
    "interest = data_f['이자비용']\n",
    "interest = interest.T\n",
    "\n",
    "ebit = sh_profit + tax + interest\n",
    "\n",
    "ebit_n = pd.DataFrame({\"종목코드\" :list(ebit.columns)})\n",
    "ebit_nn = ebit_n.merge(tn)\n",
    "ebit.columns = list(ebit_nn['회사명'])\n",
    "\n",
    "# ebit"
   ]
  },
  {
   "cell_type": "code",
   "execution_count": 52,
   "id": "swedish-motion",
   "metadata": {
    "tags": []
   },
   "outputs": [
    {
     "data": {
      "text/plain": [
       "Index(['2017/12', '2018/12', '2019/12'], dtype='object')"
      ]
     },
     "execution_count": 52,
     "metadata": {},
     "output_type": "execute_result"
    }
   ],
   "source": [
    "per = data_i.iloc[0,:]\n",
    "earning = data_f['매출액']\n",
    "earning = earning.T\n",
    "\n",
    "earning_n = pd.DataFrame({\"종목코드\" :list(earning.columns)})\n",
    "earning_nn = earning_n.merge(tn)\n",
    "earning.columns = list(earning_nn['회사명'])\n",
    "# earning.index"
   ]
  },
  {
   "cell_type": "code",
   "execution_count": 53,
   "id": "joint-soundtrack",
   "metadata": {
    "tags": []
   },
   "outputs": [
    {
     "data": {
      "text/html": [
       "<div>\n",
       "<style scoped>\n",
       "    .dataframe tbody tr th:only-of-type {\n",
       "        vertical-align: middle;\n",
       "    }\n",
       "\n",
       "    .dataframe tbody tr th {\n",
       "        vertical-align: top;\n",
       "    }\n",
       "\n",
       "    .dataframe thead th {\n",
       "        text-align: right;\n",
       "    }\n",
       "</style>\n",
       "<table border=\"1\" class=\"dataframe\">\n",
       "  <thead>\n",
       "    <tr style=\"text-align: right;\">\n",
       "      <th></th>\n",
       "      <th>DSR</th>\n",
       "      <th>GS글로벌</th>\n",
       "      <th>HDC현대산업개발</th>\n",
       "      <th>KG케미칼</th>\n",
       "      <th>LG이노텍</th>\n",
       "      <th>LG전자</th>\n",
       "      <th>LG헬로비전</th>\n",
       "      <th>OCI</th>\n",
       "      <th>S&amp;TC</th>\n",
       "      <th>S&amp;T모티브</th>\n",
       "      <th>...</th>\n",
       "      <th>엔에스엠</th>\n",
       "      <th>원텍</th>\n",
       "      <th>원포유</th>\n",
       "      <th>이노진</th>\n",
       "      <th>지앤이헬스케어</th>\n",
       "      <th>코셋</th>\n",
       "      <th>툴젠</th>\n",
       "      <th>플럼라인생명과학</th>\n",
       "      <th>한국미라클피플사</th>\n",
       "      <th>휴벡셀</th>\n",
       "    </tr>\n",
       "  </thead>\n",
       "  <tbody>\n",
       "    <tr>\n",
       "      <th>PER</th>\n",
       "      <td>9.563218</td>\n",
       "      <td>NaN</td>\n",
       "      <td>4.317352</td>\n",
       "      <td>3.650491</td>\n",
       "      <td>47.773779</td>\n",
       "      <td>755.498694</td>\n",
       "      <td>NaN</td>\n",
       "      <td>NaN</td>\n",
       "      <td>7.991015</td>\n",
       "      <td>357.048237</td>\n",
       "      <td>...</td>\n",
       "      <td>13.503545</td>\n",
       "      <td>NaN</td>\n",
       "      <td>NaN</td>\n",
       "      <td>NaN</td>\n",
       "      <td>NaN</td>\n",
       "      <td>NaN</td>\n",
       "      <td>NaN</td>\n",
       "      <td>NaN</td>\n",
       "      <td>NaN</td>\n",
       "      <td>NaN</td>\n",
       "    </tr>\n",
       "  </tbody>\n",
       "</table>\n",
       "<p>1 rows × 2422 columns</p>\n",
       "</div>"
      ],
      "text/plain": [
       "          DSR  GS글로벌  HDC현대산업개발     KG케미칼      LG이노텍        LG전자  LG헬로비전  OCI  \\\n",
       "PER  9.563218    NaN   4.317352  3.650491  47.773779  755.498694     NaN  NaN   \n",
       "\n",
       "         S&TC      S&T모티브  ...       엔에스엠  원텍  원포유  이노진  지앤이헬스케어  코셋  툴젠  \\\n",
       "PER  7.991015  357.048237  ...  13.503545 NaN  NaN  NaN      NaN NaN NaN   \n",
       "\n",
       "     플럼라인생명과학  한국미라클피플사  휴벡셀  \n",
       "PER       NaN       NaN  NaN  \n",
       "\n",
       "[1 rows x 2422 columns]"
      ]
     },
     "execution_count": 53,
     "metadata": {},
     "output_type": "execute_result"
    }
   ],
   "source": [
    "per = pd.DataFrame(data_i.iloc[0,:])\n",
    "per = per.T\n",
    "# per"
   ]
  },
  {
   "cell_type": "code",
   "execution_count": 54,
   "id": "unavailable-shower",
   "metadata": {
    "tags": []
   },
   "outputs": [
    {
     "data": {
      "text/html": [
       "<div>\n",
       "<style scoped>\n",
       "    .dataframe tbody tr th:only-of-type {\n",
       "        vertical-align: middle;\n",
       "    }\n",
       "\n",
       "    .dataframe tbody tr th {\n",
       "        vertical-align: top;\n",
       "    }\n",
       "\n",
       "    .dataframe thead th {\n",
       "        text-align: right;\n",
       "    }\n",
       "</style>\n",
       "<table border=\"1\" class=\"dataframe\">\n",
       "  <thead>\n",
       "    <tr style=\"text-align: right;\">\n",
       "      <th></th>\n",
       "      <th>DSR</th>\n",
       "      <th>GS글로벌</th>\n",
       "      <th>HDC현대산업개발</th>\n",
       "      <th>KG케미칼</th>\n",
       "      <th>LG이노텍</th>\n",
       "      <th>LG전자</th>\n",
       "      <th>LG헬로비전</th>\n",
       "      <th>OCI</th>\n",
       "      <th>S&amp;TC</th>\n",
       "      <th>S&amp;T모티브</th>\n",
       "      <th>...</th>\n",
       "      <th>엔에스엠</th>\n",
       "      <th>원텍</th>\n",
       "      <th>원포유</th>\n",
       "      <th>이노진</th>\n",
       "      <th>지앤이헬스케어</th>\n",
       "      <th>코셋</th>\n",
       "      <th>툴젠</th>\n",
       "      <th>플럼라인생명과학</th>\n",
       "      <th>한국미라클피플사</th>\n",
       "      <th>휴벡셀</th>\n",
       "    </tr>\n",
       "  </thead>\n",
       "  <tbody>\n",
       "    <tr>\n",
       "      <th>2017/12</th>\n",
       "      <td>21651.126437</td>\n",
       "      <td>NaN</td>\n",
       "      <td>NaN</td>\n",
       "      <td>40137.153545</td>\n",
       "      <td>3.650586e+06</td>\n",
       "      <td>4.638482e+08</td>\n",
       "      <td>NaN</td>\n",
       "      <td>NaN</td>\n",
       "      <td>14711.458496</td>\n",
       "      <td>4.061424e+06</td>\n",
       "      <td>...</td>\n",
       "      <td>8183.148028</td>\n",
       "      <td>NaN</td>\n",
       "      <td>NaN</td>\n",
       "      <td>NaN</td>\n",
       "      <td>NaN</td>\n",
       "      <td>NaN</td>\n",
       "      <td>NaN</td>\n",
       "      <td>NaN</td>\n",
       "      <td>NaN</td>\n",
       "      <td>NaN</td>\n",
       "    </tr>\n",
       "    <tr>\n",
       "      <th>2018/12</th>\n",
       "      <td>22569.195402</td>\n",
       "      <td>NaN</td>\n",
       "      <td>120570.697445</td>\n",
       "      <td>46828.504381</td>\n",
       "      <td>3.813351e+06</td>\n",
       "      <td>4.634357e+08</td>\n",
       "      <td>NaN</td>\n",
       "      <td>NaN</td>\n",
       "      <td>11147.465835</td>\n",
       "      <td>3.280916e+06</td>\n",
       "      <td>...</td>\n",
       "      <td>6711.261666</td>\n",
       "      <td>NaN</td>\n",
       "      <td>NaN</td>\n",
       "      <td>NaN</td>\n",
       "      <td>NaN</td>\n",
       "      <td>NaN</td>\n",
       "      <td>NaN</td>\n",
       "      <td>NaN</td>\n",
       "      <td>NaN</td>\n",
       "      <td>NaN</td>\n",
       "    </tr>\n",
       "    <tr>\n",
       "      <th>2019/12</th>\n",
       "      <td>22597.885057</td>\n",
       "      <td>NaN</td>\n",
       "      <td>182041.159372</td>\n",
       "      <td>75506.765250</td>\n",
       "      <td>3.810150e+06</td>\n",
       "      <td>4.707225e+08</td>\n",
       "      <td>NaN</td>\n",
       "      <td>NaN</td>\n",
       "      <td>17044.834857</td>\n",
       "      <td>3.485862e+06</td>\n",
       "      <td>...</td>\n",
       "      <td>7075.857370</td>\n",
       "      <td>NaN</td>\n",
       "      <td>NaN</td>\n",
       "      <td>NaN</td>\n",
       "      <td>NaN</td>\n",
       "      <td>NaN</td>\n",
       "      <td>NaN</td>\n",
       "      <td>NaN</td>\n",
       "      <td>NaN</td>\n",
       "      <td>NaN</td>\n",
       "    </tr>\n",
       "  </tbody>\n",
       "</table>\n",
       "<p>3 rows × 2422 columns</p>\n",
       "</div>"
      ],
      "text/plain": [
       "                  DSR  GS글로벌      HDC현대산업개발         KG케미칼         LG이노텍  \\\n",
       "2017/12  21651.126437    NaN            NaN  40137.153545  3.650586e+06   \n",
       "2018/12  22569.195402    NaN  120570.697445  46828.504381  3.813351e+06   \n",
       "2019/12  22597.885057    NaN  182041.159372  75506.765250  3.810150e+06   \n",
       "\n",
       "                 LG전자  LG헬로비전  OCI          S&TC        S&T모티브  ...  \\\n",
       "2017/12  4.638482e+08     NaN  NaN  14711.458496  4.061424e+06  ...   \n",
       "2018/12  4.634357e+08     NaN  NaN  11147.465835  3.280916e+06  ...   \n",
       "2019/12  4.707225e+08     NaN  NaN  17044.834857  3.485862e+06  ...   \n",
       "\n",
       "                엔에스엠  원텍  원포유  이노진  지앤이헬스케어  코셋  툴젠  플럼라인생명과학  한국미라클피플사  휴벡셀  \n",
       "2017/12  8183.148028 NaN  NaN  NaN      NaN NaN NaN       NaN       NaN  NaN  \n",
       "2018/12  6711.261666 NaN  NaN  NaN      NaN NaN NaN       NaN       NaN  NaN  \n",
       "2019/12  7075.857370 NaN  NaN  NaN      NaN NaN NaN       NaN       NaN  NaN  \n",
       "\n",
       "[3 rows x 2422 columns]"
      ]
     },
     "execution_count": 54,
     "metadata": {},
     "output_type": "execute_result"
    }
   ],
   "source": [
    "market_total_2017 = earning.iloc[0,:] * per.iloc[0,:]\n",
    "market_total_2018 = earning.iloc[1,:] * per.iloc[0,:]\n",
    "market_total_2019 = earning.iloc[2,:] * per.iloc[0,:]\n",
    "market_total = pd.DataFrame([market_total_2017,market_total_2018, market_total_2019])\n",
    "market_total.index = list(earning.index)\n",
    "# market_total"
   ]
  },
  {
   "cell_type": "code",
   "execution_count": 55,
   "id": "mental-residence",
   "metadata": {
    "tags": []
   },
   "outputs": [
    {
     "data": {
      "text/html": [
       "<div>\n",
       "<style scoped>\n",
       "    .dataframe tbody tr th:only-of-type {\n",
       "        vertical-align: middle;\n",
       "    }\n",
       "\n",
       "    .dataframe tbody tr th {\n",
       "        vertical-align: top;\n",
       "    }\n",
       "\n",
       "    .dataframe thead th {\n",
       "        text-align: right;\n",
       "    }\n",
       "</style>\n",
       "<table border=\"1\" class=\"dataframe\">\n",
       "  <thead>\n",
       "    <tr style=\"text-align: right;\">\n",
       "      <th></th>\n",
       "      <th>DSR</th>\n",
       "      <th>GS글로벌</th>\n",
       "      <th>HDC현대산업개발</th>\n",
       "      <th>KG케미칼</th>\n",
       "      <th>LG이노텍</th>\n",
       "      <th>LG전자</th>\n",
       "      <th>LG헬로비전</th>\n",
       "      <th>OCI</th>\n",
       "      <th>S&amp;TC</th>\n",
       "      <th>S&amp;T모티브</th>\n",
       "      <th>...</th>\n",
       "      <th>엔에스엠</th>\n",
       "      <th>원텍</th>\n",
       "      <th>원포유</th>\n",
       "      <th>이노진</th>\n",
       "      <th>지앤이헬스케어</th>\n",
       "      <th>코셋</th>\n",
       "      <th>툴젠</th>\n",
       "      <th>플럼라인생명과학</th>\n",
       "      <th>한국미라클피플사</th>\n",
       "      <th>휴벡셀</th>\n",
       "    </tr>\n",
       "  </thead>\n",
       "  <tbody>\n",
       "    <tr>\n",
       "      <th>2017/12</th>\n",
       "      <td>874.0</td>\n",
       "      <td>10102.0</td>\n",
       "      <td>NaN</td>\n",
       "      <td>9029.0</td>\n",
       "      <td>39267.0</td>\n",
       "      <td>265473.0</td>\n",
       "      <td>8810.0</td>\n",
       "      <td>26621.0</td>\n",
       "      <td>664.0</td>\n",
       "      <td>3975.0</td>\n",
       "      <td>...</td>\n",
       "      <td>407.0</td>\n",
       "      <td>182.0</td>\n",
       "      <td>NaN</td>\n",
       "      <td>NaN</td>\n",
       "      <td>41.0</td>\n",
       "      <td>97.0</td>\n",
       "      <td>22.0</td>\n",
       "      <td>11.0</td>\n",
       "      <td>NaN</td>\n",
       "      <td>99.0</td>\n",
       "    </tr>\n",
       "    <tr>\n",
       "      <th>2018/12</th>\n",
       "      <td>776.0</td>\n",
       "      <td>9329.0</td>\n",
       "      <td>30190.0</td>\n",
       "      <td>9044.0</td>\n",
       "      <td>36378.0</td>\n",
       "      <td>280215.0</td>\n",
       "      <td>8843.0</td>\n",
       "      <td>21670.0</td>\n",
       "      <td>497.0</td>\n",
       "      <td>3717.0</td>\n",
       "      <td>...</td>\n",
       "      <td>246.0</td>\n",
       "      <td>334.0</td>\n",
       "      <td>86.0</td>\n",
       "      <td>NaN</td>\n",
       "      <td>22.0</td>\n",
       "      <td>83.0</td>\n",
       "      <td>18.0</td>\n",
       "      <td>26.0</td>\n",
       "      <td>89.0</td>\n",
       "      <td>118.0</td>\n",
       "    </tr>\n",
       "    <tr>\n",
       "      <th>2019/12</th>\n",
       "      <td>851.0</td>\n",
       "      <td>8253.0</td>\n",
       "      <td>21778.0</td>\n",
       "      <td>28000.0</td>\n",
       "      <td>35662.0</td>\n",
       "      <td>284347.0</td>\n",
       "      <td>8394.0</td>\n",
       "      <td>21255.0</td>\n",
       "      <td>889.0</td>\n",
       "      <td>3029.0</td>\n",
       "      <td>...</td>\n",
       "      <td>225.0</td>\n",
       "      <td>365.0</td>\n",
       "      <td>91.0</td>\n",
       "      <td>21.0</td>\n",
       "      <td>49.0</td>\n",
       "      <td>180.0</td>\n",
       "      <td>31.0</td>\n",
       "      <td>70.0</td>\n",
       "      <td>133.0</td>\n",
       "      <td>51.0</td>\n",
       "    </tr>\n",
       "  </tbody>\n",
       "</table>\n",
       "<p>3 rows × 2422 columns</p>\n",
       "</div>"
      ],
      "text/plain": [
       "           DSR    GS글로벌  HDC현대산업개발    KG케미칼    LG이노텍      LG전자  LG헬로비전  \\\n",
       "2017/12  874.0  10102.0        NaN   9029.0  39267.0  265473.0  8810.0   \n",
       "2018/12  776.0   9329.0    30190.0   9044.0  36378.0  280215.0  8843.0   \n",
       "2019/12  851.0   8253.0    21778.0  28000.0  35662.0  284347.0  8394.0   \n",
       "\n",
       "             OCI   S&TC  S&T모티브  ...   엔에스엠     원텍   원포유   이노진  지앤이헬스케어  \\\n",
       "2017/12  26621.0  664.0  3975.0  ...  407.0  182.0   NaN   NaN     41.0   \n",
       "2018/12  21670.0  497.0  3717.0  ...  246.0  334.0  86.0   NaN     22.0   \n",
       "2019/12  21255.0  889.0  3029.0  ...  225.0  365.0  91.0  21.0     49.0   \n",
       "\n",
       "            코셋    툴젠  플럼라인생명과학  한국미라클피플사    휴벡셀  \n",
       "2017/12   97.0  22.0      11.0       NaN   99.0  \n",
       "2018/12   83.0  18.0      26.0      89.0  118.0  \n",
       "2019/12  180.0  31.0      70.0     133.0   51.0  \n",
       "\n",
       "[3 rows x 2422 columns]"
      ]
     },
     "execution_count": 55,
     "metadata": {},
     "output_type": "execute_result"
    }
   ],
   "source": [
    "liability = data_f['부채']\n",
    "liability = liability.T\n",
    "\n",
    "liability_n = pd.DataFrame({\"종목코드\" :list(liability.columns)})\n",
    "liability_nn = liability_n.merge(tn)\n",
    "liability.columns = list(liability_nn['회사명'])\n",
    "\n",
    "current_l = data_f['유동부채'] + data_f['기타유동부채']\n",
    "current_l = current_l.T\n",
    "current_a = data_f['유동자산'] + data_f['기타유동자산']\n",
    "current_a = current_a.T\n",
    "money = data_f['현금및현금성자산']\n",
    "money = money.T      #### 원래 마법공식을 위해서는 현금이 필요한데 현금이 없으므로 현금및현금성자산-유동부채+유동자산 으로 대체하자\n",
    "\n",
    "total_c = current_l - current_a\n",
    "total_c[total_c < 0] = 0 #### 유동부채 - 유동자산이 0보다 작으면 모두 0으로 바꿈\n",
    "\n",
    "total_money = money - total_c\n",
    "\n",
    "total_money_n = pd.DataFrame({\"종목코드\" :list(total_money.columns)})\n",
    "total_money_nn = total_money_n.merge(tn)\n",
    "total_money.columns = list(total_money_nn['회사명'])\n",
    "\n",
    "# total_money\n",
    "# liability"
   ]
  },
  {
   "cell_type": "code",
   "execution_count": 56,
   "id": "drawn-testimony",
   "metadata": {
    "tags": []
   },
   "outputs": [
    {
     "data": {
      "text/html": [
       "<div>\n",
       "<style scoped>\n",
       "    .dataframe tbody tr th:only-of-type {\n",
       "        vertical-align: middle;\n",
       "    }\n",
       "\n",
       "    .dataframe tbody tr th {\n",
       "        vertical-align: top;\n",
       "    }\n",
       "\n",
       "    .dataframe thead th {\n",
       "        text-align: right;\n",
       "    }\n",
       "</style>\n",
       "<table border=\"1\" class=\"dataframe\">\n",
       "  <thead>\n",
       "    <tr style=\"text-align: right;\">\n",
       "      <th></th>\n",
       "      <th>DSR</th>\n",
       "      <th>GS글로벌</th>\n",
       "      <th>HDC현대산업개발</th>\n",
       "      <th>KG케미칼</th>\n",
       "      <th>LG이노텍</th>\n",
       "      <th>LG전자</th>\n",
       "      <th>LG헬로비전</th>\n",
       "      <th>OCI</th>\n",
       "      <th>S&amp;TC</th>\n",
       "      <th>S&amp;T모티브</th>\n",
       "      <th>...</th>\n",
       "      <th>엔에스엠</th>\n",
       "      <th>원텍</th>\n",
       "      <th>원포유</th>\n",
       "      <th>이노진</th>\n",
       "      <th>지앤이헬스케어</th>\n",
       "      <th>코셋</th>\n",
       "      <th>툴젠</th>\n",
       "      <th>플럼라인생명과학</th>\n",
       "      <th>한국미라클피플사</th>\n",
       "      <th>휴벡셀</th>\n",
       "    </tr>\n",
       "  </thead>\n",
       "  <tbody>\n",
       "    <tr>\n",
       "      <th>2017/12</th>\n",
       "      <td>22566.126437</td>\n",
       "      <td>NaN</td>\n",
       "      <td>NaN</td>\n",
       "      <td>50857.153545</td>\n",
       "      <td>3.693548e+06</td>\n",
       "      <td>4.641472e+08</td>\n",
       "      <td>NaN</td>\n",
       "      <td>NaN</td>\n",
       "      <td>15947.458496</td>\n",
       "      <td>4.067663e+06</td>\n",
       "      <td>...</td>\n",
       "      <td>8503.148028</td>\n",
       "      <td>NaN</td>\n",
       "      <td>NaN</td>\n",
       "      <td>NaN</td>\n",
       "      <td>NaN</td>\n",
       "      <td>NaN</td>\n",
       "      <td>NaN</td>\n",
       "      <td>NaN</td>\n",
       "      <td>NaN</td>\n",
       "      <td>NaN</td>\n",
       "    </tr>\n",
       "    <tr>\n",
       "      <th>2018/12</th>\n",
       "      <td>23365.195402</td>\n",
       "      <td>NaN</td>\n",
       "      <td>159708.697445</td>\n",
       "      <td>57679.504381</td>\n",
       "      <td>3.855941e+06</td>\n",
       "      <td>4.637587e+08</td>\n",
       "      <td>NaN</td>\n",
       "      <td>NaN</td>\n",
       "      <td>12240.465835</td>\n",
       "      <td>NaN</td>\n",
       "      <td>...</td>\n",
       "      <td>6998.261666</td>\n",
       "      <td>NaN</td>\n",
       "      <td>NaN</td>\n",
       "      <td>NaN</td>\n",
       "      <td>NaN</td>\n",
       "      <td>NaN</td>\n",
       "      <td>NaN</td>\n",
       "      <td>NaN</td>\n",
       "      <td>NaN</td>\n",
       "      <td>NaN</td>\n",
       "    </tr>\n",
       "    <tr>\n",
       "      <th>2019/12</th>\n",
       "      <td>23541.885057</td>\n",
       "      <td>NaN</td>\n",
       "      <td>207430.159372</td>\n",
       "      <td>106779.765250</td>\n",
       "      <td>3.853808e+06</td>\n",
       "      <td>4.710546e+08</td>\n",
       "      <td>NaN</td>\n",
       "      <td>NaN</td>\n",
       "      <td>18143.834857</td>\n",
       "      <td>NaN</td>\n",
       "      <td>...</td>\n",
       "      <td>7360.857370</td>\n",
       "      <td>NaN</td>\n",
       "      <td>NaN</td>\n",
       "      <td>NaN</td>\n",
       "      <td>NaN</td>\n",
       "      <td>NaN</td>\n",
       "      <td>NaN</td>\n",
       "      <td>NaN</td>\n",
       "      <td>NaN</td>\n",
       "      <td>NaN</td>\n",
       "    </tr>\n",
       "  </tbody>\n",
       "</table>\n",
       "<p>3 rows × 2422 columns</p>\n",
       "</div>"
      ],
      "text/plain": [
       "                  DSR  GS글로벌      HDC현대산업개발          KG케미칼         LG이노텍  \\\n",
       "2017/12  22566.126437    NaN            NaN   50857.153545  3.693548e+06   \n",
       "2018/12  23365.195402    NaN  159708.697445   57679.504381  3.855941e+06   \n",
       "2019/12  23541.885057    NaN  207430.159372  106779.765250  3.853808e+06   \n",
       "\n",
       "                 LG전자  LG헬로비전  OCI          S&TC        S&T모티브  ...  \\\n",
       "2017/12  4.641472e+08     NaN  NaN  15947.458496  4.067663e+06  ...   \n",
       "2018/12  4.637587e+08     NaN  NaN  12240.465835           NaN  ...   \n",
       "2019/12  4.710546e+08     NaN  NaN  18143.834857           NaN  ...   \n",
       "\n",
       "                엔에스엠  원텍  원포유  이노진  지앤이헬스케어  코셋  툴젠  플럼라인생명과학  한국미라클피플사  휴벡셀  \n",
       "2017/12  8503.148028 NaN  NaN  NaN      NaN NaN NaN       NaN       NaN  NaN  \n",
       "2018/12  6998.261666 NaN  NaN  NaN      NaN NaN NaN       NaN       NaN  NaN  \n",
       "2019/12  7360.857370 NaN  NaN  NaN      NaN NaN NaN       NaN       NaN  NaN  \n",
       "\n",
       "[3 rows x 2422 columns]"
      ]
     },
     "execution_count": 56,
     "metadata": {},
     "output_type": "execute_result"
    }
   ],
   "source": [
    "denominator = market_total + total_money + liability\n",
    "# denominator"
   ]
  },
  {
   "cell_type": "code",
   "execution_count": 57,
   "id": "banner-maple",
   "metadata": {
    "tags": []
   },
   "outputs": [],
   "source": [
    "interest_earning_ratio = ebit / denominator"
   ]
  },
  {
   "cell_type": "code",
   "execution_count": 58,
   "id": "actual-catholic",
   "metadata": {
    "tags": []
   },
   "outputs": [
    {
     "data": {
      "text/html": [
       "<div>\n",
       "<style scoped>\n",
       "    .dataframe tbody tr th:only-of-type {\n",
       "        vertical-align: middle;\n",
       "    }\n",
       "\n",
       "    .dataframe tbody tr th {\n",
       "        vertical-align: top;\n",
       "    }\n",
       "\n",
       "    .dataframe thead th {\n",
       "        text-align: right;\n",
       "    }\n",
       "</style>\n",
       "<table border=\"1\" class=\"dataframe\">\n",
       "  <thead>\n",
       "    <tr style=\"text-align: right;\">\n",
       "      <th></th>\n",
       "      <th>DSR</th>\n",
       "      <th>GS글로벌</th>\n",
       "      <th>HDC현대산업개발</th>\n",
       "      <th>KG케미칼</th>\n",
       "      <th>LG이노텍</th>\n",
       "      <th>LG전자</th>\n",
       "      <th>LG헬로비전</th>\n",
       "      <th>OCI</th>\n",
       "      <th>S&amp;TC</th>\n",
       "      <th>S&amp;T모티브</th>\n",
       "      <th>...</th>\n",
       "      <th>엔에스엠</th>\n",
       "      <th>원텍</th>\n",
       "      <th>원포유</th>\n",
       "      <th>이노진</th>\n",
       "      <th>지앤이헬스케어</th>\n",
       "      <th>코셋</th>\n",
       "      <th>툴젠</th>\n",
       "      <th>플럼라인생명과학</th>\n",
       "      <th>한국미라클피플사</th>\n",
       "      <th>휴벡셀</th>\n",
       "    </tr>\n",
       "  </thead>\n",
       "  <tbody>\n",
       "    <tr>\n",
       "      <th>2017/12</th>\n",
       "      <td>0.006514</td>\n",
       "      <td>NaN</td>\n",
       "      <td>NaN</td>\n",
       "      <td>0.004817</td>\n",
       "      <td>0.000736</td>\n",
       "      <td>0.000060</td>\n",
       "      <td>NaN</td>\n",
       "      <td>NaN</td>\n",
       "      <td>NaN</td>\n",
       "      <td>0.000172</td>\n",
       "      <td>...</td>\n",
       "      <td>-0.003881</td>\n",
       "      <td>NaN</td>\n",
       "      <td>NaN</td>\n",
       "      <td>NaN</td>\n",
       "      <td>NaN</td>\n",
       "      <td>NaN</td>\n",
       "      <td>NaN</td>\n",
       "      <td>NaN</td>\n",
       "      <td>NaN</td>\n",
       "      <td>NaN</td>\n",
       "    </tr>\n",
       "    <tr>\n",
       "      <th>2018/12</th>\n",
       "      <td>0.004751</td>\n",
       "      <td>NaN</td>\n",
       "      <td>0.021176</td>\n",
       "      <td>0.006051</td>\n",
       "      <td>0.000618</td>\n",
       "      <td>0.000047</td>\n",
       "      <td>NaN</td>\n",
       "      <td>NaN</td>\n",
       "      <td>NaN</td>\n",
       "      <td>NaN</td>\n",
       "      <td>...</td>\n",
       "      <td>0.000143</td>\n",
       "      <td>NaN</td>\n",
       "      <td>NaN</td>\n",
       "      <td>NaN</td>\n",
       "      <td>NaN</td>\n",
       "      <td>NaN</td>\n",
       "      <td>NaN</td>\n",
       "      <td>NaN</td>\n",
       "      <td>NaN</td>\n",
       "      <td>NaN</td>\n",
       "    </tr>\n",
       "    <tr>\n",
       "      <th>2019/12</th>\n",
       "      <td>0.005522</td>\n",
       "      <td>NaN</td>\n",
       "      <td>0.027773</td>\n",
       "      <td>0.016876</td>\n",
       "      <td>0.000646</td>\n",
       "      <td>0.000017</td>\n",
       "      <td>NaN</td>\n",
       "      <td>NaN</td>\n",
       "      <td>0.011078</td>\n",
       "      <td>NaN</td>\n",
       "      <td>...</td>\n",
       "      <td>0.003396</td>\n",
       "      <td>NaN</td>\n",
       "      <td>NaN</td>\n",
       "      <td>NaN</td>\n",
       "      <td>NaN</td>\n",
       "      <td>NaN</td>\n",
       "      <td>NaN</td>\n",
       "      <td>NaN</td>\n",
       "      <td>NaN</td>\n",
       "      <td>NaN</td>\n",
       "    </tr>\n",
       "  </tbody>\n",
       "</table>\n",
       "<p>3 rows × 2422 columns</p>\n",
       "</div>"
      ],
      "text/plain": [
       "              DSR  GS글로벌  HDC현대산업개발     KG케미칼     LG이노텍      LG전자  LG헬로비전  \\\n",
       "2017/12  0.006514    NaN        NaN  0.004817  0.000736  0.000060     NaN   \n",
       "2018/12  0.004751    NaN   0.021176  0.006051  0.000618  0.000047     NaN   \n",
       "2019/12  0.005522    NaN   0.027773  0.016876  0.000646  0.000017     NaN   \n",
       "\n",
       "         OCI      S&TC    S&T모티브  ...      엔에스엠  원텍  원포유  이노진  지앤이헬스케어  코셋  \\\n",
       "2017/12  NaN       NaN  0.000172  ... -0.003881 NaN  NaN  NaN      NaN NaN   \n",
       "2018/12  NaN       NaN       NaN  ...  0.000143 NaN  NaN  NaN      NaN NaN   \n",
       "2019/12  NaN  0.011078       NaN  ...  0.003396 NaN  NaN  NaN      NaN NaN   \n",
       "\n",
       "         툴젠  플럼라인생명과학  한국미라클피플사  휴벡셀  \n",
       "2017/12 NaN       NaN       NaN  NaN  \n",
       "2018/12 NaN       NaN       NaN  NaN  \n",
       "2019/12 NaN       NaN       NaN  NaN  \n",
       "\n",
       "[3 rows x 2422 columns]"
      ]
     },
     "execution_count": 58,
     "metadata": {},
     "output_type": "execute_result"
    }
   ],
   "source": [
    "# interest_earning_ratio #### 이익수익률"
   ]
  },
  {
   "cell_type": "code",
   "execution_count": 59,
   "id": "coated-daniel",
   "metadata": {
    "tags": []
   },
   "outputs": [
    {
     "data": {
      "text/html": [
       "<div>\n",
       "<style scoped>\n",
       "    .dataframe tbody tr th:only-of-type {\n",
       "        vertical-align: middle;\n",
       "    }\n",
       "\n",
       "    .dataframe tbody tr th {\n",
       "        vertical-align: top;\n",
       "    }\n",
       "\n",
       "    .dataframe thead th {\n",
       "        text-align: right;\n",
       "    }\n",
       "</style>\n",
       "<table border=\"1\" class=\"dataframe\">\n",
       "  <thead>\n",
       "    <tr style=\"text-align: right;\">\n",
       "      <th></th>\n",
       "      <th>155660</th>\n",
       "      <th>001250</th>\n",
       "      <th>294870</th>\n",
       "      <th>001390</th>\n",
       "      <th>011070</th>\n",
       "      <th>066570</th>\n",
       "      <th>037560</th>\n",
       "      <th>010060</th>\n",
       "      <th>100840</th>\n",
       "      <th>064960</th>\n",
       "      <th>...</th>\n",
       "      <th>238170</th>\n",
       "      <th>216280</th>\n",
       "      <th>122830</th>\n",
       "      <th>344860</th>\n",
       "      <th>299480</th>\n",
       "      <th>189350</th>\n",
       "      <th>199800</th>\n",
       "      <th>222670</th>\n",
       "      <th>331660</th>\n",
       "      <th>212310</th>\n",
       "    </tr>\n",
       "  </thead>\n",
       "  <tbody>\n",
       "    <tr>\n",
       "      <th>2017/12</th>\n",
       "      <td>0.0</td>\n",
       "      <td>472.0</td>\n",
       "      <td>NaN</td>\n",
       "      <td>0.0</td>\n",
       "      <td>0.0</td>\n",
       "      <td>0.0</td>\n",
       "      <td>487.0</td>\n",
       "      <td>0.0</td>\n",
       "      <td>0.0</td>\n",
       "      <td>0.0</td>\n",
       "      <td>...</td>\n",
       "      <td>101.0</td>\n",
       "      <td>0.0</td>\n",
       "      <td>NaN</td>\n",
       "      <td>NaN</td>\n",
       "      <td>0.0</td>\n",
       "      <td>0.0</td>\n",
       "      <td>0.0</td>\n",
       "      <td>8.0</td>\n",
       "      <td>NaN</td>\n",
       "      <td>0.0</td>\n",
       "    </tr>\n",
       "    <tr>\n",
       "      <th>2018/12</th>\n",
       "      <td>0.0</td>\n",
       "      <td>0.0</td>\n",
       "      <td>0.0</td>\n",
       "      <td>0.0</td>\n",
       "      <td>0.0</td>\n",
       "      <td>0.0</td>\n",
       "      <td>219.0</td>\n",
       "      <td>0.0</td>\n",
       "      <td>0.0</td>\n",
       "      <td>NaN</td>\n",
       "      <td>...</td>\n",
       "      <td>0.0</td>\n",
       "      <td>0.0</td>\n",
       "      <td>0.0</td>\n",
       "      <td>NaN</td>\n",
       "      <td>0.0</td>\n",
       "      <td>NaN</td>\n",
       "      <td>0.0</td>\n",
       "      <td>17.0</td>\n",
       "      <td>0.0</td>\n",
       "      <td>0.0</td>\n",
       "    </tr>\n",
       "    <tr>\n",
       "      <th>2019/12</th>\n",
       "      <td>0.0</td>\n",
       "      <td>0.0</td>\n",
       "      <td>0.0</td>\n",
       "      <td>0.0</td>\n",
       "      <td>0.0</td>\n",
       "      <td>0.0</td>\n",
       "      <td>2524.0</td>\n",
       "      <td>0.0</td>\n",
       "      <td>0.0</td>\n",
       "      <td>NaN</td>\n",
       "      <td>...</td>\n",
       "      <td>0.0</td>\n",
       "      <td>61.0</td>\n",
       "      <td>3.0</td>\n",
       "      <td>0.0</td>\n",
       "      <td>0.0</td>\n",
       "      <td>NaN</td>\n",
       "      <td>0.0</td>\n",
       "      <td>48.0</td>\n",
       "      <td>15.0</td>\n",
       "      <td>0.0</td>\n",
       "    </tr>\n",
       "  </tbody>\n",
       "</table>\n",
       "<p>3 rows × 2422 columns</p>\n",
       "</div>"
      ],
      "text/plain": [
       "         155660  001250  294870  001390  011070  066570  037560  010060  \\\n",
       "2017/12     0.0   472.0     NaN     0.0     0.0     0.0   487.0     0.0   \n",
       "2018/12     0.0     0.0     0.0     0.0     0.0     0.0   219.0     0.0   \n",
       "2019/12     0.0     0.0     0.0     0.0     0.0     0.0  2524.0     0.0   \n",
       "\n",
       "         100840  064960  ...  238170  216280  122830  344860  299480  189350  \\\n",
       "2017/12     0.0     0.0  ...   101.0     0.0     NaN     NaN     0.0     0.0   \n",
       "2018/12     0.0     NaN  ...     0.0     0.0     0.0     NaN     0.0     NaN   \n",
       "2019/12     0.0     NaN  ...     0.0    61.0     3.0     0.0     0.0     NaN   \n",
       "\n",
       "         199800  222670  331660  212310  \n",
       "2017/12     0.0     8.0     NaN     0.0  \n",
       "2018/12     0.0    17.0     0.0     0.0  \n",
       "2019/12     0.0    48.0    15.0     0.0  \n",
       "\n",
       "[3 rows x 2422 columns]"
      ]
     },
     "execution_count": 59,
     "metadata": {},
     "output_type": "execute_result"
    }
   ],
   "source": [
    "# total_c #### 유동부채 - 유동자산"
   ]
  },
  {
   "cell_type": "code",
   "execution_count": 60,
   "id": "atomic-aaron",
   "metadata": {
    "tags": []
   },
   "outputs": [
    {
     "data": {
      "text/html": [
       "<div>\n",
       "<style scoped>\n",
       "    .dataframe tbody tr th:only-of-type {\n",
       "        vertical-align: middle;\n",
       "    }\n",
       "\n",
       "    .dataframe tbody tr th {\n",
       "        vertical-align: top;\n",
       "    }\n",
       "\n",
       "    .dataframe thead th {\n",
       "        text-align: right;\n",
       "    }\n",
       "</style>\n",
       "<table border=\"1\" class=\"dataframe\">\n",
       "  <thead>\n",
       "    <tr style=\"text-align: right;\">\n",
       "      <th></th>\n",
       "      <th>DSR</th>\n",
       "      <th>GS글로벌</th>\n",
       "      <th>HDC현대산업개발</th>\n",
       "      <th>KG케미칼</th>\n",
       "      <th>LG이노텍</th>\n",
       "      <th>LG전자</th>\n",
       "      <th>LG헬로비전</th>\n",
       "      <th>OCI</th>\n",
       "      <th>S&amp;TC</th>\n",
       "      <th>S&amp;T모티브</th>\n",
       "      <th>...</th>\n",
       "      <th>엔에스엠</th>\n",
       "      <th>원텍</th>\n",
       "      <th>원포유</th>\n",
       "      <th>이노진</th>\n",
       "      <th>지앤이헬스케어</th>\n",
       "      <th>코셋</th>\n",
       "      <th>툴젠</th>\n",
       "      <th>플럼라인생명과학</th>\n",
       "      <th>한국미라클피플사</th>\n",
       "      <th>휴벡셀</th>\n",
       "    </tr>\n",
       "  </thead>\n",
       "  <tbody>\n",
       "    <tr>\n",
       "      <th>2017/12</th>\n",
       "      <td>1100.0</td>\n",
       "      <td>5861.0</td>\n",
       "      <td>NaN</td>\n",
       "      <td>7672.0</td>\n",
       "      <td>29209.0</td>\n",
       "      <td>214044.0</td>\n",
       "      <td>14563.0</td>\n",
       "      <td>36862.0</td>\n",
       "      <td>NaN</td>\n",
       "      <td>4928.0</td>\n",
       "      <td>...</td>\n",
       "      <td>294.0</td>\n",
       "      <td>86.0</td>\n",
       "      <td>NaN</td>\n",
       "      <td>NaN</td>\n",
       "      <td>NaN</td>\n",
       "      <td>NaN</td>\n",
       "      <td>66.0</td>\n",
       "      <td>NaN</td>\n",
       "      <td>NaN</td>\n",
       "      <td>NaN</td>\n",
       "    </tr>\n",
       "    <tr>\n",
       "      <th>2018/12</th>\n",
       "      <td>1040.0</td>\n",
       "      <td>5179.0</td>\n",
       "      <td>10155.0</td>\n",
       "      <td>8386.0</td>\n",
       "      <td>31434.0</td>\n",
       "      <td>241701.0</td>\n",
       "      <td>14702.0</td>\n",
       "      <td>33494.0</td>\n",
       "      <td>NaN</td>\n",
       "      <td>NaN</td>\n",
       "      <td>...</td>\n",
       "      <td>173.0</td>\n",
       "      <td>121.0</td>\n",
       "      <td>NaN</td>\n",
       "      <td>NaN</td>\n",
       "      <td>NaN</td>\n",
       "      <td>NaN</td>\n",
       "      <td>71.0</td>\n",
       "      <td>NaN</td>\n",
       "      <td>NaN</td>\n",
       "      <td>NaN</td>\n",
       "    </tr>\n",
       "    <tr>\n",
       "      <th>2019/12</th>\n",
       "      <td>1149.0</td>\n",
       "      <td>4648.0</td>\n",
       "      <td>13795.0</td>\n",
       "      <td>27709.0</td>\n",
       "      <td>27850.0</td>\n",
       "      <td>239558.0</td>\n",
       "      <td>16299.0</td>\n",
       "      <td>23491.0</td>\n",
       "      <td>1281.0</td>\n",
       "      <td>NaN</td>\n",
       "      <td>...</td>\n",
       "      <td>131.0</td>\n",
       "      <td>192.0</td>\n",
       "      <td>NaN</td>\n",
       "      <td>21.0</td>\n",
       "      <td>NaN</td>\n",
       "      <td>NaN</td>\n",
       "      <td>78.0</td>\n",
       "      <td>NaN</td>\n",
       "      <td>NaN</td>\n",
       "      <td>NaN</td>\n",
       "    </tr>\n",
       "  </tbody>\n",
       "</table>\n",
       "<p>3 rows × 2422 columns</p>\n",
       "</div>"
      ],
      "text/plain": [
       "            DSR   GS글로벌  HDC현대산업개발    KG케미칼    LG이노텍      LG전자   LG헬로비전  \\\n",
       "2017/12  1100.0  5861.0        NaN   7672.0  29209.0  214044.0  14563.0   \n",
       "2018/12  1040.0  5179.0    10155.0   8386.0  31434.0  241701.0  14702.0   \n",
       "2019/12  1149.0  4648.0    13795.0  27709.0  27850.0  239558.0  16299.0   \n",
       "\n",
       "             OCI    S&TC  S&T모티브  ...   엔에스엠     원텍  원포유   이노진  지앤이헬스케어  코셋  \\\n",
       "2017/12  36862.0     NaN  4928.0  ...  294.0   86.0  NaN   NaN      NaN NaN   \n",
       "2018/12  33494.0     NaN     NaN  ...  173.0  121.0  NaN   NaN      NaN NaN   \n",
       "2019/12  23491.0  1281.0     NaN  ...  131.0  192.0  NaN  21.0      NaN NaN   \n",
       "\n",
       "           툴젠  플럼라인생명과학  한국미라클피플사  휴벡셀  \n",
       "2017/12  66.0       NaN       NaN  NaN  \n",
       "2018/12  71.0       NaN       NaN  NaN  \n",
       "2019/12  78.0       NaN       NaN  NaN  \n",
       "\n",
       "[3 rows x 2422 columns]"
      ]
     },
     "execution_count": 60,
     "metadata": {},
     "output_type": "execute_result"
    }
   ],
   "source": [
    "current_d = data_f['감가상각비']\n",
    "current_d = current_d.T\n",
    "current_na = data_f['비유동자산'] + data_f['기타비유동자산']\n",
    "current_na = current_na.T\n",
    "\n",
    "total_d = current_na - current_d #### 비유동자산 - 감가상각비\n",
    "\n",
    "total_denominator = total_c + total_d  #### 유동부채 - 유동자산 + 비유동자산 - 감가상각비\n",
    "\n",
    "\n",
    "total_denominator_n = pd.DataFrame({\"종목코드\" :list(total_denominator.columns)})\n",
    "total_denominator_nn = total_denominator_n.merge(tn)\n",
    "total_denominator.columns = list(total_denominator_nn['회사명'])\n",
    "\n",
    "# total_denominator"
   ]
  },
  {
   "cell_type": "code",
   "execution_count": 61,
   "id": "advance-decade",
   "metadata": {
    "tags": []
   },
   "outputs": [],
   "source": [
    "capital_ratio = ebit / total_denominator"
   ]
  },
  {
   "cell_type": "code",
   "execution_count": 62,
   "id": "center-holiday",
   "metadata": {
    "tags": []
   },
   "outputs": [
    {
     "data": {
      "text/html": [
       "<div>\n",
       "<style scoped>\n",
       "    .dataframe tbody tr th:only-of-type {\n",
       "        vertical-align: middle;\n",
       "    }\n",
       "\n",
       "    .dataframe tbody tr th {\n",
       "        vertical-align: top;\n",
       "    }\n",
       "\n",
       "    .dataframe thead th {\n",
       "        text-align: right;\n",
       "    }\n",
       "</style>\n",
       "<table border=\"1\" class=\"dataframe\">\n",
       "  <thead>\n",
       "    <tr style=\"text-align: right;\">\n",
       "      <th></th>\n",
       "      <th>DSR</th>\n",
       "      <th>GS글로벌</th>\n",
       "      <th>HDC현대산업개발</th>\n",
       "      <th>KG케미칼</th>\n",
       "      <th>LG이노텍</th>\n",
       "      <th>LG전자</th>\n",
       "      <th>LG헬로비전</th>\n",
       "      <th>OCI</th>\n",
       "      <th>S&amp;TC</th>\n",
       "      <th>S&amp;T모티브</th>\n",
       "      <th>...</th>\n",
       "      <th>엔에스엠</th>\n",
       "      <th>원텍</th>\n",
       "      <th>원포유</th>\n",
       "      <th>이노진</th>\n",
       "      <th>지앤이헬스케어</th>\n",
       "      <th>코셋</th>\n",
       "      <th>툴젠</th>\n",
       "      <th>플럼라인생명과학</th>\n",
       "      <th>한국미라클피플사</th>\n",
       "      <th>휴벡셀</th>\n",
       "    </tr>\n",
       "  </thead>\n",
       "  <tbody>\n",
       "    <tr>\n",
       "      <th>2017/12</th>\n",
       "      <td>0.133636</td>\n",
       "      <td>0.067053</td>\n",
       "      <td>NaN</td>\n",
       "      <td>0.031934</td>\n",
       "      <td>0.093122</td>\n",
       "      <td>0.129959</td>\n",
       "      <td>0.041338</td>\n",
       "      <td>0.093647</td>\n",
       "      <td>NaN</td>\n",
       "      <td>0.142045</td>\n",
       "      <td>...</td>\n",
       "      <td>-0.112245</td>\n",
       "      <td>NaN</td>\n",
       "      <td>NaN</td>\n",
       "      <td>NaN</td>\n",
       "      <td>NaN</td>\n",
       "      <td>NaN</td>\n",
       "      <td>NaN</td>\n",
       "      <td>NaN</td>\n",
       "      <td>NaN</td>\n",
       "      <td>NaN</td>\n",
       "    </tr>\n",
       "    <tr>\n",
       "      <th>2018/12</th>\n",
       "      <td>0.106731</td>\n",
       "      <td>0.096158</td>\n",
       "      <td>0.333038</td>\n",
       "      <td>0.041617</td>\n",
       "      <td>0.075810</td>\n",
       "      <td>0.090624</td>\n",
       "      <td>0.047340</td>\n",
       "      <td>0.059085</td>\n",
       "      <td>NaN</td>\n",
       "      <td>NaN</td>\n",
       "      <td>...</td>\n",
       "      <td>0.005780</td>\n",
       "      <td>NaN</td>\n",
       "      <td>NaN</td>\n",
       "      <td>NaN</td>\n",
       "      <td>NaN</td>\n",
       "      <td>NaN</td>\n",
       "      <td>NaN</td>\n",
       "      <td>NaN</td>\n",
       "      <td>NaN</td>\n",
       "      <td>NaN</td>\n",
       "    </tr>\n",
       "    <tr>\n",
       "      <th>2019/12</th>\n",
       "      <td>0.113142</td>\n",
       "      <td>0.026033</td>\n",
       "      <td>0.417615</td>\n",
       "      <td>0.065033</td>\n",
       "      <td>0.089408</td>\n",
       "      <td>0.032861</td>\n",
       "      <td>-0.043806</td>\n",
       "      <td>-0.402580</td>\n",
       "      <td>0.156909</td>\n",
       "      <td>NaN</td>\n",
       "      <td>...</td>\n",
       "      <td>0.190840</td>\n",
       "      <td>NaN</td>\n",
       "      <td>NaN</td>\n",
       "      <td>NaN</td>\n",
       "      <td>NaN</td>\n",
       "      <td>NaN</td>\n",
       "      <td>NaN</td>\n",
       "      <td>NaN</td>\n",
       "      <td>NaN</td>\n",
       "      <td>NaN</td>\n",
       "    </tr>\n",
       "  </tbody>\n",
       "</table>\n",
       "<p>3 rows × 2422 columns</p>\n",
       "</div>"
      ],
      "text/plain": [
       "              DSR     GS글로벌  HDC현대산업개발     KG케미칼     LG이노텍      LG전자  \\\n",
       "2017/12  0.133636  0.067053        NaN  0.031934  0.093122  0.129959   \n",
       "2018/12  0.106731  0.096158   0.333038  0.041617  0.075810  0.090624   \n",
       "2019/12  0.113142  0.026033   0.417615  0.065033  0.089408  0.032861   \n",
       "\n",
       "           LG헬로비전       OCI      S&TC    S&T모티브  ...      엔에스엠  원텍  원포유  이노진  \\\n",
       "2017/12  0.041338  0.093647       NaN  0.142045  ... -0.112245 NaN  NaN  NaN   \n",
       "2018/12  0.047340  0.059085       NaN       NaN  ...  0.005780 NaN  NaN  NaN   \n",
       "2019/12 -0.043806 -0.402580  0.156909       NaN  ...  0.190840 NaN  NaN  NaN   \n",
       "\n",
       "         지앤이헬스케어  코셋  툴젠  플럼라인생명과학  한국미라클피플사  휴벡셀  \n",
       "2017/12      NaN NaN NaN       NaN       NaN  NaN  \n",
       "2018/12      NaN NaN NaN       NaN       NaN  NaN  \n",
       "2019/12      NaN NaN NaN       NaN       NaN  NaN  \n",
       "\n",
       "[3 rows x 2422 columns]"
      ]
     },
     "execution_count": 62,
     "metadata": {},
     "output_type": "execute_result"
    }
   ],
   "source": [
    "# capital_ratio  #### 투하자본 수익률"
   ]
  },
  {
   "cell_type": "code",
   "execution_count": 184,
   "id": "genetic-throat",
   "metadata": {
    "tags": []
   },
   "outputs": [
    {
     "data": {
      "text/plain": [
       "DSR           0.535737\n",
       "GS글로벌         0.484470\n",
       "HDC현대산업개발     0.800326\n",
       "KG케미칼         0.259553\n",
       "LG이노텍         2.216846\n",
       "               ...    \n",
       "지앤이헬스케어       2.978699\n",
       "코셋            1.138739\n",
       "툴젠           28.133496\n",
       "한국미라클피플사      4.694186\n",
       "휴벡셀           5.766157\n",
       "Name: PBR, Length: 2298, dtype: float64"
      ]
     },
     "execution_count": 184,
     "metadata": {},
     "output_type": "execute_result"
    }
   ],
   "source": [
    "#### PBR 추출\n",
    "pbr = data_i.iloc[1,:]\n",
    "pbr.dropna(axis = 0)"
   ]
  },
  {
   "cell_type": "code",
   "execution_count": 185,
   "id": "chubby-headquarters",
   "metadata": {},
   "outputs": [],
   "source": [
    "#### matplotlib 한글폰트 사용\n",
    "from matplotlib import font_manager, rc\n",
    "plt.rcParams['axes.unicode_minus'] = False\n",
    "\n",
    "# f_path = \"/Library/Fonts/Arial Unicode.ttf\"  #### mac\n",
    "f_path = \"c:/Windows/Fonts/malgun.ttf\"  #### window\n",
    "font_name = font_manager.FontProperties(fname=f_path).get_name()\n",
    "rc('font', family=font_name)"
   ]
  },
  {
   "cell_type": "code",
   "execution_count": 186,
   "id": "altered-portal",
   "metadata": {},
   "outputs": [
    {
     "data": {
      "text/plain": [
       "<AxesSubplot:>"
      ]
     },
     "execution_count": 186,
     "metadata": {},
     "output_type": "execute_result"
    },
    {
     "data": {
      "image/png": "[encoded data removed]",
      "text/plain": [
       "<Figure size 432x288 with 1 Axes>"
      ]
     },
     "metadata": {
      "needs_background": "light"
     },
     "output_type": "display_data"
    }
   ],
   "source": [
    "pbr = pd.DataFrame(pbr)\n",
    "pbr_s = pbr.sort_values(by = \"PBR\")\n",
    "# pbr.plot()"
   ]
  },
  {
   "cell_type": "code",
   "execution_count": 187,
   "id": "frozen-prediction",
   "metadata": {},
   "outputs": [
    {
     "data": {
      "text/html": [
       "<div>\n",
       "<style scoped>\n",
       "    .dataframe tbody tr th:only-of-type {\n",
       "        vertical-align: middle;\n",
       "    }\n",
       "\n",
       "    .dataframe tbody tr th {\n",
       "        vertical-align: top;\n",
       "    }\n",
       "\n",
       "    .dataframe thead th {\n",
       "        text-align: right;\n",
       "    }\n",
       "</style>\n",
       "<table border=\"1\" class=\"dataframe\">\n",
       "  <thead>\n",
       "    <tr style=\"text-align: right;\">\n",
       "      <th></th>\n",
       "      <th>PBR</th>\n",
       "      <th>percentile rank</th>\n",
       "      <th>rank</th>\n",
       "    </tr>\n",
       "  </thead>\n",
       "  <tbody>\n",
       "    <tr>\n",
       "      <th>에스알바이오텍</th>\n",
       "      <td>inf</td>\n",
       "      <td>NaN</td>\n",
       "      <td>1.0</td>\n",
       "    </tr>\n",
       "  </tbody>\n",
       "</table>\n",
       "</div>"
      ],
      "text/plain": [
       "         PBR  percentile rank  rank\n",
       "에스알바이오텍  inf              NaN   1.0"
      ]
     },
     "execution_count": 187,
     "metadata": {},
     "output_type": "execute_result"
    }
   ],
   "source": [
    "pbr['percentile rank'] = pbr.rank(pct = True) ### pbr의 percentile rank\n",
    "pbr['rank'] = pbr['PBR'].rank(ascending = False)"
   ]
  },
  {
   "cell_type": "code",
   "execution_count": 191,
   "id": "amateur-acting",
   "metadata": {},
   "outputs": [],
   "source": [
    "#### 상위 1% 이상의 값을 1%의 pbr 값으로 대체\n",
    "pbr['PBR'][pbr['percentile rank'] > 0.99] = pbr['PBR'][pbr['rank'] == round(len(pbr) * 0.01)][0]"
   ]
  },
  {
   "cell_type": "code",
   "execution_count": 202,
   "id": "grateful-saver",
   "metadata": {},
   "outputs": [],
   "source": [
    "#### 하위 1% 이하의 값을 1%의 최소 PBR로 대체\n",
    "pbr['PBR'][pbr['percentile rank'] < 0.01] = pbr['PBR'][pbr['rank'] == 2298][0]"
   ]
  },
  {
   "cell_type": "code",
   "execution_count": 212,
   "id": "hindu-throat",
   "metadata": {},
   "outputs": [],
   "source": [
    "#### 2021년 3월 10일을 기준으로 3개월, 6개월, 12개월의 data만 추출 -> 직접 타이핑이 아닌 option으로 할 수 있는 방법 없나..?\n",
    "data_p_3m = data_p['2020-12-10':'2021-03-10']\n",
    "data_p_6m = data_p['2020-09-10':'2021-03-10']\n",
    "data_p_12m = data_p['2020-03-10':'2021-03-10']"
   ]
  },
  {
   "cell_type": "code",
   "execution_count": 235,
   "id": "clear-liberia",
   "metadata": {},
   "outputs": [],
   "source": [
    "data_p_3m_cr = (data_p_3m.pct_change() + 1).prod() #### 3개월 누적 수익률(1일단위 수익률의 곱)\n",
    "data_p_3m_cr = pd.DataFrame(data_p_3m_cr)\n",
    "data_p_3m_cr.columns = ['3m']\n",
    "data_p_6m_cr = (data_p_6m.pct_change() + 1).prod() #### 6개월 누적 수익률(1일단위 수익률의 곱)\n",
    "data_p_6m_cr = pd.DataFrame(data_p_6m_cr)\n",
    "data_p_6m_cr.columns = ['6m']\n",
    "data_p_12m_cr = (data_p_12m.pct_change() + 1).prod() #### 12개월 누적 수익률(1일단위 수익률의 곱)\n",
    "data_p_12m_cr = pd.DataFrame(data_p_12m_cr)\n",
    "data_p_12m_cr.columns = ['12m']"
   ]
  },
  {
   "cell_type": "code",
   "execution_count": 242,
   "id": "operational-cuisine",
   "metadata": {},
   "outputs": [],
   "source": [
    "data_p_totalratio = pd.concat([data_p_3m_cr,data_p_6m_cr,data_p_12m_cr], axis = 1) #### 3, 6, 12개월 수익률 합침"
   ]
  },
  {
   "cell_type": "code",
   "execution_count": 249,
   "id": "oriented-thunder",
   "metadata": {},
   "outputs": [],
   "source": [
    "#### 수익률 별 rank\n",
    "data_p_totalratio['3m rank']  = data_p_totalratio['3m'].rank(ascending=False)\n",
    "data_p_totalratio['6m rank']  = data_p_totalratio['6m'].rank(ascending=False)\n",
    "data_p_totalratio['12m rank']  = data_p_totalratio['12m'].rank(ascending=False)"
   ]
  },
  {
   "cell_type": "code",
   "execution_count": 250,
   "id": "inside-blond",
   "metadata": {},
   "outputs": [
    {
     "data": {
      "text/html": [
       "<div>\n",
       "<style scoped>\n",
       "    .dataframe tbody tr th:only-of-type {\n",
       "        vertical-align: middle;\n",
       "    }\n",
       "\n",
       "    .dataframe tbody tr th {\n",
       "        vertical-align: top;\n",
       "    }\n",
       "\n",
       "    .dataframe thead th {\n",
       "        text-align: right;\n",
       "    }\n",
       "</style>\n",
       "<table border=\"1\" class=\"dataframe\">\n",
       "  <thead>\n",
       "    <tr style=\"text-align: right;\">\n",
       "      <th></th>\n",
       "      <th>3m</th>\n",
       "      <th>6m</th>\n",
       "      <th>12m</th>\n",
       "      <th>3m rank</th>\n",
       "      <th>6m rank</th>\n",
       "      <th>12m rank</th>\n",
       "    </tr>\n",
       "  </thead>\n",
       "  <tbody>\n",
       "    <tr>\n",
       "      <th>GS글로벌</th>\n",
       "      <td>1.162304</td>\n",
       "      <td>1.275862</td>\n",
       "      <td>1.302053</td>\n",
       "      <td>325.0</td>\n",
       "      <td>368.0</td>\n",
       "      <td>669.0</td>\n",
       "    </tr>\n",
       "    <tr>\n",
       "      <th>KG케미칼</th>\n",
       "      <td>1.058696</td>\n",
       "      <td>1.106818</td>\n",
       "      <td>1.932540</td>\n",
       "      <td>536.0</td>\n",
       "      <td>652.0</td>\n",
       "      <td>223.0</td>\n",
       "    </tr>\n",
       "    <tr>\n",
       "      <th>LG이노텍</th>\n",
       "      <td>1.245562</td>\n",
       "      <td>1.241888</td>\n",
       "      <td>1.650980</td>\n",
       "      <td>212.0</td>\n",
       "      <td>428.0</td>\n",
       "      <td>353.0</td>\n",
       "    </tr>\n",
       "    <tr>\n",
       "      <th>LG전자</th>\n",
       "      <td>1.493711</td>\n",
       "      <td>1.528970</td>\n",
       "      <td>2.375000</td>\n",
       "      <td>86.0</td>\n",
       "      <td>190.0</td>\n",
       "      <td>112.0</td>\n",
       "    </tr>\n",
       "    <tr>\n",
       "      <th>OCI</th>\n",
       "      <td>1.722874</td>\n",
       "      <td>1.636490</td>\n",
       "      <td>2.473684</td>\n",
       "      <td>40.0</td>\n",
       "      <td>141.0</td>\n",
       "      <td>93.0</td>\n",
       "    </tr>\n",
       "    <tr>\n",
       "      <th>...</th>\n",
       "      <td>...</td>\n",
       "      <td>...</td>\n",
       "      <td>...</td>\n",
       "      <td>...</td>\n",
       "      <td>...</td>\n",
       "      <td>...</td>\n",
       "    </tr>\n",
       "    <tr>\n",
       "      <th>행남사</th>\n",
       "      <td>1.000000</td>\n",
       "      <td>1.000000</td>\n",
       "      <td>1.000000</td>\n",
       "      <td>764.0</td>\n",
       "      <td>907.0</td>\n",
       "      <td>1114.5</td>\n",
       "    </tr>\n",
       "    <tr>\n",
       "      <th>홈센타홀딩스</th>\n",
       "      <td>0.912046</td>\n",
       "      <td>0.824546</td>\n",
       "      <td>0.912046</td>\n",
       "      <td>1038.0</td>\n",
       "      <td>1182.0</td>\n",
       "      <td>1216.0</td>\n",
       "    </tr>\n",
       "    <tr>\n",
       "      <th>KOSPI</th>\n",
       "      <td>1.077066</td>\n",
       "      <td>1.234360</td>\n",
       "      <td>1.506992</td>\n",
       "      <td>487.0</td>\n",
       "      <td>437.0</td>\n",
       "      <td>451.0</td>\n",
       "    </tr>\n",
       "    <tr>\n",
       "      <th>KPI200</th>\n",
       "      <td>1.092346</td>\n",
       "      <td>1.274698</td>\n",
       "      <td>1.524464</td>\n",
       "      <td>448.0</td>\n",
       "      <td>370.0</td>\n",
       "      <td>442.0</td>\n",
       "    </tr>\n",
       "    <tr>\n",
       "      <th>KOSDAQ</th>\n",
       "      <td>0.965683</td>\n",
       "      <td>1.006525</td>\n",
       "      <td>1.435666</td>\n",
       "      <td>901.0</td>\n",
       "      <td>866.0</td>\n",
       "      <td>521.0</td>\n",
       "    </tr>\n",
       "  </tbody>\n",
       "</table>\n",
       "<p>1367 rows × 6 columns</p>\n",
       "</div>"
      ],
      "text/plain": [
       "              3m        6m       12m  3m rank  6m rank  12m rank\n",
       "GS글로벌   1.162304  1.275862  1.302053    325.0    368.0     669.0\n",
       "KG케미칼   1.058696  1.106818  1.932540    536.0    652.0     223.0\n",
       "LG이노텍   1.245562  1.241888  1.650980    212.0    428.0     353.0\n",
       "LG전자    1.493711  1.528970  2.375000     86.0    190.0     112.0\n",
       "OCI     1.722874  1.636490  2.473684     40.0    141.0      93.0\n",
       "...          ...       ...       ...      ...      ...       ...\n",
       "행남사     1.000000  1.000000  1.000000    764.0    907.0    1114.5\n",
       "홈센타홀딩스  0.912046  0.824546  0.912046   1038.0   1182.0    1216.0\n",
       "KOSPI   1.077066  1.234360  1.506992    487.0    437.0     451.0\n",
       "KPI200  1.092346  1.274698  1.524464    448.0    370.0     442.0\n",
       "KOSDAQ  0.965683  1.006525  1.435666    901.0    866.0     521.0\n",
       "\n",
       "[1367 rows x 6 columns]"
      ]
     },
     "execution_count": 250,
     "metadata": {},
     "output_type": "execute_result"
    }
   ],
   "source": [
    "# data_p_totalratio"
   ]
  },
  {
   "cell_type": "code",
   "execution_count": 254,
   "id": "racial-preparation",
   "metadata": {},
   "outputs": [],
   "source": [
    "data_it = data_i.T"
   ]
  },
  {
   "cell_type": "code",
   "execution_count": 259,
   "id": "armed-replica",
   "metadata": {},
   "outputs": [],
   "source": [
    "pd_ratio_indicator = pd.merge(left = data_p_totalratio, right=data_it, how = 'left', left_index = True, right_index = True) #### 수익률과 indicator 합침"
   ]
  },
  {
   "cell_type": "code",
   "execution_count": 297,
   "id": "fatal-archives",
   "metadata": {
    "tags": []
   },
   "outputs": [
    {
     "data": {
      "text/html": [
       "<div>\n",
       "<style scoped>\n",
       "    .dataframe tbody tr th:only-of-type {\n",
       "        vertical-align: middle;\n",
       "    }\n",
       "\n",
       "    .dataframe tbody tr th {\n",
       "        vertical-align: top;\n",
       "    }\n",
       "\n",
       "    .dataframe thead th {\n",
       "        text-align: right;\n",
       "    }\n",
       "</style>\n",
       "<table border=\"1\" class=\"dataframe\">\n",
       "  <thead>\n",
       "    <tr style=\"text-align: right;\">\n",
       "      <th></th>\n",
       "      <th>total_profit_2017</th>\n",
       "      <th>total_profit_2018</th>\n",
       "      <th>total_profit_2019</th>\n",
       "    </tr>\n",
       "  </thead>\n",
       "  <tbody>\n",
       "    <tr>\n",
       "      <th>DSR</th>\n",
       "      <td>340.0</td>\n",
       "      <td>276.0</td>\n",
       "      <td>295.0</td>\n",
       "    </tr>\n",
       "    <tr>\n",
       "      <th>GS글로벌</th>\n",
       "      <td>1400.0</td>\n",
       "      <td>1387.0</td>\n",
       "      <td>1480.0</td>\n",
       "    </tr>\n",
       "    <tr>\n",
       "      <th>HDC현대산업개발</th>\n",
       "      <td>NaN</td>\n",
       "      <td>4489.0</td>\n",
       "      <td>7536.0</td>\n",
       "    </tr>\n",
       "    <tr>\n",
       "      <th>KG케미칼</th>\n",
       "      <td>3221.0</td>\n",
       "      <td>3987.0</td>\n",
       "      <td>4809.0</td>\n",
       "    </tr>\n",
       "    <tr>\n",
       "      <th>LG이노텍</th>\n",
       "      <td>8847.0</td>\n",
       "      <td>8639.0</td>\n",
       "      <td>10419.0</td>\n",
       "    </tr>\n",
       "    <tr>\n",
       "      <th>...</th>\n",
       "      <td>...</td>\n",
       "      <td>...</td>\n",
       "      <td>...</td>\n",
       "    </tr>\n",
       "    <tr>\n",
       "      <th>코셋</th>\n",
       "      <td>35.0</td>\n",
       "      <td>17.0</td>\n",
       "      <td>16.0</td>\n",
       "    </tr>\n",
       "    <tr>\n",
       "      <th>툴젠</th>\n",
       "      <td>29.0</td>\n",
       "      <td>8.0</td>\n",
       "      <td>7.0</td>\n",
       "    </tr>\n",
       "    <tr>\n",
       "      <th>플럼라인생명과학</th>\n",
       "      <td>NaN</td>\n",
       "      <td>NaN</td>\n",
       "      <td>NaN</td>\n",
       "    </tr>\n",
       "    <tr>\n",
       "      <th>한국미라클피플사</th>\n",
       "      <td>NaN</td>\n",
       "      <td>142.0</td>\n",
       "      <td>122.0</td>\n",
       "    </tr>\n",
       "    <tr>\n",
       "      <th>휴벡셀</th>\n",
       "      <td>46.0</td>\n",
       "      <td>39.0</td>\n",
       "      <td>-0.0</td>\n",
       "    </tr>\n",
       "  </tbody>\n",
       "</table>\n",
       "<p>2422 rows × 3 columns</p>\n",
       "</div>"
      ],
      "text/plain": [
       "           total_profit_2017  total_profit_2018  total_profit_2019\n",
       "DSR                    340.0              276.0              295.0\n",
       "GS글로벌                 1400.0             1387.0             1480.0\n",
       "HDC현대산업개발                NaN             4489.0             7536.0\n",
       "KG케미칼                 3221.0             3987.0             4809.0\n",
       "LG이노텍                 8847.0             8639.0            10419.0\n",
       "...                      ...                ...                ...\n",
       "코셋                      35.0               17.0               16.0\n",
       "툴젠                      29.0                8.0                7.0\n",
       "플럼라인생명과학                 NaN                NaN                NaN\n",
       "한국미라클피플사                 NaN              142.0              122.0\n",
       "휴벡셀                     46.0               39.0               -0.0\n",
       "\n",
       "[2422 rows x 3 columns]"
      ]
     },
     "execution_count": 297,
     "metadata": {},
     "output_type": "execute_result"
    }
   ],
   "source": [
    "#### 2017 ~ 2019 매출총이익 추출\n",
    "total_profit = data_f['매출총이익']\n",
    "total_profit = total_profit.T\n",
    "\n",
    "total_profit_n = pd.DataFrame({\"종목코드\" :list(total_profit.columns)})\n",
    "total_profit_nn = total_profit_n.merge(tn)\n",
    "total_profit.columns = list(total_profit_nn['회사명'])\n",
    "\n",
    "total_profit_2017 = total_profit.iloc[0,:]\n",
    "total_profit_2018 = total_profit.iloc[1,:]\n",
    "total_profit_2019 = total_profit.iloc[2,:]\n",
    "total_profit = total_profit.T\n",
    "total_profit.columns = ['total_profit_2017', 'total_profit_2018', 'total_profit_2019']"
   ]
  },
  {
   "cell_type": "code",
   "execution_count": 299,
   "id": "missing-celtic",
   "metadata": {},
   "outputs": [
    {
     "data": {
      "text/html": [
       "<div>\n",
       "<style scoped>\n",
       "    .dataframe tbody tr th:only-of-type {\n",
       "        vertical-align: middle;\n",
       "    }\n",
       "\n",
       "    .dataframe tbody tr th {\n",
       "        vertical-align: top;\n",
       "    }\n",
       "\n",
       "    .dataframe thead th {\n",
       "        text-align: right;\n",
       "    }\n",
       "</style>\n",
       "<table border=\"1\" class=\"dataframe\">\n",
       "  <thead>\n",
       "    <tr style=\"text-align: right;\">\n",
       "      <th></th>\n",
       "      <th>total_profit_2017</th>\n",
       "      <th>total_profit_2018</th>\n",
       "      <th>total_profit_2019</th>\n",
       "      <th>2017 rank</th>\n",
       "      <th>2018 rank</th>\n",
       "      <th>2019 rank</th>\n",
       "    </tr>\n",
       "  </thead>\n",
       "  <tbody>\n",
       "    <tr>\n",
       "      <th>DSR</th>\n",
       "      <td>340.0</td>\n",
       "      <td>276.0</td>\n",
       "      <td>295.0</td>\n",
       "      <td>837.0</td>\n",
       "      <td>971.0</td>\n",
       "      <td>953.5</td>\n",
       "    </tr>\n",
       "    <tr>\n",
       "      <th>GS글로벌</th>\n",
       "      <td>1400.0</td>\n",
       "      <td>1387.0</td>\n",
       "      <td>1480.0</td>\n",
       "      <td>301.0</td>\n",
       "      <td>318.0</td>\n",
       "      <td>325.5</td>\n",
       "    </tr>\n",
       "    <tr>\n",
       "      <th>HDC현대산업개발</th>\n",
       "      <td>NaN</td>\n",
       "      <td>4489.0</td>\n",
       "      <td>7536.0</td>\n",
       "      <td>NaN</td>\n",
       "      <td>136.0</td>\n",
       "      <td>101.0</td>\n",
       "    </tr>\n",
       "    <tr>\n",
       "      <th>KG케미칼</th>\n",
       "      <td>3221.0</td>\n",
       "      <td>3987.0</td>\n",
       "      <td>4809.0</td>\n",
       "      <td>166.0</td>\n",
       "      <td>147.0</td>\n",
       "      <td>133.0</td>\n",
       "    </tr>\n",
       "    <tr>\n",
       "      <th>LG이노텍</th>\n",
       "      <td>8847.0</td>\n",
       "      <td>8639.0</td>\n",
       "      <td>10419.0</td>\n",
       "      <td>79.0</td>\n",
       "      <td>84.0</td>\n",
       "      <td>70.0</td>\n",
       "    </tr>\n",
       "    <tr>\n",
       "      <th>...</th>\n",
       "      <td>...</td>\n",
       "      <td>...</td>\n",
       "      <td>...</td>\n",
       "      <td>...</td>\n",
       "      <td>...</td>\n",
       "      <td>...</td>\n",
       "    </tr>\n",
       "    <tr>\n",
       "      <th>코셋</th>\n",
       "      <td>35.0</td>\n",
       "      <td>17.0</td>\n",
       "      <td>16.0</td>\n",
       "      <td>1910.0</td>\n",
       "      <td>2016.5</td>\n",
       "      <td>2050.0</td>\n",
       "    </tr>\n",
       "    <tr>\n",
       "      <th>툴젠</th>\n",
       "      <td>29.0</td>\n",
       "      <td>8.0</td>\n",
       "      <td>7.0</td>\n",
       "      <td>1943.0</td>\n",
       "      <td>2077.0</td>\n",
       "      <td>2103.0</td>\n",
       "    </tr>\n",
       "    <tr>\n",
       "      <th>플럼라인생명과학</th>\n",
       "      <td>NaN</td>\n",
       "      <td>NaN</td>\n",
       "      <td>NaN</td>\n",
       "      <td>NaN</td>\n",
       "      <td>NaN</td>\n",
       "      <td>NaN</td>\n",
       "    </tr>\n",
       "    <tr>\n",
       "      <th>한국미라클피플사</th>\n",
       "      <td>NaN</td>\n",
       "      <td>142.0</td>\n",
       "      <td>122.0</td>\n",
       "      <td>NaN</td>\n",
       "      <td>1342.0</td>\n",
       "      <td>1459.5</td>\n",
       "    </tr>\n",
       "    <tr>\n",
       "      <th>휴벡셀</th>\n",
       "      <td>46.0</td>\n",
       "      <td>39.0</td>\n",
       "      <td>-0.0</td>\n",
       "      <td>1832.0</td>\n",
       "      <td>1891.0</td>\n",
       "      <td>2154.5</td>\n",
       "    </tr>\n",
       "  </tbody>\n",
       "</table>\n",
       "<p>2422 rows × 6 columns</p>\n",
       "</div>"
      ],
      "text/plain": [
       "           total_profit_2017  total_profit_2018  total_profit_2019  2017 rank  \\\n",
       "DSR                    340.0              276.0              295.0      837.0   \n",
       "GS글로벌                 1400.0             1387.0             1480.0      301.0   \n",
       "HDC현대산업개발                NaN             4489.0             7536.0        NaN   \n",
       "KG케미칼                 3221.0             3987.0             4809.0      166.0   \n",
       "LG이노텍                 8847.0             8639.0            10419.0       79.0   \n",
       "...                      ...                ...                ...        ...   \n",
       "코셋                      35.0               17.0               16.0     1910.0   \n",
       "툴젠                      29.0                8.0                7.0     1943.0   \n",
       "플럼라인생명과학                 NaN                NaN                NaN        NaN   \n",
       "한국미라클피플사                 NaN              142.0              122.0        NaN   \n",
       "휴벡셀                     46.0               39.0               -0.0     1832.0   \n",
       "\n",
       "           2018 rank  2019 rank  \n",
       "DSR            971.0      953.5  \n",
       "GS글로벌          318.0      325.5  \n",
       "HDC현대산업개발      136.0      101.0  \n",
       "KG케미칼          147.0      133.0  \n",
       "LG이노텍           84.0       70.0  \n",
       "...              ...        ...  \n",
       "코셋            2016.5     2050.0  \n",
       "툴젠            2077.0     2103.0  \n",
       "플럼라인생명과학         NaN        NaN  \n",
       "한국미라클피플사      1342.0     1459.5  \n",
       "휴벡셀           1891.0     2154.5  \n",
       "\n",
       "[2422 rows x 6 columns]"
      ]
     },
     "execution_count": 299,
     "metadata": {},
     "output_type": "execute_result"
    }
   ],
   "source": [
    "#### 매출총이익 rank\n",
    "total_profit['2017 rank']  = total_profit['total_profit_2017'].rank(ascending=False)\n",
    "total_profit['2018 rank']  = total_profit['total_profit_2018'].rank(ascending=False)\n",
    "total_profit['2019 rank']  = total_profit['total_profit_2019'].rank(ascending=False)\n",
    "# total_profit"
   ]
  },
  {
   "cell_type": "code",
   "execution_count": 300,
   "id": "otherwise-gauge",
   "metadata": {},
   "outputs": [
    {
     "data": {
      "text/html": [
       "<div>\n",
       "<style scoped>\n",
       "    .dataframe tbody tr th:only-of-type {\n",
       "        vertical-align: middle;\n",
       "    }\n",
       "\n",
       "    .dataframe tbody tr th {\n",
       "        vertical-align: top;\n",
       "    }\n",
       "\n",
       "    .dataframe thead th {\n",
       "        text-align: right;\n",
       "    }\n",
       "</style>\n",
       "<table border=\"1\" class=\"dataframe\">\n",
       "  <thead>\n",
       "    <tr style=\"text-align: right;\">\n",
       "      <th></th>\n",
       "      <th>money_flow_2017</th>\n",
       "      <th>money_flow_2018</th>\n",
       "      <th>money_flow_2019</th>\n",
       "    </tr>\n",
       "  </thead>\n",
       "  <tbody>\n",
       "    <tr>\n",
       "      <th>DSR</th>\n",
       "      <td>64.0</td>\n",
       "      <td>46.0</td>\n",
       "      <td>138.0</td>\n",
       "    </tr>\n",
       "    <tr>\n",
       "      <th>GS글로벌</th>\n",
       "      <td>818.0</td>\n",
       "      <td>-103.0</td>\n",
       "      <td>332.0</td>\n",
       "    </tr>\n",
       "    <tr>\n",
       "      <th>HDC현대산업개발</th>\n",
       "      <td>NaN</td>\n",
       "      <td>4546.0</td>\n",
       "      <td>-1200.0</td>\n",
       "    </tr>\n",
       "    <tr>\n",
       "      <th>KG케미칼</th>\n",
       "      <td>1895.0</td>\n",
       "      <td>585.0</td>\n",
       "      <td>1467.0</td>\n",
       "    </tr>\n",
       "    <tr>\n",
       "      <th>LG이노텍</th>\n",
       "      <td>4460.0</td>\n",
       "      <td>10623.0</td>\n",
       "      <td>7690.0</td>\n",
       "    </tr>\n",
       "    <tr>\n",
       "      <th>...</th>\n",
       "      <td>...</td>\n",
       "      <td>...</td>\n",
       "      <td>...</td>\n",
       "    </tr>\n",
       "    <tr>\n",
       "      <th>코셋</th>\n",
       "      <td>8.0</td>\n",
       "      <td>-22.0</td>\n",
       "      <td>5.0</td>\n",
       "    </tr>\n",
       "    <tr>\n",
       "      <th>툴젠</th>\n",
       "      <td>-18.0</td>\n",
       "      <td>-63.0</td>\n",
       "      <td>-100.0</td>\n",
       "    </tr>\n",
       "    <tr>\n",
       "      <th>플럼라인생명과학</th>\n",
       "      <td>-17.0</td>\n",
       "      <td>-15.0</td>\n",
       "      <td>-15.0</td>\n",
       "    </tr>\n",
       "    <tr>\n",
       "      <th>한국미라클피플사</th>\n",
       "      <td>NaN</td>\n",
       "      <td>8.0</td>\n",
       "      <td>-22.0</td>\n",
       "    </tr>\n",
       "    <tr>\n",
       "      <th>휴벡셀</th>\n",
       "      <td>-17.0</td>\n",
       "      <td>-16.0</td>\n",
       "      <td>-6.0</td>\n",
       "    </tr>\n",
       "  </tbody>\n",
       "</table>\n",
       "<p>2422 rows × 3 columns</p>\n",
       "</div>"
      ],
      "text/plain": [
       "           money_flow_2017  money_flow_2018  money_flow_2019\n",
       "DSR                   64.0             46.0            138.0\n",
       "GS글로벌                818.0           -103.0            332.0\n",
       "HDC현대산업개발              NaN           4546.0          -1200.0\n",
       "KG케미칼               1895.0            585.0           1467.0\n",
       "LG이노텍               4460.0          10623.0           7690.0\n",
       "...                    ...              ...              ...\n",
       "코셋                     8.0            -22.0              5.0\n",
       "툴젠                   -18.0            -63.0           -100.0\n",
       "플럼라인생명과학             -17.0            -15.0            -15.0\n",
       "한국미라클피플사               NaN              8.0            -22.0\n",
       "휴벡셀                  -17.0            -16.0             -6.0\n",
       "\n",
       "[2422 rows x 3 columns]"
      ]
     },
     "execution_count": 300,
     "metadata": {},
     "output_type": "execute_result"
    }
   ],
   "source": [
    "#### 2017 ~ 2019 영업활동현금흐름 추출\n",
    "money_flow = data_f['영업활동으로인한현금흐름']\n",
    "money_flow = money_flow.T\n",
    "\n",
    "money_flow_n = pd.DataFrame({\"종목코드\" :list(money_flow.columns)})\n",
    "money_flow_nn = money_flow_n.merge(tn)\n",
    "money_flow.columns = list(money_flow_nn['회사명'])\n",
    "\n",
    "money_flow_2017 = money_flow.iloc[0,:]\n",
    "money_flow_2018 = money_flow.iloc[1,:]\n",
    "money_flow_2019 = money_flow.iloc[2,:]\n",
    "money_flow = money_flow.T\n",
    "money_flow.columns = ['money_flow_2017', 'money_flow_2018', 'money_flow_2019']"
   ]
  },
  {
   "cell_type": "code",
   "execution_count": 302,
   "id": "certain-fellowship",
   "metadata": {},
   "outputs": [
    {
     "data": {
      "text/html": [
       "<div>\n",
       "<style scoped>\n",
       "    .dataframe tbody tr th:only-of-type {\n",
       "        vertical-align: middle;\n",
       "    }\n",
       "\n",
       "    .dataframe tbody tr th {\n",
       "        vertical-align: top;\n",
       "    }\n",
       "\n",
       "    .dataframe thead th {\n",
       "        text-align: right;\n",
       "    }\n",
       "</style>\n",
       "<table border=\"1\" class=\"dataframe\">\n",
       "  <thead>\n",
       "    <tr style=\"text-align: right;\">\n",
       "      <th></th>\n",
       "      <th>money_flow_2017</th>\n",
       "      <th>money_flow_2018</th>\n",
       "      <th>money_flow_2019</th>\n",
       "      <th>2017 rank</th>\n",
       "      <th>2018 rank</th>\n",
       "      <th>2019 rank</th>\n",
       "    </tr>\n",
       "  </thead>\n",
       "  <tbody>\n",
       "    <tr>\n",
       "      <th>DSR</th>\n",
       "      <td>64.0</td>\n",
       "      <td>46.0</td>\n",
       "      <td>138.0</td>\n",
       "      <td>969.5</td>\n",
       "      <td>1091.5</td>\n",
       "      <td>824.5</td>\n",
       "    </tr>\n",
       "    <tr>\n",
       "      <th>GS글로벌</th>\n",
       "      <td>818.0</td>\n",
       "      <td>-103.0</td>\n",
       "      <td>332.0</td>\n",
       "      <td>206.0</td>\n",
       "      <td>2087.5</td>\n",
       "      <td>490.5</td>\n",
       "    </tr>\n",
       "    <tr>\n",
       "      <th>HDC현대산업개발</th>\n",
       "      <td>NaN</td>\n",
       "      <td>4546.0</td>\n",
       "      <td>-1200.0</td>\n",
       "      <td>NaN</td>\n",
       "      <td>63.0</td>\n",
       "      <td>2298.0</td>\n",
       "    </tr>\n",
       "    <tr>\n",
       "      <th>KG케미칼</th>\n",
       "      <td>1895.0</td>\n",
       "      <td>585.0</td>\n",
       "      <td>1467.0</td>\n",
       "      <td>120.0</td>\n",
       "      <td>269.0</td>\n",
       "      <td>173.0</td>\n",
       "    </tr>\n",
       "    <tr>\n",
       "      <th>LG이노텍</th>\n",
       "      <td>4460.0</td>\n",
       "      <td>10623.0</td>\n",
       "      <td>7690.0</td>\n",
       "      <td>74.0</td>\n",
       "      <td>33.0</td>\n",
       "      <td>57.0</td>\n",
       "    </tr>\n",
       "    <tr>\n",
       "      <th>...</th>\n",
       "      <td>...</td>\n",
       "      <td>...</td>\n",
       "      <td>...</td>\n",
       "      <td>...</td>\n",
       "      <td>...</td>\n",
       "      <td>...</td>\n",
       "    </tr>\n",
       "    <tr>\n",
       "      <th>코셋</th>\n",
       "      <td>8.0</td>\n",
       "      <td>-22.0</td>\n",
       "      <td>5.0</td>\n",
       "      <td>1482.5</td>\n",
       "      <td>1771.5</td>\n",
       "      <td>1592.0</td>\n",
       "    </tr>\n",
       "    <tr>\n",
       "      <th>툴젠</th>\n",
       "      <td>-18.0</td>\n",
       "      <td>-63.0</td>\n",
       "      <td>-100.0</td>\n",
       "      <td>1757.0</td>\n",
       "      <td>1973.5</td>\n",
       "      <td>2148.0</td>\n",
       "    </tr>\n",
       "    <tr>\n",
       "      <th>플럼라인생명과학</th>\n",
       "      <td>-17.0</td>\n",
       "      <td>-15.0</td>\n",
       "      <td>-15.0</td>\n",
       "      <td>1745.0</td>\n",
       "      <td>1709.0</td>\n",
       "      <td>1815.5</td>\n",
       "    </tr>\n",
       "    <tr>\n",
       "      <th>한국미라클피플사</th>\n",
       "      <td>NaN</td>\n",
       "      <td>8.0</td>\n",
       "      <td>-22.0</td>\n",
       "      <td>NaN</td>\n",
       "      <td>1459.0</td>\n",
       "      <td>1867.5</td>\n",
       "    </tr>\n",
       "    <tr>\n",
       "      <th>휴벡셀</th>\n",
       "      <td>-17.0</td>\n",
       "      <td>-16.0</td>\n",
       "      <td>-6.0</td>\n",
       "      <td>1745.0</td>\n",
       "      <td>1717.5</td>\n",
       "      <td>1739.5</td>\n",
       "    </tr>\n",
       "  </tbody>\n",
       "</table>\n",
       "<p>2422 rows × 6 columns</p>\n",
       "</div>"
      ],
      "text/plain": [
       "           money_flow_2017  money_flow_2018  money_flow_2019  2017 rank  \\\n",
       "DSR                   64.0             46.0            138.0      969.5   \n",
       "GS글로벌                818.0           -103.0            332.0      206.0   \n",
       "HDC현대산업개발              NaN           4546.0          -1200.0        NaN   \n",
       "KG케미칼               1895.0            585.0           1467.0      120.0   \n",
       "LG이노텍               4460.0          10623.0           7690.0       74.0   \n",
       "...                    ...              ...              ...        ...   \n",
       "코셋                     8.0            -22.0              5.0     1482.5   \n",
       "툴젠                   -18.0            -63.0           -100.0     1757.0   \n",
       "플럼라인생명과학             -17.0            -15.0            -15.0     1745.0   \n",
       "한국미라클피플사               NaN              8.0            -22.0        NaN   \n",
       "휴벡셀                  -17.0            -16.0             -6.0     1745.0   \n",
       "\n",
       "           2018 rank  2019 rank  \n",
       "DSR           1091.5      824.5  \n",
       "GS글로벌         2087.5      490.5  \n",
       "HDC현대산업개발       63.0     2298.0  \n",
       "KG케미칼          269.0      173.0  \n",
       "LG이노텍           33.0       57.0  \n",
       "...              ...        ...  \n",
       "코셋            1771.5     1592.0  \n",
       "툴젠            1973.5     2148.0  \n",
       "플럼라인생명과학      1709.0     1815.5  \n",
       "한국미라클피플사      1459.0     1867.5  \n",
       "휴벡셀           1717.5     1739.5  \n",
       "\n",
       "[2422 rows x 6 columns]"
      ]
     },
     "execution_count": 302,
     "metadata": {},
     "output_type": "execute_result"
    }
   ],
   "source": [
    "#### 영업활동현금흐름 rank\n",
    "money_flow['2017 rank']  = money_flow['money_flow_2017'].rank(ascending=False)\n",
    "money_flow['2018 rank']  = money_flow['money_flow_2018'].rank(ascending=False)\n",
    "money_flow['2019 rank']  = money_flow['money_flow_2019'].rank(ascending=False)\n",
    "# money_flow"
   ]
  },
  {
   "cell_type": "code",
   "execution_count": 311,
   "id": "flying-maria",
   "metadata": {},
   "outputs": [
    {
     "data": {
      "text/html": [
       "<div>\n",
       "<style scoped>\n",
       "    .dataframe tbody tr th:only-of-type {\n",
       "        vertical-align: middle;\n",
       "    }\n",
       "\n",
       "    .dataframe tbody tr th {\n",
       "        vertical-align: top;\n",
       "    }\n",
       "\n",
       "    .dataframe thead th {\n",
       "        text-align: right;\n",
       "    }\n",
       "</style>\n",
       "<table border=\"1\" class=\"dataframe\">\n",
       "  <thead>\n",
       "    <tr style=\"text-align: right;\">\n",
       "      <th></th>\n",
       "      <th>sh_profit_capital_ratio_2017</th>\n",
       "      <th>sh_profit_capital_ratio_2018</th>\n",
       "      <th>sh_profit_capital_ratio_2019</th>\n",
       "    </tr>\n",
       "  </thead>\n",
       "  <tbody>\n",
       "    <tr>\n",
       "      <th>DSR</th>\n",
       "      <td>0.078779</td>\n",
       "      <td>0.053559</td>\n",
       "      <td>0.056021</td>\n",
       "    </tr>\n",
       "    <tr>\n",
       "      <th>GS글로벌</th>\n",
       "      <td>0.054681</td>\n",
       "      <td>0.050856</td>\n",
       "      <td>-0.045012</td>\n",
       "    </tr>\n",
       "    <tr>\n",
       "      <th>HDC현대산업개발</th>\n",
       "      <td>NaN</td>\n",
       "      <td>0.124648</td>\n",
       "      <td>0.185374</td>\n",
       "    </tr>\n",
       "    <tr>\n",
       "      <th>KG케미칼</th>\n",
       "      <td>0.007269</td>\n",
       "      <td>0.005627</td>\n",
       "      <td>0.071101</td>\n",
       "    </tr>\n",
       "    <tr>\n",
       "      <th>LG이노텍</th>\n",
       "      <td>0.089604</td>\n",
       "      <td>0.076999</td>\n",
       "      <td>0.046403</td>\n",
       "    </tr>\n",
       "    <tr>\n",
       "      <th>...</th>\n",
       "      <td>...</td>\n",
       "      <td>...</td>\n",
       "      <td>...</td>\n",
       "    </tr>\n",
       "    <tr>\n",
       "      <th>코셋</th>\n",
       "      <td>NaN</td>\n",
       "      <td>NaN</td>\n",
       "      <td>NaN</td>\n",
       "    </tr>\n",
       "    <tr>\n",
       "      <th>툴젠</th>\n",
       "      <td>NaN</td>\n",
       "      <td>NaN</td>\n",
       "      <td>NaN</td>\n",
       "    </tr>\n",
       "    <tr>\n",
       "      <th>플럼라인생명과학</th>\n",
       "      <td>NaN</td>\n",
       "      <td>NaN</td>\n",
       "      <td>NaN</td>\n",
       "    </tr>\n",
       "    <tr>\n",
       "      <th>한국미라클피플사</th>\n",
       "      <td>NaN</td>\n",
       "      <td>NaN</td>\n",
       "      <td>NaN</td>\n",
       "    </tr>\n",
       "    <tr>\n",
       "      <th>휴벡셀</th>\n",
       "      <td>NaN</td>\n",
       "      <td>NaN</td>\n",
       "      <td>NaN</td>\n",
       "    </tr>\n",
       "  </tbody>\n",
       "</table>\n",
       "<p>2422 rows × 3 columns</p>\n",
       "</div>"
      ],
      "text/plain": [
       "           sh_profit_capital_ratio_2017  sh_profit_capital_ratio_2018  \\\n",
       "DSR                            0.078779                      0.053559   \n",
       "GS글로벌                          0.054681                      0.050856   \n",
       "HDC현대산업개발                           NaN                      0.124648   \n",
       "KG케미칼                          0.007269                      0.005627   \n",
       "LG이노텍                          0.089604                      0.076999   \n",
       "...                                 ...                           ...   \n",
       "코셋                                  NaN                           NaN   \n",
       "툴젠                                  NaN                           NaN   \n",
       "플럼라인생명과학                            NaN                           NaN   \n",
       "한국미라클피플사                            NaN                           NaN   \n",
       "휴벡셀                                 NaN                           NaN   \n",
       "\n",
       "           sh_profit_capital_ratio_2019  \n",
       "DSR                            0.056021  \n",
       "GS글로벌                         -0.045012  \n",
       "HDC현대산업개발                      0.185374  \n",
       "KG케미칼                          0.071101  \n",
       "LG이노텍                          0.046403  \n",
       "...                                 ...  \n",
       "코셋                                  NaN  \n",
       "툴젠                                  NaN  \n",
       "플럼라인생명과학                            NaN  \n",
       "한국미라클피플사                            NaN  \n",
       "휴벡셀                                 NaN  \n",
       "\n",
       "[2422 rows x 3 columns]"
      ]
     },
     "execution_count": 311,
     "metadata": {},
     "output_type": "execute_result"
    }
   ],
   "source": [
    "#### 2017 ~ 2019 자기자본이익률 추출\n",
    "sh_profit = data_f['지배주주순이익']\n",
    "sh_profit = sh_profit.T\n",
    "capital = data_f['자본']\n",
    "capital = capital.T\n",
    "\n",
    "sh_profit_capital_ratio = sh_profit / capital\n",
    "\n",
    "sh_profit_capital_ratio_n = pd.DataFrame({\"종목코드\" :list(sh_profit_capital_ratio.columns)})\n",
    "sh_profit_capital_ratio_nn = sh_profit_capital_ratio_n.merge(tn)\n",
    "sh_profit_capital_ratio.columns = list(sh_profit_capital_ratio_nn['회사명'])\n",
    "\n",
    "sh_profit_capital_ratio_2017 = sh_profit_capital_ratio.iloc[0,:]\n",
    "sh_profit_capital_ratio_2018 = sh_profit_capital_ratio.iloc[1,:]\n",
    "sh_profit_capital_ratio_2019 = sh_profit_capital_ratio.iloc[2,:]\n",
    "sh_profit_capital_ratio = sh_profit_capital_ratio.T\n",
    "sh_profit_capital_ratio.columns = ['sh_profit_capital_ratio_2017', 'sh_profit_capital_ratio_2018', 'sh_profit_capital_ratio_2019']"
   ]
  },
  {
   "cell_type": "code",
   "execution_count": 313,
   "id": "diverse-sitting",
   "metadata": {},
   "outputs": [
    {
     "data": {
      "text/html": [
       "<div>\n",
       "<style scoped>\n",
       "    .dataframe tbody tr th:only-of-type {\n",
       "        vertical-align: middle;\n",
       "    }\n",
       "\n",
       "    .dataframe tbody tr th {\n",
       "        vertical-align: top;\n",
       "    }\n",
       "\n",
       "    .dataframe thead th {\n",
       "        text-align: right;\n",
       "    }\n",
       "</style>\n",
       "<table border=\"1\" class=\"dataframe\">\n",
       "  <thead>\n",
       "    <tr style=\"text-align: right;\">\n",
       "      <th></th>\n",
       "      <th>sh_profit_capital_ratio_2017</th>\n",
       "      <th>sh_profit_capital_ratio_2018</th>\n",
       "      <th>sh_profit_capital_ratio_2019</th>\n",
       "      <th>2017 rank</th>\n",
       "      <th>2018 rank</th>\n",
       "      <th>2019 rank</th>\n",
       "    </tr>\n",
       "  </thead>\n",
       "  <tbody>\n",
       "    <tr>\n",
       "      <th>DSR</th>\n",
       "      <td>0.078779</td>\n",
       "      <td>0.053559</td>\n",
       "      <td>0.056021</td>\n",
       "      <td>568.0</td>\n",
       "      <td>745.0</td>\n",
       "      <td>639.0</td>\n",
       "    </tr>\n",
       "    <tr>\n",
       "      <th>GS글로벌</th>\n",
       "      <td>0.054681</td>\n",
       "      <td>0.050856</td>\n",
       "      <td>-0.045012</td>\n",
       "      <td>775.0</td>\n",
       "      <td>765.0</td>\n",
       "      <td>1303.0</td>\n",
       "    </tr>\n",
       "    <tr>\n",
       "      <th>HDC현대산업개발</th>\n",
       "      <td>NaN</td>\n",
       "      <td>0.124648</td>\n",
       "      <td>0.185374</td>\n",
       "      <td>NaN</td>\n",
       "      <td>296.0</td>\n",
       "      <td>105.0</td>\n",
       "    </tr>\n",
       "    <tr>\n",
       "      <th>KG케미칼</th>\n",
       "      <td>0.007269</td>\n",
       "      <td>0.005627</td>\n",
       "      <td>0.071101</td>\n",
       "      <td>1160.0</td>\n",
       "      <td>1146.0</td>\n",
       "      <td>526.0</td>\n",
       "    </tr>\n",
       "    <tr>\n",
       "      <th>LG이노텍</th>\n",
       "      <td>0.089604</td>\n",
       "      <td>0.076999</td>\n",
       "      <td>0.046403</td>\n",
       "      <td>484.0</td>\n",
       "      <td>551.0</td>\n",
       "      <td>720.0</td>\n",
       "    </tr>\n",
       "    <tr>\n",
       "      <th>...</th>\n",
       "      <td>...</td>\n",
       "      <td>...</td>\n",
       "      <td>...</td>\n",
       "      <td>...</td>\n",
       "      <td>...</td>\n",
       "      <td>...</td>\n",
       "    </tr>\n",
       "    <tr>\n",
       "      <th>코셋</th>\n",
       "      <td>NaN</td>\n",
       "      <td>NaN</td>\n",
       "      <td>NaN</td>\n",
       "      <td>NaN</td>\n",
       "      <td>NaN</td>\n",
       "      <td>NaN</td>\n",
       "    </tr>\n",
       "    <tr>\n",
       "      <th>툴젠</th>\n",
       "      <td>NaN</td>\n",
       "      <td>NaN</td>\n",
       "      <td>NaN</td>\n",
       "      <td>NaN</td>\n",
       "      <td>NaN</td>\n",
       "      <td>NaN</td>\n",
       "    </tr>\n",
       "    <tr>\n",
       "      <th>플럼라인생명과학</th>\n",
       "      <td>NaN</td>\n",
       "      <td>NaN</td>\n",
       "      <td>NaN</td>\n",
       "      <td>NaN</td>\n",
       "      <td>NaN</td>\n",
       "      <td>NaN</td>\n",
       "    </tr>\n",
       "    <tr>\n",
       "      <th>한국미라클피플사</th>\n",
       "      <td>NaN</td>\n",
       "      <td>NaN</td>\n",
       "      <td>NaN</td>\n",
       "      <td>NaN</td>\n",
       "      <td>NaN</td>\n",
       "      <td>NaN</td>\n",
       "    </tr>\n",
       "    <tr>\n",
       "      <th>휴벡셀</th>\n",
       "      <td>NaN</td>\n",
       "      <td>NaN</td>\n",
       "      <td>NaN</td>\n",
       "      <td>NaN</td>\n",
       "      <td>NaN</td>\n",
       "      <td>NaN</td>\n",
       "    </tr>\n",
       "  </tbody>\n",
       "</table>\n",
       "<p>2422 rows × 6 columns</p>\n",
       "</div>"
      ],
      "text/plain": [
       "           sh_profit_capital_ratio_2017  sh_profit_capital_ratio_2018  \\\n",
       "DSR                            0.078779                      0.053559   \n",
       "GS글로벌                          0.054681                      0.050856   \n",
       "HDC현대산업개발                           NaN                      0.124648   \n",
       "KG케미칼                          0.007269                      0.005627   \n",
       "LG이노텍                          0.089604                      0.076999   \n",
       "...                                 ...                           ...   \n",
       "코셋                                  NaN                           NaN   \n",
       "툴젠                                  NaN                           NaN   \n",
       "플럼라인생명과학                            NaN                           NaN   \n",
       "한국미라클피플사                            NaN                           NaN   \n",
       "휴벡셀                                 NaN                           NaN   \n",
       "\n",
       "           sh_profit_capital_ratio_2019  2017 rank  2018 rank  2019 rank  \n",
       "DSR                            0.056021      568.0      745.0      639.0  \n",
       "GS글로벌                         -0.045012      775.0      765.0     1303.0  \n",
       "HDC현대산업개발                      0.185374        NaN      296.0      105.0  \n",
       "KG케미칼                          0.071101     1160.0     1146.0      526.0  \n",
       "LG이노텍                          0.046403      484.0      551.0      720.0  \n",
       "...                                 ...        ...        ...        ...  \n",
       "코셋                                  NaN        NaN        NaN        NaN  \n",
       "툴젠                                  NaN        NaN        NaN        NaN  \n",
       "플럼라인생명과학                            NaN        NaN        NaN        NaN  \n",
       "한국미라클피플사                            NaN        NaN        NaN        NaN  \n",
       "휴벡셀                                 NaN        NaN        NaN        NaN  \n",
       "\n",
       "[2422 rows x 6 columns]"
      ]
     },
     "execution_count": 313,
     "metadata": {},
     "output_type": "execute_result"
    }
   ],
   "source": [
    "#### 자기자본이익률 rank\n",
    "sh_profit_capital_ratio['2017 rank']  = sh_profit_capital_ratio['sh_profit_capital_ratio_2017'].rank(ascending=False)\n",
    "sh_profit_capital_ratio['2018 rank']  = sh_profit_capital_ratio['sh_profit_capital_ratio_2018'].rank(ascending=False)\n",
    "sh_profit_capital_ratio['2019 rank']  = sh_profit_capital_ratio['sh_profit_capital_ratio_2019'].rank(ascending=False)\n",
    "# sh_profit_capital_ratio"
   ]
  },
  {
   "cell_type": "markdown",
   "id": "standing-taylor",
   "metadata": {},
   "source": [
    "### 이번에는 복붙으로 그냥 너무 힘으로 했다.  \n",
    "### ex)  \n",
    "### ticker 코드명을 회사명으로 바꾸는 과정  \n",
    "### 해당 지표에 대해 rank column을 추가해주는 과정"
   ]
  },
  {
   "cell_type": "markdown",
   "id": "experienced-blair",
   "metadata": {},
   "source": [
    "# z-score 부분 & 섹터중립화 부분 정규화과정 여쭤볼 것 -> 둘 다 정규화 관련 -> 좀 더 다시 고민해보기!"
   ]
  },
  {
   "cell_type": "code",
   "execution_count": null,
   "id": "corrected-abraham",
   "metadata": {},
   "outputs": [],
   "source": []
  },
  {
   "cell_type": "code",
   "execution_count": null,
   "id": "blind-malawi",
   "metadata": {},
   "outputs": [],
   "source": []
  }
 ],
 "metadata": {
  "kernelspec": {
   "display_name": "Python 3",
   "language": "python",
   "name": "python3"
  },
  "language_info": {
   "codemirror_mode": {
    "name": "ipython",
    "version": 3
   },
   "file_extension": ".py",
   "mimetype": "text/x-python",
   "name": "python",
   "nbconvert_exporter": "python",
   "pygments_lexer": "ipython3",
   "version": "3.6.8"
  }
 },
 "nbformat": 4,
 "nbformat_minor": 5
}
