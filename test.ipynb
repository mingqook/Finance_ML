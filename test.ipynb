{
 "cells": [
  {
   "cell_type": "code",
   "execution_count": 1,
   "id": "polished-scanning",
   "metadata": {},
   "outputs": [
    {
     "name": "stdout",
     "output_type": "stream",
     "text": [
      "/Users/qook/Coding/FinML\n"
     ]
    }
   ],
   "source": [
    "# %cd /Users/qook/Coding/FinML"
   ]
  },
  {
   "cell_type": "code",
   "execution_count": 2,
   "id": "stopped-syntax",
   "metadata": {
    "tags": []
   },
   "outputs": [],
   "source": [
    "# Import basic packages\n",
    "import os\n",
    "from datetime import datetime\n",
    "# Import a module for data retrieval\n",
    "from finml.data_reader import GetInitData\n"
   ]
  },
  {
   "cell_type": "code",
   "execution_count": 3,
   "id": "related-watts",
   "metadata": {},
   "outputs": [
    {
     "name": "stdout",
     "output_type": "stream",
     "text": [
      "/Users/qook/Coding/Finance_ML\n"
     ]
    }
   ],
   "source": [
    "# %cd ../Finance_ML"
   ]
  },
  {
   "cell_type": "code",
   "execution_count": 4,
   "id": "governmental-collective",
   "metadata": {
    "tags": []
   },
   "outputs": [
    {
     "name": "stdout",
     "output_type": "stream",
     "text": [
      "Get ticker symbol from [krx] ... "
     ]
    },
    {
     "name": "stderr",
     "output_type": "stream",
     "text": [
      "  0%|          | 0/2430 [00:00<?, ?it/s]"
     ]
    },
    {
     "name": "stdout",
     "output_type": "stream",
     "text": [
      "Complete!\n",
      "Get prices/volumes from [naver] ..."
     ]
    },
    {
     "name": "stderr",
     "output_type": "stream",
     "text": [
      "100%|██████████| 2430/2430 [30:16<00:00,  1.34it/s]\n",
      "  0%|          | 0/2427 [00:00<?, ?it/s]"
     ]
    },
    {
     "name": "stdout",
     "output_type": "stream",
     "text": [
      "Complete!\n",
      "Get financial statements from [fnguide] ..."
     ]
    },
    {
     "name": "stderr",
     "output_type": "stream",
     "text": [
      "  3%|▎         | 70/2427 [01:18<43:05,  1.10s/it]  "
     ]
    },
    {
     "name": "stdout",
     "output_type": "stream",
     "text": [
      "No indicator calculated with ticker: 168490\n"
     ]
    },
    {
     "name": "stderr",
     "output_type": "stream",
     "text": [
      " 26%|██▌       | 628/2427 [10:58<20:43,  1.45it/s]  "
     ]
    },
    {
     "name": "stdout",
     "output_type": "stream",
     "text": [
      "No indicator calculated with ticker: 088980\n"
     ]
    },
    {
     "name": "stderr",
     "output_type": "stream",
     "text": [
      " 26%|██▌       | 635/2427 [11:03<21:04,  1.42it/s]"
     ]
    },
    {
     "name": "stdout",
     "output_type": "stream",
     "text": [
      "No indicator calculated with ticker: 096300\n"
     ]
    },
    {
     "name": "stderr",
     "output_type": "stream",
     "text": [
      " 39%|███▊      | 935/2427 [15:24<12:56,  1.92it/s]"
     ]
    },
    {
     "name": "stdout",
     "output_type": "stream",
     "text": [
      "No indicator calculated with ticker: 094800\n"
     ]
    },
    {
     "name": "stderr",
     "output_type": "stream",
     "text": [
      " 65%|██████▍   | 1574/2427 [23:57<10:14,  1.39it/s]  "
     ]
    },
    {
     "name": "stdout",
     "output_type": "stream",
     "text": [
      "No indicator calculated with ticker: 152550\n"
     ]
    },
    {
     "name": "stderr",
     "output_type": "stream",
     "text": [
      "100%|██████████| 2427/2427 [35:42<00:00,  1.13it/s]\n",
      "  0%|          | 0/2427 [00:00<?, ?it/s]"
     ]
    },
    {
     "name": "stdout",
     "output_type": "stream",
     "text": [
      "Complete!\n",
      "Cleansing financial statements ..."
     ]
    },
    {
     "name": "stderr",
     "output_type": "stream",
     "text": [
      "  2%|▏         | 46/2427 [00:12<10:31,  3.77it/s]"
     ]
    },
    {
     "name": "stdout",
     "output_type": "stream",
     "text": [
      "Financial statement is not complete: 293940\n"
     ]
    },
    {
     "name": "stderr",
     "output_type": "stream",
     "text": [
      "  3%|▎         | 69/2427 [00:18<10:40,  3.68it/s]"
     ]
    },
    {
     "name": "stdout",
     "output_type": "stream",
     "text": [
      "Not exists: 168490\n"
     ]
    },
    {
     "name": "stderr",
     "output_type": "stream",
     "text": [
      "  4%|▎         | 90/2427 [00:23<10:16,  3.79it/s]"
     ]
    },
    {
     "name": "stdout",
     "output_type": "stream",
     "text": [
      "Financial statement is not complete: 337450\n"
     ]
    },
    {
     "name": "stderr",
     "output_type": "stream",
     "text": [
      "  5%|▍         | 121/2427 [00:32<10:18,  3.73it/s]"
     ]
    },
    {
     "name": "stdout",
     "output_type": "stream",
     "text": [
      "Financial statement is not complete: 021880\n"
     ]
    },
    {
     "name": "stderr",
     "output_type": "stream",
     "text": [
      "  6%|▋         | 155/2427 [00:41<10:03,  3.76it/s]"
     ]
    },
    {
     "name": "stdout",
     "output_type": "stream",
     "text": [
      "Financial statement is not complete: 900120\n"
     ]
    },
    {
     "name": "stderr",
     "output_type": "stream",
     "text": [
      " 10%|█         | 248/2427 [01:06<09:45,  3.72it/s]"
     ]
    },
    {
     "name": "stdout",
     "output_type": "stream",
     "text": [
      "Financial statement is not complete: 024850\n"
     ]
    },
    {
     "name": "stderr",
     "output_type": "stream",
     "text": [
      " 12%|█▏        | 300/2427 [01:20<09:26,  3.75it/s]"
     ]
    },
    {
     "name": "stdout",
     "output_type": "stream",
     "text": [
      "Financial statement is not complete: 018500\n"
     ]
    },
    {
     "name": "stderr",
     "output_type": "stream",
     "text": [
      " 20%|██        | 494/2427 [02:13<08:51,  3.64it/s]"
     ]
    },
    {
     "name": "stdout",
     "output_type": "stream",
     "text": [
      "Financial statement is not complete: 099750\n"
     ]
    },
    {
     "name": "stderr",
     "output_type": "stream",
     "text": [
      " 22%|██▏       | 546/2427 [02:27<08:33,  3.67it/s]"
     ]
    },
    {
     "name": "stdout",
     "output_type": "stream",
     "text": [
      "Financial statement is not complete: 093380\n"
     ]
    },
    {
     "name": "stderr",
     "output_type": "stream",
     "text": [
      " 24%|██▍       | 582/2427 [02:37<08:20,  3.69it/s]"
     ]
    },
    {
     "name": "stdout",
     "output_type": "stream",
     "text": [
      "Financial statement is not complete: 222160\n"
     ]
    },
    {
     "name": "stderr",
     "output_type": "stream",
     "text": [
      " 26%|██▌       | 627/2427 [02:49<08:12,  3.65it/s]"
     ]
    },
    {
     "name": "stdout",
     "output_type": "stream",
     "text": [
      "Not exists: 088980\n"
     ]
    },
    {
     "name": "stderr",
     "output_type": "stream",
     "text": [
      " 26%|██▌       | 634/2427 [02:51<07:49,  3.82it/s]"
     ]
    },
    {
     "name": "stdout",
     "output_type": "stream",
     "text": [
      "Not exists: 096300\n"
     ]
    },
    {
     "name": "stderr",
     "output_type": "stream",
     "text": [
      " 29%|██▉       | 705/2427 [03:10<07:56,  3.61it/s]"
     ]
    },
    {
     "name": "stdout",
     "output_type": "stream",
     "text": [
      "Financial statement is not complete: 950170\n"
     ]
    },
    {
     "name": "stderr",
     "output_type": "stream",
     "text": [
      " 29%|██▉       | 712/2427 [03:12<07:52,  3.63it/s]"
     ]
    },
    {
     "name": "stdout",
     "output_type": "stream",
     "text": [
      "Financial statement is not complete: 950110\n"
     ]
    },
    {
     "name": "stderr",
     "output_type": "stream",
     "text": [
      " 31%|███       | 749/2427 [03:22<07:40,  3.64it/s]"
     ]
    },
    {
     "name": "stdout",
     "output_type": "stream",
     "text": [
      "Financial statement is not complete: 054180\n"
     ]
    },
    {
     "name": "stderr",
     "output_type": "stream",
     "text": [
      " 32%|███▏      | 773/2427 [03:29<07:34,  3.64it/s]"
     ]
    },
    {
     "name": "stdout",
     "output_type": "stream",
     "text": [
      "Financial statement is not complete: 131100\n"
     ]
    },
    {
     "name": "stderr",
     "output_type": "stream",
     "text": [
      " 35%|███▌      | 856/2427 [03:52<07:19,  3.58it/s]"
     ]
    },
    {
     "name": "stdout",
     "output_type": "stream",
     "text": [
      "Financial statement is not complete: 190650\n"
     ]
    },
    {
     "name": "stderr",
     "output_type": "stream",
     "text": [
      " 37%|███▋      | 900/2427 [04:05<07:13,  3.52it/s]"
     ]
    },
    {
     "name": "stdout",
     "output_type": "stream",
     "text": [
      "Financial statement is not complete: 365550\n"
     ]
    },
    {
     "name": "stderr",
     "output_type": "stream",
     "text": [
      " 38%|███▊      | 921/2427 [04:11<07:01,  3.57it/s]"
     ]
    },
    {
     "name": "stdout",
     "output_type": "stream",
     "text": [
      "Financial statement is not complete: 092440\n"
     ]
    },
    {
     "name": "stderr",
     "output_type": "stream",
     "text": [
      " 38%|███▊      | 924/2427 [04:12<07:01,  3.57it/s]"
     ]
    },
    {
     "name": "stdout",
     "output_type": "stream",
     "text": [
      "Financial statement is not complete: 008110\n"
     ]
    },
    {
     "name": "stderr",
     "output_type": "stream",
     "text": [
      " 38%|███▊      | 934/2427 [04:15<07:04,  3.52it/s]"
     ]
    },
    {
     "name": "stdout",
     "output_type": "stream",
     "text": [
      "Not exists: 094800\n"
     ]
    },
    {
     "name": "stderr",
     "output_type": "stream",
     "text": [
      " 39%|███▉      | 956/2427 [04:21<06:58,  3.51it/s]"
     ]
    },
    {
     "name": "stdout",
     "output_type": "stream",
     "text": [
      "Financial statement is not complete: 021820\n"
     ]
    },
    {
     "name": "stderr",
     "output_type": "stream",
     "text": [
      " 40%|███▉      | 961/2427 [04:22<06:55,  3.53it/s]"
     ]
    },
    {
     "name": "stdout",
     "output_type": "stream",
     "text": [
      "Financial statement is not complete: 005390\n"
     ]
    },
    {
     "name": "stderr",
     "output_type": "stream",
     "text": [
      " 42%|████▏     | 1014/2427 [04:37<06:43,  3.50it/s]"
     ]
    },
    {
     "name": "stdout",
     "output_type": "stream",
     "text": [
      "Financial statement is not complete: 950180\n"
     ]
    },
    {
     "name": "stderr",
     "output_type": "stream",
     "text": [
      " 44%|████▍     | 1076/2427 [04:54<06:17,  3.58it/s]"
     ]
    },
    {
     "name": "stdout",
     "output_type": "stream",
     "text": [
      "Financial statement is not complete: 154030\n"
     ]
    },
    {
     "name": "stderr",
     "output_type": "stream",
     "text": [
      " 45%|████▌     | 1104/2427 [05:02<06:06,  3.61it/s]"
     ]
    },
    {
     "name": "stdout",
     "output_type": "stream",
     "text": [
      "Financial statement is not complete: 169330\n"
     ]
    },
    {
     "name": "stderr",
     "output_type": "stream",
     "text": [
      " 46%|████▋     | 1128/2427 [05:09<06:05,  3.55it/s]"
     ]
    },
    {
     "name": "stdout",
     "output_type": "stream",
     "text": [
      "Financial statement is not complete: 017250\n"
     ]
    },
    {
     "name": "stderr",
     "output_type": "stream",
     "text": [
      " 48%|████▊     | 1177/2427 [05:23<05:57,  3.50it/s]"
     ]
    },
    {
     "name": "stdout",
     "output_type": "stream",
     "text": [
      "Financial statement is not complete: 097870\n"
     ]
    },
    {
     "name": "stderr",
     "output_type": "stream",
     "text": [
      " 49%|████▉     | 1191/2427 [05:27<05:50,  3.52it/s]"
     ]
    },
    {
     "name": "stdout",
     "output_type": "stream",
     "text": [
      "Financial statement is not complete: 084440\n"
     ]
    },
    {
     "name": "stderr",
     "output_type": "stream",
     "text": [
      " 50%|████▉     | 1206/2427 [05:31<05:43,  3.56it/s]"
     ]
    },
    {
     "name": "stdout",
     "output_type": "stream",
     "text": [
      "Financial statement is not complete: 338100\n"
     ]
    },
    {
     "name": "stderr",
     "output_type": "stream",
     "text": [
      " 50%|█████     | 1223/2427 [05:36<05:41,  3.53it/s]"
     ]
    },
    {
     "name": "stdout",
     "output_type": "stream",
     "text": [
      "Financial statement is not complete: 001080\n"
     ]
    },
    {
     "name": "stderr",
     "output_type": "stream",
     "text": [
      " 52%|█████▏    | 1250/2427 [05:44<05:32,  3.54it/s]"
     ]
    },
    {
     "name": "stdout",
     "output_type": "stream",
     "text": [
      "Financial statement is not complete: 001720\n"
     ]
    },
    {
     "name": "stderr",
     "output_type": "stream",
     "text": [
      " 53%|█████▎    | 1294/2427 [05:56<05:22,  3.51it/s]"
     ]
    },
    {
     "name": "stdout",
     "output_type": "stream",
     "text": [
      "Financial statement is not complete: 093240\n"
     ]
    },
    {
     "name": "stderr",
     "output_type": "stream",
     "text": [
      " 54%|█████▍    | 1312/2427 [06:01<05:17,  3.52it/s]"
     ]
    },
    {
     "name": "stdout",
     "output_type": "stream",
     "text": [
      "Financial statement is not complete: 289080\n"
     ]
    },
    {
     "name": "stderr",
     "output_type": "stream",
     "text": [
      " 56%|█████▌    | 1352/2427 [06:12<05:06,  3.51it/s]"
     ]
    },
    {
     "name": "stdout",
     "output_type": "stream",
     "text": [
      "Financial statement is not complete: 033200\n"
     ]
    },
    {
     "name": "stderr",
     "output_type": "stream",
     "text": [
      " 56%|█████▌    | 1360/2427 [06:15<05:00,  3.55it/s]"
     ]
    },
    {
     "name": "stdout",
     "output_type": "stream",
     "text": [
      "Financial statement is not complete: 082920\n"
     ]
    },
    {
     "name": "stderr",
     "output_type": "stream",
     "text": [
      " 59%|█████▉    | 1431/2427 [06:35<04:45,  3.49it/s]"
     ]
    },
    {
     "name": "stdout",
     "output_type": "stream",
     "text": [
      "Financial statement is not complete: 160600\n"
     ]
    },
    {
     "name": "stderr",
     "output_type": "stream",
     "text": [
      " 60%|██████    | 1464/2427 [06:45<04:36,  3.48it/s]"
     ]
    },
    {
     "name": "stdout",
     "output_type": "stream",
     "text": [
      "Financial statement is not complete: 263750\n"
     ]
    },
    {
     "name": "stderr",
     "output_type": "stream",
     "text": [
      " 63%|██████▎   | 1518/2427 [07:00<04:22,  3.46it/s]"
     ]
    },
    {
     "name": "stdout",
     "output_type": "stream",
     "text": [
      "Financial statement is not complete: 008870\n"
     ]
    },
    {
     "name": "stderr",
     "output_type": "stream",
     "text": [
      " 64%|██████▍   | 1549/2427 [07:09<04:14,  3.46it/s]"
     ]
    },
    {
     "name": "stdout",
     "output_type": "stream",
     "text": [
      "Financial statement is not complete: 088260\n"
     ]
    },
    {
     "name": "stderr",
     "output_type": "stream",
     "text": [
      " 64%|██████▍   | 1558/2427 [07:12<04:11,  3.46it/s]"
     ]
    },
    {
     "name": "stdout",
     "output_type": "stream",
     "text": [
      "Financial statement is not complete: 348950\n"
     ]
    },
    {
     "name": "stderr",
     "output_type": "stream",
     "text": [
      " 65%|██████▍   | 1573/2427 [07:16<04:08,  3.44it/s]"
     ]
    },
    {
     "name": "stdout",
     "output_type": "stream",
     "text": [
      "Not exists: 152550\n"
     ]
    },
    {
     "name": "stderr",
     "output_type": "stream",
     "text": [
      " 65%|██████▍   | 1575/2427 [07:16<03:11,  4.46it/s]"
     ]
    },
    {
     "name": "stdout",
     "output_type": "stream",
     "text": [
      "Financial statement is not complete: 000970\n"
     ]
    },
    {
     "name": "stderr",
     "output_type": "stream",
     "text": [
      " 66%|██████▌   | 1593/2427 [07:22<04:08,  3.36it/s]"
     ]
    },
    {
     "name": "stdout",
     "output_type": "stream",
     "text": [
      "Financial statement is not complete: 060310\n"
     ]
    },
    {
     "name": "stderr",
     "output_type": "stream",
     "text": [
      " 66%|██████▋   | 1610/2427 [07:27<04:04,  3.34it/s]"
     ]
    },
    {
     "name": "stdout",
     "output_type": "stream",
     "text": [
      "Financial statement is not complete: 020180\n"
     ]
    },
    {
     "name": "stderr",
     "output_type": "stream",
     "text": [
      " 67%|██████▋   | 1624/2427 [07:31<04:00,  3.35it/s]"
     ]
    },
    {
     "name": "stdout",
     "output_type": "stream",
     "text": [
      "Financial statement is not complete: 019570\n"
     ]
    },
    {
     "name": "stderr",
     "output_type": "stream",
     "text": [
      " 68%|██████▊   | 1643/2427 [07:36<03:55,  3.33it/s]"
     ]
    },
    {
     "name": "stdout",
     "output_type": "stream",
     "text": [
      "Financial statement is not complete: 042370\n"
     ]
    },
    {
     "name": "stderr",
     "output_type": "stream",
     "text": [
      " 70%|███████   | 1704/2427 [07:55<03:36,  3.34it/s]"
     ]
    },
    {
     "name": "stdout",
     "output_type": "stream",
     "text": [
      "Financial statement is not complete: 330350\n"
     ]
    },
    {
     "name": "stderr",
     "output_type": "stream",
     "text": [
      " 73%|███████▎  | 1768/2427 [08:14<03:18,  3.31it/s]"
     ]
    },
    {
     "name": "stdout",
     "output_type": "stream",
     "text": [
      "Financial statement is not complete: 185190\n"
     ]
    },
    {
     "name": "stderr",
     "output_type": "stream",
     "text": [
      " 75%|███████▍  | 1818/2427 [08:29<03:04,  3.31it/s]"
     ]
    },
    {
     "name": "stdout",
     "output_type": "stream",
     "text": [
      "Financial statement is not complete: 330590\n"
     ]
    },
    {
     "name": "stderr",
     "output_type": "stream",
     "text": [
      " 75%|███████▌  | 1822/2427 [08:30<03:01,  3.33it/s]"
     ]
    },
    {
     "name": "stdout",
     "output_type": "stream",
     "text": [
      "Financial statement is not complete: 003610\n"
     ]
    },
    {
     "name": "stderr",
     "output_type": "stream",
     "text": [
      " 76%|███████▌  | 1844/2427 [08:37<02:54,  3.34it/s]"
     ]
    },
    {
     "name": "stdout",
     "output_type": "stream",
     "text": [
      "Financial statement is not complete: 002630\n"
     ]
    },
    {
     "name": "stderr",
     "output_type": "stream",
     "text": [
      " 76%|███████▌  | 1850/2427 [08:39<02:54,  3.31it/s]"
     ]
    },
    {
     "name": "stdout",
     "output_type": "stream",
     "text": [
      "Financial statement is not complete: 334890\n"
     ]
    },
    {
     "name": "stderr",
     "output_type": "stream",
     "text": [
      " 77%|███████▋  | 1880/2427 [08:48<02:44,  3.32it/s]"
     ]
    },
    {
     "name": "stdout",
     "output_type": "stream",
     "text": [
      "Financial statement is not complete: 004310\n"
     ]
    },
    {
     "name": "stderr",
     "output_type": "stream",
     "text": [
      " 80%|███████▉  | 1939/2427 [09:06<02:28,  3.29it/s]"
     ]
    },
    {
     "name": "stdout",
     "output_type": "stream",
     "text": [
      "Financial statement is not complete: 018700\n"
     ]
    },
    {
     "name": "stderr",
     "output_type": "stream",
     "text": [
      " 84%|████████▍ | 2038/2427 [09:36<01:58,  3.28it/s]"
     ]
    },
    {
     "name": "stdout",
     "output_type": "stream",
     "text": [
      "Financial statement is not complete: 225430\n"
     ]
    },
    {
     "name": "stderr",
     "output_type": "stream",
     "text": [
      " 85%|████████▌ | 2065/2427 [09:45<01:45,  3.44it/s]"
     ]
    },
    {
     "name": "stdout",
     "output_type": "stream",
     "text": [
      "Financial statement is not complete: 042520\n"
     ]
    },
    {
     "name": "stderr",
     "output_type": "stream",
     "text": [
      " 85%|████████▌ | 2072/2427 [09:47<01:43,  3.43it/s]"
     ]
    },
    {
     "name": "stdout",
     "output_type": "stream",
     "text": [
      "Financial statement is not complete: 178600\n"
     ]
    },
    {
     "name": "stderr",
     "output_type": "stream",
     "text": [
      " 89%|████████▉ | 2158/2427 [10:12<01:18,  3.42it/s]"
     ]
    },
    {
     "name": "stdout",
     "output_type": "stream",
     "text": [
      "Financial statement is not complete: 350520\n"
     ]
    },
    {
     "name": "stderr",
     "output_type": "stream",
     "text": [
      " 89%|████████▉ | 2169/2427 [10:15<01:17,  3.34it/s]"
     ]
    },
    {
     "name": "stdout",
     "output_type": "stream",
     "text": [
      "Financial statement is not complete: 033250\n"
     ]
    },
    {
     "name": "stderr",
     "output_type": "stream",
     "text": [
      " 90%|█████████ | 2195/2427 [10:24<01:09,  3.35it/s]"
     ]
    },
    {
     "name": "stdout",
     "output_type": "stream",
     "text": [
      "Financial statement is not complete: 900290\n"
     ]
    },
    {
     "name": "stderr",
     "output_type": "stream",
     "text": [
      " 93%|█████████▎| 2261/2427 [10:43<00:48,  3.39it/s]"
     ]
    },
    {
     "name": "stdout",
     "output_type": "stream",
     "text": [
      "Financial statement is not complete: 054220\n"
     ]
    },
    {
     "name": "stderr",
     "output_type": "stream",
     "text": [
      " 94%|█████████▍| 2278/2427 [10:48<00:44,  3.38it/s]"
     ]
    },
    {
     "name": "stdout",
     "output_type": "stream",
     "text": [
      "Financial statement is not complete: 039670\n"
     ]
    },
    {
     "name": "stderr",
     "output_type": "stream",
     "text": [
      " 94%|█████████▍| 2289/2427 [10:52<00:40,  3.38it/s]"
     ]
    },
    {
     "name": "stdout",
     "output_type": "stream",
     "text": [
      "Financial statement is not complete: 050860\n"
     ]
    },
    {
     "name": "stderr",
     "output_type": "stream",
     "text": [
      " 95%|█████████▍| 2296/2427 [10:54<00:38,  3.38it/s]"
     ]
    },
    {
     "name": "stdout",
     "output_type": "stream",
     "text": [
      "Financial statement is not complete: 030960\n"
     ]
    },
    {
     "name": "stderr",
     "output_type": "stream",
     "text": [
      " 95%|█████████▌| 2314/2427 [10:59<00:33,  3.39it/s]"
     ]
    },
    {
     "name": "stdout",
     "output_type": "stream",
     "text": [
      "Financial statement is not complete: 227950\n"
     ]
    },
    {
     "name": "stderr",
     "output_type": "stream",
     "text": [
      " 97%|█████████▋| 2344/2427 [11:08<00:24,  3.39it/s]"
     ]
    },
    {
     "name": "stdout",
     "output_type": "stream",
     "text": [
      "Financial statement is not complete: 067010\n"
     ]
    },
    {
     "name": "stderr",
     "output_type": "stream",
     "text": [
      " 98%|█████████▊| 2389/2427 [11:21<00:11,  3.36it/s]"
     ]
    },
    {
     "name": "stdout",
     "output_type": "stream",
     "text": [
      "Financial statement is not complete: 189690\n"
     ]
    },
    {
     "name": "stderr",
     "output_type": "stream",
     "text": [
      "100%|██████████| 2427/2427 [11:33<00:00,  3.50it/s]\n",
      "  0%|          | 0/2427 [00:00<?, ?it/s]"
     ]
    },
    {
     "name": "stdout",
     "output_type": "stream",
     "text": [
      "Complete!\n",
      "Calculate investment indicators ...\n"
     ]
    },
    {
     "name": "stderr",
     "output_type": "stream",
     "text": [
      "  3%|▎         | 69/2427 [00:19<10:22,  3.79it/s]"
     ]
    },
    {
     "name": "stdout",
     "output_type": "stream",
     "text": [
      "Error in ticker: 168490\n"
     ]
    },
    {
     "name": "stderr",
     "output_type": "stream",
     "text": [
      " 26%|██▌       | 627/2427 [03:05<10:25,  2.88it/s]"
     ]
    },
    {
     "name": "stdout",
     "output_type": "stream",
     "text": [
      "Error in ticker: 088980\n"
     ]
    },
    {
     "name": "stderr",
     "output_type": "stream",
     "text": [
      " 26%|██▌       | 634/2427 [03:07<09:28,  3.16it/s]"
     ]
    },
    {
     "name": "stdout",
     "output_type": "stream",
     "text": [
      "Error in ticker: 096300\n"
     ]
    },
    {
     "name": "stderr",
     "output_type": "stream",
     "text": [
      " 38%|███▊      | 934/2427 [04:36<06:59,  3.56it/s]"
     ]
    },
    {
     "name": "stdout",
     "output_type": "stream",
     "text": [
      "Error in ticker: 094800\n"
     ]
    },
    {
     "name": "stderr",
     "output_type": "stream",
     "text": [
      " 65%|██████▍   | 1573/2427 [10:46<04:38,  3.06it/s]   "
     ]
    },
    {
     "name": "stdout",
     "output_type": "stream",
     "text": [
      "Error in ticker: 152550\n"
     ]
    },
    {
     "name": "stderr",
     "output_type": "stream",
     "text": [
      "100%|██████████| 2427/2427 [14:49<00:00,  2.73it/s]"
     ]
    },
    {
     "name": "stdout",
     "output_type": "stream",
     "text": [
      "Complete!\n"
     ]
    },
    {
     "name": "stderr",
     "output_type": "stream",
     "text": [
      "\n"
     ]
    }
   ],
   "source": [
    "kor_market = GetInitData(source='krx', data_path = 'data')\n",
    "kor_market.get_tickers() # Get a list of stock tickers\n",
    "kor_market.get_prices_and_volumes(start=datetime(2010,1,1), # Get price information (for all stocks)\n",
    "                      end=datetime.now()) \n",
    "kor_market.get_fs() # Get financial statements (for all stocks)\n",
    "kor_market.fs_cleansing(standard='005930') # Filter elements of financial statements with the given standard\n",
    "kor_market.calculate_indicators() # Calculate investment indicators"
   ]
  },
  {
   "cell_type": "code",
   "execution_count": null,
   "id": "unexpected-static",
   "metadata": {},
   "outputs": [],
   "source": [
    "# import pickle\n",
    "# with open('data/krx/prices.pkl', 'rb') as f:\n",
    "#     data = pickle.load(f)"
   ]
  },
  {
   "cell_type": "code",
   "execution_count": null,
   "id": "express-canyon",
   "metadata": {},
   "outputs": [],
   "source": [
    "# data.dropna(axis=1)"
   ]
  },
  {
   "cell_type": "code",
   "execution_count": null,
   "id": "following-recall",
   "metadata": {},
   "outputs": [],
   "source": [
    "# !pip install seaborn"
   ]
  },
  {
   "cell_type": "code",
   "execution_count": 5,
   "id": "internal-lodging",
   "metadata": {
    "tags": []
   },
   "outputs": [],
   "source": [
    "import pandas as pd\n",
    "import numpy as np\n",
    "import matplotlib.pyplot as plt\n",
    "import seaborn as sns"
   ]
  },
  {
   "cell_type": "code",
   "execution_count": 6,
   "id": "meaningful-service",
   "metadata": {
    "tags": []
   },
   "outputs": [],
   "source": [
    "data_p = pd.read_pickle('data/krx/prices.pkl')  #### 가격(종가) data\n",
    "data_t = pd.read_pickle('data/krx/tickers.pkl') #### 기업 정보 data\n",
    "data_v = pd.read_pickle('data/krx/volumes.pkl') #### 거래량 data\n",
    "data_i = pd.read_pickle('data/krx/indicators.pkl') #### 지표 data - 현재 값 없음\n",
    "data_f = pd.read_pickle('data/krx/fss.pkl')  #### 재무제표 data"
   ]
  },
  {
   "cell_type": "code",
   "execution_count": 7,
   "id": "theoretical-million",
   "metadata": {},
   "outputs": [
    {
     "data": {
      "text/html": [
       "<div>\n",
       "<style scoped>\n",
       "    .dataframe tbody tr th:only-of-type {\n",
       "        vertical-align: middle;\n",
       "    }\n",
       "\n",
       "    .dataframe tbody tr th {\n",
       "        vertical-align: top;\n",
       "    }\n",
       "\n",
       "    .dataframe thead th {\n",
       "        text-align: right;\n",
       "    }\n",
       "</style>\n",
       "<table border=\"1\" class=\"dataframe\">\n",
       "  <thead>\n",
       "    <tr style=\"text-align: right;\">\n",
       "      <th></th>\n",
       "      <th>001250</th>\n",
       "      <th>001390</th>\n",
       "      <th>011070</th>\n",
       "      <th>066570</th>\n",
       "      <th>010060</th>\n",
       "      <th>100840</th>\n",
       "      <th>064960</th>\n",
       "      <th>096770</th>\n",
       "      <th>011810</th>\n",
       "      <th>024070</th>\n",
       "      <th>...</th>\n",
       "      <th>039740</th>\n",
       "      <th>052600</th>\n",
       "      <th>092460</th>\n",
       "      <th>045100</th>\n",
       "      <th>066110</th>\n",
       "      <th>008800</th>\n",
       "      <th>060560</th>\n",
       "      <th>KOSPI</th>\n",
       "      <th>KPI200</th>\n",
       "      <th>KOSDAQ</th>\n",
       "    </tr>\n",
       "    <tr>\n",
       "      <th>Date</th>\n",
       "      <th></th>\n",
       "      <th></th>\n",
       "      <th></th>\n",
       "      <th></th>\n",
       "      <th></th>\n",
       "      <th></th>\n",
       "      <th></th>\n",
       "      <th></th>\n",
       "      <th></th>\n",
       "      <th></th>\n",
       "      <th></th>\n",
       "      <th></th>\n",
       "      <th></th>\n",
       "      <th></th>\n",
       "      <th></th>\n",
       "      <th></th>\n",
       "      <th></th>\n",
       "      <th></th>\n",
       "      <th></th>\n",
       "      <th></th>\n",
       "      <th></th>\n",
       "    </tr>\n",
       "  </thead>\n",
       "  <tbody>\n",
       "    <tr>\n",
       "      <th>2010-01-04</th>\n",
       "      <td>12831.0</td>\n",
       "      <td>10450.0</td>\n",
       "      <td>96778.0</td>\n",
       "      <td>123136.0</td>\n",
       "      <td>215000.0</td>\n",
       "      <td>33118.0</td>\n",
       "      <td>29100.0</td>\n",
       "      <td>117000.0</td>\n",
       "      <td>1439553.0</td>\n",
       "      <td>3947.0</td>\n",
       "      <td>...</td>\n",
       "      <td>2435.0</td>\n",
       "      <td>2450.0</td>\n",
       "      <td>6570.0</td>\n",
       "      <td>7109.0</td>\n",
       "      <td>3564.0</td>\n",
       "      <td>3848.0</td>\n",
       "      <td>1949.0</td>\n",
       "      <td>1696.14</td>\n",
       "      <td>223.49</td>\n",
       "      <td>528.09</td>\n",
       "    </tr>\n",
       "    <tr>\n",
       "      <th>2010-01-05</th>\n",
       "      <td>12831.0</td>\n",
       "      <td>10550.0</td>\n",
       "      <td>106078.0</td>\n",
       "      <td>122648.0</td>\n",
       "      <td>213500.0</td>\n",
       "      <td>31320.0</td>\n",
       "      <td>29500.0</td>\n",
       "      <td>121500.0</td>\n",
       "      <td>1435191.0</td>\n",
       "      <td>3942.0</td>\n",
       "      <td>...</td>\n",
       "      <td>2545.0</td>\n",
       "      <td>2420.0</td>\n",
       "      <td>6670.0</td>\n",
       "      <td>7081.0</td>\n",
       "      <td>3564.0</td>\n",
       "      <td>3842.0</td>\n",
       "      <td>1884.0</td>\n",
       "      <td>1690.62</td>\n",
       "      <td>222.84</td>\n",
       "      <td>533.09</td>\n",
       "    </tr>\n",
       "    <tr>\n",
       "      <th>2010-01-06</th>\n",
       "      <td>13476.0</td>\n",
       "      <td>10500.0</td>\n",
       "      <td>107531.0</td>\n",
       "      <td>121670.0</td>\n",
       "      <td>216500.0</td>\n",
       "      <td>32124.0</td>\n",
       "      <td>29400.0</td>\n",
       "      <td>122000.0</td>\n",
       "      <td>1487538.0</td>\n",
       "      <td>3952.0</td>\n",
       "      <td>...</td>\n",
       "      <td>2520.0</td>\n",
       "      <td>2440.0</td>\n",
       "      <td>7300.0</td>\n",
       "      <td>7194.0</td>\n",
       "      <td>3564.0</td>\n",
       "      <td>3842.0</td>\n",
       "      <td>1887.0</td>\n",
       "      <td>1705.32</td>\n",
       "      <td>224.67</td>\n",
       "      <td>539.12</td>\n",
       "    </tr>\n",
       "    <tr>\n",
       "      <th>2010-01-07</th>\n",
       "      <td>13651.0</td>\n",
       "      <td>10750.0</td>\n",
       "      <td>101234.0</td>\n",
       "      <td>112386.0</td>\n",
       "      <td>218500.0</td>\n",
       "      <td>32076.0</td>\n",
       "      <td>28600.0</td>\n",
       "      <td>121500.0</td>\n",
       "      <td>1596595.0</td>\n",
       "      <td>3982.0</td>\n",
       "      <td>...</td>\n",
       "      <td>2510.0</td>\n",
       "      <td>2435.0</td>\n",
       "      <td>7700.0</td>\n",
       "      <td>7858.0</td>\n",
       "      <td>3503.0</td>\n",
       "      <td>3875.0</td>\n",
       "      <td>1855.0</td>\n",
       "      <td>1683.45</td>\n",
       "      <td>221.31</td>\n",
       "      <td>535.52</td>\n",
       "    </tr>\n",
       "    <tr>\n",
       "      <th>2010-01-08</th>\n",
       "      <td>14355.0</td>\n",
       "      <td>10800.0</td>\n",
       "      <td>104141.0</td>\n",
       "      <td>108477.0</td>\n",
       "      <td>227000.0</td>\n",
       "      <td>32549.0</td>\n",
       "      <td>29150.0</td>\n",
       "      <td>122500.0</td>\n",
       "      <td>1596595.0</td>\n",
       "      <td>3972.0</td>\n",
       "      <td>...</td>\n",
       "      <td>2510.0</td>\n",
       "      <td>2475.0</td>\n",
       "      <td>7810.0</td>\n",
       "      <td>8199.0</td>\n",
       "      <td>3533.0</td>\n",
       "      <td>3895.0</td>\n",
       "      <td>1819.0</td>\n",
       "      <td>1695.26</td>\n",
       "      <td>222.66</td>\n",
       "      <td>538.96</td>\n",
       "    </tr>\n",
       "  </tbody>\n",
       "</table>\n",
       "<p>5 rows × 1367 columns</p>\n",
       "</div>"
      ],
      "text/plain": [
       "             001250   001390    011070    066570    010060   100840   064960  \\\n",
       "Date                                                                           \n",
       "2010-01-04  12831.0  10450.0   96778.0  123136.0  215000.0  33118.0  29100.0   \n",
       "2010-01-05  12831.0  10550.0  106078.0  122648.0  213500.0  31320.0  29500.0   \n",
       "2010-01-06  13476.0  10500.0  107531.0  121670.0  216500.0  32124.0  29400.0   \n",
       "2010-01-07  13651.0  10750.0  101234.0  112386.0  218500.0  32076.0  28600.0   \n",
       "2010-01-08  14355.0  10800.0  104141.0  108477.0  227000.0  32549.0  29150.0   \n",
       "\n",
       "              096770     011810  024070  ...  039740  052600  092460  045100  \\\n",
       "Date                                     ...                                   \n",
       "2010-01-04  117000.0  1439553.0  3947.0  ...  2435.0  2450.0  6570.0  7109.0   \n",
       "2010-01-05  121500.0  1435191.0  3942.0  ...  2545.0  2420.0  6670.0  7081.0   \n",
       "2010-01-06  122000.0  1487538.0  3952.0  ...  2520.0  2440.0  7300.0  7194.0   \n",
       "2010-01-07  121500.0  1596595.0  3982.0  ...  2510.0  2435.0  7700.0  7858.0   \n",
       "2010-01-08  122500.0  1596595.0  3972.0  ...  2510.0  2475.0  7810.0  8199.0   \n",
       "\n",
       "            066110  008800  060560    KOSPI  KPI200  KOSDAQ  \n",
       "Date                                                         \n",
       "2010-01-04  3564.0  3848.0  1949.0  1696.14  223.49  528.09  \n",
       "2010-01-05  3564.0  3842.0  1884.0  1690.62  222.84  533.09  \n",
       "2010-01-06  3564.0  3842.0  1887.0  1705.32  224.67  539.12  \n",
       "2010-01-07  3503.0  3875.0  1855.0  1683.45  221.31  535.52  \n",
       "2010-01-08  3533.0  3895.0  1819.0  1695.26  222.66  538.96  \n",
       "\n",
       "[5 rows x 1367 columns]"
      ]
     },
     "execution_count": 7,
     "metadata": {},
     "output_type": "execute_result"
    }
   ],
   "source": [
    "data_p = data_p.dropna(axis = 1) #### na 제거\n",
    "data_p.head()"
   ]
  },
  {
   "cell_type": "code",
   "execution_count": 89,
   "id": "former-tablet",
   "metadata": {},
   "outputs": [
    {
     "data": {
      "text/html": [
       "<div>\n",
       "<style scoped>\n",
       "    .dataframe tbody tr th:only-of-type {\n",
       "        vertical-align: middle;\n",
       "    }\n",
       "\n",
       "    .dataframe tbody tr th {\n",
       "        vertical-align: top;\n",
       "    }\n",
       "\n",
       "    .dataframe thead th {\n",
       "        text-align: right;\n",
       "    }\n",
       "</style>\n",
       "<table border=\"1\" class=\"dataframe\">\n",
       "  <thead>\n",
       "    <tr style=\"text-align: right;\">\n",
       "      <th></th>\n",
       "      <th>회사명</th>\n",
       "      <th>종목코드</th>\n",
       "    </tr>\n",
       "  </thead>\n",
       "  <tbody>\n",
       "    <tr>\n",
       "      <th>0</th>\n",
       "      <td>DSR</td>\n",
       "      <td>155660</td>\n",
       "    </tr>\n",
       "    <tr>\n",
       "      <th>1</th>\n",
       "      <td>GS글로벌</td>\n",
       "      <td>001250</td>\n",
       "    </tr>\n",
       "    <tr>\n",
       "      <th>2</th>\n",
       "      <td>HDC현대산업개발</td>\n",
       "      <td>294870</td>\n",
       "    </tr>\n",
       "    <tr>\n",
       "      <th>3</th>\n",
       "      <td>KG케미칼</td>\n",
       "      <td>001390</td>\n",
       "    </tr>\n",
       "    <tr>\n",
       "      <th>4</th>\n",
       "      <td>LG이노텍</td>\n",
       "      <td>011070</td>\n",
       "    </tr>\n",
       "  </tbody>\n",
       "</table>\n",
       "</div>"
      ],
      "text/plain": [
       "         회사명    종목코드\n",
       "0        DSR  155660\n",
       "1      GS글로벌  001250\n",
       "2  HDC현대산업개발  294870\n",
       "3      KG케미칼  001390\n",
       "4      LG이노텍  011070"
      ]
     },
     "execution_count": 89,
     "metadata": {},
     "output_type": "execute_result"
    }
   ],
   "source": [
    "#### 회사명 & 종목코드 추출\n",
    "tn = data_t.iloc[:,0:2]\n",
    "tn.head()"
   ]
  },
  {
   "cell_type": "code",
   "execution_count": 117,
   "id": "basic-poison",
   "metadata": {},
   "outputs": [
    {
     "data": {
      "text/plain": [
       "0        GS글로벌\n",
       "1        KG케미칼\n",
       "2        LG이노텍\n",
       "3         LG전자\n",
       "4          OCI\n",
       "         ...  \n",
       "1359     한라IMS\n",
       "1360     한양이엔지\n",
       "1361        한프\n",
       "1362       행남사\n",
       "1363    홈센타홀딩스\n",
       "Name: 회사명, Length: 1364, dtype: object"
      ]
     },
     "execution_count": 117,
     "metadata": {},
     "output_type": "execute_result"
    }
   ],
   "source": [
    "#### data_p의 col 순서에 맞는 종목코드와 해당하는 종목명 매칭\n",
    "pn = pd.DataFrame({\"종목코드\" :list(data_p.columns)})\n",
    "pc_n = tn.merge(pn)\n",
    "pc_n['회사명']"
   ]
  },
  {
   "cell_type": "code",
   "execution_count": 116,
   "id": "found-enough",
   "metadata": {},
   "outputs": [],
   "source": [
    "#### 원래 가장 끝에 있던 3개는 종목명에 없어서 따로 추가\n",
    "lp = list(pc_n['회사명'])\n",
    "lp.append('KOSPI')\n",
    "lp.append('KPI200')\n",
    "lp.append('KOSDAQ')"
   ]
  },
  {
   "cell_type": "code",
   "execution_count": 155,
   "id": "gross-compensation",
   "metadata": {},
   "outputs": [
    {
     "data": {
      "text/html": [
       "<div>\n",
       "<style scoped>\n",
       "    .dataframe tbody tr th:only-of-type {\n",
       "        vertical-align: middle;\n",
       "    }\n",
       "\n",
       "    .dataframe tbody tr th {\n",
       "        vertical-align: top;\n",
       "    }\n",
       "\n",
       "    .dataframe thead th {\n",
       "        text-align: right;\n",
       "    }\n",
       "</style>\n",
       "<table border=\"1\" class=\"dataframe\">\n",
       "  <thead>\n",
       "    <tr style=\"text-align: right;\">\n",
       "      <th></th>\n",
       "      <th>GS글로벌</th>\n",
       "      <th>KG케미칼</th>\n",
       "      <th>LG이노텍</th>\n",
       "      <th>LG전자</th>\n",
       "      <th>OCI</th>\n",
       "      <th>S&amp;TC</th>\n",
       "      <th>S&amp;T모티브</th>\n",
       "      <th>SK이노베이션</th>\n",
       "      <th>STX</th>\n",
       "      <th>WISCOM</th>\n",
       "      <th>...</th>\n",
       "      <th>한국정보공학</th>\n",
       "      <th>한네트</th>\n",
       "      <th>한라IMS</th>\n",
       "      <th>한양이엔지</th>\n",
       "      <th>한프</th>\n",
       "      <th>행남사</th>\n",
       "      <th>홈센타홀딩스</th>\n",
       "      <th>KOSPI</th>\n",
       "      <th>KPI200</th>\n",
       "      <th>KOSDAQ</th>\n",
       "    </tr>\n",
       "    <tr>\n",
       "      <th>Date</th>\n",
       "      <th></th>\n",
       "      <th></th>\n",
       "      <th></th>\n",
       "      <th></th>\n",
       "      <th></th>\n",
       "      <th></th>\n",
       "      <th></th>\n",
       "      <th></th>\n",
       "      <th></th>\n",
       "      <th></th>\n",
       "      <th></th>\n",
       "      <th></th>\n",
       "      <th></th>\n",
       "      <th></th>\n",
       "      <th></th>\n",
       "      <th></th>\n",
       "      <th></th>\n",
       "      <th></th>\n",
       "      <th></th>\n",
       "      <th></th>\n",
       "      <th></th>\n",
       "    </tr>\n",
       "  </thead>\n",
       "  <tbody>\n",
       "    <tr>\n",
       "      <th>2010-01-04</th>\n",
       "      <td>12831.0</td>\n",
       "      <td>10450.0</td>\n",
       "      <td>96778.0</td>\n",
       "      <td>123136.0</td>\n",
       "      <td>215000.0</td>\n",
       "      <td>33118.0</td>\n",
       "      <td>29100.0</td>\n",
       "      <td>117000.0</td>\n",
       "      <td>1439553.0</td>\n",
       "      <td>3947.0</td>\n",
       "      <td>...</td>\n",
       "      <td>2435.0</td>\n",
       "      <td>2450.0</td>\n",
       "      <td>6570.0</td>\n",
       "      <td>7109.0</td>\n",
       "      <td>3564.0</td>\n",
       "      <td>3848.0</td>\n",
       "      <td>1949.0</td>\n",
       "      <td>1696.14</td>\n",
       "      <td>223.49</td>\n",
       "      <td>528.09</td>\n",
       "    </tr>\n",
       "    <tr>\n",
       "      <th>2010-01-05</th>\n",
       "      <td>12831.0</td>\n",
       "      <td>10550.0</td>\n",
       "      <td>106078.0</td>\n",
       "      <td>122648.0</td>\n",
       "      <td>213500.0</td>\n",
       "      <td>31320.0</td>\n",
       "      <td>29500.0</td>\n",
       "      <td>121500.0</td>\n",
       "      <td>1435191.0</td>\n",
       "      <td>3942.0</td>\n",
       "      <td>...</td>\n",
       "      <td>2545.0</td>\n",
       "      <td>2420.0</td>\n",
       "      <td>6670.0</td>\n",
       "      <td>7081.0</td>\n",
       "      <td>3564.0</td>\n",
       "      <td>3842.0</td>\n",
       "      <td>1884.0</td>\n",
       "      <td>1690.62</td>\n",
       "      <td>222.84</td>\n",
       "      <td>533.09</td>\n",
       "    </tr>\n",
       "    <tr>\n",
       "      <th>2010-01-06</th>\n",
       "      <td>13476.0</td>\n",
       "      <td>10500.0</td>\n",
       "      <td>107531.0</td>\n",
       "      <td>121670.0</td>\n",
       "      <td>216500.0</td>\n",
       "      <td>32124.0</td>\n",
       "      <td>29400.0</td>\n",
       "      <td>122000.0</td>\n",
       "      <td>1487538.0</td>\n",
       "      <td>3952.0</td>\n",
       "      <td>...</td>\n",
       "      <td>2520.0</td>\n",
       "      <td>2440.0</td>\n",
       "      <td>7300.0</td>\n",
       "      <td>7194.0</td>\n",
       "      <td>3564.0</td>\n",
       "      <td>3842.0</td>\n",
       "      <td>1887.0</td>\n",
       "      <td>1705.32</td>\n",
       "      <td>224.67</td>\n",
       "      <td>539.12</td>\n",
       "    </tr>\n",
       "    <tr>\n",
       "      <th>2010-01-07</th>\n",
       "      <td>13651.0</td>\n",
       "      <td>10750.0</td>\n",
       "      <td>101234.0</td>\n",
       "      <td>112386.0</td>\n",
       "      <td>218500.0</td>\n",
       "      <td>32076.0</td>\n",
       "      <td>28600.0</td>\n",
       "      <td>121500.0</td>\n",
       "      <td>1596595.0</td>\n",
       "      <td>3982.0</td>\n",
       "      <td>...</td>\n",
       "      <td>2510.0</td>\n",
       "      <td>2435.0</td>\n",
       "      <td>7700.0</td>\n",
       "      <td>7858.0</td>\n",
       "      <td>3503.0</td>\n",
       "      <td>3875.0</td>\n",
       "      <td>1855.0</td>\n",
       "      <td>1683.45</td>\n",
       "      <td>221.31</td>\n",
       "      <td>535.52</td>\n",
       "    </tr>\n",
       "    <tr>\n",
       "      <th>2010-01-08</th>\n",
       "      <td>14355.0</td>\n",
       "      <td>10800.0</td>\n",
       "      <td>104141.0</td>\n",
       "      <td>108477.0</td>\n",
       "      <td>227000.0</td>\n",
       "      <td>32549.0</td>\n",
       "      <td>29150.0</td>\n",
       "      <td>122500.0</td>\n",
       "      <td>1596595.0</td>\n",
       "      <td>3972.0</td>\n",
       "      <td>...</td>\n",
       "      <td>2510.0</td>\n",
       "      <td>2475.0</td>\n",
       "      <td>7810.0</td>\n",
       "      <td>8199.0</td>\n",
       "      <td>3533.0</td>\n",
       "      <td>3895.0</td>\n",
       "      <td>1819.0</td>\n",
       "      <td>1695.26</td>\n",
       "      <td>222.66</td>\n",
       "      <td>538.96</td>\n",
       "    </tr>\n",
       "  </tbody>\n",
       "</table>\n",
       "<p>5 rows × 1367 columns</p>\n",
       "</div>"
      ],
      "text/plain": [
       "              GS글로벌    KG케미칼     LG이노텍      LG전자       OCI     S&TC   S&T모티브  \\\n",
       "Date                                                                           \n",
       "2010-01-04  12831.0  10450.0   96778.0  123136.0  215000.0  33118.0  29100.0   \n",
       "2010-01-05  12831.0  10550.0  106078.0  122648.0  213500.0  31320.0  29500.0   \n",
       "2010-01-06  13476.0  10500.0  107531.0  121670.0  216500.0  32124.0  29400.0   \n",
       "2010-01-07  13651.0  10750.0  101234.0  112386.0  218500.0  32076.0  28600.0   \n",
       "2010-01-08  14355.0  10800.0  104141.0  108477.0  227000.0  32549.0  29150.0   \n",
       "\n",
       "             SK이노베이션        STX  WISCOM  ...  한국정보공학     한네트   한라IMS   한양이엔지  \\\n",
       "Date                                     ...                                   \n",
       "2010-01-04  117000.0  1439553.0  3947.0  ...  2435.0  2450.0  6570.0  7109.0   \n",
       "2010-01-05  121500.0  1435191.0  3942.0  ...  2545.0  2420.0  6670.0  7081.0   \n",
       "2010-01-06  122000.0  1487538.0  3952.0  ...  2520.0  2440.0  7300.0  7194.0   \n",
       "2010-01-07  121500.0  1596595.0  3982.0  ...  2510.0  2435.0  7700.0  7858.0   \n",
       "2010-01-08  122500.0  1596595.0  3972.0  ...  2510.0  2475.0  7810.0  8199.0   \n",
       "\n",
       "                한프     행남사  홈센타홀딩스    KOSPI  KPI200  KOSDAQ  \n",
       "Date                                                         \n",
       "2010-01-04  3564.0  3848.0  1949.0  1696.14  223.49  528.09  \n",
       "2010-01-05  3564.0  3842.0  1884.0  1690.62  222.84  533.09  \n",
       "2010-01-06  3564.0  3842.0  1887.0  1705.32  224.67  539.12  \n",
       "2010-01-07  3503.0  3875.0  1855.0  1683.45  221.31  535.52  \n",
       "2010-01-08  3533.0  3895.0  1819.0  1695.26  222.66  538.96  \n",
       "\n",
       "[5 rows x 1367 columns]"
      ]
     },
     "execution_count": 155,
     "metadata": {},
     "output_type": "execute_result"
    }
   ],
   "source": [
    "data_p.head()"
   ]
  },
  {
   "cell_type": "code",
   "execution_count": 151,
   "id": "handled-curtis",
   "metadata": {},
   "outputs": [],
   "source": [
    "pr = (data_p.pct_change() + 1).prod() #### 전체기간 누적 수익률"
   ]
  },
  {
   "cell_type": "code",
   "execution_count": 152,
   "id": "sublime-situation",
   "metadata": {},
   "outputs": [],
   "source": [
    "pr = pr.sort_values(ascending=False) ### 누적 수익률 내림차순 정렬"
   ]
  },
  {
   "cell_type": "code",
   "execution_count": 191,
   "id": "prepared-jamaica",
   "metadata": {},
   "outputs": [
    {
     "data": {
      "text/plain": [
       "dict_keys(['매출액', '매출원가', '매출총이익', '판매비와관리비', '인건비', '유무형자산상각비', '연구개발비', '광고선전비', '판매비', '관리비', '기타원가성비용', '기타', '영업이익', '영업이익(발표기준)', '금융수익', '이자수익', '배당금수익', '외환이익', '대손충당금환입액', '매출채권처분이익', '당기손익-공정가치측정\\xa0금융자산관련이익', '금융자산처분이익', '금융자산평가이익', '금융자산손상차손환입', '파생상품이익', '기타금융수익', '금융원가', '이자비용', '외환손실', '대손상각비', '당기손익-공정가치측정\\xa0금융자산관련손실', '매출채권처분손실', '금융자산처분손실', '금융자산평가손실', '금융자산손상차손', '파생상품손실', '기타금융원가', '기타수익', '재고자산감모손실환입', '재고자산폐기(처분)이익', '당기손익-공정가치측정\\xa0금융자산평가이익', '자산처분(폐기)이익', '자산평가이익', '자산손상차손환입', '임대료수익', '로열티수익', '수수료수익', '대손충당금환입', '충당부채환입액', '기타비용', '재고자산감모손실', '재고자산폐기(처분)손실', '당기손익-공정가치측정\\xa0금융자산평가손실', '자산처분(폐기)손실', '자산평가손실', '자산손상차손', '기타대손상각비', '충당부채전입액', '종속기업,공동지배기업및관계기업관련손익', '지분법손익', '종속기업,공동지배기업및관계기업투자주식처분손익', '종속기업,공동지배기업및관계기업투자주식손상관련손익', '세전계속사업이익', '법인세비용', '계속영업이익', '중단영업이익', '당기순이익', '지배주주순이익', '비지배주주순이익', '자산', '유동자산', '재고자산', '유동생물자산', '유동금융자산', '매출채권및기타유동채권', '당기법인세자산', '계약자산', '반품(환불)자산', '배출권', '기타유동자산', '현금및현금성자산', '매각예정비유동자산및처분자산집단', '비유동자산', '유형자산', '무형자산', '비유동생물자산', '투자부동산', '장기금융자산', '관계기업등지분관련투자자산', '장기매출채권및기타비유동채권', '이연법인세자산', '장기당기법인세자산', '기타비유동자산', '기타금융업자산', '부채', '유동부채', '단기사채', '단기차입금', '유동성장기부채', '유동금융부채', '매입채무및기타유동채무', '유동종업원급여충당부채', '기타단기충당부채', '당기법인세부채', '계약부채', '반품(환불)부채', '배출부채', '기타유동부채', '매각예정으로분류된처분자산집단에포함된부채', '비유동부채', '사채', '장기차입금', '비유동금융부채', '장기매입채무및기타비유동채무', '비유동종업원급여충당부채', '기타장기충당부채', '이연법인세부채', '장기당기법인세부채', '기타비유동부채', '기타금융업부채', '자본', '지배기업주주지분', '자본금', '신종자본증권', '자본잉여금', '기타자본', '기타포괄손익누계액', '이익잉여금(결손금)', '비지배주주지분', '영업활동으로인한현금흐름', '당기순손익', '법인세비용차감전계속사업이익', '현금유출이없는비용등가산', '퇴직급여', '종업원급여', '주식보상비', '감가상각비', '무형자산상각비', '계약부채전입액', '반품(환불)부채전입액', '배출부채전입액', '기타의대손상각비', '배당금지급', '금융부채관련손실', '사채상환손실', '투자자산평가손실', '자산재평가손실', '지분법관련손실', '종속기업관련손실', '관계기업관련손익', '(현금유입이없는수익등차감)', '금융부채관련이익', '사채상환이익', '퇴직급여충당부채환입액', '계약부채환입액', '반품(환불)부채환입액', '배출부채환입액', '주식보상비환입', '투자자산평가이익', '자산재평가이익', '지분법관련이익', '종속회사관련이익', '법인세수익', '영업활동으로인한자산부채변동(운전자본변동)', '자산의감소(증가)', '부채의증가(감소)', '정부보조금등의변동', '기타운전자본의변동', '*영업에서창출된현금흐름', '기타영업활동으로인한현금흐름', '이자수입', '이자지급(-)', '배당금수입', '배당금지급(-)', '법인세환입', '법인세납부(-)', '중단영업관련현금흐름', '투자활동으로인한현금흐름', '투자활동으로인한현금유입액', '유동금융자산의감소', '장기금융상품의감소', '매도가능금융자산의감소', '만기보유금융자산의감소', '장기대여금의감소', '파생상품의변동', '기타비유동금융자산의감소', '관계기업등지분관련투자자산의감소', '유형자산의감소', '무형자산의감소', '생물자산의감소', '투자부동산의감소', '기타투자활동으로인한현금유입액', '(투자활동으로인한현금유출액)', '유동금융자산의증가', '장기금융상품의증가', '매도가능금융자산의증가', '만기보유금융자산의증가', '장기대여금의증가', '기타비유동금융자산의증가', '관계기업등지분관련투자자산의증가', '유형자산의증가', '무형자산의증가', '생물자산의증가', '투자부동산의증가', '기타투자활동으로인한현금유출액', '기타투자활동으로인한현금흐름', '재무활동으로인한현금흐름', '재무활동으로인한현금유입액', '사채의증가', '차입금의증가', '미지급금의증가', '유동성장기부채의증가', '기타금융부채의증가', '기타부채의증가', '유상증자', '자기주식의처분', '주식매입선택권의행사', '자본구성항목의증가', '기타재무활동으로인한현금유입액', '(재무활동으로인한현금유출액)', '사채의감소', '차입금의감소', '미지급금의감소', '유동성장기부채의감소', '기타금융부채의감소', '기타부채의감소', '유상감자', '자기주식의취득', '자본구성항목의감소', '기타재무활동으로인한현금유출액', '기타재무활동으로인한현금흐름', '영업투자재무활동기타현금흐름', '연결범위변동으로인한현금의증가', '환율변동효과', '현금및현금성자산의증가', '기초현금및현금성자산', '기말현금및현금성자산'])"
      ]
     },
     "execution_count": 191,
     "metadata": {},
     "output_type": "execute_result"
    }
   ],
   "source": [
    "data_f.keys()"
   ]
  },
  {
   "cell_type": "code",
   "execution_count": 192,
   "id": "accurate-helen",
   "metadata": {},
   "outputs": [
    {
     "data": {
      "text/html": [
       "<div>\n",
       "<style scoped>\n",
       "    .dataframe tbody tr th:only-of-type {\n",
       "        vertical-align: middle;\n",
       "    }\n",
       "\n",
       "    .dataframe tbody tr th {\n",
       "        vertical-align: top;\n",
       "    }\n",
       "\n",
       "    .dataframe thead th {\n",
       "        text-align: right;\n",
       "    }\n",
       "</style>\n",
       "<table border=\"1\" class=\"dataframe\">\n",
       "  <thead>\n",
       "    <tr style=\"text-align: right;\">\n",
       "      <th></th>\n",
       "      <th>2017/12</th>\n",
       "      <th>2018/12</th>\n",
       "      <th>2019/12</th>\n",
       "    </tr>\n",
       "  </thead>\n",
       "  <tbody>\n",
       "    <tr>\n",
       "      <th>155660</th>\n",
       "      <td>340.0</td>\n",
       "      <td>276.0</td>\n",
       "      <td>295.0</td>\n",
       "    </tr>\n",
       "    <tr>\n",
       "      <th>001250</th>\n",
       "      <td>1400.0</td>\n",
       "      <td>1387.0</td>\n",
       "      <td>1480.0</td>\n",
       "    </tr>\n",
       "    <tr>\n",
       "      <th>294870</th>\n",
       "      <td>NaN</td>\n",
       "      <td>4489.0</td>\n",
       "      <td>7536.0</td>\n",
       "    </tr>\n",
       "    <tr>\n",
       "      <th>001390</th>\n",
       "      <td>3221.0</td>\n",
       "      <td>3987.0</td>\n",
       "      <td>4809.0</td>\n",
       "    </tr>\n",
       "    <tr>\n",
       "      <th>011070</th>\n",
       "      <td>8847.0</td>\n",
       "      <td>8639.0</td>\n",
       "      <td>10419.0</td>\n",
       "    </tr>\n",
       "    <tr>\n",
       "      <th>...</th>\n",
       "      <td>...</td>\n",
       "      <td>...</td>\n",
       "      <td>...</td>\n",
       "    </tr>\n",
       "    <tr>\n",
       "      <th>189350</th>\n",
       "      <td>35.0</td>\n",
       "      <td>17.0</td>\n",
       "      <td>16.0</td>\n",
       "    </tr>\n",
       "    <tr>\n",
       "      <th>199800</th>\n",
       "      <td>29.0</td>\n",
       "      <td>8.0</td>\n",
       "      <td>7.0</td>\n",
       "    </tr>\n",
       "    <tr>\n",
       "      <th>222670</th>\n",
       "      <td>NaN</td>\n",
       "      <td>NaN</td>\n",
       "      <td>NaN</td>\n",
       "    </tr>\n",
       "    <tr>\n",
       "      <th>331660</th>\n",
       "      <td>NaN</td>\n",
       "      <td>142.0</td>\n",
       "      <td>122.0</td>\n",
       "    </tr>\n",
       "    <tr>\n",
       "      <th>212310</th>\n",
       "      <td>46.0</td>\n",
       "      <td>39.0</td>\n",
       "      <td>-0.0</td>\n",
       "    </tr>\n",
       "  </tbody>\n",
       "</table>\n",
       "<p>2421 rows × 3 columns</p>\n",
       "</div>"
      ],
      "text/plain": [
       "        2017/12  2018/12  2019/12\n",
       "155660    340.0    276.0    295.0\n",
       "001250   1400.0   1387.0   1480.0\n",
       "294870      NaN   4489.0   7536.0\n",
       "001390   3221.0   3987.0   4809.0\n",
       "011070   8847.0   8639.0  10419.0\n",
       "...         ...      ...      ...\n",
       "189350     35.0     17.0     16.0\n",
       "199800     29.0      8.0      7.0\n",
       "222670      NaN      NaN      NaN\n",
       "331660      NaN    142.0    122.0\n",
       "212310     46.0     39.0     -0.0\n",
       "\n",
       "[2421 rows x 3 columns]"
      ]
     },
     "execution_count": 192,
     "metadata": {},
     "output_type": "execute_result"
    }
   ],
   "source": [
    "data_f['매출총이익']"
   ]
  },
  {
   "cell_type": "code",
   "execution_count": 186,
   "id": "decimal-mother",
   "metadata": {},
   "outputs": [
    {
     "data": {
      "text/plain": [
       "['GS글로벌',\n",
       " 'KG케미칼',\n",
       " 'LG이노텍',\n",
       " 'LG전자',\n",
       " 'OCI',\n",
       " 'S&TC',\n",
       " 'S&T모티브',\n",
       " 'SK이노베이션',\n",
       " 'STX',\n",
       " 'WISCOM',\n",
       " 'YG PLUS',\n",
       " '갤럭시아에스엠',\n",
       " '고려아연',\n",
       " '국도화학',\n",
       " '극동유화',\n",
       " '까뮤이앤씨',\n",
       " '남선알미늄',\n",
       " '대영포장',\n",
       " '대웅',\n",
       " '대한유화',\n",
       " '두산',\n",
       " '마니커',\n",
       " '메리츠증권',\n",
       " '부국증권',\n",
       " '삼성SDI',\n",
       " '삼성엔지니어링',\n",
       " '삼성중공업',\n",
       " '삼성출판사',\n",
       " '삼성화재해상보험',\n",
       " '삼양홀딩스',\n",
       " '삼영전자공업',\n",
       " '삼영화학공업',\n",
       " '상상인증권',\n",
       " '선도전기',\n",
       " '세방전지',\n",
       " '신한지주',\n",
       " '쌍용자동차',\n",
       " '에넥스',\n",
       " '영화금속',\n",
       " '윌비스',\n",
       " '유나이티드',\n",
       " '이구산업',\n",
       " '인지컨트롤스',\n",
       " '일성건설',\n",
       " '일진다이아',\n",
       " '제일연마',\n",
       " '제일파마홀딩스',\n",
       " '조흥',\n",
       " '진도',\n",
       " '키다리스튜디오',\n",
       " '태경산업',\n",
       " '태양금속공업',\n",
       " '필룩스',\n",
       " '한국공항',\n",
       " '한솔로지스틱스',\n",
       " '한일철강',\n",
       " '한일현대시멘트',\n",
       " '한창제지',\n",
       " '현대모비스',\n",
       " '현대비앤지스틸',\n",
       " '현대엘리베이터',\n",
       " '현대차증권',\n",
       " 'GST',\n",
       " 'GS홈쇼핑',\n",
       " 'ITX-AI',\n",
       " 'JW신약',\n",
       " 'KB오토시스',\n",
       " 'KH바텍',\n",
       " 'YW',\n",
       " '경창산업',\n",
       " '국순당',\n",
       " '네오티스',\n",
       " '네이처셀',\n",
       " '녹십자셀',\n",
       " '뉴인텍',\n",
       " '뉴프렉스',\n",
       " '대봉엘에스',\n",
       " '대주산업',\n",
       " '대한약품',\n",
       " '동방선기',\n",
       " '디에이피',\n",
       " '디엔에프',\n",
       " '디지틀조선',\n",
       " '룽투코리아',\n",
       " '메디톡스',\n",
       " '메이슨캐피탈',\n",
       " '모두투어',\n",
       " '미래SCI',\n",
       " '바이넥스',\n",
       " '삼보판지',\n",
       " '삼아제약',\n",
       " '상지카일룸',\n",
       " '성창오토텍',\n",
       " '세보엠이씨',\n",
       " '세코닉스',\n",
       " '셀루메드',\n",
       " '셀트리온제약',\n",
       " '소리바다',\n",
       " '스페코',\n",
       " '승일',\n",
       " '쌍용정보통신',\n",
       " '아이오케이',\n",
       " '아이즈비전',\n",
       " '알에프세미',\n",
       " '알에프텍',\n",
       " '어보브반도체',\n",
       " '에스아이리소스',\n",
       " '에스앤더블류',\n",
       " '에스앤에스텍',\n",
       " '에스에너지',\n",
       " '에쎈테크',\n",
       " '에이티넘인베스트',\n",
       " '엑사이엔씨',\n",
       " '엠게임',\n",
       " '엠벤처투자',\n",
       " '오공',\n",
       " '오스템임플란트',\n",
       " '오픈베이스',\n",
       " '와이지-원',\n",
       " '우리바이오',\n",
       " '원익QnC',\n",
       " '원익큐브',\n",
       " '원풍물산',\n",
       " '웨이브일렉트로',\n",
       " '웰크론',\n",
       " '위지트',\n",
       " '유비쿼스홀딩스',\n",
       " '유신',\n",
       " '이스트소프트',\n",
       " '이엠네트웍스',\n",
       " '인베니아',\n",
       " '정상제이엘에스',\n",
       " '제우스',\n",
       " '제이엠티',\n",
       " '제일제강',\n",
       " '제주반도체',\n",
       " '젬백스',\n",
       " '조아제약',\n",
       " '주성엔지니어링',\n",
       " '지엔코',\n",
       " '케이피엠테크',\n",
       " '케이피티유',\n",
       " '크로바하이텍',\n",
       " '토탈소프트',\n",
       " '특수건설',\n",
       " '파라텍',\n",
       " '파세코',\n",
       " '파커스',\n",
       " '푸드웰',\n",
       " '피델릭스',\n",
       " '피에스엠씨',\n",
       " '한국코퍼레이션',\n",
       " '한양디지텍',\n",
       " '한일화학',\n",
       " '해성산업',\n",
       " '현대바이오',\n",
       " '화성밸브',\n",
       " '휴맥스',\n",
       " 'CJ CGV',\n",
       " 'CJ제일제당',\n",
       " 'HDC현대EP',\n",
       " 'JW홀딩스',\n",
       " 'KB금융',\n",
       " 'KPX케미칼',\n",
       " 'SG충방',\n",
       " '금강공업',\n",
       " '금호산업',\n",
       " '금호전기',\n",
       " '기업은행',\n",
       " '남성',\n",
       " '대구백화점',\n",
       " '대우건설',\n",
       " '대원제약',\n",
       " '대한방직',\n",
       " '대한제당',\n",
       " '대한해운',\n",
       " '덕양산업',\n",
       " '동원F&B',\n",
       " '동원금속',\n",
       " '두산인프라코어',\n",
       " '디씨엠',\n",
       " '디티알오토모티브',\n",
       " '롯데손해보험',\n",
       " '롯데칠성음료',\n",
       " '롯데케미칼',\n",
       " '미원홀딩스',\n",
       " '백산',\n",
       " '보락',\n",
       " '사조대림',\n",
       " '사조동아원',\n",
       " '삼양식품',\n",
       " '서원',\n",
       " '세방',\n",
       " '세아홀딩스',\n",
       " '세이브존I&C',\n",
       " '신일전자',\n",
       " '신풍제약',\n",
       " '써니전자',\n",
       " '아이에이치큐',\n",
       " '엔씨소프트',\n",
       " '영보화학',\n",
       " '영진약품',\n",
       " '영풍',\n",
       " '우리금융캐피탈',\n",
       " '유니온머티리얼',\n",
       " '유유제약',\n",
       " '유한양행',\n",
       " '이수화학',\n",
       " '이스타코',\n",
       " '인천도시가스',\n",
       " '일정실업',\n",
       " '종근당홀딩스',\n",
       " '진원생명과학',\n",
       " '컨버즈',\n",
       " '코리아써키트',\n",
       " '코스모화학',\n",
       " '코아스',\n",
       " '큐로',\n",
       " '티비에이치글로벌',\n",
       " '포스코강판',\n",
       " '포스코케미칼',\n",
       " '하이트론씨스템즈',\n",
       " '한국금융지주',\n",
       " '한국전자홀딩스',\n",
       " '한국토지신탁',\n",
       " '한국특수형강',\n",
       " '한온시스템',\n",
       " '한화솔루션',\n",
       " '호텔신라',\n",
       " '화승인더스트리',\n",
       " '화천기공',\n",
       " '환인제약',\n",
       " '효성',\n",
       " '흥아해운',\n",
       " 'APS홀딩스',\n",
       " 'CJ ENM',\n",
       " 'CMG제약',\n",
       " 'CS',\n",
       " 'CSA 코스믹',\n",
       " 'EG',\n",
       " 'HRS',\n",
       " 'NICE평가정보',\n",
       " 'PN풍년',\n",
       " 'SCI평가정보',\n",
       " 'SM C&C',\n",
       " 'UCI',\n",
       " '게임빌',\n",
       " '경남바이오파마',\n",
       " '고영',\n",
       " '광림',\n",
       " '국영지앤엠',\n",
       " '나노엔텍',\n",
       " '네오팜',\n",
       " '넥스턴',\n",
       " '녹원씨엔아이',\n",
       " '누리텔레콤',\n",
       " '대성파인텍',\n",
       " '대아티아이',\n",
       " '대주전자재료',\n",
       " '대창솔루션',\n",
       " '동국S&C',\n",
       " '동아엘텍',\n",
       " '디오',\n",
       " '럭슬',\n",
       " '레드캡투어',\n",
       " '릭스솔루션',\n",
       " '매일홀딩스',\n",
       " '메디앙스',\n",
       " '메타바이오메드',\n",
       " '무림SP',\n",
       " '비트컴퓨터',\n",
       " '삼륭물산',\n",
       " '삼일',\n",
       " '삼일기업공사',\n",
       " '삼지전자',\n",
       " '삼진',\n",
       " '삼화네트웍스',\n",
       " '상보',\n",
       " '상신이디피',\n",
       " '서린바이오',\n",
       " '서호전기',\n",
       " '세명전기',\n",
       " '셀바스AI',\n",
       " '손오공',\n",
       " '수성',\n",
       " '신라에스지',\n",
       " '아가방컴퍼니',\n",
       " '아래스',\n",
       " '아모텍',\n",
       " '아이에이',\n",
       " '에프알텍',\n",
       " '에프에스티',\n",
       " '영신금속',\n",
       " '예림당',\n",
       " '오성첨단소재',\n",
       " '우림기계',\n",
       " '우수AMS',\n",
       " '원일특강',\n",
       " '유니테스트',\n",
       " '이글벳',\n",
       " '이녹스',\n",
       " '이엠앤아이',\n",
       " '이엠텍',\n",
       " '이트론',\n",
       " '인바디',\n",
       " '인선이엔티',\n",
       " '인포뱅크',\n",
       " '잉크테크',\n",
       " '제이스텍',\n",
       " '제일바이오',\n",
       " '젬백스지오',\n",
       " '조이맥스',\n",
       " '조이시티',\n",
       " '지니뮤직',\n",
       " '참좋은여행',\n",
       " '초록뱀',\n",
       " '컴투스',\n",
       " '케이씨피드',\n",
       " '케이엔더블유',\n",
       " '코데즈컴바인',\n",
       " '코메론',\n",
       " '코미팜',\n",
       " '코아시아',\n",
       " '코오롱생명과학',\n",
       " '코웰패션',\n",
       " '코위버',\n",
       " '크리스탈지노믹스',\n",
       " '테라사이언스',\n",
       " '테라젠이텍스',\n",
       " '티엘아이',\n",
       " '파루',\n",
       " '파인디지털',\n",
       " '팬엔터테인먼트',\n",
       " '풍강',\n",
       " '피에스텍',\n",
       " '하나마이크론',\n",
       " '한국경제TV',\n",
       " '한국기업평가',\n",
       " '한국아트라스비엑스',\n",
       " '한국알콜',\n",
       " '한국전자금융',\n",
       " '한국정보통신',\n",
       " '한국팩키지',\n",
       " '한글과컴퓨터',\n",
       " '한일단조',\n",
       " '한컴위드',\n",
       " '한탑',\n",
       " '현진소재',\n",
       " '형지I&C',\n",
       " '휴맥스홀딩스',\n",
       " 'DRB동일',\n",
       " 'GS건설',\n",
       " 'LG상사',\n",
       " 'MH에탄올',\n",
       " 'SBS',\n",
       " 'SBS미디어홀딩스',\n",
       " 'SK텔레콤',\n",
       " '강원랜드',\n",
       " '교보증권',\n",
       " '국제약품',\n",
       " '금양',\n",
       " '넥센타이어',\n",
       " '녹십자홀딩스',\n",
       " '농심홀딩스',\n",
       " '다스코',\n",
       " '대교',\n",
       " '대림건설',\n",
       " '대웅제약',\n",
       " '더존비즈온',\n",
       " '덕성',\n",
       " '동방아그로',\n",
       " '동서',\n",
       " '동성코퍼레이션',\n",
       " '동아쏘시오홀딩스',\n",
       " '동양',\n",
       " '동양생명',\n",
       " '동원산업',\n",
       " '디아이',\n",
       " '디와이',\n",
       " '디피씨',\n",
       " '롯데정밀화학',\n",
       " '롯데푸드',\n",
       " '맥쿼리인프라',\n",
       " '메타랩스',\n",
       " '명문제약',\n",
       " '모토닉',\n",
       " '범양건영',\n",
       " '베트남개발1',\n",
       " '빙그레',\n",
       " '삼성증권',\n",
       " '삼성카드',\n",
       " '삼양통상',\n",
       " '삼영무역',\n",
       " '삼정펄프',\n",
       " '성보화학',\n",
       " '센트럴인사이트',\n",
       " '송원산업',\n",
       " '신성이엔지',\n",
       " '신세계푸드',\n",
       " '신화실업',\n",
       " '씨아이테크',\n",
       " '아모레퍼시픽그룹',\n",
       " '유니켐',\n",
       " '유양디앤유',\n",
       " '유화증권',\n",
       " '이월드',\n",
       " '일성신약',\n",
       " '제이준코스메틱',\n",
       " '조비',\n",
       " '종근당바이오',\n",
       " '진양화학',\n",
       " '코스모신소재',\n",
       " '키위미디어그룹',\n",
       " '태평양물산',\n",
       " '텔코웨어',\n",
       " '팜스코',\n",
       " '퍼시스',\n",
       " '풍산홀딩스',\n",
       " '하이스틸',\n",
       " '하이트진로',\n",
       " '한국석유공업',\n",
       " '한국수출포장공업',\n",
       " '한국주강',\n",
       " '한국콜마홀딩스',\n",
       " '한미사이언스',\n",
       " '한샘',\n",
       " '한솔홀딩스',\n",
       " '한신기계공업',\n",
       " '한화',\n",
       " '한화에어로스페이스',\n",
       " '현대자동차',\n",
       " '효성 ITX',\n",
       " '휴니드테크놀러지스',\n",
       " 'EMW',\n",
       " 'KCC건설',\n",
       " 'KCI',\n",
       " 'KD',\n",
       " 'KG모빌리언스',\n",
       " 'SM Life Design',\n",
       " 'W홀딩컴퍼니',\n",
       " '넥슨지티',\n",
       " '다산네트웍스',\n",
       " '대명소노시즌',\n",
       " '대성미생물',\n",
       " '대원산업',\n",
       " '동신건설',\n",
       " '동일기연',\n",
       " '듀오백',\n",
       " '드림어스컴퍼니',\n",
       " '디지아이',\n",
       " '디지털대성',\n",
       " '라이브플렉스',\n",
       " '리드코프',\n",
       " '메디콕스',\n",
       " '메디포스트',\n",
       " '미래컴퍼니',\n",
       " '바이오니아',\n",
       " '베뉴지',\n",
       " '부방',\n",
       " '브리지텍',\n",
       " '삼진엘앤디',\n",
       " '삼천리자전거',\n",
       " '삼현철강',\n",
       " '서산',\n",
       " '성우테크론',\n",
       " '성우하이텍',\n",
       " '세운메디칼',\n",
       " '세종텔레콤',\n",
       " '솔고바이오',\n",
       " '솔본',\n",
       " '슈펙스비앤피',\n",
       " '시공테크',\n",
       " '쎄트렉아이',\n",
       " '아비코전자',\n",
       " '아이톡시',\n",
       " '아프리카TV',\n",
       " '에이디칩스',\n",
       " '에이스침대',\n",
       " '에이아이비트',\n",
       " '에이팸',\n",
       " '엔텔스',\n",
       " '엘디티',\n",
       " '엘컴텍',\n",
       " '오텍',\n",
       " '원풍',\n",
       " '웹젠',\n",
       " '위닉스',\n",
       " '위메이드',\n",
       " '유진테크',\n",
       " '이건홀딩스',\n",
       " '이노와이어리스',\n",
       " '이랜텍',\n",
       " '이수앱지스',\n",
       " '인성정보',\n",
       " '인탑스',\n",
       " '인터파크',\n",
       " '재영솔루텍',\n",
       " '제낙스',\n",
       " '제이티',\n",
       " '지더블유바이텍',\n",
       " '진바이오텍',\n",
       " '진성티이씨',\n",
       " '캠시스',\n",
       " '케이엠더블유',\n",
       " '케이피에프',\n",
       " '코닉글로리',\n",
       " '코드네이처',\n",
       " '코스나인',\n",
       " '큐브앤컴퍼니',\n",
       " '키이스트',\n",
       " '탑엔지니어링',\n",
       " '토비스',\n",
       " '파라다이스',\n",
       " '판타지오',\n",
       " '프로텍',\n",
       " '한국캐피탈',\n",
       " '한일네트웍스',\n",
       " '헬릭스미스',\n",
       " '휴먼엔',\n",
       " '희림',\n",
       " 'CJ대한통운',\n",
       " 'DSR제강',\n",
       " 'GKL',\n",
       " 'JW중외제약',\n",
       " 'KPX홀딩스',\n",
       " 'KSS해운',\n",
       " 'LF',\n",
       " 'LG하우시스',\n",
       " 'LG화학',\n",
       " 'LS',\n",
       " 'NAVER',\n",
       " 'NICE',\n",
       " 'NI스틸',\n",
       " 'SGC에너지',\n",
       " 'SH에너지화학',\n",
       " 'SK증권',\n",
       " 'SK하이닉스',\n",
       " '경인양행',\n",
       " '경인전자',\n",
       " '국보',\n",
       " '기신정기',\n",
       " '녹십자',\n",
       " '대덕',\n",
       " '대동전자',\n",
       " '대림비앤코',\n",
       " '대양금속',\n",
       " '대창',\n",
       " '동국제강',\n",
       " '동양물산기업',\n",
       " '동화약품',\n",
       " '두산중공업',\n",
       " '디아이동일',\n",
       " '디아이씨',\n",
       " '롯데관광개발',\n",
       " '맵스리얼티1',\n",
       " '무학',\n",
       " '미래아이앤지',\n",
       " '부산주공',\n",
       " '비케이탑스',\n",
       " '삼성전자',\n",
       " '삼성제약',\n",
       " '삼익THK',\n",
       " '삼일제약',\n",
       " '삼진제약',\n",
       " '삼화왕관',\n",
       " '서연',\n",
       " '선창산업',\n",
       " '성신양회',\n",
       " '세기상사',\n",
       " '세우글로벌',\n",
       " '세원정공',\n",
       " '셀트리온',\n",
       " '신라교역',\n",
       " '신성통상',\n",
       " '신세계',\n",
       " '아모레퍼시픽',\n",
       " '아세아',\n",
       " '아이에스동서',\n",
       " '엔케이',\n",
       " '엔피씨',\n",
       " '영원무역',\n",
       " '영원무역홀딩스',\n",
       " '우리들휴브레인',\n",
       " '우신시스템',\n",
       " '우진플라임',\n",
       " '유니드',\n",
       " '유진증권',\n",
       " '이건산업',\n",
       " '인스코비',\n",
       " '조광페인트',\n",
       " '조선내화',\n",
       " '참엔지니어링',\n",
       " '코오롱글로벌',\n",
       " '태경케미컬',\n",
       " '페이퍼코리아',\n",
       " '포스코',\n",
       " '폴루스바이오팜',\n",
       " '한국쉘석유',\n",
       " '한국철강',\n",
       " '한국화장품제조',\n",
       " '한미글로벌',\n",
       " '한솔피엔에스',\n",
       " '한양증권',\n",
       " '한진중공업',\n",
       " '한진중공업홀딩스',\n",
       " '현대제철',\n",
       " '황금에스티',\n",
       " 'NHN벅스',\n",
       " 'SDN',\n",
       " 'SK머티리얼즈',\n",
       " 'WI',\n",
       " '가비아',\n",
       " '경남스틸',\n",
       " '글로본',\n",
       " '네오위즈홀딩스',\n",
       " '넥스트BT',\n",
       " '대한뉴팜',\n",
       " '더블유에프엠',\n",
       " '덕산하이메탈',\n",
       " '동국제약',\n",
       " '동진쎄미켐',\n",
       " '디에스티',\n",
       " '링네트',\n",
       " '모헨즈',\n",
       " '미코',\n",
       " '바른손이앤에이',\n",
       " '바이온',\n",
       " '비보존 헬스케어',\n",
       " '비에이치아이',\n",
       " '새로닉스',\n",
       " '서울반도체',\n",
       " '서울전자통신',\n",
       " '서원인텍',\n",
       " '성호전자',\n",
       " '슈프리마에이치큐',\n",
       " '시노펙스',\n",
       " '신원종합개발',\n",
       " '씨티씨바이오',\n",
       " '아이크래프트',\n",
       " '에스앤씨엔진그룹',\n",
       " '에스텍파마',\n",
       " '에이스테크',\n",
       " '에이프로젠 H&G',\n",
       " '에코플라스틱',\n",
       " '엔에스엔',\n",
       " '엘오티베큠',\n",
       " '예스24',\n",
       " '옵트론텍',\n",
       " '우리산업홀딩스',\n",
       " '우진비앤지',\n",
       " '원익',\n",
       " '유성티엔에스',\n",
       " '이루온',\n",
       " '이엔에프테크놀로지',\n",
       " '이엔코퍼레이션',\n",
       " '이지홀딩스',\n",
       " '인터엠',\n",
       " '인터플렉스',\n",
       " '전파기지국',\n",
       " '제넥신',\n",
       " '제넨바이오',\n",
       " '제룡전기',\n",
       " '제이씨현시스템',\n",
       " '조광ILI',\n",
       " '코맥스',\n",
       " '코세스',\n",
       " '코엔텍',\n",
       " '코텍',\n",
       " '큐캐피탈',\n",
       " '태광',\n",
       " '파인디앤씨',\n",
       " '포비스티앤씨',\n",
       " '포스링크',\n",
       " '풍국주정',\n",
       " '피씨디렉트',\n",
       " '피에스케이홀딩스',\n",
       " '한국컴퓨터',\n",
       " '한국테크놀로지',\n",
       " '한일사료',\n",
       " '화일약품',\n",
       " '효성오앤비',\n",
       " 'AK홀딩스',\n",
       " 'CJ',\n",
       " 'CJ씨푸드',\n",
       " 'DB금융투자',\n",
       " 'E1',\n",
       " 'F&F',\n",
       " 'KEC',\n",
       " 'KISCO홀딩스',\n",
       " 'LG',\n",
       " 'LG디스플레이',\n",
       " 'S&T홀딩스',\n",
       " 'S-Oil',\n",
       " 'SK네트웍스',\n",
       " '경동인베스트',\n",
       " '계룡건설산업',\n",
       " '국동',\n",
       " '남양유업',\n",
       " '남해화학',\n",
       " '노루페인트',\n",
       " '대상',\n",
       " '대성홀딩스',\n",
       " '대한제강',\n",
       " '만호제강',\n",
       " '모나미',\n",
       " '문배철강',\n",
       " '미창석유공업',\n",
       " '백광산업',\n",
       " '벽산',\n",
       " '부국철강',\n",
       " '부산도시가스',\n",
       " '비비안',\n",
       " '비상교육',\n",
       " '삼부토건',\n",
       " '삼성공조',\n",
       " '삼성전기',\n",
       " '삼화전기',\n",
       " '샘표',\n",
       " '서흥',\n",
       " '세아베스틸',\n",
       " '세하',\n",
       " '수산중공업',\n",
       " '신세계건설',\n",
       " '신영와코루',\n",
       " '신영증권',\n",
       " '신원',\n",
       " '신풍제지',\n",
       " '에스엘',\n",
       " '에이블씨엔씨',\n",
       " '에이프로젠 KIC',\n",
       " '엘에스일렉트릭',\n",
       " '우성사료',\n",
       " '웰바이오텍',\n",
       " '유니온',\n",
       " '유안타증권',\n",
       " '일진전기',\n",
       " '조광피혁',\n",
       " '조일알미늄',\n",
       " '진흥기업',\n",
       " '카카오',\n",
       " '케이씨티시',\n",
       " '케이티',\n",
       " '코리안리',\n",
       " '코스맥스비티아이',\n",
       " '크라운해태홀딩스',\n",
       " '키움증권',\n",
       " '태림포장',\n",
       " '태원물산',\n",
       " '티에이치엔',\n",
       " '팬오션',\n",
       " '평화산업',\n",
       " '하나투어',\n",
       " '한국앤컴퍼니',\n",
       " '한국프랜지공업',\n",
       " '한독',\n",
       " '한솔케미칼',\n",
       " '한솔테크닉스',\n",
       " '한진',\n",
       " '현대리바트',\n",
       " '현대백화점',\n",
       " '형지엘리트',\n",
       " '혜인',\n",
       " '화성산업',\n",
       " 'CNH',\n",
       " 'COWON',\n",
       " 'DMS',\n",
       " 'KBI메탈',\n",
       " 'KMH하이텍',\n",
       " 'KPX생명과학',\n",
       " 'KTH',\n",
       " 'KT서브마린',\n",
       " 'SBS콘텐츠허브',\n",
       " 'SG&G',\n",
       " 'SGA',\n",
       " 'TPC',\n",
       " 'YBM넷',\n",
       " 'iMBC',\n",
       " '가온미디어',\n",
       " '경동제약',\n",
       " '광진윈텍',\n",
       " '국보디자인',\n",
       " '나이스정보통신',\n",
       " '네오위즈',\n",
       " '뉴보텍',\n",
       " '대원미디어',\n",
       " '대한그린파워',\n",
       " '대호피앤씨',\n",
       " '대화제약',\n",
       " '동아화성',\n",
       " '디이엔티',\n",
       " '라이트론',\n",
       " '리더스코스메틱',\n",
       " '모아텍',\n",
       " '바이오스마트',\n",
       " '비엠티',\n",
       " '비츠로셀',\n",
       " '삼보모터스',\n",
       " '삼영엠텍',\n",
       " '삼천당제약',\n",
       " '서울옥션',\n",
       " '서한',\n",
       " '성도이엔지',\n",
       " '성우전자',\n",
       " '세동',\n",
       " '세원물산',\n",
       " '센트럴바이오',\n",
       " '스카이문스테크놀로지',\n",
       " '시너지이노베이션',\n",
       " '신성델타테크',\n",
       " '신화인터텍',\n",
       " '아이컴포넌트',\n",
       " '아즈텍WB',\n",
       " '안랩',\n",
       " '에너토크',\n",
       " '에버다임',\n",
       " '에스넷',\n",
       " '에스에이엠티',\n",
       " '에스티큐브',\n",
       " '에스피지',\n",
       " '에코바이오',\n",
       " '에프앤리퍼블릭',\n",
       " '엘엠에스',\n",
       " '엠케이전자',\n",
       " '우리조명',\n",
       " '유니슨',\n",
       " '유니크',\n",
       " '유아이디',\n",
       " '유아이엘',\n",
       " '이상네트웍스',\n",
       " '이에스에이',\n",
       " '이엠코리아',\n",
       " '이화공영',\n",
       " '일신바이오',\n",
       " '정원엔시스',\n",
       " '제이웨이',\n",
       " '젬백스링크',\n",
       " '좋은사람들',\n",
       " '중앙백신',\n",
       " '카스',\n",
       " '케이에스피',\n",
       " '크린앤사이언스',\n",
       " '태웅',\n",
       " '티사이언티픽',\n",
       " '티씨케이',\n",
       " '팅크웨어',\n",
       " '팜스토리',\n",
       " '푸른저축은행',\n",
       " '프리엠스',\n",
       " '플랜티넷',\n",
       " '한국선재',\n",
       " '한국큐빅',\n",
       " '한류타임즈',\n",
       " '현우산업',\n",
       " '홈캐스트',\n",
       " '휴온스글로벌',\n",
       " '흥구석유',\n",
       " 'CS홀딩스',\n",
       " 'DB',\n",
       " 'DL',\n",
       " 'HDC',\n",
       " 'KC그린홀딩스',\n",
       " 'KR모터스',\n",
       " 'LG유플러스',\n",
       " 'S&T중공업',\n",
       " 'SPC삼립',\n",
       " '경농',\n",
       " '경방',\n",
       " '고려제강',\n",
       " '광동제약',\n",
       " '광주신세계',\n",
       " '금비',\n",
       " '금호타이어',\n",
       " '대림통상',\n",
       " '대신증권',\n",
       " '대원강업',\n",
       " '대원전선',\n",
       " '대원화성',\n",
       " '대유에이텍',\n",
       " '동부건설',\n",
       " '동성제약',\n",
       " '동양고속',\n",
       " '동양철관',\n",
       " '동원수산',\n",
       " '롯데쇼핑',\n",
       " '메리츠화재',\n",
       " '부광약품',\n",
       " '부산산업',\n",
       " '사조산업',\n",
       " '삼익악기',\n",
       " '삼천리',\n",
       " '성창기업지주',\n",
       " '세종공업',\n",
       " '아시아나항공',\n",
       " '알루코',\n",
       " '에스제이엠홀딩스',\n",
       " '오뚜기',\n",
       " '유성기업',\n",
       " '이수페타시스',\n",
       " '이아이디',\n",
       " '인디에프',\n",
       " '일동홀딩스',\n",
       " '일진홀딩스',\n",
       " '자화전자',\n",
       " '전방',\n",
       " '제이콘텐트리',\n",
       " '제일기획',\n",
       " '지투알',\n",
       " '진양폴리우레탄',\n",
       " '케이씨씨',\n",
       " '코웨이',\n",
       " '콤텍시스템',\n",
       " '태경비케이',\n",
       " '퍼스텍',\n",
       " '포스코인터내셔널',\n",
       " '한국내화',\n",
       " '한국주철관공업',\n",
       " '한라',\n",
       " '한미반도체',\n",
       " '한섬',\n",
       " '한세실업',\n",
       " '한솔홈데코',\n",
       " '한올바이오파마',\n",
       " '한화손해보험',\n",
       " '화천기계',\n",
       " '후성',\n",
       " '휴스틸',\n",
       " '3S',\n",
       " 'CJ프레시웨이',\n",
       " 'JYP Ent.',\n",
       " 'NE능률',\n",
       " '강원',\n",
       " '경남제약',\n",
       " '고려신용정보',\n",
       " '골드퍼시픽',\n",
       " '광진실업',\n",
       " '기산텔레콤',\n",
       " '네패스',\n",
       " '다날',\n",
       " '대동금속',\n",
       " '대림제지',\n",
       " '대신정보통신',\n",
       " '동국알앤에스',\n",
       " '동우팜투테이블',\n",
       " '라온시큐어',\n",
       " '리노스',\n",
       " '리더스 기술투자',\n",
       " '마이크로컨텍솔',\n",
       " '모다이노칩',\n",
       " '모베이스전자',\n",
       " '미래나노텍',\n",
       " '바텍',\n",
       " '뷰웍스',\n",
       " '비에이치',\n",
       " '비츠로테크',\n",
       " '빅텍',\n",
       " '삼강엠앤티',\n",
       " '삼보산업',\n",
       " '삼표시멘트',\n",
       " '서부T&D',\n",
       " '선광',\n",
       " '세진티에스',\n",
       " '스맥',\n",
       " '신라섬유',\n",
       " '쎄니트',\n",
       " '씨씨에스',\n",
       " '아리온',\n",
       " '아이디스홀딩스',\n",
       " '안국약품',\n",
       " '에스맥',\n",
       " '에스에이티',\n",
       " '에스엔유',\n",
       " '에스코넥',\n",
       " '에스티오',\n",
       " '에이치엘비',\n",
       " '에이테크솔루션',\n",
       " '엔시트론',\n",
       " '엠에스씨',\n",
       " '엠젠플러스',\n",
       " '오디텍',\n",
       " '와이엔텍',\n",
       " '와이오엠',\n",
       " '우리기술투자',\n",
       " '우주일렉트로',\n",
       " '유라테크',\n",
       " '율호',\n",
       " '이그잭스',\n",
       " '이니텍',\n",
       " '인지디스플레',\n",
       " '인콘',\n",
       " '일지테크',\n",
       " '제이에스티나',\n",
       " '제이엠아이',\n",
       " '진로발효',\n",
       " '케이씨티',\n",
       " '코리아에스이',\n",
       " '코스온',\n",
       " '큐렉소',\n",
       " '큐로컴',\n",
       " '태양',\n",
       " '파인테크닉스',\n",
       " ...]"
      ]
     },
     "execution_count": 186,
     "metadata": {},
     "output_type": "execute_result"
    }
   ],
   "source": [
    "lp[:-3]"
   ]
  },
  {
   "cell_type": "code",
   "execution_count": 8,
   "id": "based-declaration",
   "metadata": {},
   "outputs": [
    {
     "data": {
      "text/html": [
       "<div>\n",
       "<style scoped>\n",
       "    .dataframe tbody tr th:only-of-type {\n",
       "        vertical-align: middle;\n",
       "    }\n",
       "\n",
       "    .dataframe tbody tr th {\n",
       "        vertical-align: top;\n",
       "    }\n",
       "\n",
       "    .dataframe thead th {\n",
       "        text-align: right;\n",
       "    }\n",
       "</style>\n",
       "<table border=\"1\" class=\"dataframe\">\n",
       "  <thead>\n",
       "    <tr style=\"text-align: right;\">\n",
       "      <th></th>\n",
       "      <th>155660</th>\n",
       "      <th>001250</th>\n",
       "      <th>294870</th>\n",
       "      <th>001390</th>\n",
       "      <th>011070</th>\n",
       "      <th>066570</th>\n",
       "      <th>037560</th>\n",
       "      <th>010060</th>\n",
       "      <th>100840</th>\n",
       "      <th>064960</th>\n",
       "      <th>...</th>\n",
       "      <th>238170</th>\n",
       "      <th>216280</th>\n",
       "      <th>122830</th>\n",
       "      <th>344860</th>\n",
       "      <th>299480</th>\n",
       "      <th>189350</th>\n",
       "      <th>199800</th>\n",
       "      <th>222670</th>\n",
       "      <th>331660</th>\n",
       "      <th>212310</th>\n",
       "    </tr>\n",
       "  </thead>\n",
       "  <tbody>\n",
       "    <tr>\n",
       "      <th>PER</th>\n",
       "      <td>9.563218</td>\n",
       "      <td>NaN</td>\n",
       "      <td>4.317352</td>\n",
       "      <td>3.650491</td>\n",
       "      <td>47.773779</td>\n",
       "      <td>755.498694</td>\n",
       "      <td>NaN</td>\n",
       "      <td>NaN</td>\n",
       "      <td>7.991015</td>\n",
       "      <td>357.048237</td>\n",
       "      <td>...</td>\n",
       "      <td>13.503545</td>\n",
       "      <td>NaN</td>\n",
       "      <td>NaN</td>\n",
       "      <td>NaN</td>\n",
       "      <td>NaN</td>\n",
       "      <td>NaN</td>\n",
       "      <td>NaN</td>\n",
       "      <td>NaN</td>\n",
       "      <td>NaN</td>\n",
       "      <td>NaN</td>\n",
       "    </tr>\n",
       "    <tr>\n",
       "      <th>PBR</th>\n",
       "      <td>0.535737</td>\n",
       "      <td>0.484470</td>\n",
       "      <td>0.800326</td>\n",
       "      <td>0.259553</td>\n",
       "      <td>2.216846</td>\n",
       "      <td>1.439693</td>\n",
       "      <td>0.362689</td>\n",
       "      <td>1.083376</td>\n",
       "      <td>0.505554</td>\n",
       "      <td>1.164288</td>\n",
       "      <td>...</td>\n",
       "      <td>0.865612</td>\n",
       "      <td>27.527733</td>\n",
       "      <td>2.935548</td>\n",
       "      <td>0.906750</td>\n",
       "      <td>2.978699</td>\n",
       "      <td>1.138739</td>\n",
       "      <td>28.133496</td>\n",
       "      <td>NaN</td>\n",
       "      <td>4.694186</td>\n",
       "      <td>5.766157</td>\n",
       "    </tr>\n",
       "    <tr>\n",
       "      <th>PCR</th>\n",
       "      <td>6.028986</td>\n",
       "      <td>5.543684</td>\n",
       "      <td>NaN</td>\n",
       "      <td>2.391358</td>\n",
       "      <td>6.355341</td>\n",
       "      <td>6.409820</td>\n",
       "      <td>1.377898</td>\n",
       "      <td>NaN</td>\n",
       "      <td>NaN</td>\n",
       "      <td>8.629565</td>\n",
       "      <td>...</td>\n",
       "      <td>3.821758</td>\n",
       "      <td>NaN</td>\n",
       "      <td>19.814951</td>\n",
       "      <td>5.440500</td>\n",
       "      <td>NaN</td>\n",
       "      <td>25.280000</td>\n",
       "      <td>NaN</td>\n",
       "      <td>NaN</td>\n",
       "      <td>NaN</td>\n",
       "      <td>NaN</td>\n",
       "    </tr>\n",
       "    <tr>\n",
       "      <th>PSR</th>\n",
       "      <td>0.352095</td>\n",
       "      <td>0.047321</td>\n",
       "      <td>0.423595</td>\n",
       "      <td>0.169606</td>\n",
       "      <td>0.612792</td>\n",
       "      <td>0.379531</td>\n",
       "      <td>0.310219</td>\n",
       "      <td>1.116895</td>\n",
       "      <td>0.580688</td>\n",
       "      <td>0.877718</td>\n",
       "      <td>...</td>\n",
       "      <td>0.386552</td>\n",
       "      <td>1.407668</td>\n",
       "      <td>3.602718</td>\n",
       "      <td>0.388607</td>\n",
       "      <td>3.574439</td>\n",
       "      <td>1.080342</td>\n",
       "      <td>685.434273</td>\n",
       "      <td>NaN</td>\n",
       "      <td>0.885307</td>\n",
       "      <td>4.051894</td>\n",
       "    </tr>\n",
       "  </tbody>\n",
       "</table>\n",
       "<p>4 rows × 2422 columns</p>\n",
       "</div>"
      ],
      "text/plain": [
       "       155660    001250    294870    001390     011070      066570    037560  \\\n",
       "PER  9.563218       NaN  4.317352  3.650491  47.773779  755.498694       NaN   \n",
       "PBR  0.535737  0.484470  0.800326  0.259553   2.216846    1.439693  0.362689   \n",
       "PCR  6.028986  5.543684       NaN  2.391358   6.355341    6.409820  1.377898   \n",
       "PSR  0.352095  0.047321  0.423595  0.169606   0.612792    0.379531  0.310219   \n",
       "\n",
       "       010060    100840      064960  ...     238170     216280     122830  \\\n",
       "PER       NaN  7.991015  357.048237  ...  13.503545        NaN        NaN   \n",
       "PBR  1.083376  0.505554    1.164288  ...   0.865612  27.527733   2.935548   \n",
       "PCR       NaN       NaN    8.629565  ...   3.821758        NaN  19.814951   \n",
       "PSR  1.116895  0.580688    0.877718  ...   0.386552   1.407668   3.602718   \n",
       "\n",
       "       344860    299480     189350      199800  222670    331660    212310  \n",
       "PER       NaN       NaN        NaN         NaN     NaN       NaN       NaN  \n",
       "PBR  0.906750  2.978699   1.138739   28.133496     NaN  4.694186  5.766157  \n",
       "PCR  5.440500       NaN  25.280000         NaN     NaN       NaN       NaN  \n",
       "PSR  0.388607  3.574439   1.080342  685.434273     NaN  0.885307  4.051894  \n",
       "\n",
       "[4 rows x 2422 columns]"
      ]
     },
     "execution_count": 8,
     "metadata": {},
     "output_type": "execute_result"
    }
   ],
   "source": [
    "data_i.head()"
   ]
  },
  {
   "cell_type": "code",
   "execution_count": null,
   "id": "sunrise-lightning",
   "metadata": {},
   "outputs": [],
   "source": []
  }
 ],
 "metadata": {
  "kernelspec": {
   "display_name": "Python 3",
   "language": "python",
   "name": "python3"
  },
  "language_info": {
   "codemirror_mode": {
    "name": "ipython",
    "version": 3
   },
   "file_extension": ".py",
   "mimetype": "text/x-python",
   "name": "python",
   "nbconvert_exporter": "python",
   "pygments_lexer": "ipython3",
   "version": "3.6.8"
  }
 },
 "nbformat": 4,
 "nbformat_minor": 5
}
