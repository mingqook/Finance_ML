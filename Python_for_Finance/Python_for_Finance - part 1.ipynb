{
 "cells": [
  {
   "cell_type": "markdown",
   "id": "fallen-yacht",
   "metadata": {},
   "source": [
    "# Python for Finance - part 1\n",
    "\n",
    "#### 금융분석과 관련된 기본적인 내용을 정리하였습니다. 파이썬을 활용한 금융분석 (이브 힐피시 지음)을 참고하였습니다."
   ]
  },
  {
   "cell_type": "markdown",
   "id": "hungarian-launch",
   "metadata": {},
   "source": [
    "## Chapter 3. 입문용 예제\n",
    "#### 내재 변동성 : 옵션의 호가로부터 옵션의 내재 변동성을 구하고 만기일과 행사가에 따른 그래프를 그려본다.\n",
    "#### 몬테카를로 시뮬레이션 : 주가지수가 시간에 따라 변화하는 것을 시물레이션하고 일부 결과를 시각화, 주가지수에 따른 유러피안 옵션 가치도 계산\n",
    "#### 기술적 분석 : 추세 신호에 기반한 투자 전략을 백테스트하기 위해 시계열 자료 분석 작업을 구현\n",
    "\n",
    "### 3.1 내재 변동성 계산\n",
    "#### 내재 변동성 : 옵션의 시장 가격을 나오게 하는 변동성 값 -> 수치 최적화 문제\n",
    "#### 블랙-숄즈-머튼 모형 : 옵션 가격 계산 공식, 변동성 값을 입력하여 옵션의 값을 계산\n",
    "#### 변동성 옵션 : VSTOXX 변동성 지수가 기초자산"
   ]
  },
  {
   "cell_type": "code",
   "execution_count": 24,
   "id": "handed-death",
   "metadata": {},
   "outputs": [],
   "source": [
    "#### 블랙-숄즈-머튼 모형을 사용한 유러피안 콜 옵션 가격 결정\n",
    "#### 베가 계산 함수와 내재 변동성 추정 함수를 포함\n",
    "\n",
    "def bsm_call_value(S0:float, K:float, T:float, r:float, sigma:float) -> float:\n",
    "    '''\n",
    "    블랙-숄즈-머튼 모형을 사용한 유러피안 콜 옵션 가격결정 공식\n",
    "    \n",
    "    :param S0: 초기 주가 혹은 지수\n",
    "    :param K: 행사가\n",
    "    :param T: 만기까지 남은 시간(연 단위)\n",
    "    :param r: 고정 무위험 단기 이자율\n",
    "    :param sigma: 변동성 파라미터\n",
    "    \n",
    "    :return: 유러피안 콜 옵션의 현재가격\n",
    "    '''\n",
    "    \n",
    "    from math import log, sqrt, exp\n",
    "    from scipy import stats\n",
    "    \n",
    "    S0 = float(S0)\n",
    "    d1 = (log(S0 / K) + (r + 0.5 * sigma **2) * T) / (sigma * sqrt(T))\n",
    "    d2 = (log(S0 / K) + (r - 0.5 * sigma **2) * T) / (sigma * sqrt(T))\n",
    "    value = (S0 * stats.norm.cdf(d1, 0.0, 1.0) - K * exp(-r * T) * stats.norm.cdf(d2, 0., 1.))\n",
    "    \n",
    "    return value\n",
    "\n",
    "def bsm_vega(S0:float, K:float, T:float, r:float, sigma:float) -> float:\n",
    "    '''\n",
    "    블랙-숄즈-머튼 모형을 사용한 유러피안 콜 옵션의 베가 계산\n",
    "    \n",
    "    :param S0: 초기 주가 혹은 지수\n",
    "    :param K: 행사가\n",
    "    :param T: 만기까지 남은 시간(연 단위)\n",
    "    :param r: 고정 무위험 단기 이자율\n",
    "    :param sigma: 변동성 파라미터\n",
    "    \n",
    "    :return: 블랙-숄즈-머튼 공식을 변동성에 대해 1차 미분한 값, 베가\n",
    "    '''\n",
    "    \n",
    "    from math import log, sqrt, exp\n",
    "    from scipy import stats\n",
    "    \n",
    "    S0 = float(S0)\n",
    "    d1 = (log(S0 / K) + (r + 0.5 * sigma **2) * T) / (sigma * sqrt(T))\n",
    "    vega = S0 * stats.norm.cdf(d1, 0., 1.) * sqrt(T)\n",
    "    return vega\n",
    "\n",
    "def bsm_call_imp_vol(S0:float, K:float, T:float, r:float, C0: float, sigma_est:float, it:int =100) -> float:\n",
    "    '''\n",
    "    블랙-숄즈-머튼 모형을 사용한 유러피안 옵션의 내재 변동성 계산\n",
    "    \n",
    "    :param S0: 초기 주가 혹은 지수\n",
    "    :param K: 행사가\n",
    "    :param T: 만기까지 남은 시간(연 단위)\n",
    "    :param r: 고정 무위험 단기 이자율\n",
    "    :param sigma_est: 변동성 파라미터 초기 추정치\n",
    "    :param it : 반복 계산 횟수\n",
    "    \n",
    "    :return: 수치적으로 추정한 내재 변동성\n",
    "    '''\n",
    "    \n",
    "    for i in range(it):\n",
    "        sigma_est -= ((bsm_call_value(S0, K, T, r, sigma_est) - C0) / bsm_vega(S0, K, T, r, sigma_est))\n",
    "        return sigma_est"
   ]
  },
  {
   "cell_type": "code",
   "execution_count": 18,
   "id": "communist-concrete",
   "metadata": {},
   "outputs": [],
   "source": [
    "V0 = 17.6639 #### 2014-03-31 시점의 VSTOXX 지수 종가\n",
    "r = .01\n",
    "\n",
    "import pandas as pd\n",
    "import datetime as dt\n",
    "h5 = pd.HDFStore('./source/vstoxx_data_31032014.h5', 'r')\n",
    "futures_data = h5['futures_data']\n",
    "options_data = h5['options_data']\n",
    "h5.close()\n",
    "\n",
    "# futures_data['DATE'] = futures_data['DATE'].apply(lambda x: dt.datetime.fromtimestamp(x / 1e9))\n",
    "# futures_data['MATURITY'] = futures_data['MATURITY'].apply(lambda x: dt.datetime.fromtimestamp(x / 1e9))\n",
    "# options_data['DATE'] = options_data['DATE'].apply(lambda x: dt.datetime.fromtimestamp(x / 1e9))\n",
    "# options_data['MATURITY'] = options_data['MATURITY'].apply(lambda x: dt.datetime.fromtimestamp(x / 1e9))"
   ]
  },
  {
   "cell_type": "code",
   "execution_count": 19,
   "id": "enclosed-exchange",
   "metadata": {},
   "outputs": [
    {
     "data": {
      "text/html": [
       "<div>\n",
       "<style scoped>\n",
       "    .dataframe tbody tr th:only-of-type {\n",
       "        vertical-align: middle;\n",
       "    }\n",
       "\n",
       "    .dataframe tbody tr th {\n",
       "        vertical-align: top;\n",
       "    }\n",
       "\n",
       "    .dataframe thead th {\n",
       "        text-align: right;\n",
       "    }\n",
       "</style>\n",
       "<table border=\"1\" class=\"dataframe\">\n",
       "  <thead>\n",
       "    <tr style=\"text-align: right;\">\n",
       "      <th></th>\n",
       "      <th>DATE</th>\n",
       "      <th>EXP_YEAR</th>\n",
       "      <th>EXP_MONTH</th>\n",
       "      <th>PRICE</th>\n",
       "      <th>MATURITY</th>\n",
       "      <th>TTM</th>\n",
       "    </tr>\n",
       "  </thead>\n",
       "  <tbody>\n",
       "    <tr>\n",
       "      <th>496</th>\n",
       "      <td>2014-03-31</td>\n",
       "      <td>2014</td>\n",
       "      <td>4</td>\n",
       "      <td>17.85</td>\n",
       "      <td>2014-04-18</td>\n",
       "      <td>0.049</td>\n",
       "    </tr>\n",
       "    <tr>\n",
       "      <th>497</th>\n",
       "      <td>2014-03-31</td>\n",
       "      <td>2014</td>\n",
       "      <td>5</td>\n",
       "      <td>19.55</td>\n",
       "      <td>2014-05-16</td>\n",
       "      <td>0.126</td>\n",
       "    </tr>\n",
       "    <tr>\n",
       "      <th>498</th>\n",
       "      <td>2014-03-31</td>\n",
       "      <td>2014</td>\n",
       "      <td>6</td>\n",
       "      <td>19.95</td>\n",
       "      <td>2014-06-20</td>\n",
       "      <td>0.222</td>\n",
       "    </tr>\n",
       "    <tr>\n",
       "      <th>499</th>\n",
       "      <td>2014-03-31</td>\n",
       "      <td>2014</td>\n",
       "      <td>7</td>\n",
       "      <td>20.40</td>\n",
       "      <td>2014-07-18</td>\n",
       "      <td>0.299</td>\n",
       "    </tr>\n",
       "    <tr>\n",
       "      <th>500</th>\n",
       "      <td>2014-03-31</td>\n",
       "      <td>2014</td>\n",
       "      <td>8</td>\n",
       "      <td>20.70</td>\n",
       "      <td>2014-08-15</td>\n",
       "      <td>0.375</td>\n",
       "    </tr>\n",
       "    <tr>\n",
       "      <th>501</th>\n",
       "      <td>2014-03-31</td>\n",
       "      <td>2014</td>\n",
       "      <td>9</td>\n",
       "      <td>20.95</td>\n",
       "      <td>2014-09-19</td>\n",
       "      <td>0.471</td>\n",
       "    </tr>\n",
       "    <tr>\n",
       "      <th>502</th>\n",
       "      <td>2014-03-31</td>\n",
       "      <td>2014</td>\n",
       "      <td>10</td>\n",
       "      <td>21.05</td>\n",
       "      <td>2014-10-17</td>\n",
       "      <td>0.548</td>\n",
       "    </tr>\n",
       "    <tr>\n",
       "      <th>503</th>\n",
       "      <td>2014-03-31</td>\n",
       "      <td>2014</td>\n",
       "      <td>11</td>\n",
       "      <td>21.25</td>\n",
       "      <td>2014-11-21</td>\n",
       "      <td>0.644</td>\n",
       "    </tr>\n",
       "  </tbody>\n",
       "</table>\n",
       "</div>"
      ],
      "text/plain": [
       "          DATE  EXP_YEAR  EXP_MONTH  PRICE   MATURITY    TTM\n",
       "496 2014-03-31      2014          4  17.85 2014-04-18  0.049\n",
       "497 2014-03-31      2014          5  19.55 2014-05-16  0.126\n",
       "498 2014-03-31      2014          6  19.95 2014-06-20  0.222\n",
       "499 2014-03-31      2014          7  20.40 2014-07-18  0.299\n",
       "500 2014-03-31      2014          8  20.70 2014-08-15  0.375\n",
       "501 2014-03-31      2014          9  20.95 2014-09-19  0.471\n",
       "502 2014-03-31      2014         10  21.05 2014-10-17  0.548\n",
       "503 2014-03-31      2014         11  21.25 2014-11-21  0.644"
      ]
     },
     "execution_count": 19,
     "metadata": {},
     "output_type": "execute_result"
    }
   ],
   "source": [
    "futures_data"
   ]
  },
  {
   "cell_type": "code",
   "execution_count": 20,
   "id": "proved-symbol",
   "metadata": {},
   "outputs": [
    {
     "name": "stdout",
     "output_type": "stream",
     "text": [
      "<class 'pandas.core.frame.DataFrame'>\n",
      "Int64Index: 395 entries, 46170 to 46564\n",
      "Data columns (total 8 columns):\n",
      " #   Column     Non-Null Count  Dtype         \n",
      "---  ------     --------------  -----         \n",
      " 0   DATE       395 non-null    datetime64[ns]\n",
      " 1   EXP_YEAR   395 non-null    int64         \n",
      " 2   EXP_MONTH  395 non-null    int64         \n",
      " 3   TYPE       395 non-null    object        \n",
      " 4   STRIKE     395 non-null    float64       \n",
      " 5   PRICE      395 non-null    float64       \n",
      " 6   MATURITY   395 non-null    datetime64[ns]\n",
      " 7   TTM        395 non-null    float64       \n",
      "dtypes: datetime64[ns](2), float64(3), int64(2), object(1)\n",
      "memory usage: 27.8+ KB\n"
     ]
    }
   ],
   "source": [
    "options_data.info()"
   ]
  },
  {
   "cell_type": "code",
   "execution_count": 21,
   "id": "regulation-estimate",
   "metadata": {},
   "outputs": [
    {
     "data": {
      "text/html": [
       "<div>\n",
       "<style scoped>\n",
       "    .dataframe tbody tr th:only-of-type {\n",
       "        vertical-align: middle;\n",
       "    }\n",
       "\n",
       "    .dataframe tbody tr th {\n",
       "        vertical-align: top;\n",
       "    }\n",
       "\n",
       "    .dataframe thead th {\n",
       "        text-align: right;\n",
       "    }\n",
       "</style>\n",
       "<table border=\"1\" class=\"dataframe\">\n",
       "  <thead>\n",
       "    <tr style=\"text-align: right;\">\n",
       "      <th></th>\n",
       "      <th>DATE</th>\n",
       "      <th>MATURITY</th>\n",
       "      <th>TTM</th>\n",
       "      <th>STRIKE</th>\n",
       "      <th>PRICE</th>\n",
       "    </tr>\n",
       "  </thead>\n",
       "  <tbody>\n",
       "    <tr>\n",
       "      <th>46170</th>\n",
       "      <td>2014-03-31</td>\n",
       "      <td>2014-04-18</td>\n",
       "      <td>0.049</td>\n",
       "      <td>1.0</td>\n",
       "      <td>16.85</td>\n",
       "    </tr>\n",
       "    <tr>\n",
       "      <th>46171</th>\n",
       "      <td>2014-03-31</td>\n",
       "      <td>2014-04-18</td>\n",
       "      <td>0.049</td>\n",
       "      <td>2.0</td>\n",
       "      <td>15.85</td>\n",
       "    </tr>\n",
       "    <tr>\n",
       "      <th>46172</th>\n",
       "      <td>2014-03-31</td>\n",
       "      <td>2014-04-18</td>\n",
       "      <td>0.049</td>\n",
       "      <td>3.0</td>\n",
       "      <td>14.85</td>\n",
       "    </tr>\n",
       "    <tr>\n",
       "      <th>46173</th>\n",
       "      <td>2014-03-31</td>\n",
       "      <td>2014-04-18</td>\n",
       "      <td>0.049</td>\n",
       "      <td>4.0</td>\n",
       "      <td>13.85</td>\n",
       "    </tr>\n",
       "    <tr>\n",
       "      <th>46174</th>\n",
       "      <td>2014-03-31</td>\n",
       "      <td>2014-04-18</td>\n",
       "      <td>0.049</td>\n",
       "      <td>5.0</td>\n",
       "      <td>12.85</td>\n",
       "    </tr>\n",
       "  </tbody>\n",
       "</table>\n",
       "</div>"
      ],
      "text/plain": [
       "            DATE   MATURITY    TTM  STRIKE  PRICE\n",
       "46170 2014-03-31 2014-04-18  0.049     1.0  16.85\n",
       "46171 2014-03-31 2014-04-18  0.049     2.0  15.85\n",
       "46172 2014-03-31 2014-04-18  0.049     3.0  14.85\n",
       "46173 2014-03-31 2014-04-18  0.049     4.0  13.85\n",
       "46174 2014-03-31 2014-04-18  0.049     5.0  12.85"
      ]
     },
     "execution_count": 21,
     "metadata": {},
     "output_type": "execute_result"
    }
   ],
   "source": [
    "options_data[['DATE', 'MATURITY', 'TTM', 'STRIKE', 'PRICE']].head()"
   ]
  },
  {
   "cell_type": "code",
   "execution_count": 27,
   "id": "enabling-generic",
   "metadata": {},
   "outputs": [
    {
     "name": "stderr",
     "output_type": "stream",
     "text": [
      "/Users/qook/Python/3.7/venv/lib/python3.7/site-packages/pandas/core/indexing.py:1637: SettingWithCopyWarning: \n",
      "A value is trying to be set on a copy of a slice from a DataFrame\n",
      "\n",
      "See the caveats in the documentation: https://pandas.pydata.org/pandas-docs/stable/user_guide/indexing.html#returning-a-view-versus-a-copy\n",
      "  self._setitem_single_block(indexer, value, name)\n"
     ]
    }
   ],
   "source": [
    "options_data['IMP_VOL'] = 0.\n",
    "\n",
    "tol = .5\n",
    "for option in options_data.index:\n",
    "    # iterating over all option quotes\n",
    "    forward = futures_data[futures_data['MATURITY'] == \\\n",
    "                options_data.loc[option]['MATURITY']]['PRICE'].values[0]\n",
    "      # picking the right futures value\n",
    "    if (forward * (1 - tol) < options_data.loc[option]['STRIKE']\n",
    "                             < forward * (1 + tol)):\n",
    "        imp_vol = bsm_call_imp_vol(V0, options_data.loc[option]['STRIKE'], options_data.loc[option]['TTM'], r,\n",
    "                                  options_data.loc[option]['PRICE'], 2., 100)\n",
    "        options_data['IMP_VOL'].loc[option] = imp_vol"
   ]
  },
  {
   "cell_type": "code",
   "execution_count": 30,
   "id": "divine-malpractice",
   "metadata": {},
   "outputs": [
    {
     "data": {
      "text/plain": [
       "[Timestamp('2014-04-18 00:00:00'),\n",
       " Timestamp('2014-05-16 00:00:00'),\n",
       " Timestamp('2014-06-20 00:00:00'),\n",
       " Timestamp('2014-07-18 00:00:00'),\n",
       " Timestamp('2014-08-15 00:00:00'),\n",
       " Timestamp('2014-09-19 00:00:00'),\n",
       " Timestamp('2014-10-17 00:00:00'),\n",
       " Timestamp('2014-11-21 00:00:00')]"
      ]
     },
     "execution_count": 30,
     "metadata": {},
     "output_type": "execute_result"
    }
   ],
   "source": [
    "plot_data = options_data[options_data['IMP_VOL'] > 0]\n",
    "maturities = sorted(set(options_data['MATURITY']))\n",
    "maturities"
   ]
  },
  {
   "cell_type": "code",
   "execution_count": 35,
   "id": "consistent-imagination",
   "metadata": {},
   "outputs": [
    {
     "name": "stderr",
     "output_type": "stream",
     "text": [
      "/Users/qook/Python/3.7/venv/lib/python3.7/site-packages/ipykernel_launcher.py:4: UserWarning: Boolean Series key will be reindexed to match DataFrame index.\n",
      "  after removing the cwd from sys.path.\n",
      "/Users/qook/Python/3.7/venv/lib/python3.7/site-packages/ipykernel_launcher.py:4: UserWarning: Boolean Series key will be reindexed to match DataFrame index.\n",
      "  after removing the cwd from sys.path.\n",
      "/Users/qook/Python/3.7/venv/lib/python3.7/site-packages/ipykernel_launcher.py:4: UserWarning: Boolean Series key will be reindexed to match DataFrame index.\n",
      "  after removing the cwd from sys.path.\n",
      "/Users/qook/Python/3.7/venv/lib/python3.7/site-packages/ipykernel_launcher.py:4: UserWarning: Boolean Series key will be reindexed to match DataFrame index.\n",
      "  after removing the cwd from sys.path.\n",
      "/Users/qook/Python/3.7/venv/lib/python3.7/site-packages/ipykernel_launcher.py:4: UserWarning: Boolean Series key will be reindexed to match DataFrame index.\n",
      "  after removing the cwd from sys.path.\n",
      "/Users/qook/Python/3.7/venv/lib/python3.7/site-packages/ipykernel_launcher.py:4: UserWarning: Boolean Series key will be reindexed to match DataFrame index.\n",
      "  after removing the cwd from sys.path.\n",
      "/Users/qook/Python/3.7/venv/lib/python3.7/site-packages/ipykernel_launcher.py:4: UserWarning: Boolean Series key will be reindexed to match DataFrame index.\n",
      "  after removing the cwd from sys.path.\n",
      "/Users/qook/Python/3.7/venv/lib/python3.7/site-packages/ipykernel_launcher.py:4: UserWarning: Boolean Series key will be reindexed to match DataFrame index.\n",
      "  after removing the cwd from sys.path.\n"
     ]
    },
    {
     "data": {
      "image/png": "[encoded data removed]",
      "text/plain": [
       "<Figure size 576x432 with 1 Axes>"
      ]
     },
     "metadata": {
      "needs_background": "light"
     },
     "output_type": "display_data"
    }
   ],
   "source": [
    "import matplotlib.pyplot as plt\n",
    "plt.figure(figsize=(8,6))\n",
    "for maturity in maturities:\n",
    "    data = plot_data[options_data.MATURITY == maturity]\n",
    "    plt.plot(data['STRIKE'], data['IMP_VOL'], label=maturity.date(), lw=1.5)\n",
    "    plt.plot(data['STRIKE'], data['IMP_VOL'], 'r.')\n",
    "plt.grid(True)\n",
    "plt.xlabel('strike')\n",
    "plt.ylabel('implied volatility of volatility')\n",
    "plt.legend()\n",
    "plt.show()"
   ]
  },
  {
   "cell_type": "markdown",
   "id": "focused-martin",
   "metadata": {},
   "source": [
    "### 3.2 몬테카를로 시뮬레이션\n",
    "#### 계산량이나 복잡도가 차원에 따라 선형적으로 증가하기 때문에 고차원 문제를 쉽게 풀 수 있음\n",
    "#### 아주 쉬운 문제를 푸는 데에도 계산량이 많고 메모리를 많이 요구한다는 단점 존재\n",
    "\n",
    "#### 3.2.1 순수 파이썬 구현"
   ]
  },
  {
   "cell_type": "code",
   "execution_count": 39,
   "id": "earned-winner",
   "metadata": {},
   "outputs": [
    {
     "name": "stdout",
     "output_type": "stream",
     "text": [
      "European Option Value   8.011\n",
      "Duration in Seconds  13.023\n"
     ]
    }
   ],
   "source": [
    "#### 파이썬만으로 구현한 유러피안 콜 옵션의 몬테카를로 가격 계산\n",
    "\n",
    "from time import time\n",
    "from math import exp, sqrt, log\n",
    "from random import gauss, seed\n",
    "\n",
    "seed(2000)\n",
    "t0 = time()\n",
    "\n",
    "# 인수\n",
    "S0 = 100.\n",
    "K = 105.\n",
    "T = 1.\n",
    "r = .05\n",
    "sigma = .2\n",
    "M = 50 #### 시간 구간 개수\n",
    "dt  = T / M #### 하나의 시간 구간의 길이\n",
    "I = 250000 #### 샘플 경로의 수\n",
    "\n",
    "#### 경로 하나당 M개의 시간 구간을 가지는 I개의 샘플 경로를 생성\n",
    "S = []\n",
    "for i in range(I):\n",
    "    path = []\n",
    "    for t in range(M+1):\n",
    "        if t == 0:\n",
    "            path.append(S0)\n",
    "        else:\n",
    "            z = gauss(0., 1.)\n",
    "            St = path[t-1] * exp((r-.5 * sigma ** 2) * dt + sigma * sqrt(dt) * z)\n",
    "            path.append(St)\n",
    "    S.append(path)\n",
    "    \n",
    "#### 몬테카를로 방법을 사용한 가격 추정\n",
    "C0 = exp(-r * T) * sum([max(path[-1] - K, 0) for path in S]) / I\n",
    "\n",
    "tpy = time() - t0\n",
    "print('European Option Value %7.3f' % C0)\n",
    "print('Duration in Seconds %7.3f' % tpy)"
   ]
  },
  {
   "cell_type": "markdown",
   "id": "divine-optimum",
   "metadata": {},
   "source": [
    "#### 3.2.2 Numpy를 이용한 벡터화"
   ]
  },
  {
   "cell_type": "code",
   "execution_count": 41,
   "id": "painted-welsh",
   "metadata": {},
   "outputs": [
    {
     "name": "stdout",
     "output_type": "stream",
     "text": [
      "European Option Value   8.018\n",
      "Duration in Seconds   0.490\n"
     ]
    }
   ],
   "source": [
    "#### Numpy로 구현한 유러피안 콜 옵션의 몬테카를로 가격 계산\n",
    "\n",
    "import math\n",
    "import numpy as np\n",
    "from time import time\n",
    "\n",
    "np.random.seed(2000)\n",
    "t0 = time()\n",
    "\n",
    "# 인수\n",
    "S0 = 100.\n",
    "K = 105.\n",
    "T = 1.\n",
    "r = .05\n",
    "sigma = .2\n",
    "M = 50 #### 시간 구간 개수\n",
    "dt  = T / M #### 하나의 시간 구간의 길이\n",
    "I = 250000 #### 샘플 경로의 수\n",
    "\n",
    "#### 경로 하나당 M개의 시간 구간을 가지는 I개의 샘플 경로를 생성\n",
    "S = np.zeros((M+1, I))\n",
    "S[0] = S0\n",
    "for t in range(1, M+1):\n",
    "    z = np.random.standard_normal(I)\n",
    "    S[t] = S[t-1] * np.exp((r-0.5 * sigma ** 2) * dt + sigma * math.sqrt(dt) * z)\n",
    "    \n",
    "C0 = math.exp(-r * T) * np.sum(np.maximum(S[-1] - K, 0)) / I\n",
    "\n",
    "tnp1 = time() - t0\n",
    "print('European Option Value %7.3f' % C0)\n",
    "print('Duration in Seconds %7.3f' % tnp1)"
   ]
  },
  {
   "cell_type": "markdown",
   "id": "french-technician",
   "metadata": {},
   "source": [
    "#### 3.2.3 로그-오일러 이산화를 적용한 벡터화"
   ]
  },
  {
   "cell_type": "code",
   "execution_count": 42,
   "id": "executive-innocent",
   "metadata": {},
   "outputs": [
    {
     "name": "stdout",
     "output_type": "stream",
     "text": [
      "European Option Value   8.145\n",
      "Duration in Seconds   0.568\n"
     ]
    }
   ],
   "source": [
    "#### Numpy로 구현한 유러피안 콜 옵션의 몬테카를로 가격 계산(로그 버전)\n",
    "\n",
    "import math\n",
    "from numpy import *\n",
    "from time import time\n",
    "\n",
    "np.random.seed(2000)\n",
    "t0 = time()\n",
    "\n",
    "# 인수\n",
    "S0 = 100.\n",
    "K = 105.\n",
    "T = 1.\n",
    "r = .05\n",
    "sigma = .2\n",
    "M = 50 #### 시간 구간 개수\n",
    "dt  = T / M #### 하나의 시간 구간의 길이\n",
    "I = 250000 #### 샘플 경로의 수\n",
    "\n",
    "#### 경로 하나당 M개의 시간 구간을 가지는 I개의 샘플 경로를 생성\n",
    "S = S0 * exp(cumsum((r-.5 * sigma ** 2) *dt + sigma * math.sqrt(dt) * random.standard_normal((M+1, I)), axis=0))\n",
    "S[0] = S0\n",
    "C0 = math.exp(-r * T) * sum(maximum(S[-1] - K, 0)) / I\n",
    "\n",
    "tnp2 = time() - t0\n",
    "print('European Option Value %7.3f' % C0)\n",
    "print('Duration in Seconds %7.3f' % tnp2)"
   ]
  },
  {
   "cell_type": "markdown",
   "id": "environmental-dutch",
   "metadata": {},
   "source": [
    "#### 3.2.4 시각적 분석"
   ]
  },
  {
   "cell_type": "code",
   "execution_count": 43,
   "id": "periodic-chair",
   "metadata": {},
   "outputs": [
    {
     "data": {
      "text/plain": [
       "Text(0, 0.5, 'index level')"
      ]
     },
     "execution_count": 43,
     "metadata": {},
     "output_type": "execute_result"
    },
    {
     "data": {
      "image/png": "[encoded data removed]",
      "text/plain": [
       "<Figure size 432x288 with 1 Axes>"
      ]
     },
     "metadata": {
      "needs_background": "light"
     },
     "output_type": "display_data"
    }
   ],
   "source": [
    "import matplotlib.pyplot as plt\n",
    "plt.plot(S[:, :10])\n",
    "plt.grid(True)\n",
    "plt.xlabel('time step')\n",
    "plt.ylabel('index level')"
   ]
  },
  {
   "cell_type": "code",
   "execution_count": 44,
   "id": "critical-cutting",
   "metadata": {},
   "outputs": [
    {
     "data": {
      "text/plain": [
       "Text(0, 0.5, 'frequency')"
      ]
     },
     "execution_count": 44,
     "metadata": {},
     "output_type": "execute_result"
    },
    {
     "data": {
      "image/png": "[encoded data removed]",
      "text/plain": [
       "<Figure size 432x288 with 1 Axes>"
      ]
     },
     "metadata": {
      "needs_background": "light"
     },
     "output_type": "display_data"
    }
   ],
   "source": [
    "plt.hist(S[-1], bins=50)\n",
    "plt.grid(True)\n",
    "plt.xlabel('index level')\n",
    "plt.ylabel('frequency')"
   ]
  },
  {
   "cell_type": "code",
   "execution_count": 45,
   "id": "differential-teacher",
   "metadata": {},
   "outputs": [
    {
     "data": {
      "text/plain": [
       "(0.0, 50000.0)"
      ]
     },
     "execution_count": 45,
     "metadata": {},
     "output_type": "execute_result"
    },
    {
     "data": {
      "image/png": "[encoded data removed]",
      "text/plain": [
       "<Figure size 432x288 with 1 Axes>"
      ]
     },
     "metadata": {
      "needs_background": "light"
     },
     "output_type": "display_data"
    }
   ],
   "source": [
    "plt.hist(np.maximum(S[-1] - K, 0), bins=50)\n",
    "plt.grid(True)\n",
    "plt.xlabel('option inner value')\n",
    "plt.ylabel('frequency')\n",
    "plt.ylim(0, 50000)"
   ]
  },
  {
   "cell_type": "markdown",
   "id": "banner-leadership",
   "metadata": {},
   "source": [
    "### 3.3 기술적 분석\n",
    "#### 미래의 주가 움직임을 예측하기보다는 백테스트 목적으로 과거 시장 정보를 분석하는데 초점을 맞춤"
   ]
  },
  {
   "cell_type": "code",
   "execution_count": 55,
   "id": "beginning-sampling",
   "metadata": {},
   "outputs": [
    {
     "name": "stdout",
     "output_type": "stream",
     "text": [
      "[*********************100%***********************]  1 of 1 completed\n",
      "<class 'pandas.core.frame.DataFrame'>\n",
      "DatetimeIndex: 3591 entries, 2000-01-03 00:00:00-05:00 to 2014-04-11 00:00:00-04:00\n",
      "Data columns (total 6 columns):\n",
      " #   Column     Non-Null Count  Dtype  \n",
      "---  ------     --------------  -----  \n",
      " 0   Open       3591 non-null   float64\n",
      " 1   High       3591 non-null   float64\n",
      " 2   Low        3591 non-null   float64\n",
      " 3   Close      3591 non-null   float64\n",
      " 4   Adj Close  3591 non-null   float64\n",
      " 5   Volume     3591 non-null   int64  \n",
      "dtypes: float64(5), int64(1)\n",
      "memory usage: 325.4 KB\n"
     ]
    }
   ],
   "source": [
    "import numpy as np\n",
    "import pandas as pd\n",
    "import yfinance as yf\n",
    "from pandas_datareader import data as web\n",
    "\n",
    "yf.pdr_override()\n",
    "SPY = web.get_data_yahoo('SPY', start = '2000-01-01', end = '2014-04-14')\n",
    "SPY.info()"
   ]
  },
  {
   "cell_type": "code",
   "execution_count": 58,
   "id": "identical-hormone",
   "metadata": {},
   "outputs": [
    {
     "data": {
      "text/html": [
       "<div>\n",
       "<style scoped>\n",
       "    .dataframe tbody tr th:only-of-type {\n",
       "        vertical-align: middle;\n",
       "    }\n",
       "\n",
       "    .dataframe tbody tr th {\n",
       "        vertical-align: top;\n",
       "    }\n",
       "\n",
       "    .dataframe thead th {\n",
       "        text-align: right;\n",
       "    }\n",
       "</style>\n",
       "<table border=\"1\" class=\"dataframe\">\n",
       "  <thead>\n",
       "    <tr style=\"text-align: right;\">\n",
       "      <th></th>\n",
       "      <th>Close</th>\n",
       "      <th>42d</th>\n",
       "      <th>252d</th>\n",
       "    </tr>\n",
       "    <tr>\n",
       "      <th>Date</th>\n",
       "      <th></th>\n",
       "      <th></th>\n",
       "      <th></th>\n",
       "    </tr>\n",
       "  </thead>\n",
       "  <tbody>\n",
       "    <tr>\n",
       "      <th>2014-04-07 00:00:00-04:00</th>\n",
       "      <td>184.339996</td>\n",
       "      <td>185.34</td>\n",
       "      <td>172.86</td>\n",
       "    </tr>\n",
       "    <tr>\n",
       "      <th>2014-04-08 00:00:00-04:00</th>\n",
       "      <td>185.100006</td>\n",
       "      <td>185.52</td>\n",
       "      <td>172.97</td>\n",
       "    </tr>\n",
       "    <tr>\n",
       "      <th>2014-04-09 00:00:00-04:00</th>\n",
       "      <td>187.089996</td>\n",
       "      <td>185.70</td>\n",
       "      <td>173.08</td>\n",
       "    </tr>\n",
       "    <tr>\n",
       "      <th>2014-04-10 00:00:00-04:00</th>\n",
       "      <td>183.160004</td>\n",
       "      <td>185.77</td>\n",
       "      <td>173.18</td>\n",
       "    </tr>\n",
       "    <tr>\n",
       "      <th>2014-04-11 00:00:00-04:00</th>\n",
       "      <td>181.509995</td>\n",
       "      <td>185.76</td>\n",
       "      <td>173.27</td>\n",
       "    </tr>\n",
       "  </tbody>\n",
       "</table>\n",
       "</div>"
      ],
      "text/plain": [
       "                                Close     42d    252d\n",
       "Date                                                 \n",
       "2014-04-07 00:00:00-04:00  184.339996  185.34  172.86\n",
       "2014-04-08 00:00:00-04:00  185.100006  185.52  172.97\n",
       "2014-04-09 00:00:00-04:00  187.089996  185.70  173.08\n",
       "2014-04-10 00:00:00-04:00  183.160004  185.77  173.18\n",
       "2014-04-11 00:00:00-04:00  181.509995  185.76  173.27"
      ]
     },
     "execution_count": 58,
     "metadata": {},
     "output_type": "execute_result"
    }
   ],
   "source": [
    "SPY['42d'] = np.round(SPY['Close'].rolling(window=42).mean(), 2)\n",
    "SPY['252d'] = np.round(SPY['Close'].rolling(window=252).mean(), 2)\n",
    "SPY[['Close', '42d', '252d']].tail()"
   ]
  },
  {
   "cell_type": "code",
   "execution_count": null,
   "id": "facial-dependence",
   "metadata": {},
   "outputs": [],
   "source": []
  }
 ],
 "metadata": {
  "kernelspec": {
   "display_name": "Python 3",
   "language": "python",
   "name": "python3"
  },
  "language_info": {
   "codemirror_mode": {
    "name": "ipython",
    "version": 3
   },
   "file_extension": ".py",
   "mimetype": "text/x-python",
   "name": "python",
   "nbconvert_exporter": "python",
   "pygments_lexer": "ipython3",
   "version": "3.7.3"
  }
 },
 "nbformat": 4,
 "nbformat_minor": 5
}
