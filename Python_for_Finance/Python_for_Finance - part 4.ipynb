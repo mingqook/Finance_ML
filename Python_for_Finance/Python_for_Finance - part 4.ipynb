{
 "cells": [
  {
   "cell_type": "code",
   "execution_count": 2,
   "id": "eaa6f035-fa28-43f4-9164-5e5491a67d2b",
   "metadata": {},
   "outputs": [
    {
     "name": "stdout",
     "output_type": "stream",
     "text": [
      "Using existing profile dir: 'C:\\\\Users\\\\QOOK\\\\.ipython\\\\profile_default'\n"
     ]
    },
    {
     "data": {
      "text/plain": [
       "<ipyparallel.client.client.Client at 0x1371970>"
      ]
     },
     "execution_count": 2,
     "metadata": {},
     "output_type": "execute_result"
    }
   ],
   "source": [
    "import ipyparallel as ipp\n",
    "\n",
    "cluster = ipp.Cluster.from_file(r\"C:\\Users\\QOOK\\.ipython\\profile_default\\security\\cluster-.json\")\n",
    "rc = cluster.connect_client_sync()\n",
    "rc"
   ]
  },
  {
   "cell_type": "markdown",
   "id": "2160bd4e-cac3-4b69-800b-7dd7de2e91f5",
   "metadata": {},
   "source": [
    "# Python for Finance - part 4\n",
    "\n",
    "#### 금융분석과 관련된 기본적인 내용을 정리하였습니다. 파이썬을 활용한 금융분석 (이브 힐피시 지음)을 참고하였습니다."
   ]
  },
  {
   "cell_type": "markdown",
   "id": "a49b5d5f-7c5d-4c4c-918e-e69f619c4535",
   "metadata": {},
   "source": [
    "## Chapter 8. 파이썬 성능 개선"
   ]
  },
  {
   "cell_type": "code",
   "execution_count": 20,
   "id": "4336490e-acbc-4f8c-8340-6d3f2077417b",
   "metadata": {},
   "outputs": [],
   "source": [
    "def perf_comp_data(func_list : list, data_list : list, rep : int=3, number : int=1):\n",
    "    \"\"\"\n",
    "    여러 함수의 성능을 비교하기 위한 함수 \n",
    "    \n",
    "    :param func_list : 함수 이름 문자열 리스트\n",
    "    :param data_list : 자료 집합 문자열 리스트\n",
    "    :param rep : 전체 비교를 위한 반복 횟수\n",
    "    :param number : 개별 함수의 실행 횟수\n",
    "    \"\"\"\n",
    "    \n",
    "    from timeit import repeat\n",
    "    res_list = {}\n",
    "    for name in enumerate(func_list):\n",
    "        stmt = name[1] + '(' + data_list[name[0]] + ')'\n",
    "        setup = \"from __main__ import  \" + name[1] + \" , \" + data_list[name[0]]\n",
    "        results = repeat(stmt = stmt, setup=setup, repeat=rep, number=number)\n",
    "        res_list[name[1]] = sum(results) / rep\n",
    "        \n",
    "    res_sort = sorted(res_list.items(), key = lambda x: x[1])\n",
    "    \n",
    "    for item in res_sort:\n",
    "        rel = item[1] / res_sort[0][1]\n",
    "        print('function : ' + item[0] + ', av. time sec : %9.5f, ' % item[1] + 'relative: %6.1f' % rel)"
   ]
  },
  {
   "cell_type": "markdown",
   "id": "47bcc05a-138d-421a-831b-393bedc26a4b",
   "metadata": {},
   "source": [
    "### 8.2 파이썬 패러다임과 성능"
   ]
  },
  {
   "cell_type": "code",
   "execution_count": 21,
   "id": "8b057317-5efa-4f57-9c37-bd7863ac0055",
   "metadata": {},
   "outputs": [],
   "source": [
    "from math import *\n",
    "def f(x):\n",
    "    return abs(cos(x)) ** 0.5 + sin(2 + 3*x)"
   ]
  },
  {
   "cell_type": "code",
   "execution_count": 22,
   "id": "8cb2db77-30ca-46e3-9a2e-d1bc7c646292",
   "metadata": {},
   "outputs": [],
   "source": [
    "def f1(a):\n",
    "    res = []\n",
    "    for x in a:\n",
    "        res.append(f(x))\n",
    "    return res\n",
    "\n",
    "def f2(a):\n",
    "    return [f(x) for x in a]\n",
    "\n",
    "def f3(a):\n",
    "    ex = 'abs(cos(x)) ** 0.5 + sin(2 + 3 * x)'\n",
    "    return [eval(ex) for x in a]\n",
    "\n",
    "import numpy as np\n",
    "I = 500000\n",
    "a_np = np.arange(I)\n",
    "\n",
    "def f4(a):\n",
    "    return (np.abs(np.cos(a)) ** 0.5 + np.sin(2 + 3 * a))\n",
    "\n",
    "import numexpr as ne\n",
    "def f5(a): \n",
    "    \"\"\"단일스레드용\"\"\"\n",
    "    ex = 'abs(cos(a)) ** 0.5 + sin(2 + 3 * a)'\n",
    "    ne.set_num_threads(1)\n",
    "    return ne.evaluate(ex)\n",
    "\n",
    "def f6(a): \n",
    "    \"\"\"멀티스레드용\"\"\"\n",
    "    ex = 'abs(cos(a)) ** 0.5 + sin(2 + 3 * a)'\n",
    "    ne.set_num_threads(16)\n",
    "    return ne.evaluate(ex)\n"
   ]
  },
  {
   "cell_type": "code",
   "execution_count": 23,
   "id": "2d96e008-cc03-41e0-a002-5e6dd3b4ae16",
   "metadata": {},
   "outputs": [
    {
     "name": "stdout",
     "output_type": "stream",
     "text": [
      "Wall time: 14 s\n"
     ]
    }
   ],
   "source": [
    "%%time\n",
    "a_py = range(I)\n",
    "r1 = f1(a_py)\n",
    "r2 = f2(a_py)\n",
    "r3 = f3(a_py)\n",
    "r4 = f4(a_np)\n",
    "r5 = f5(a_np)\n",
    "r6 = f6(a_np)"
   ]
  },
  {
   "cell_type": "code",
   "execution_count": 24,
   "id": "c24286a4-bf06-4a51-bfb4-587c5f872ad1",
   "metadata": {},
   "outputs": [
    {
     "name": "stdout",
     "output_type": "stream",
     "text": [
      "function : f6, av. time sec :   0.02567, relative:    1.0\n",
      "function : f5, av. time sec :   0.05929, relative:    2.3\n",
      "function : f4, av. time sec :   0.06470, relative:    2.5\n",
      "function : f2, av. time sec :   0.71775, relative:   28.0\n",
      "function : f1, av. time sec :   0.74055, relative:   28.8\n",
      "function : f3, av. time sec :  12.08998, relative:  470.9\n"
     ]
    }
   ],
   "source": [
    "func_list = ['f1', 'f2', 'f3', 'f4', 'f5', 'f6']\n",
    "data_list = ['a_py', 'a_py', 'a_py', 'a_np', 'a_np', 'a_np']\n",
    "\n",
    "perf_comp_data(func_list, data_list)"
   ]
  },
  {
   "cell_type": "markdown",
   "id": "1d72fdb2-f3bc-4e6c-bf38-9fd3e9b96cd7",
   "metadata": {},
   "source": [
    "### 8.2 메모리 배치와 성능"
   ]
  },
  {
   "cell_type": "code",
   "execution_count": 15,
   "id": "dfa295c7-0be3-4086-80a1-e5fcc26d263e",
   "metadata": {},
   "outputs": [
    {
     "data": {
      "text/plain": [
       "array([[0., 0., 0.],\n",
       "       [0., 0., 0.],\n",
       "       [0., 0., 0.]])"
      ]
     },
     "execution_count": 15,
     "metadata": {},
     "output_type": "execute_result"
    }
   ],
   "source": [
    "import numpy as np\n",
    "#### order : C 언어와 같이 행 우선 저장 시에는 'C' / 포트란 언어와 같이 열 우선 저장 시에는 'F'\n",
    "np.zeros((3,3), dtype=np.float64, order = 'C')"
   ]
  },
  {
   "cell_type": "code",
   "execution_count": 25,
   "id": "b7a34241-7681-48fe-80cb-55af85af7914",
   "metadata": {},
   "outputs": [],
   "source": [
    "C = np.array([[1., 1., 1.],\n",
    "              [2., 2., 2.],\n",
    "              [3., 3., 3.]], order = 'C')\n",
    "\n",
    "f = np.array([[1., 1., 1.],\n",
    "              [2., 2., 2.],\n",
    "              [3., 3., 3.]], order = 'F')"
   ]
  },
  {
   "cell_type": "code",
   "execution_count": 26,
   "id": "c2925f6b-fc84-4662-8b80-3de40c87e67b",
   "metadata": {},
   "outputs": [],
   "source": [
    "x = np.random.standard_normal((3, 1500000))\n",
    "C = np.array(x, order='C')\n",
    "f = np.array(x, order = 'F')\n",
    "x = 0.0"
   ]
  },
  {
   "cell_type": "code",
   "execution_count": 27,
   "id": "c54b542b-3ccd-4cd8-ae11-84a15277cebe",
   "metadata": {},
   "outputs": [
    {
     "name": "stdout",
     "output_type": "stream",
     "text": [
      "20.4 ms ± 1.73 ms per loop (mean ± std. dev. of 7 runs, 10 loops each)\n"
     ]
    }
   ],
   "source": [
    "%timeit C.sum(axis=0)"
   ]
  },
  {
   "cell_type": "code",
   "execution_count": 35,
   "id": "6b0bd552-9f6c-4bb4-8bb8-b2423e8dcbd1",
   "metadata": {},
   "outputs": [
    {
     "name": "stdout",
     "output_type": "stream",
     "text": [
      "7.84 ms ± 226 µs per loop (mean ± std. dev. of 7 runs, 100 loops each)\n"
     ]
    }
   ],
   "source": [
    "%timeit C.sum(axis=1)"
   ]
  },
  {
   "cell_type": "code",
   "execution_count": 31,
   "id": "9783f923-76b9-4682-8988-3105f39ca819",
   "metadata": {},
   "outputs": [
    {
     "name": "stdout",
     "output_type": "stream",
     "text": [
      "86.9 ms ± 6.31 ms per loop (mean ± std. dev. of 7 runs, 10 loops each)\n"
     ]
    }
   ],
   "source": [
    "%timeit C.std(axis=0)"
   ]
  },
  {
   "cell_type": "code",
   "execution_count": 32,
   "id": "a9bd11ce-3371-4f3c-9d42-90623ee1df79",
   "metadata": {},
   "outputs": [
    {
     "name": "stdout",
     "output_type": "stream",
     "text": [
      "7.88 ms ± 253 µs per loop (mean ± std. dev. of 7 runs, 100 loops each)\n"
     ]
    }
   ],
   "source": [
    "%timeit C.sum(axis=1)"
   ]
  },
  {
   "cell_type": "code",
   "execution_count": 33,
   "id": "5247a51f-d992-454a-a318-93ce18bfd093",
   "metadata": {},
   "outputs": [
    {
     "name": "stdout",
     "output_type": "stream",
     "text": [
      "45.7 ms ± 1.35 ms per loop (mean ± std. dev. of 7 runs, 10 loops each)\n"
     ]
    }
   ],
   "source": [
    "%timeit f.sum(axis=0)"
   ]
  },
  {
   "cell_type": "code",
   "execution_count": 34,
   "id": "f5481d4a-ccbc-4455-a005-a947296f7499",
   "metadata": {},
   "outputs": [
    {
     "name": "stdout",
     "output_type": "stream",
     "text": [
      "60.4 ms ± 1.59 ms per loop (mean ± std. dev. of 7 runs, 10 loops each)\n"
     ]
    }
   ],
   "source": [
    "%timeit f.sum(axis=1)"
   ]
  },
  {
   "cell_type": "markdown",
   "id": "9950e91d-8ea7-4096-9ac9-31a7076ee7f3",
   "metadata": {},
   "source": [
    "### 8.3 병렬 컴퓨팅\n",
    "#### 8.3.1 몬테카를로 알고리즘\n",
    "#### 8.3.2 순차 계산 방식\n",
    "#### 8.3.3 병렬 계산 방식"
   ]
  },
  {
   "cell_type": "code",
   "execution_count": 37,
   "id": "dfdbf099-0350-4886-ac06-749c8aa296eb",
   "metadata": {},
   "outputs": [
    {
     "name": "stdout",
     "output_type": "stream",
     "text": [
      "Enabling IPython clusters tab\n"
     ]
    }
   ],
   "source": [
    "!ipcluster nbextension enable"
   ]
  },
  {
   "cell_type": "markdown",
   "id": "17f6469f-3e52-4fc3-ab9a-f1e42d452b3e",
   "metadata": {},
   "source": [
    "### 8.4 멀티프로세싱"
   ]
  },
  {
   "cell_type": "code",
   "execution_count": 3,
   "id": "3eb120d0-1269-4797-8ca8-cfcbda3b01cd",
   "metadata": {},
   "outputs": [],
   "source": [
    "import multiprocessing as mp"
   ]
  },
  {
   "cell_type": "code",
   "execution_count": 4,
   "id": "2d92f355-d0d4-4a34-a3b8-14b0e86b2e00",
   "metadata": {},
   "outputs": [],
   "source": [
    "import math\n",
    "import numpy as np\n",
    "def simulate_geometric_brownian_motion(p):\n",
    "    M, I = p\n",
    "    S0 = 100\n",
    "    r = 0.05\n",
    "    sigma = 0.2\n",
    "    T = 1.0\n",
    "    dt = T/M\n",
    "    paths = np.zeros((M+1, I))\n",
    "    paths[0] = S0\n",
    "    for t in range(1,M+1):\n",
    "        paths[t] = paths[t-1] * np.exp((r-0.5 * sigma ** 2) * dt + sigma * math.sqrt(dt) * np.random.standard_normal(I))\n",
    "        \n",
    "    return paths"
   ]
  },
  {
   "cell_type": "code",
   "execution_count": 5,
   "id": "c1e33eed-1de8-4319-ad8e-b26530a7374e",
   "metadata": {},
   "outputs": [
    {
     "data": {
      "text/plain": [
       "array([[100.        , 100.        ],\n",
       "       [106.12227072,  99.72146948],\n",
       "       [ 99.62841726,  98.57837688],\n",
       "       [ 88.83376816,  96.21992754],\n",
       "       [ 79.24293663,  91.61515698],\n",
       "       [ 95.08086351,  91.16413945]])"
      ]
     },
     "execution_count": 5,
     "metadata": {},
     "output_type": "execute_result"
    }
   ],
   "source": [
    "paths = simulate_geometric_brownian_motion((5,2))\n",
    "paths"
   ]
  },
  {
   "cell_type": "code",
   "execution_count": null,
   "id": "3f53ecb7-6b5c-4a72-ac01-6718cb72ec26",
   "metadata": {},
   "outputs": [],
   "source": [
    "I = 10000\n",
    "M = 100\n",
    "t = 100\n",
    "from time import time\n",
    "times = []\n",
    "for w in range(1, 17):\n",
    "    t0 = time()\n",
    "    pool = mp.Pool(processes=w)\n",
    "    result = pool.map(simulate_geometric_brownian_motion, t *[(M, I), ])\n",
    "    time.append(time() - t0)"
   ]
  },
  {
   "cell_type": "markdown",
   "id": "a5e4e0d3-8841-40a2-a040-cb372866380b",
   "metadata": {},
   "source": [
    "### 8.5 동적 컴파일\n",
    "### 8.5.1 동적 컴파일 소개 예제"
   ]
  },
  {
   "cell_type": "code",
   "execution_count": 1,
   "id": "d3a824fa-44eb-42c5-8ec8-781ff8b558f7",
   "metadata": {},
   "outputs": [],
   "source": [
    "from math import cos, log\n",
    "def f_py(I, J):\n",
    "    res = 0\n",
    "    for i in range(I):\n",
    "        for j in range(J):\n",
    "            res += int(cos(log(1)))\n",
    "            \n",
    "    return res"
   ]
  },
  {
   "cell_type": "code",
   "execution_count": 2,
   "id": "bb4d63b7-0715-4b83-a7c1-3db662e7073d",
   "metadata": {},
   "outputs": [
    {
     "name": "stdout",
     "output_type": "stream",
     "text": [
      "Wall time: 16.7 s\n"
     ]
    },
    {
     "data": {
      "text/plain": [
       "25000000"
      ]
     },
     "execution_count": 2,
     "metadata": {},
     "output_type": "execute_result"
    }
   ],
   "source": [
    "I, J = 5000, 5000\n",
    "%time f_py(I, J)"
   ]
  },
  {
   "cell_type": "code",
   "execution_count": 3,
   "id": "c2b7b97a-6a93-4254-b522-7ae3b381bf06",
   "metadata": {},
   "outputs": [],
   "source": [
    "import numpy as np\n",
    "def f_np(I, J):\n",
    "    a = np.ones((I,J), dtype=np.float64)\n",
    "    return int(np.sum(np.cos(np.log(a)))), a"
   ]
  },
  {
   "cell_type": "code",
   "execution_count": 4,
   "id": "f91d30f5-9c91-46ad-aeb1-4bde6f2070c4",
   "metadata": {},
   "outputs": [
    {
     "name": "stdout",
     "output_type": "stream",
     "text": [
      "Wall time: 978 ms\n"
     ]
    }
   ],
   "source": [
    "%time res, a = f_np(I, J)"
   ]
  },
  {
   "cell_type": "code",
   "execution_count": 5,
   "id": "39f33ba8-47f9-42b4-94bf-740ebe7b6988",
   "metadata": {},
   "outputs": [
    {
     "data": {
      "text/plain": [
       "200000000"
      ]
     },
     "execution_count": 5,
     "metadata": {},
     "output_type": "execute_result"
    }
   ],
   "source": [
    "a.nbytes"
   ]
  },
  {
   "cell_type": "code",
   "execution_count": 6,
   "id": "c7fede1a-1ddd-4aa7-9f91-997b0c591d8f",
   "metadata": {},
   "outputs": [
    {
     "ename": "ModuleNotFoundError",
     "evalue": "No module named 'numba'",
     "output_type": "error",
     "traceback": [
      "\u001b[1;31m---------------------------------------------------------------------------\u001b[0m",
      "\u001b[1;31mModuleNotFoundError\u001b[0m                       Traceback (most recent call last)",
      "\u001b[1;32m<ipython-input-6-4421bbc77ced>\u001b[0m in \u001b[0;36m<module>\u001b[1;34m\u001b[0m\n\u001b[1;32m----> 1\u001b[1;33m \u001b[1;32mimport\u001b[0m \u001b[0mnumba\u001b[0m \u001b[1;32mas\u001b[0m \u001b[0mnb\u001b[0m\u001b[1;33m\u001b[0m\u001b[1;33m\u001b[0m\u001b[0m\n\u001b[0m\u001b[0;32m      2\u001b[0m \u001b[0mf_nb\u001b[0m \u001b[1;33m=\u001b[0m \u001b[0mnb\u001b[0m\u001b[1;33m.\u001b[0m\u001b[0mjit\u001b[0m\u001b[1;33m(\u001b[0m\u001b[0mf_py\u001b[0m\u001b[1;33m)\u001b[0m\u001b[1;33m\u001b[0m\u001b[1;33m\u001b[0m\u001b[0m\n",
      "\u001b[1;31mModuleNotFoundError\u001b[0m: No module named 'numba'"
     ]
    }
   ],
   "source": [
    "import numba as nb\n",
    "f_nb = nb.jit(f_py)"
   ]
  },
  {
   "cell_type": "code",
   "execution_count": 9,
   "id": "e4a59aba-a6af-4bbb-bd25-ca325c589a53",
   "metadata": {},
   "outputs": [],
   "source": [
    "import numba as nb"
   ]
  },
  {
   "cell_type": "code",
   "execution_count": 10,
   "id": "05ec79a0-a055-4d92-a561-1517b09e461b",
   "metadata": {},
   "outputs": [],
   "source": [
    "f_nb = nb.jit(f_py)"
   ]
  },
  {
   "cell_type": "code",
   "execution_count": 11,
   "id": "e3150723-1bb7-4388-8abb-189b9048de4d",
   "metadata": {},
   "outputs": [
    {
     "name": "stdout",
     "output_type": "stream",
     "text": [
      "Wall time: 669 ms\n"
     ]
    },
    {
     "data": {
      "text/plain": [
       "25000000"
      ]
     },
     "execution_count": 11,
     "metadata": {},
     "output_type": "execute_result"
    }
   ],
   "source": [
    "%time f_nb(I, J)"
   ]
  },
  {
   "cell_type": "markdown",
   "id": "882100cb-04d9-479f-9782-f59f33701093",
   "metadata": {},
   "source": [
    "### 8.6 Cython을 이용한 정적 컴파일"
   ]
  }
 ],
 "metadata": {
  "kernelspec": {
   "display_name": "Python 3",
   "language": "python",
   "name": "python3"
  },
  "language_info": {
   "codemirror_mode": {
    "name": "ipython",
    "version": 3
   },
   "file_extension": ".py",
   "mimetype": "text/x-python",
   "name": "python",
   "nbconvert_exporter": "python",
   "pygments_lexer": "ipython3",
   "version": "3.6.8"
  }
 },
 "nbformat": 4,
 "nbformat_minor": 5
}
