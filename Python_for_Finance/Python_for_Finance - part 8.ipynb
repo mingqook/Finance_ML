{
 "cells": [
  {
   "cell_type": "markdown",
   "id": "8c8226cd-6a3e-4206-95ff-7a8d0a87bc0e",
   "metadata": {},
   "source": [
    "# Python for Finance - part 8\n",
    "\n",
    "#### 금융분석과 관련된 기본적인 내용을 정리하였습니다. 파이썬을 활용한 금융분석 (이브 힐피시 지음)을 참고하였습니다."
   ]
  },
  {
   "cell_type": "markdown",
   "id": "fa23abbc-2058-4721-b4f7-7382851aaebd",
   "metadata": {},
   "source": [
    "## Chapter 15 가치 평가 프레임워크\n",
    "### 15.1 자산 가격결정 기본 정리\n",
    "#### 자산 가격결정 기본 정리 : 마틴게일 측도가 핵심, 할인된 위험 요인에서 실제 증가율을 제거한 확률 측도, 마틴게일 측도 하에서 모든 위험 요인은 위험 프리미엄을 포함한 실제 시장 이자율을 무시하고 무조건 고정된 무위험 단기 이자율로 증가 \n",
    "\n",
    "#### 15.1.1 간단한 예제\n",
    "#### 15.1.2 일반적인 결과\n",
    "#### 조건이 아무리 복잡해도 모두 적용 가능하다는 장점이 있음\n",
    "#### 마틴 게일 측도 하에서는 모든 위험 자산이 무위험 단기 이자율로 증가하기 때문에 '위험 중립 가치 평가 방법'이라고도 불림\n",
    "\n",
    "### 15.2 위험 중립 할인\n",
    "#### 15.2.1 날짜 모형과 조작\n",
    "#### 날짜의 목록을 만들기 위한 방법은 2가지 : 구체적인 날짜의 리스트 / 1년을 기준으로 한 비율 숫자로 표현"
   ]
  },
  {
   "cell_type": "code",
   "execution_count": 2,
   "id": "01e5e03f-08a4-4c8e-b8d7-cd7d38663794",
   "metadata": {},
   "outputs": [
    {
     "data": {
      "text/plain": [
       "0.4958904109589041"
      ]
     },
     "execution_count": 2,
     "metadata": {},
     "output_type": "execute_result"
    }
   ],
   "source": [
    "import datetime as dt\n",
    "dates = [dt.datetime(2015, 1, 1), dt.datetime(2015, 7,1), dt.datetime(2016, 1, 1)]\n",
    "(dates[1] - dates[0]).days / 365."
   ]
  },
  {
   "cell_type": "code",
   "execution_count": 3,
   "id": "1aa93640-fb66-4ce3-bf78-41897a02765a",
   "metadata": {},
   "outputs": [
    {
     "data": {
      "text/plain": [
       "0.5041095890410959"
      ]
     },
     "execution_count": 3,
     "metadata": {},
     "output_type": "execute_result"
    }
   ],
   "source": [
    "(dates[2] - dates[1]).days / 365."
   ]
  },
  {
   "cell_type": "code",
   "execution_count": 4,
   "id": "8ae0e18c-3146-4e7a-9df8-8fd6fc0f8501",
   "metadata": {},
   "outputs": [],
   "source": [
    "fractions = [.0, .5, 1.]"
   ]
  },
  {
   "cell_type": "code",
   "execution_count": 5,
   "id": "27dfb3a9-604b-4001-aa52-8265f85a141b",
   "metadata": {},
   "outputs": [],
   "source": [
    "import numpy as np\n",
    "def get_year_deltas(date_list, day_count=365.):\n",
    "    \"\"\" 날짜를 1년 비율로 표현한 부동소수점 벡터를 반환\"\"\"\n",
    "    \n",
    "    start = date_list[0]\n",
    "    delta_list = [(date - start).days / day_count for date in date_list]\n",
    "    return np.array(delta_list)"
   ]
  },
  {
   "cell_type": "code",
   "execution_count": 6,
   "id": "6769f805-3973-450f-84e7-4f71f14155f9",
   "metadata": {},
   "outputs": [
    {
     "data": {
      "text/plain": [
       "array([0.        , 0.49589041, 1.        ])"
      ]
     },
     "execution_count": 6,
     "metadata": {},
     "output_type": "execute_result"
    }
   ],
   "source": [
    "dates = [dt.datetime(2015, 1, 1), dt.datetime(2015, 7,1), dt.datetime(2016, 1, 1)]\n",
    "get_year_deltas(dates)"
   ]
  },
  {
   "cell_type": "markdown",
   "id": "d09a1d26-036b-4803-bcd0-ebcfa5de2302",
   "metadata": {},
   "source": [
    "#### 15.2.2 고정 단기 이자율"
   ]
  },
  {
   "cell_type": "code",
   "execution_count": 7,
   "id": "5d442f35-aeff-4676-b448-84eb1c1d94fa",
   "metadata": {},
   "outputs": [],
   "source": [
    "class constant_short_rate(object):\n",
    "    \"\"\" 고정 단기 이자율 할인 클래스 \"\"\"\n",
    "    \n",
    "    def __init__(self, name, short_rate):\n",
    "        self.name = name\n",
    "        self.short_rate = short_rate\n",
    "        if short_rate < 0 :\n",
    "            raise ValueError('Short rate negative')\n",
    "            \n",
    "    def get_discount_factors(self, date_list, dtobjects=True):\n",
    "        \"\"\" datetime 객체 또는 1년 기준 비율의 리스트/배열이 주어지면 할인율을 반환 \"\"\"\n",
    "        if dtobjects:\n",
    "            dlist = get_year_deltas(date_list)\n",
    "        else:\n",
    "            dlist = np.array(date_list)\n",
    "        dflist = np.exp(self.short_rate * np.sort(-dlist))\n",
    "        return np.array((date_list, dflist)).T"
   ]
  },
  {
   "cell_type": "code",
   "execution_count": 8,
   "id": "f84c72d1-458b-4a2e-b3f6-b21496ae8fea",
   "metadata": {},
   "outputs": [
    {
     "data": {
      "text/plain": [
       "array([[datetime.datetime(2015, 1, 1, 0, 0), 0.951229424500714],\n",
       "       [datetime.datetime(2015, 7, 1, 0, 0), 0.9755103387657228],\n",
       "       [datetime.datetime(2016, 1, 1, 0, 0), 1.0]], dtype=object)"
      ]
     },
     "execution_count": 8,
     "metadata": {},
     "output_type": "execute_result"
    }
   ],
   "source": [
    "dates = [dt.datetime(2015, 1, 1), dt.datetime(2015, 7,1), dt.datetime(2016, 1, 1)]\n",
    "csr = constant_short_rate('csr', .05)\n",
    "csr.get_discount_factors(dates)"
   ]
  },
  {
   "cell_type": "code",
   "execution_count": 11,
   "id": "6790b593-fe37-4664-b3ef-f0894e4d24a1",
   "metadata": {},
   "outputs": [
    {
     "data": {
      "text/plain": [
       "array([[0.        , 0.95122942],\n",
       "       [0.49589041, 0.97551034],\n",
       "       [1.        , 1.        ]])"
      ]
     },
     "execution_count": 11,
     "metadata": {},
     "output_type": "execute_result"
    }
   ],
   "source": [
    "deltas = get_year_deltas(dates)\n",
    "csr.get_discount_factors(deltas, dtobjects = False)"
   ]
  },
  {
   "cell_type": "markdown",
   "id": "3593489a-7f27-4827-a464-8f2e12e9129d",
   "metadata": {},
   "source": [
    "### 15.3 시장 환경"
   ]
  },
  {
   "cell_type": "code",
   "execution_count": 14,
   "id": "acd87165-c660-4c03-acf5-426081b67103",
   "metadata": {},
   "outputs": [],
   "source": [
    "class market_environment(object):\n",
    "    \"\"\" 가치 평가와 관련된 시장 환경 모형을 위한 클래스 \"\"\"\n",
    "    \n",
    "    def __init__(self, name, pricing_date):\n",
    "        \"\"\"\n",
    "        :param name: 시장환경 이름\n",
    "        :param pricing_date : 시장 환경 날짜\n",
    "        \"\"\"\n",
    "        self.name = name\n",
    "        self.pricing_date = pricing_date\n",
    "        self.constants = {}\n",
    "        self.lists = {}\n",
    "        self.curves = {}\n",
    "        \n",
    "    def add_constant(self, key, constant):\n",
    "        \"\"\" 상수(모형 파라미터) 추가\"\"\"\n",
    "        self.constants[key] = constant\n",
    "        \n",
    "    def get_constant(self, key):\n",
    "        \"\"\" 상수 반환\"\"\"\n",
    "        return self.constants[key]\n",
    "    \n",
    "    def add_list(self, key, list_object):\n",
    "        \"\"\" (기초자산 등의) 리스트 추가\"\"\"\n",
    "        self.lists[key] = list_object\n",
    "        \n",
    "    def get_list(self, key):\n",
    "        \"\"\" 리스트 반환 \"\"\"\n",
    "        return self.lists[key]\n",
    "    \n",
    "    def add_curve(self, key, curve):\n",
    "        \"\"\" (이자율 커브 등의) 시장 커브 추가\"\"\"\n",
    "        self.curves[key] = curve\n",
    "        \n",
    "    def get_curve(self, key):\n",
    "        \"\"\" 시장 커브 반환\"\"\"\n",
    "        return self.curves[key]\n",
    "    \n",
    "    def add_environment(self, env):\n",
    "        \"\"\" 상수, 리스트 ,커브 등의 전체 시장 환경을 추가하거나 갱신\"\"\"\n",
    "        \n",
    "        for key in env.constants:\n",
    "            self.constants[key] = env.constants[key]\n",
    "        \n",
    "        for key in env.lists:\n",
    "            self.lists[key] = env.lists[key]\n",
    "        \n",
    "        for key in env.curves:\n",
    "            self.curves[key] = env.curves[key]"
   ]
  },
  {
   "cell_type": "code",
   "execution_count": null,
   "id": "ce359e64-25b2-4323-b9e8-f310d4443284",
   "metadata": {},
   "outputs": [],
   "source": []
  },
  {
   "cell_type": "code",
   "execution_count": null,
   "id": "c9d4e248-5708-46ef-bcaf-6616fe20f813",
   "metadata": {},
   "outputs": [],
   "source": []
  },
  {
   "cell_type": "code",
   "execution_count": null,
   "id": "fc11af88-2897-4a97-9231-cef9ca3d793b",
   "metadata": {},
   "outputs": [],
   "source": []
  }
 ],
 "metadata": {
  "kernelspec": {
   "display_name": "Python 3",
   "language": "python",
   "name": "python3"
  },
  "language_info": {
   "codemirror_mode": {
    "name": "ipython",
    "version": 3
   },
   "file_extension": ".py",
   "mimetype": "text/x-python",
   "name": "python",
   "nbconvert_exporter": "python",
   "pygments_lexer": "ipython3",
   "version": "3.6.8"
  }
 },
 "nbformat": 4,
 "nbformat_minor": 5
}
