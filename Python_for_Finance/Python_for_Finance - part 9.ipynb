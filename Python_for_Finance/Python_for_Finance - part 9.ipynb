{
 "cells": [
  {
   "cell_type": "markdown",
   "id": "8c8226cd-6a3e-4206-95ff-7a8d0a87bc0e",
   "metadata": {},
   "source": [
    "# Python for Finance - part 9\n",
    "\n",
    "#### 금융분석과 관련된 기본적인 내용을 정리하였습니다. 파이썬을 활용한 금융분석 (이브 힐피시 지음)을 참고하였습니다."
   ]
  },
  {
   "cell_type": "markdown",
   "id": "fa23abbc-2058-4721-b4f7-7382851aaebd",
   "metadata": {},
   "source": [
    "## Chapter 16 금융 모형 시뮬레이션\n",
    "#### 기하 브라운 운동 : 옵션 가격 계산에 대한 블랙과 숄즈의 연구에서 처음 소개 / 옵션이나 기타 파생상품 가치 평가 목적으로 가장 널리 사용되는 확률 과정\n",
    "#### 점프 확산 : 기하 브라운 운동 모형에 로그 정규분포에 따르는 점프 요인을 추가 / 큰 가격 점프의 가능성이 있는  out-of the money 옵션을 고려할 수 있게 됨 \n",
    "#### 제곱근 확산 : 이자율이나 변동성과 같이 평균-회귀 특성을 보이는 변수의 모형에 활용 / 항상 양의 값\n",
    "\n",
    "### 16.1 난수 생성"
   ]
  },
  {
   "cell_type": "code",
   "execution_count": 3,
   "id": "fc11af88-2897-4a97-9231-cef9ca3d793b",
   "metadata": {},
   "outputs": [
    {
     "data": {
      "text/plain": [
       "array([[[-0.8044583 ,  0.32093155],\n",
       "        [-0.02548288,  0.64432383]],\n",
       "\n",
       "       [[-0.30079667,  0.38947455],\n",
       "        [-0.1074373 , -0.47998308]]])"
      ]
     },
     "execution_count": 3,
     "metadata": {},
     "output_type": "execute_result"
    }
   ],
   "source": [
    "#### 표준정규분포 난수를 생성하는 함수\n",
    "import numpy as np\n",
    "def sn_random_numbers(shape, antithetic=True, moment_matching=True, fixed_seed=False):\n",
    "    \"\"\" shape 인수와 같은 shape를 가지면서 표준 정규분포를 따르는 (의사) 난수 \"\"\"\n",
    "    \n",
    "    if fixed_seed:\n",
    "        np.random.seed(1000)\n",
    "    if antithetic:\n",
    "        ran = np.random.standard_normal((shape[0], shape[1], shape[2] / 2))\n",
    "        ran = np.concatenate((ran, -ran), axis=2)\n",
    "        \n",
    "    else:\n",
    "        ran = np.random.standard_normal(shape)\n",
    "    \n",
    "    if moment_matching:\n",
    "        ran = ran - np.mean(ran)\n",
    "        ran = ran / np.std(ran)\n",
    "        \n",
    "    if shape[0] ==1:\n",
    "        return ran[0]\n",
    "    else:\n",
    "        return ran\n",
    "    \n",
    "snrn = sn_random_numbers((2,2,2), antithetic=False, moment_matching=False, fixed_seed=True)\n",
    "snrn"
   ]
  },
  {
   "cell_type": "code",
   "execution_count": 5,
   "id": "ab166eb4-319a-4705-a980-44a5b9567d6e",
   "metadata": {},
   "outputs": [
    {
     "data": {
      "text/plain": [
       "array([[[-1.47414161,  0.67072537],\n",
       "        [ 0.01049828,  1.28707482],\n",
       "        [-0.51421897,  0.80136066]],\n",
       "\n",
       "       [[-0.14569767, -0.85572818],\n",
       "        [ 1.19313679, -0.82653845],\n",
       "        [ 1.3308292 , -1.47730025]]])"
      ]
     },
     "execution_count": 5,
     "metadata": {},
     "output_type": "execute_result"
    }
   ],
   "source": [
    "snrn_mm = sn_random_numbers((2,3,2), antithetic=False, moment_matching=True, fixed_seed=True)\n",
    "snrn_mm"
   ]
  },
  {
   "cell_type": "code",
   "execution_count": 6,
   "id": "7dde00d8-7c0d-48c8-9b8e-decc30fecb75",
   "metadata": {},
   "outputs": [
    {
     "data": {
      "text/plain": [
       "3.700743415417188e-17"
      ]
     },
     "execution_count": 6,
     "metadata": {},
     "output_type": "execute_result"
    }
   ],
   "source": [
    "snrn_mm.mean()"
   ]
  },
  {
   "cell_type": "code",
   "execution_count": 7,
   "id": "95e3d446-61c6-4e04-ae6f-4da5155144f1",
   "metadata": {},
   "outputs": [
    {
     "data": {
      "text/plain": [
       "1.0"
      ]
     },
     "execution_count": 7,
     "metadata": {},
     "output_type": "execute_result"
    }
   ],
   "source": [
    "snrn_mm.std()"
   ]
  },
  {
   "cell_type": "markdown",
   "id": "347600d2-2d2b-491f-b863-3285cd45c733",
   "metadata": {},
   "source": [
    "### 16.2 일반적인 시뮬레이션 클래스"
   ]
  },
  {
   "cell_type": "code",
   "execution_count": 8,
   "id": "60870810-164d-4f55-8c35-40c928ba5c8d",
   "metadata": {},
   "outputs": [
    {
     "name": "stderr",
     "output_type": "stream",
     "text": [
      "C:\\Users\\QOOK\\AppData\\Local\\Programs\\Python\\Python36-32\\lib\\importlib\\_bootstrap.py:219: RuntimeWarning: numpy.ufunc size changed, may indicate binary incompatibility. Expected 112 from C header, got 124 from PyObject\n",
      "  return f(*args, **kwds)\n"
     ]
    }
   ],
   "source": [
    "import numpy as np\n",
    "import pandas as pd\n",
    "\n",
    "class simulation_class(object):\n",
    "    \"\"\" 시뮬레이션 클래스의 베이스 메서드 제공 \"\"\" \n",
    "    \n",
    "    def __init__(self, name, mar_env, corr):\n",
    "        try:\n",
    "            self.name = name\n",
    "            self.pricing_date = mar_env.pricing_date\n",
    "            self.initial_value = mar_env.get_constant('initial_value')\n",
    "            self.volatility = mar_env.get_constant('volatility')\n",
    "            self.final_date = mar_env.get_constant('final_date')\n",
    "            self.currency = mar_env.get_constant('currency')\n",
    "            self.frequency = mar_env.get_constant('frequency')\n",
    "            self.paths = mar_env.get_constant('paths')\n",
    "            self.discount_curve = mar_env.get_constant('discount_curve')\n",
    "            \n",
    "            try:\n",
    "                self.time_grid = mar_env.get_list('time_grid')\n",
    "            except:\n",
    "                self.time_grid = None\n",
    "            \n",
    "            try: \n",
    "                self.special_dates = mar_env.get_list('special_dates')\n",
    "            except:\n",
    "                self.special_dates = []\n",
    "                \n",
    "            self.instrument_value = None\n",
    "            self.correlated = corr\n",
    "            if corr:\n",
    "                self.cholesky_matrix = mar_env.get_list('cholesky_matrix')\n",
    "                self.rn_set = mar_env.get_list('rn_set')[self.name]\n",
    "                self.random_numbers = mar_env.get_list('random_numbers')\n",
    "                \n",
    "        except:\n",
    "            print('Error parsing market environment')\n",
    "                \n",
    "    def generate_time_grid(self):\n",
    "        start = self.pricing_date\n",
    "        end = self.final_date\n",
    "        time_grid = pd.date_range(start=start, end=end, freq=self.frequency)\n",
    "        time_grid = list(time_grid)\n",
    "        \n",
    "        if start not in time_grid:\n",
    "            time_grid.insert(0, start)\n",
    "        \n",
    "        if end not in time_grid:\n",
    "            time_grid.append(end)\n",
    "        \n",
    "        if len(self.special_dates) >0:\n",
    "            time_grid.extend(self.special_dates)\n",
    "            time_grid = list(set(time_grid))\n",
    "            time_grid.sort()\n",
    "        self.time_grid = np.array(time_grid)\n",
    "        \n",
    "    def get_instrument_values(self, fixed_seed=True):\n",
    "        if self.initial_value is None:\n",
    "            self.generate_paths(fixed_seed=fixed_seed, day_count=365.)\n",
    "        elif fixed_seed is False:\n",
    "            self.generate_paths(fixed_seed=fixed_seed, day_count=365.)\n",
    "            \n",
    "        return self.instrument_value"
   ]
  },
  {
   "cell_type": "markdown",
   "id": "9c0285ab-aaac-4251-acca-a7261a474a27",
   "metadata": {},
   "source": [
    "### 16.3 기하 브라운 운동 모형"
   ]
  },
  {
   "cell_type": "code",
   "execution_count": 10,
   "id": "b674425b-d33b-4325-9b5c-0720f316dac4",
   "metadata": {},
   "outputs": [],
   "source": [
    "class geometric_brownian_motion(simulation_class):\n",
    "    \"\"\" 블랙-숄즈-머튼의 기하 브라운 운동 모형에 따른 시뮬레이션 경로를 생성하는 클래스 \"\"\"\n",
    "    \n",
    "    def __init__(self, name, mar_env, corr=False):\n",
    "        super(geometric_brownian_motion, self).__init__(name, mar_env, corr)\n",
    "        \n",
    "    def update(self, initial_value=None, volatility = None, final_date = None):\n",
    "        if initial_value is not None:\n",
    "            self.initial_value = initial_value\n",
    "        if volatility is not None:\n",
    "            self.volatility = volatility\n",
    "        if final_date is not None:\n",
    "            self.final_date = final_date\n",
    "        self.instrument_values = None\n",
    "        \n",
    "    def generate_paths(self, fixed_seed = False, day_count=365.):\n",
    "        if self.time_grid is None:\n",
    "            self.generate_time_grid()\n",
    "        M = len(self.time_grid)\n",
    "        I = self.paths\n",
    "        paths = np.zeros((M,I))\n",
    "        paths[0] = self.initial_value\n",
    "        if not self.correlated:\n",
    "            rand = sn_random_numbers((1, M, I), fixed_seed=fixed_seed)\n",
    "        else:\n",
    "            rand = self.random_numbers\n",
    "        \n",
    "        short_rate = self.discount_curve.short_rate\n",
    "        \n",
    "        for t in range(1, range(self.time_grid)):\n",
    "            if not self.correlated:\n",
    "                ran = rand[t]\n",
    "            else:\n",
    "                ran = np.dot(self.cholesky_matrix, rand[:, t, :])\n",
    "                ran = ran[self.rn_set]\n",
    "            dt = (self.time_grid[t] - self.time_grid[t-1]).days / day_count\n",
    "            paths[t] = paths[t-1] * np.exp((short_rate - 0.5 * self.volatility **2) *dt + self.volatility * np.sqrt(dt) * ran)\n",
    "            \n",
    "        self.instrument_values = paths"
   ]
  },
  {
   "cell_type": "markdown",
   "id": "bcdeaac8-cae2-46ba-b9b3-60a5fe76221a",
   "metadata": {},
   "source": [
    "### 16.4 점프 확산 모형"
   ]
  },
  {
   "cell_type": "code",
   "execution_count": 16,
   "id": "ed33cb01-75f5-4907-badd-a1ddac5434cb",
   "metadata": {},
   "outputs": [],
   "source": [
    "class jump_diffusion(simulation_class):\n",
    "    \"\"\" 머튼의 점프 확산 모형에 따른 시뮬레이션 경롤르 생성하기 위한 클래스 \"\"\"\n",
    "    \n",
    "    def __init__(self, name, mar_env, corr=False):\n",
    "        super(jump_diffusion, self).__init__(name, mar_env, corr)\n",
    "        try:\n",
    "            self.lamb = mar_env.get_constant('lambda')\n",
    "            self.mu = mar_env.get_constant('mu')\n",
    "            self.delt = mar_env.get_constant('delta')\n",
    "            \n",
    "        except:\n",
    "            print('Error parsing market environment')\n",
    "            \n",
    "    def update(self, initial_value=None, volatility = None, lamb=None, mu=None, delta=None, final_date = None):\n",
    "        if initial_value is not None:\n",
    "            self.initial_value = initial_value\n",
    "        if volatility is not None:\n",
    "            self.volatility = volatility\n",
    "        if lamb is not None:\n",
    "            self.lamb = lamb\n",
    "        if delta is not None:\n",
    "            self.delta = delta\n",
    "        if mu is not None:\n",
    "            self.mu = mu\n",
    "        if final_date is not None:\n",
    "            self.final_date = final_date\n",
    "        self.instrument_values = None\n",
    "\n",
    "    def generate_paths(self, fixed_seed = False, day_count=365.):\n",
    "        if self.time_grid is None:\n",
    "            self.generate_time_grid()\n",
    "        M = len(self.time_grid)\n",
    "        I = self.paths\n",
    "        paths = np.zeros((M,I))\n",
    "        paths[0] = self.initial_value\n",
    "        if not self.correlated:\n",
    "            sn1 = sn_random_numbers((1, M, I), fixed_seed=fixed_seed)\n",
    "        else:\n",
    "            sn1 = self.random_numbers\n",
    "            \n",
    "        sn2 = sn_random_numbers((1,M,I), fixed_seed=fixed_seed)\n",
    "        rj = self.lamb * (np.exp(self.mu + .5 * self.delt ** 2) -1)\n",
    "        short_rate = self.discount_curve.short_rate\n",
    "        \n",
    "        for t in range(1, len(self.time_grid)):\n",
    "            if self.correlated is False:\n",
    "                ran = sn1[t]\n",
    "            else:\n",
    "                ran = np.dot(self.cholesky_matrix, rand[:, t, :])\n",
    "                ran = ran[self.rn_set]\n",
    "            dt = (self.time_grid[t] - self.time_grid[t-1]).days / day_count\n",
    "            poi = np.random.poisson(self.lamb * dt, I)\n",
    "            paths[t] = paths[t-1] * (np.exp((short_rate - rj - .5 * self.volatility **2) *dt + self.volatility * np.sqrt(dt) * ran) + (np.exp(self.mu + self.delt * sn2[t]) -1) * poi)\n",
    "                                     \n",
    "        self.instrument_values = paths"
   ]
  },
  {
   "cell_type": "markdown",
   "id": "e0f14bf1-032b-49bf-80d4-12cc7ee879ea",
   "metadata": {},
   "source": [
    "### 16.5 제곱근 확산 모형"
   ]
  },
  {
   "cell_type": "code",
   "execution_count": 17,
   "id": "29c89002-0070-4b51-95ba-09ba0465f597",
   "metadata": {},
   "outputs": [],
   "source": [
    "class square_root_diffusion(simulation_class):\n",
    "    \"\"\" 콕스-잉거솔-로스의 제곱근 확산 모형에 기반한 시뮬레이션 경로를 생성하기 위한 클래스 \"\"\"\n",
    "    def __init__(self, name, mar_env, corr=False):\n",
    "        super(square_root_diffusion, self).__init__(name, mar_env, corr)\n",
    "        try:\n",
    "            self.kappa = mar_env.get_constant('kappa')\n",
    "            self.theta = mar_env.get_constant('theta')\n",
    "            \n",
    "        except:\n",
    "            print('Error parsing market environment')\n",
    "            \n",
    "    def update(self, initial_value=None, volatility = None, kappa=None, theta=None, final_date = None):\n",
    "        if initial_value is not None:\n",
    "            self.initial_value = initial_value\n",
    "        if volatility is not None:\n",
    "            self.volatility = volatility\n",
    "        if kappa is not None:\n",
    "            self.lamb = lamb\n",
    "        if dethetalta is not None:\n",
    "            self.delta = delta\n",
    "        if final_date is not None:\n",
    "            self.final_date = final_date\n",
    "        self.instrument_values = None\n",
    "\n",
    "    def generate_paths(self, fixed_seed = False, day_count=365.):\n",
    "        if self.time_grid is None:\n",
    "            self.generate_time_grid()\n",
    "        M = len(self.time_grid)\n",
    "        I = self.paths\n",
    "        paths = np.zeros((M,I))\n",
    "        paths_ = np.zeros_like(paths)\n",
    "        paths[0] = self.initial_value\n",
    "        paths_[0] = self.initial_value\n",
    "        if not self.correlated:\n",
    "            rand = sn_random_numbers((1, M, I), fixed_seed=fixed_seed)\n",
    "        else:\n",
    "            rand = self.random_numbers\n",
    "    \n",
    "        for t in range(1, len(self.time_grid)):\n",
    "            dt = (self.time_grid[t] - self.time_grid[t-1]).days / day_count\n",
    "            if self.correlated is False:\n",
    "                ran = rand[t]\n",
    "            else:\n",
    "                ran = np.dot(self.cholesky_matrix, rand[:, t, :])\n",
    "                ran = ran[self.rn_set]\n",
    "                \n",
    "            paths_[t] = (paths[t-1] + self.kappa * (self.theta - np.maximum(0, paths_[t-1, :])) * dt + np.sqrt(np.maximum(0, paths_[t-1, :])) * self.volatility * np.sqrt(dt) * ran) \n",
    "            paths[t] = np.maximum(0, paths_[t])                         \n",
    "        self.instrument_values = paths"
   ]
  },
  {
   "cell_type": "code",
   "execution_count": null,
   "id": "80bd3519-b835-440e-99ea-bfcc1d19c0dd",
   "metadata": {},
   "outputs": [],
   "source": []
  }
 ],
 "metadata": {
  "kernelspec": {
   "display_name": "Python 3",
   "language": "python",
   "name": "python3"
  },
  "language_info": {
   "codemirror_mode": {
    "name": "ipython",
    "version": 3
   },
   "file_extension": ".py",
   "mimetype": "text/x-python",
   "name": "python",
   "nbconvert_exporter": "python",
   "pygments_lexer": "ipython3",
   "version": "3.6.8"
  }
 },
 "nbformat": 4,
 "nbformat_minor": 5
}
