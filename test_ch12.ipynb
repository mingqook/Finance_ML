{
 "cells": [
  {
   "cell_type": "markdown",
   "id": "banner-highlight",
   "metadata": {},
   "source": [
    "## backtrader 패키지 사용"
   ]
  },
  {
   "cell_type": "markdown",
   "id": "conventional-fabric",
   "metadata": {},
   "source": [
    "## 전통적인 60대 40 포트폴리오 백테스트"
   ]
  },
  {
   "cell_type": "code",
   "execution_count": 1,
   "id": "pressed-color",
   "metadata": {},
   "outputs": [],
   "source": [
    "import pandas as pd\n",
    "import numpy as np"
   ]
  },
  {
   "cell_type": "code",
   "execution_count": 5,
   "id": "subject-survivor",
   "metadata": {},
   "outputs": [],
   "source": [
    "etf_return = pd.read_csv(\"etf_return.csv\")"
   ]
  },
  {
   "cell_type": "code",
   "execution_count": 6,
   "id": "moral-ladder",
   "metadata": {},
   "outputs": [],
   "source": [
    "etf_return = etf_return.iloc[:,1:]"
   ]
  },
  {
   "cell_type": "code",
   "execution_count": 7,
   "id": "relevant-filter",
   "metadata": {},
   "outputs": [],
   "source": [
    "# 주식과 채권 데이터만 추출\n",
    "rets = etf_return[['SPY','TLT']]\n"
   ]
  },
  {
   "cell_type": "code",
   "execution_count": 10,
   "id": "military-deposit",
   "metadata": {},
   "outputs": [
    {
     "data": {
      "text/html": [
       "<div>\n",
       "<style scoped>\n",
       "    .dataframe tbody tr th:only-of-type {\n",
       "        vertical-align: middle;\n",
       "    }\n",
       "\n",
       "    .dataframe tbody tr th {\n",
       "        vertical-align: top;\n",
       "    }\n",
       "\n",
       "    .dataframe thead th {\n",
       "        text-align: right;\n",
       "    }\n",
       "</style>\n",
       "<table border=\"1\" class=\"dataframe\">\n",
       "  <thead>\n",
       "    <tr style=\"text-align: right;\">\n",
       "      <th></th>\n",
       "      <th>SPY</th>\n",
       "      <th>TLT</th>\n",
       "    </tr>\n",
       "  </thead>\n",
       "  <tbody>\n",
       "    <tr>\n",
       "      <th>SPY</th>\n",
       "      <td>1.000000</td>\n",
       "      <td>-0.462804</td>\n",
       "    </tr>\n",
       "    <tr>\n",
       "      <th>TLT</th>\n",
       "      <td>-0.462804</td>\n",
       "      <td>1.000000</td>\n",
       "    </tr>\n",
       "  </tbody>\n",
       "</table>\n",
       "</div>"
      ],
      "text/plain": [
       "          SPY       TLT\n",
       "SPY  1.000000 -0.462804\n",
       "TLT -0.462804  1.000000"
      ]
     },
     "execution_count": 10,
     "metadata": {},
     "output_type": "execute_result"
    }
   ],
   "source": [
    "# corr 계산\n",
    "rets.corr()"
   ]
  },
  {
   "cell_type": "code",
   "execution_count": 12,
   "id": "stone-spray",
   "metadata": {},
   "outputs": [],
   "source": [
    "import backtrader as bt\n",
    "import matplotlib.pyplot as plt\n",
    "from datetime import datetime"
   ]
  },
  {
   "cell_type": "code",
   "execution_count": null,
   "id": "related-disclosure",
   "metadata": {},
   "outputs": [],
   "source": []
  }
 ],
 "metadata": {
  "kernelspec": {
   "display_name": "Python 3",
   "language": "python",
   "name": "python3"
  },
  "language_info": {
   "codemirror_mode": {
    "name": "ipython",
    "version": 3
   },
   "file_extension": ".py",
   "mimetype": "text/x-python",
   "name": "python",
   "nbconvert_exporter": "python",
   "pygments_lexer": "ipython3",
   "version": "3.6.8"
  }
 },
 "nbformat": 4,
 "nbformat_minor": 5
}
