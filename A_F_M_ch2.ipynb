{
 "cells": [
  {
   "cell_type": "code",
   "execution_count": 1,
   "id": "increased-dancing",
   "metadata": {},
   "outputs": [],
   "source": [
    "import pandas as pd\n",
    "import matplotlib.pyplot as plt\n",
    "import seaborn as sns\n",
    "import pandas_datareader as pdr\n",
    "import datetime\n",
    "import numpy as np"
   ]
  },
  {
   "cell_type": "code",
   "execution_count": 2,
   "id": "laden-softball",
   "metadata": {},
   "outputs": [],
   "source": [
    "start = datetime.datetime(2010, 1, 1)\n",
    "end = datetime.datetime(2020,12,31)"
   ]
  },
  {
   "cell_type": "code",
   "execution_count": 3,
   "id": "approximate-algebra",
   "metadata": {},
   "outputs": [
    {
     "data": {
      "text/html": [
       "<div>\n",
       "<style scoped>\n",
       "    .dataframe tbody tr th:only-of-type {\n",
       "        vertical-align: middle;\n",
       "    }\n",
       "\n",
       "    .dataframe tbody tr th {\n",
       "        vertical-align: top;\n",
       "    }\n",
       "\n",
       "    .dataframe thead th {\n",
       "        text-align: right;\n",
       "    }\n",
       "</style>\n",
       "<table border=\"1\" class=\"dataframe\">\n",
       "  <thead>\n",
       "    <tr style=\"text-align: right;\">\n",
       "      <th></th>\n",
       "      <th>Volume</th>\n",
       "      <th>Close</th>\n",
       "    </tr>\n",
       "    <tr>\n",
       "      <th>Date</th>\n",
       "      <th></th>\n",
       "      <th></th>\n",
       "    </tr>\n",
       "  </thead>\n",
       "  <tbody>\n",
       "    <tr>\n",
       "      <th>2010-01-04</th>\n",
       "      <td>11950800.0</td>\n",
       "      <td>16180.0</td>\n",
       "    </tr>\n",
       "    <tr>\n",
       "      <th>2010-01-05</th>\n",
       "      <td>27925850.0</td>\n",
       "      <td>16440.0</td>\n",
       "    </tr>\n",
       "    <tr>\n",
       "      <th>2010-01-06</th>\n",
       "      <td>22948850.0</td>\n",
       "      <td>16820.0</td>\n",
       "    </tr>\n",
       "    <tr>\n",
       "      <th>2010-01-07</th>\n",
       "      <td>22107950.0</td>\n",
       "      <td>16260.0</td>\n",
       "    </tr>\n",
       "    <tr>\n",
       "      <th>2010-01-08</th>\n",
       "      <td>14777550.0</td>\n",
       "      <td>16420.0</td>\n",
       "    </tr>\n",
       "    <tr>\n",
       "      <th>...</th>\n",
       "      <td>...</td>\n",
       "      <td>...</td>\n",
       "    </tr>\n",
       "    <tr>\n",
       "      <th>2020-12-23</th>\n",
       "      <td>19411326.0</td>\n",
       "      <td>73900.0</td>\n",
       "    </tr>\n",
       "    <tr>\n",
       "      <th>2020-12-24</th>\n",
       "      <td>32502870.0</td>\n",
       "      <td>77800.0</td>\n",
       "    </tr>\n",
       "    <tr>\n",
       "      <th>2020-12-28</th>\n",
       "      <td>40085044.0</td>\n",
       "      <td>78700.0</td>\n",
       "    </tr>\n",
       "    <tr>\n",
       "      <th>2020-12-29</th>\n",
       "      <td>30339449.0</td>\n",
       "      <td>78300.0</td>\n",
       "    </tr>\n",
       "    <tr>\n",
       "      <th>2020-12-30</th>\n",
       "      <td>29417421.0</td>\n",
       "      <td>81000.0</td>\n",
       "    </tr>\n",
       "  </tbody>\n",
       "</table>\n",
       "<p>2708 rows × 2 columns</p>\n",
       "</div>"
      ],
      "text/plain": [
       "                Volume    Close\n",
       "Date                           \n",
       "2010-01-04  11950800.0  16180.0\n",
       "2010-01-05  27925850.0  16440.0\n",
       "2010-01-06  22948850.0  16820.0\n",
       "2010-01-07  22107950.0  16260.0\n",
       "2010-01-08  14777550.0  16420.0\n",
       "...                ...      ...\n",
       "2020-12-23  19411326.0  73900.0\n",
       "2020-12-24  32502870.0  77800.0\n",
       "2020-12-28  40085044.0  78700.0\n",
       "2020-12-29  30339449.0  78300.0\n",
       "2020-12-30  29417421.0  81000.0\n",
       "\n",
       "[2708 rows x 2 columns]"
      ]
     },
     "execution_count": 3,
     "metadata": {},
     "output_type": "execute_result"
    }
   ],
   "source": [
    "# 삼성전자 10년치 일 데이터 - 하나의 일 데이터를 하나의 tick data로 생각\n",
    "# close price를 p_t 라고 생각\n",
    "df = pdr.get_data_yahoo('005930.KS', start, end)\n",
    "tick = df[['Volume', 'Close']]\n",
    "tick"
   ]
  },
  {
   "cell_type": "code",
   "execution_count": 4,
   "id": "smooth-ethnic",
   "metadata": {},
   "outputs": [],
   "source": [
    "# b_t(tick rule)\n",
    "def tick_rule(df):\n",
    "    diff = df['Close'] - df['Close'].shift(1)\n",
    "    b_t = np.abs(diff) / diff\n",
    "    return b_t"
   ]
  },
  {
   "cell_type": "markdown",
   "id": "boring-muslim",
   "metadata": {},
   "source": [
    "## Tick_imbalance_Bar"
   ]
  },
  {
   "cell_type": "code",
   "execution_count": 169,
   "id": "tired-hindu",
   "metadata": {},
   "outputs": [],
   "source": [
    "# 첫 번째 tib(tick imbalance bar) 정하기위해서는 최초의 값들을 정해줘야 함(이전 bar size, 이전 tick rule 값)\n",
    "def tick_imbalance_bar(df, initial_expected_bar_size = 10, initial_expected_tick_rule = 1):\n",
    "    \n",
    "    i = 0\n",
    "    bar_dict = dict()\n",
    "    \n",
    "    while True:\n",
    "\n",
    "        if i == 0:\n",
    "            temp = df\n",
    "            temp['T'] = np.arange(len(temp)) + 1\n",
    "            temp['tick_rule'] = tick_rule(tick).fillna(method = 'ffill')\n",
    "            temp['tick_rule'][0] = 1\n",
    "            temp['tick_imbalance'] = temp['tick_rule'].cumsum()\n",
    "#             temp['expected_tick_imbalance'] = initial_expected_bar_size * initial_expected_tick_rule\n",
    "            expected_tick_imbalance = initial_expected_bar_size * abs(initial_expected_tick_rule)\n",
    "            result = temp[abs(temp['tick_imbalance']) - expected_tick_imbalance >=0]\n",
    "            T_star = result.index[0]\n",
    "            bar_sample = temp.loc[:T_star, :]\n",
    "\n",
    "            bar_dict[i] = bar_sample\n",
    "            i += 1\n",
    "            df = df.loc[T_star + datetime.timedelta(days = 1):, :]\n",
    "\n",
    "        else:\n",
    "            temp = df\n",
    "            temp['T'] = np.arange(len(temp)) + 1\n",
    "            temp['tick_rule'] = tick_rule(tick).fillna(method = 'ffill')\n",
    "            temp['tick_rule'][0] = bar_dict[i-1]['T'][-1]\n",
    "            temp['tick_imbalance'] = temp['tick_rule'].cumsum()\n",
    "            estimated_E_T = bar_dict[i-1].ewm(com = 0.5).mean()['T'][-1]\n",
    "            estimated_b_t = bar_dict[i-1].ewm(com = 0.5).mean()['tick_rule'][-1]\n",
    "            temp['expected_tick_imbalance'] = estimated_E_T * abs(estimated_b_t)\n",
    "            result = temp[abs(temp['tick_imbalance']) - temp['expected_tick_imbalance'] >=0]\n",
    "            if len(result) != 0:\n",
    "                T_star = result.index[0]\n",
    "                bar_sample = temp.loc[:T_star, :]\n",
    "\n",
    "                bar_dict[i] = bar_sample\n",
    "                i += 1\n",
    "                df = df.loc[T_star + datetime.timedelta(days = 1):, :]\n",
    "            else: \n",
    "                bar_dict[i] = temp\n",
    "                break\n",
    "\n",
    "    return bar_dict"
   ]
  },
  {
   "cell_type": "markdown",
   "id": "geological-junior",
   "metadata": {},
   "source": [
    "## volume_imbalance_Bar"
   ]
  },
  {
   "cell_type": "code",
   "execution_count": 175,
   "id": "becoming-reservation",
   "metadata": {},
   "outputs": [],
   "source": [
    "# 첫 번째 tib(tick imbalance bar) 정하기위해서는 최초의 값들을 정해줘야 함(이전 bar size, 이전 tick rule 값)\n",
    "def volume_imbalance_bar(df, initial_expected_bar_size = 10, initial_expected_volume_rule = 1):\n",
    "    \n",
    "    i = 0\n",
    "    bar_dict = dict()\n",
    "    \n",
    "    while True:\n",
    "\n",
    "        if i == 0:\n",
    "            temp = df\n",
    "            temp['T'] = np.arange(len(temp)) + 1\n",
    "            temp['tick_rule'] = tick_rule(tick).fillna(method = 'ffill')\n",
    "            temp['tick_rule'][0] = 1\n",
    "            temp['volume_tick_rule'] = temp['tick_rule'] * temp['Volume']\n",
    "            temp['volume_imbalance'] = temp['volume_tick_rule'].cumsum()\n",
    "#             temp['expected_tick_imbalance'] = initial_expected_bar_size * initial_expected_tick_rule\n",
    "            expected_volume_imbalance = initial_expected_bar_size * abs(initial_expected_volume_rule)\n",
    "            result = temp[abs(temp['volume_imbalance']) - expected_volume_imbalance >=0]\n",
    "            T_star = result.index[0]\n",
    "            bar_sample = temp.loc[:T_star, :]\n",
    "\n",
    "            bar_dict[i] = bar_sample\n",
    "            i += 1\n",
    "            df = df.loc[T_star + datetime.timedelta(days = 1):, :]\n",
    "\n",
    "        else:\n",
    "            temp = df\n",
    "            temp['T'] = np.arange(len(temp)) + 1\n",
    "            temp['tick_rule'] = tick_rule(tick).fillna(method = 'ffill')\n",
    "            temp['tick_rule'][0] = bar_dict[i-1]['T'][-1]\n",
    "            temp['volume_tick_rule'] = temp['tick_rule'] * temp['Volume']\n",
    "            temp['volume_imbalance'] = temp['volume_tick_rule'].cumsum()\n",
    "            estimated_E_T = bar_dict[i-1].ewm(com = 0.5).mean()['T'][-1]\n",
    "            estimated_b_t = bar_dict[i-1].ewm(com = 0.5).mean()['volume_tick_rule'][-1]\n",
    "            temp['expected_volume_imbalance'] = estimated_E_T * abs(estimated_b_t)\n",
    "            result = temp[abs(temp['volume_imbalance']) - temp['expected_volume_imbalance'] >=0]\n",
    "            if len(result) != 0:\n",
    "                T_star = result.index[0]\n",
    "                bar_sample = temp.loc[:T_star, :]\n",
    "\n",
    "                bar_dict[i] = bar_sample\n",
    "                i += 1\n",
    "                df = df.loc[T_star + datetime.timedelta(days = 1):, :]\n",
    "            else: \n",
    "                bar_dict[i] = temp\n",
    "                break\n",
    "\n",
    "    return bar_dict"
   ]
  },
  {
   "cell_type": "markdown",
   "id": "apparent-flight",
   "metadata": {},
   "source": [
    "## dollar_imbalance_Bar"
   ]
  },
  {
   "cell_type": "code",
   "execution_count": 182,
   "id": "korean-november",
   "metadata": {},
   "outputs": [],
   "source": [
    "# 첫 번째 tib(tick imbalance bar) 정하기위해서는 최초의 값들을 정해줘야 함(이전 bar size, 이전 tick rule 값)\n",
    "def dolloar_imbalance_bar(df, initial_expected_bar_size = 10, initial_expected_dollar_rule = 1):\n",
    "    \n",
    "    i = 0\n",
    "    bar_dict = dict()\n",
    "    \n",
    "    while True:\n",
    "\n",
    "        if i == 0:\n",
    "            temp = df\n",
    "            temp['T'] = np.arange(len(temp)) + 1\n",
    "            temp['tick_rule'] = tick_rule(tick).fillna(method = 'ffill')\n",
    "            temp['tick_rule'][0] = 1\n",
    "            temp['dollar_tick_rule'] = temp['tick_rule'] * temp['Volume'] * temp['Close']\n",
    "            temp['dollar_imbalance'] = temp['dollar_tick_rule'].cumsum()\n",
    "#             temp['expected_tick_imbalance'] = initial_expected_bar_size * initial_expected_tick_rule\n",
    "            expected_dollar_imbalance = initial_expected_bar_size * abs(initial_expected_dollar_rule)\n",
    "            result = temp[abs(temp['dollar_imbalance']) - expected_dollar_imbalance >=0]\n",
    "            T_star = result.index[0]\n",
    "            bar_sample = temp.loc[:T_star, :]\n",
    "\n",
    "            bar_dict[i] = bar_sample\n",
    "            i += 1\n",
    "            df = df.loc[T_star + datetime.timedelta(days = 1):, :]\n",
    "\n",
    "        else:\n",
    "            temp = df\n",
    "            temp['T'] = np.arange(len(temp)) + 1\n",
    "            temp['tick_rule'] = tick_rule(tick).fillna(method = 'ffill')\n",
    "            temp['tick_rule'][0] = bar_dict[i-1]['T'][-1]\n",
    "            temp['dollar_tick_rule'] = temp['tick_rule'] * temp['Volume'] * temp['Close']\n",
    "            temp['dollar_imbalance'] = temp['dollar_tick_rule'].cumsum()\n",
    "            estimated_E_T = bar_dict[i-1].ewm(com = 0.5).mean()['T'][-1]\n",
    "            estimated_b_t = bar_dict[i-1].ewm(com = 0.5).mean()['dollar_tick_rule'][-1]\n",
    "            temp['expected_dollar_imbalance'] = estimated_E_T * abs(estimated_b_t)\n",
    "            result = temp[abs(temp['dollar_imbalance']) - temp['expected_dollar_imbalance'] >=0]\n",
    "            if len(result) != 0:\n",
    "                T_star = result.index[0]\n",
    "                bar_sample = temp.loc[:T_star, :]\n",
    "\n",
    "                bar_dict[i] = bar_sample\n",
    "                i += 1\n",
    "                df = df.loc[T_star + datetime.timedelta(days = 1):, :]\n",
    "            else: \n",
    "                bar_dict[i] = temp\n",
    "                break\n",
    "\n",
    "    return bar_dict"
   ]
  },
  {
   "cell_type": "code",
   "execution_count": 183,
   "id": "adolescent-drawing",
   "metadata": {},
   "outputs": [
    {
     "name": "stderr",
     "output_type": "stream",
     "text": [
      "c:\\users\\minguk\\desktop\\coding\\finance_ml\\venv\\lib\\site-packages\\ipykernel_launcher.py:13: SettingWithCopyWarning: \n",
      "A value is trying to be set on a copy of a slice from a DataFrame\n",
      "\n",
      "See the caveats in the documentation: https://pandas.pydata.org/pandas-docs/stable/user_guide/indexing.html#returning-a-view-versus-a-copy\n",
      "  del sys.path[0]\n",
      "c:\\users\\minguk\\desktop\\coding\\finance_ml\\venv\\lib\\site-packages\\ipykernel_launcher.py:28: SettingWithCopyWarning: \n",
      "A value is trying to be set on a copy of a slice from a DataFrame.\n",
      "Try using .loc[row_indexer,col_indexer] = value instead\n",
      "\n",
      "See the caveats in the documentation: https://pandas.pydata.org/pandas-docs/stable/user_guide/indexing.html#returning-a-view-versus-a-copy\n",
      "c:\\users\\minguk\\desktop\\coding\\finance_ml\\venv\\lib\\site-packages\\ipykernel_launcher.py:29: SettingWithCopyWarning: \n",
      "A value is trying to be set on a copy of a slice from a DataFrame.\n",
      "Try using .loc[row_indexer,col_indexer] = value instead\n",
      "\n",
      "See the caveats in the documentation: https://pandas.pydata.org/pandas-docs/stable/user_guide/indexing.html#returning-a-view-versus-a-copy\n",
      "c:\\users\\minguk\\desktop\\coding\\finance_ml\\venv\\lib\\site-packages\\ipykernel_launcher.py:30: SettingWithCopyWarning: \n",
      "A value is trying to be set on a copy of a slice from a DataFrame\n",
      "\n",
      "See the caveats in the documentation: https://pandas.pydata.org/pandas-docs/stable/user_guide/indexing.html#returning-a-view-versus-a-copy\n",
      "c:\\users\\minguk\\desktop\\coding\\finance_ml\\venv\\lib\\site-packages\\ipykernel_launcher.py:1: SettingWithCopyWarning: \n",
      "A value is trying to be set on a copy of a slice from a DataFrame\n",
      "\n",
      "See the caveats in the documentation: https://pandas.pydata.org/pandas-docs/stable/user_guide/indexing.html#returning-a-view-versus-a-copy\n",
      "  \"\"\"Entry point for launching an IPython kernel.\n",
      "c:\\users\\minguk\\desktop\\coding\\finance_ml\\venv\\lib\\site-packages\\ipykernel_launcher.py:31: SettingWithCopyWarning: \n",
      "A value is trying to be set on a copy of a slice from a DataFrame.\n",
      "Try using .loc[row_indexer,col_indexer] = value instead\n",
      "\n",
      "See the caveats in the documentation: https://pandas.pydata.org/pandas-docs/stable/user_guide/indexing.html#returning-a-view-versus-a-copy\n",
      "c:\\users\\minguk\\desktop\\coding\\finance_ml\\venv\\lib\\site-packages\\ipykernel_launcher.py:32: SettingWithCopyWarning: \n",
      "A value is trying to be set on a copy of a slice from a DataFrame.\n",
      "Try using .loc[row_indexer,col_indexer] = value instead\n",
      "\n",
      "See the caveats in the documentation: https://pandas.pydata.org/pandas-docs/stable/user_guide/indexing.html#returning-a-view-versus-a-copy\n",
      "c:\\users\\minguk\\desktop\\coding\\finance_ml\\venv\\lib\\site-packages\\ipykernel_launcher.py:35: SettingWithCopyWarning: \n",
      "A value is trying to be set on a copy of a slice from a DataFrame.\n",
      "Try using .loc[row_indexer,col_indexer] = value instead\n",
      "\n",
      "See the caveats in the documentation: https://pandas.pydata.org/pandas-docs/stable/user_guide/indexing.html#returning-a-view-versus-a-copy\n",
      "c:\\users\\minguk\\desktop\\coding\\finance_ml\\venv\\lib\\site-packages\\ipykernel_launcher.py:30: SettingWithCopyWarning: \n",
      "A value is trying to be set on a copy of a slice from a DataFrame\n",
      "\n",
      "See the caveats in the documentation: https://pandas.pydata.org/pandas-docs/stable/user_guide/indexing.html#returning-a-view-versus-a-copy\n",
      "c:\\users\\minguk\\desktop\\coding\\finance_ml\\venv\\lib\\site-packages\\ipykernel_launcher.py:30: SettingWithCopyWarning: \n",
      "A value is trying to be set on a copy of a slice from a DataFrame\n",
      "\n",
      "See the caveats in the documentation: https://pandas.pydata.org/pandas-docs/stable/user_guide/indexing.html#returning-a-view-versus-a-copy\n",
      "c:\\users\\minguk\\desktop\\coding\\finance_ml\\venv\\lib\\site-packages\\ipykernel_launcher.py:30: SettingWithCopyWarning: \n",
      "A value is trying to be set on a copy of a slice from a DataFrame\n",
      "\n",
      "See the caveats in the documentation: https://pandas.pydata.org/pandas-docs/stable/user_guide/indexing.html#returning-a-view-versus-a-copy\n",
      "c:\\users\\minguk\\desktop\\coding\\finance_ml\\venv\\lib\\site-packages\\ipykernel_launcher.py:30: SettingWithCopyWarning: \n",
      "A value is trying to be set on a copy of a slice from a DataFrame\n",
      "\n",
      "See the caveats in the documentation: https://pandas.pydata.org/pandas-docs/stable/user_guide/indexing.html#returning-a-view-versus-a-copy\n",
      "c:\\users\\minguk\\desktop\\coding\\finance_ml\\venv\\lib\\site-packages\\ipykernel_launcher.py:30: SettingWithCopyWarning: \n",
      "A value is trying to be set on a copy of a slice from a DataFrame\n",
      "\n",
      "See the caveats in the documentation: https://pandas.pydata.org/pandas-docs/stable/user_guide/indexing.html#returning-a-view-versus-a-copy\n",
      "c:\\users\\minguk\\desktop\\coding\\finance_ml\\venv\\lib\\site-packages\\ipykernel_launcher.py:30: SettingWithCopyWarning: \n",
      "A value is trying to be set on a copy of a slice from a DataFrame\n",
      "\n",
      "See the caveats in the documentation: https://pandas.pydata.org/pandas-docs/stable/user_guide/indexing.html#returning-a-view-versus-a-copy\n"
     ]
    }
   ],
   "source": [
    "result_bar3 = dolloar_imbalance_bar(tick)"
   ]
  },
  {
   "cell_type": "code",
   "execution_count": 184,
   "id": "boxed-strand",
   "metadata": {},
   "outputs": [
    {
     "data": {
      "text/plain": [
       "8"
      ]
     },
     "execution_count": 184,
     "metadata": {},
     "output_type": "execute_result"
    }
   ],
   "source": [
    "len(result_bar3)"
   ]
  },
  {
   "cell_type": "code",
   "execution_count": 176,
   "id": "developing-tongue",
   "metadata": {},
   "outputs": [
    {
     "name": "stderr",
     "output_type": "stream",
     "text": [
      "c:\\users\\minguk\\desktop\\coding\\finance_ml\\venv\\lib\\site-packages\\ipykernel_launcher.py:11: SettingWithCopyWarning: \n",
      "A value is trying to be set on a copy of a slice from a DataFrame.\n",
      "Try using .loc[row_indexer,col_indexer] = value instead\n",
      "\n",
      "See the caveats in the documentation: https://pandas.pydata.org/pandas-docs/stable/user_guide/indexing.html#returning-a-view-versus-a-copy\n",
      "  # This is added back by InteractiveShellApp.init_path()\n",
      "c:\\users\\minguk\\desktop\\coding\\finance_ml\\venv\\lib\\site-packages\\ipykernel_launcher.py:12: SettingWithCopyWarning: \n",
      "A value is trying to be set on a copy of a slice from a DataFrame.\n",
      "Try using .loc[row_indexer,col_indexer] = value instead\n",
      "\n",
      "See the caveats in the documentation: https://pandas.pydata.org/pandas-docs/stable/user_guide/indexing.html#returning-a-view-versus-a-copy\n",
      "  if sys.path[0] == '':\n",
      "c:\\users\\minguk\\desktop\\coding\\finance_ml\\venv\\lib\\site-packages\\ipykernel_launcher.py:13: SettingWithCopyWarning: \n",
      "A value is trying to be set on a copy of a slice from a DataFrame\n",
      "\n",
      "See the caveats in the documentation: https://pandas.pydata.org/pandas-docs/stable/user_guide/indexing.html#returning-a-view-versus-a-copy\n",
      "  del sys.path[0]\n",
      "c:\\users\\minguk\\desktop\\coding\\finance_ml\\venv\\lib\\site-packages\\ipykernel_launcher.py:1: SettingWithCopyWarning: \n",
      "A value is trying to be set on a copy of a slice from a DataFrame\n",
      "\n",
      "See the caveats in the documentation: https://pandas.pydata.org/pandas-docs/stable/user_guide/indexing.html#returning-a-view-versus-a-copy\n",
      "  \"\"\"Entry point for launching an IPython kernel.\n",
      "c:\\users\\minguk\\desktop\\coding\\finance_ml\\venv\\lib\\site-packages\\ipykernel_launcher.py:28: SettingWithCopyWarning: \n",
      "A value is trying to be set on a copy of a slice from a DataFrame.\n",
      "Try using .loc[row_indexer,col_indexer] = value instead\n",
      "\n",
      "See the caveats in the documentation: https://pandas.pydata.org/pandas-docs/stable/user_guide/indexing.html#returning-a-view-versus-a-copy\n",
      "c:\\users\\minguk\\desktop\\coding\\finance_ml\\venv\\lib\\site-packages\\ipykernel_launcher.py:29: SettingWithCopyWarning: \n",
      "A value is trying to be set on a copy of a slice from a DataFrame.\n",
      "Try using .loc[row_indexer,col_indexer] = value instead\n",
      "\n",
      "See the caveats in the documentation: https://pandas.pydata.org/pandas-docs/stable/user_guide/indexing.html#returning-a-view-versus-a-copy\n",
      "c:\\users\\minguk\\desktop\\coding\\finance_ml\\venv\\lib\\site-packages\\ipykernel_launcher.py:30: SettingWithCopyWarning: \n",
      "A value is trying to be set on a copy of a slice from a DataFrame\n",
      "\n",
      "See the caveats in the documentation: https://pandas.pydata.org/pandas-docs/stable/user_guide/indexing.html#returning-a-view-versus-a-copy\n",
      "c:\\users\\minguk\\desktop\\coding\\finance_ml\\venv\\lib\\site-packages\\ipykernel_launcher.py:1: SettingWithCopyWarning: \n",
      "A value is trying to be set on a copy of a slice from a DataFrame\n",
      "\n",
      "See the caveats in the documentation: https://pandas.pydata.org/pandas-docs/stable/user_guide/indexing.html#returning-a-view-versus-a-copy\n",
      "  \"\"\"Entry point for launching an IPython kernel.\n",
      "c:\\users\\minguk\\desktop\\coding\\finance_ml\\venv\\lib\\site-packages\\ipykernel_launcher.py:31: SettingWithCopyWarning: \n",
      "A value is trying to be set on a copy of a slice from a DataFrame.\n",
      "Try using .loc[row_indexer,col_indexer] = value instead\n",
      "\n",
      "See the caveats in the documentation: https://pandas.pydata.org/pandas-docs/stable/user_guide/indexing.html#returning-a-view-versus-a-copy\n",
      "c:\\users\\minguk\\desktop\\coding\\finance_ml\\venv\\lib\\site-packages\\ipykernel_launcher.py:32: SettingWithCopyWarning: \n",
      "A value is trying to be set on a copy of a slice from a DataFrame.\n",
      "Try using .loc[row_indexer,col_indexer] = value instead\n",
      "\n",
      "See the caveats in the documentation: https://pandas.pydata.org/pandas-docs/stable/user_guide/indexing.html#returning-a-view-versus-a-copy\n",
      "c:\\users\\minguk\\desktop\\coding\\finance_ml\\venv\\lib\\site-packages\\ipykernel_launcher.py:35: SettingWithCopyWarning: \n",
      "A value is trying to be set on a copy of a slice from a DataFrame.\n",
      "Try using .loc[row_indexer,col_indexer] = value instead\n",
      "\n",
      "See the caveats in the documentation: https://pandas.pydata.org/pandas-docs/stable/user_guide/indexing.html#returning-a-view-versus-a-copy\n",
      "c:\\users\\minguk\\desktop\\coding\\finance_ml\\venv\\lib\\site-packages\\ipykernel_launcher.py:30: SettingWithCopyWarning: \n",
      "A value is trying to be set on a copy of a slice from a DataFrame\n",
      "\n",
      "See the caveats in the documentation: https://pandas.pydata.org/pandas-docs/stable/user_guide/indexing.html#returning-a-view-versus-a-copy\n",
      "c:\\users\\minguk\\desktop\\coding\\finance_ml\\venv\\lib\\site-packages\\ipykernel_launcher.py:30: SettingWithCopyWarning: \n",
      "A value is trying to be set on a copy of a slice from a DataFrame\n",
      "\n",
      "See the caveats in the documentation: https://pandas.pydata.org/pandas-docs/stable/user_guide/indexing.html#returning-a-view-versus-a-copy\n",
      "c:\\users\\minguk\\desktop\\coding\\finance_ml\\venv\\lib\\site-packages\\ipykernel_launcher.py:30: SettingWithCopyWarning: \n",
      "A value is trying to be set on a copy of a slice from a DataFrame\n",
      "\n",
      "See the caveats in the documentation: https://pandas.pydata.org/pandas-docs/stable/user_guide/indexing.html#returning-a-view-versus-a-copy\n",
      "c:\\users\\minguk\\desktop\\coding\\finance_ml\\venv\\lib\\site-packages\\ipykernel_launcher.py:30: SettingWithCopyWarning: \n",
      "A value is trying to be set on a copy of a slice from a DataFrame\n",
      "\n",
      "See the caveats in the documentation: https://pandas.pydata.org/pandas-docs/stable/user_guide/indexing.html#returning-a-view-versus-a-copy\n",
      "c:\\users\\minguk\\desktop\\coding\\finance_ml\\venv\\lib\\site-packages\\ipykernel_launcher.py:30: SettingWithCopyWarning: \n",
      "A value is trying to be set on a copy of a slice from a DataFrame\n",
      "\n",
      "See the caveats in the documentation: https://pandas.pydata.org/pandas-docs/stable/user_guide/indexing.html#returning-a-view-versus-a-copy\n",
      "c:\\users\\minguk\\desktop\\coding\\finance_ml\\venv\\lib\\site-packages\\ipykernel_launcher.py:30: SettingWithCopyWarning: \n",
      "A value is trying to be set on a copy of a slice from a DataFrame\n",
      "\n",
      "See the caveats in the documentation: https://pandas.pydata.org/pandas-docs/stable/user_guide/indexing.html#returning-a-view-versus-a-copy\n",
      "c:\\users\\minguk\\desktop\\coding\\finance_ml\\venv\\lib\\site-packages\\ipykernel_launcher.py:30: SettingWithCopyWarning: \n",
      "A value is trying to be set on a copy of a slice from a DataFrame\n",
      "\n",
      "See the caveats in the documentation: https://pandas.pydata.org/pandas-docs/stable/user_guide/indexing.html#returning-a-view-versus-a-copy\n"
     ]
    }
   ],
   "source": [
    "result_bar2 = volume_imbalance_bar(tick)"
   ]
  },
  {
   "cell_type": "code",
   "execution_count": 179,
   "id": "revised-gazette",
   "metadata": {},
   "outputs": [
    {
     "data": {
      "text/plain": [
       "3"
      ]
     },
     "execution_count": 179,
     "metadata": {},
     "output_type": "execute_result"
    }
   ],
   "source": [
    "len(result_bar)"
   ]
  },
  {
   "cell_type": "code",
   "execution_count": 171,
   "id": "objective-repeat",
   "metadata": {},
   "outputs": [
    {
     "name": "stderr",
     "output_type": "stream",
     "text": [
      "c:\\users\\minguk\\desktop\\coding\\finance_ml\\venv\\lib\\site-packages\\ipykernel_launcher.py:11: SettingWithCopyWarning: \n",
      "A value is trying to be set on a copy of a slice from a DataFrame.\n",
      "Try using .loc[row_indexer,col_indexer] = value instead\n",
      "\n",
      "See the caveats in the documentation: https://pandas.pydata.org/pandas-docs/stable/user_guide/indexing.html#returning-a-view-versus-a-copy\n",
      "  # This is added back by InteractiveShellApp.init_path()\n",
      "c:\\users\\minguk\\desktop\\coding\\finance_ml\\venv\\lib\\site-packages\\ipykernel_launcher.py:12: SettingWithCopyWarning: \n",
      "A value is trying to be set on a copy of a slice from a DataFrame.\n",
      "Try using .loc[row_indexer,col_indexer] = value instead\n",
      "\n",
      "See the caveats in the documentation: https://pandas.pydata.org/pandas-docs/stable/user_guide/indexing.html#returning-a-view-versus-a-copy\n",
      "  if sys.path[0] == '':\n",
      "c:\\users\\minguk\\desktop\\coding\\finance_ml\\venv\\lib\\site-packages\\ipykernel_launcher.py:13: SettingWithCopyWarning: \n",
      "A value is trying to be set on a copy of a slice from a DataFrame\n",
      "\n",
      "See the caveats in the documentation: https://pandas.pydata.org/pandas-docs/stable/user_guide/indexing.html#returning-a-view-versus-a-copy\n",
      "  del sys.path[0]\n",
      "c:\\users\\minguk\\desktop\\coding\\finance_ml\\venv\\lib\\site-packages\\ipykernel_launcher.py:1: SettingWithCopyWarning: \n",
      "A value is trying to be set on a copy of a slice from a DataFrame\n",
      "\n",
      "See the caveats in the documentation: https://pandas.pydata.org/pandas-docs/stable/user_guide/indexing.html#returning-a-view-versus-a-copy\n",
      "  \"\"\"Entry point for launching an IPython kernel.\n",
      "c:\\users\\minguk\\desktop\\coding\\finance_ml\\venv\\lib\\site-packages\\ipykernel_launcher.py:14: SettingWithCopyWarning: \n",
      "A value is trying to be set on a copy of a slice from a DataFrame.\n",
      "Try using .loc[row_indexer,col_indexer] = value instead\n",
      "\n",
      "See the caveats in the documentation: https://pandas.pydata.org/pandas-docs/stable/user_guide/indexing.html#returning-a-view-versus-a-copy\n",
      "  \n",
      "c:\\users\\minguk\\desktop\\coding\\finance_ml\\venv\\lib\\site-packages\\ipykernel_launcher.py:27: SettingWithCopyWarning: \n",
      "A value is trying to be set on a copy of a slice from a DataFrame.\n",
      "Try using .loc[row_indexer,col_indexer] = value instead\n",
      "\n",
      "See the caveats in the documentation: https://pandas.pydata.org/pandas-docs/stable/user_guide/indexing.html#returning-a-view-versus-a-copy\n",
      "c:\\users\\minguk\\desktop\\coding\\finance_ml\\venv\\lib\\site-packages\\ipykernel_launcher.py:28: SettingWithCopyWarning: \n",
      "A value is trying to be set on a copy of a slice from a DataFrame.\n",
      "Try using .loc[row_indexer,col_indexer] = value instead\n",
      "\n",
      "See the caveats in the documentation: https://pandas.pydata.org/pandas-docs/stable/user_guide/indexing.html#returning-a-view-versus-a-copy\n",
      "c:\\users\\minguk\\desktop\\coding\\finance_ml\\venv\\lib\\site-packages\\ipykernel_launcher.py:29: SettingWithCopyWarning: \n",
      "A value is trying to be set on a copy of a slice from a DataFrame\n",
      "\n",
      "See the caveats in the documentation: https://pandas.pydata.org/pandas-docs/stable/user_guide/indexing.html#returning-a-view-versus-a-copy\n",
      "c:\\users\\minguk\\desktop\\coding\\finance_ml\\venv\\lib\\site-packages\\ipykernel_launcher.py:1: SettingWithCopyWarning: \n",
      "A value is trying to be set on a copy of a slice from a DataFrame\n",
      "\n",
      "See the caveats in the documentation: https://pandas.pydata.org/pandas-docs/stable/user_guide/indexing.html#returning-a-view-versus-a-copy\n",
      "  \"\"\"Entry point for launching an IPython kernel.\n",
      "c:\\users\\minguk\\desktop\\coding\\finance_ml\\venv\\lib\\site-packages\\ipykernel_launcher.py:30: SettingWithCopyWarning: \n",
      "A value is trying to be set on a copy of a slice from a DataFrame.\n",
      "Try using .loc[row_indexer,col_indexer] = value instead\n",
      "\n",
      "See the caveats in the documentation: https://pandas.pydata.org/pandas-docs/stable/user_guide/indexing.html#returning-a-view-versus-a-copy\n",
      "c:\\users\\minguk\\desktop\\coding\\finance_ml\\venv\\lib\\site-packages\\ipykernel_launcher.py:33: SettingWithCopyWarning: \n",
      "A value is trying to be set on a copy of a slice from a DataFrame.\n",
      "Try using .loc[row_indexer,col_indexer] = value instead\n",
      "\n",
      "See the caveats in the documentation: https://pandas.pydata.org/pandas-docs/stable/user_guide/indexing.html#returning-a-view-versus-a-copy\n",
      "c:\\users\\minguk\\desktop\\coding\\finance_ml\\venv\\lib\\site-packages\\ipykernel_launcher.py:29: SettingWithCopyWarning: \n",
      "A value is trying to be set on a copy of a slice from a DataFrame\n",
      "\n",
      "See the caveats in the documentation: https://pandas.pydata.org/pandas-docs/stable/user_guide/indexing.html#returning-a-view-versus-a-copy\n"
     ]
    }
   ],
   "source": [
    "result_bar = tick_imbalance_bar(tick)"
   ]
  },
  {
   "cell_type": "markdown",
   "id": "better-yeast",
   "metadata": {},
   "source": [
    "#### tick data가 아니라서 결과값이 이상한건가...?"
   ]
  },
  {
   "cell_type": "code",
   "execution_count": 172,
   "id": "patent-arrival",
   "metadata": {},
   "outputs": [
    {
     "data": {
      "text/plain": [
       "{0:                 Volume    Close    T  tick_rule  tick_imbalance\n",
       " Date                                                           \n",
       " 2010-01-04  11950800.0  16180.0    1        1.0             1.0\n",
       " 2010-01-05  27925850.0  16440.0    2        1.0             2.0\n",
       " 2010-01-06  22948850.0  16820.0    3        1.0             3.0\n",
       " 2010-01-07  22107950.0  16260.0    4       -1.0             2.0\n",
       " 2010-01-08  14777550.0  16420.0    5        1.0             3.0\n",
       " ...                ...      ...  ...        ...             ...\n",
       " 2011-02-23  17193000.0  18600.0  286       -1.0            -6.0\n",
       " 2011-02-24  18110900.0  18580.0  287       -1.0            -7.0\n",
       " 2011-02-25  15181200.0  18520.0  288       -1.0            -8.0\n",
       " 2011-02-28  16274800.0  18460.0  289       -1.0            -9.0\n",
       " 2011-03-02  16134300.0  18360.0  290       -1.0           -10.0\n",
       " \n",
       " [290 rows x 5 columns],\n",
       " 1:                 Volume    Close  T  tick_rule  tick_imbalance  \\\n",
       " Date                                                            \n",
       " 2011-03-03  18074200.0  18460.0  1      290.0           290.0   \n",
       " \n",
       "             expected_tick_imbalance  \n",
       " Date                                 \n",
       " 2011-03-03               289.255951  ,\n",
       " 2:                 Volume    Close     T  tick_rule  tick_imbalance  \\\n",
       " Date                                                               \n",
       " 2011-03-04  18569150.0  18900.0     1        1.0             1.0   \n",
       " 2011-03-07  31883600.0  18120.0     2       -1.0             0.0   \n",
       " 2011-03-08  24905400.0  17980.0     3       -1.0            -1.0   \n",
       " 2011-03-09  26296300.0  17800.0     4       -1.0            -2.0   \n",
       " 2011-03-10  41630200.0  17320.0     5       -1.0            -3.0   \n",
       " ...                ...      ...   ...        ...             ...   \n",
       " 2020-12-23  19411326.0  73900.0  2413        1.0           133.0   \n",
       " 2020-12-24  32502870.0  77800.0  2414        1.0           134.0   \n",
       " 2020-12-28  40085044.0  78700.0  2415        1.0           135.0   \n",
       " 2020-12-29  30339449.0  78300.0  2416       -1.0           134.0   \n",
       " 2020-12-30  29417421.0  81000.0  2417        1.0           135.0   \n",
       " \n",
       "             expected_tick_imbalance  \n",
       " Date                                 \n",
       " 2011-03-04                    290.0  \n",
       " 2011-03-07                    290.0  \n",
       " 2011-03-08                    290.0  \n",
       " 2011-03-09                    290.0  \n",
       " 2011-03-10                    290.0  \n",
       " ...                             ...  \n",
       " 2020-12-23                    290.0  \n",
       " 2020-12-24                    290.0  \n",
       " 2020-12-28                    290.0  \n",
       " 2020-12-29                    290.0  \n",
       " 2020-12-30                    290.0  \n",
       " \n",
       " [2417 rows x 6 columns]}"
      ]
     },
     "execution_count": 172,
     "metadata": {},
     "output_type": "execute_result"
    }
   ],
   "source": [
    "result_bar"
   ]
  },
  {
   "cell_type": "markdown",
   "id": "intensive-diversity",
   "metadata": {},
   "source": [
    "----------------------------------------------\n",
    "----------------------------------------------\n",
    "## PCA WEIGHT"
   ]
  },
  {
   "cell_type": "code",
   "execution_count": 132,
   "id": "centered-spelling",
   "metadata": {},
   "outputs": [
    {
     "data": {
      "text/plain": [
       "array([[ 2.33360058,  1.30346419,  0.9279701 ,  1.13270384,  0.61277748],\n",
       "       [ 1.875077  ,  1.78293961,  0.44652488,  0.59788315, -0.41803078],\n",
       "       [ 2.84798468,  0.88464159,  1.2388578 ,  1.62589207,  0.3690929 ],\n",
       "       [ 1.24029052,  0.46458092,  0.15556368,  0.02439971, -0.71871668],\n",
       "       [ 0.97147216,  1.82503741,  0.47105828,  0.52636513, -1.62616976],\n",
       "       [ 2.56565922,  0.626323  ,  1.55148172, -0.37853266,  0.87747592],\n",
       "       [ 2.15411933,  1.08852034, -0.01088963, -0.0216187 , -0.43259115],\n",
       "       [ 1.21606862,  0.10811402,  0.92980864,  0.90699082,  0.14770369],\n",
       "       [ 1.49232625,  0.89374734,  1.09589781,  0.74267008,  0.29757879],\n",
       "       [ 0.58099691,  1.808902  , -1.29322928, -0.02880777, -1.75183923]])"
      ]
     },
     "execution_count": 132,
     "metadata": {},
     "output_type": "execute_result"
    }
   ],
   "source": [
    "mean = np.array([2,1,0.5,0.3,0])\n",
    "cov = np.array([[0.4, 0.1, 0.2, 0.1,0.3], \n",
    "                [0.1, 0.3, 0.1, 0.2, 0],\n",
    "               [0.2, 0.1, 0.5, 0.2, 0.3], \n",
    "               [0.1, 0.2, 0.2, 0.5, 0.1], \n",
    "               [0.3, 0, 0.3, 0.1, 0.4]])\n",
    "sample = np.random.multivariate_normal(mean, cov, 10)\n",
    "sample"
   ]
  },
  {
   "cell_type": "code",
   "execution_count": 139,
   "id": "mediterranean-diabetes",
   "metadata": {},
   "outputs": [
    {
     "data": {
      "text/plain": [
       "array([[0.1, 0. , 0. , 0. , 0. ],\n",
       "       [0. , 0.2, 0. , 0. , 0. ],\n",
       "       [0. , 0. , 0.3, 0. , 0. ],\n",
       "       [0. , 0. , 0. , 0.4, 0. ],\n",
       "       [0. , 0. , 0. , 0. , 0.5]])"
      ]
     },
     "execution_count": 139,
     "metadata": {},
     "output_type": "execute_result"
    }
   ],
   "source": [
    "cov2 = np.zeros((5,5))\n",
    "cov2_values = np.array([0.1,0.2,0.3,0.4,0.5])\n",
    "np.fill_diagonal(cov2, cov2_values)\n",
    "cov2"
   ]
  },
  {
   "cell_type": "code",
   "execution_count": 140,
   "id": "focused-dimension",
   "metadata": {},
   "outputs": [
    {
     "data": {
      "text/plain": [
       "array([0.1, 0.2, 0.3, 0.4, 0.5])"
      ]
     },
     "execution_count": 140,
     "metadata": {},
     "output_type": "execute_result"
    }
   ],
   "source": [
    "np.diag(cov2)"
   ]
  },
  {
   "cell_type": "code",
   "execution_count": 141,
   "id": "spectacular-irish",
   "metadata": {},
   "outputs": [
    {
     "data": {
      "text/plain": [
       "array([[ 1.55622132,  0.86247847,  0.86975233, -0.42104822,  0.31191359],\n",
       "       [ 1.65240761,  1.0845652 ,  0.72339042, -0.39501548,  0.2304178 ],\n",
       "       [ 2.22923407,  1.13902598,  0.45189571,  1.41294848,  1.38056582],\n",
       "       [ 2.34553551,  1.46595232, -0.26814678,  0.19373503, -1.93987113],\n",
       "       [ 2.1650914 ,  1.37329198,  0.37766928,  0.14529139, -0.77069529],\n",
       "       [ 1.96641561,  0.92012585,  1.2270505 , -0.28456116, -0.24204928],\n",
       "       [ 2.24793998,  1.68197258,  1.09934959, -0.14681363,  0.65092632],\n",
       "       [ 1.74970146,  1.30189429,  0.08753593,  0.86869902, -0.49773811],\n",
       "       [ 1.68365273,  0.78261956,  1.31456432,  0.8013142 ,  0.42967353],\n",
       "       [ 2.54052651,  0.62975484,  0.9025042 ,  0.60968155,  0.71826796]])"
      ]
     },
     "execution_count": 141,
     "metadata": {},
     "output_type": "execute_result"
    }
   ],
   "source": [
    "sample2 = np.random.multivariate_normal(mean, cov2, 10)\n",
    "sample2"
   ]
  },
  {
   "cell_type": "code",
   "execution_count": 162,
   "id": "lovely-fifty",
   "metadata": {},
   "outputs": [],
   "source": [
    "# 대각원소일 떄 - 공분산이 존재하지 않을 때\n",
    "def inverse_variance_weight(cov):\n",
    "    weights = (1 / np.diag(cov)) / sum(1 / np.diag(cov))\n",
    "    return weights"
   ]
  },
  {
   "cell_type": "code",
   "execution_count": 157,
   "id": "technical-desperate",
   "metadata": {},
   "outputs": [
    {
     "data": {
      "text/plain": [
       "8.772222222222222"
      ]
     },
     "execution_count": 157,
     "metadata": {},
     "output_type": "execute_result"
    }
   ],
   "source": [
    "inverse_variance_cov = inverse_variance_weight(cov).T @ cov2 @ inverse_variance_weight(cov)\n",
    "inverse_variance_cov"
   ]
  },
  {
   "cell_type": "code",
   "execution_count": 163,
   "id": "colored-recruitment",
   "metadata": {},
   "outputs": [
    {
     "data": {
      "text/plain": [
       "array([0.2027027 , 0.27027027, 0.16216216, 0.16216216, 0.2027027 ])"
      ]
     },
     "execution_count": 163,
     "metadata": {},
     "output_type": "execute_result"
    }
   ],
   "source": [
    "inverse_variance_weight(cov)"
   ]
  },
  {
   "cell_type": "code",
   "execution_count": 164,
   "id": "reverse-musician",
   "metadata": {},
   "outputs": [],
   "source": [
    "# risk contribtuion\n",
    "def RC(weight, covmat) :\n",
    "    weight = np.array(weight)\n",
    "    variance = weight.T @ covmat @ weight\n",
    "    sigma = variance ** 0.5\n",
    "    mrc = 1/sigma * (covmat @ weight)\n",
    "    rc = weight * mrc\n",
    "    rc = rc / rc.sum()\n",
    "    return(rc)"
   ]
  },
  {
   "cell_type": "code",
   "execution_count": 165,
   "id": "prompt-granny",
   "metadata": {},
   "outputs": [
    {
     "data": {
      "text/plain": [
       "array([0.2210324 , 0.20318506, 0.19659528, 0.16913784, 0.21004942])"
      ]
     },
     "execution_count": 165,
     "metadata": {},
     "output_type": "execute_result"
    }
   ],
   "source": [
    "RC(inverse_variance_weight(cov), cov)"
   ]
  },
  {
   "cell_type": "code",
   "execution_count": 161,
   "id": "center-webster",
   "metadata": {},
   "outputs": [
    {
     "data": {
      "text/plain": [
       "array([[0.27110515],\n",
       "       [0.14601499],\n",
       "       [0.08000791],\n",
       "       [0.00706984],\n",
       "       [0.49580212]])"
      ]
     },
     "execution_count": 161,
     "metadata": {},
     "output_type": "execute_result"
    }
   ],
   "source": [
    "RC(pcaWeights(cov), cov)"
   ]
  },
  {
   "cell_type": "code",
   "execution_count": 148,
   "id": "martial-diesel",
   "metadata": {},
   "outputs": [],
   "source": [
    "# 포트폴리오의 총 변동성을 정했을 때 각 포트폴리오의 구성 비율을 구해줌\n",
    "def pcaWeights(cov, riskDist = None, riskTarget = 1.):   # riskDist - 각 component들이 전체 주어진 변동성에서 차지하는 비율, riskTarget - 포트폴리오의 총 변동성 \n",
    "    eVal, eVec = np.linalg.eigh(cov)\n",
    "    indices = eVal.argsort()[::-1] # eigen value의 내림차순 정렬 인덱스\n",
    "    eVal, eVec = eVal[indices], eVec[:, indices] # eigen value의 내림차순 정렬 \n",
    "    if riskDist is None:\n",
    "        riskDist = np.zeros(cov.shape[0])\n",
    "        riskDist[-1] = 1\n",
    "    loads = riskTarget * (riskDist / eVal) ** 0.5  #### beta\n",
    "    wghts = np.dot(eVec, np.reshape(loads, (-1, 1)))\n",
    "    \n",
    "    return wghts"
   ]
  },
  {
   "cell_type": "code",
   "execution_count": 149,
   "id": "biblical-minneapolis",
   "metadata": {},
   "outputs": [
    {
     "data": {
      "text/plain": [
       "array([[1.41421356],\n",
       "       [1.        ],\n",
       "       [0.57735027],\n",
       "       [0.8660254 ],\n",
       "       [0.63245553]])"
      ]
     },
     "execution_count": 149,
     "metadata": {},
     "output_type": "execute_result"
    }
   ],
   "source": [
    "pcaWeights(cov2, riskDist=np.array([0.2,0.3,0.1,0.2,0.2]), riskTarget=1)"
   ]
  },
  {
   "cell_type": "code",
   "execution_count": 152,
   "id": "cultural-jerusalem",
   "metadata": {},
   "outputs": [
    {
     "data": {
      "text/plain": [
       "array([[-0.57672942],\n",
       "       [-0.06011628],\n",
       "       [-1.62732812],\n",
       "       [-0.35776057],\n",
       "       [ 1.88046691]])"
      ]
     },
     "execution_count": 152,
     "metadata": {},
     "output_type": "execute_result"
    }
   ],
   "source": [
    "pcaWeights(cov, riskDist=np.array([0.2,0.3,0.1,0.2,0.2]), riskTarget=1)"
   ]
  },
  {
   "cell_type": "markdown",
   "id": "owned-quality",
   "metadata": {},
   "source": [
    "----------------------------------------\n",
    "----------------------------------------"
   ]
  },
  {
   "cell_type": "markdown",
   "id": "organized-locator",
   "metadata": {},
   "source": [
    "## CUMSUM Filter"
   ]
  },
  {
   "cell_type": "code",
   "execution_count": 11,
   "id": "returning-policy",
   "metadata": {},
   "outputs": [],
   "source": [
    "def getTevents(gRaw, h):\n",
    "    tEvents = []\n",
    "    sPos = 0\n",
    "    sNeg = 0\n",
    "    diff = gRaw.diff()\n",
    "    for i in diff.index[1:]:\n",
    "        sPos = max(0, sPos + diff.loc[i])\n",
    "        sNeg = min(0, sNeg + diff.loc[i])\n",
    "        if sNeg < -h:\n",
    "            sNeg = 0\n",
    "            tEvents.append(i)\n",
    "        elif sPos > h:\n",
    "            sPos = 0\n",
    "            tEvents.append(i)\n",
    "    return pd.DatetimeIndex(tEvents)"
   ]
  },
  {
   "cell_type": "code",
   "execution_count": 18,
   "id": "stupid-advisory",
   "metadata": {},
   "outputs": [
    {
     "data": {
      "text/plain": [
       "DatetimeIndex(['2016-08-23', '2017-07-12', '2020-01-09', '2020-11-13'], dtype='datetime64[ns]', freq=None)"
      ]
     },
     "execution_count": 18,
     "metadata": {},
     "output_type": "execute_result"
    }
   ],
   "source": [
    "getTevents(tick['Close'], 20000)"
   ]
  },
  {
   "cell_type": "code",
   "execution_count": null,
   "id": "lightweight-eligibility",
   "metadata": {},
   "outputs": [],
   "source": []
  }
 ],
 "metadata": {
  "kernelspec": {
   "display_name": "Python 3",
   "language": "python",
   "name": "python3"
  },
  "language_info": {
   "codemirror_mode": {
    "name": "ipython",
    "version": 3
   },
   "file_extension": ".py",
   "mimetype": "text/x-python",
   "name": "python",
   "nbconvert_exporter": "python",
   "pygments_lexer": "ipython3",
   "version": "3.6.8"
  }
 },
 "nbformat": 4,
 "nbformat_minor": 5
}
