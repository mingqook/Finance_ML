{
 "cells": [
  {
   "cell_type": "code",
   "execution_count": 1,
   "id": "specified-dietary",
   "metadata": {},
   "outputs": [],
   "source": [
    "import pandas as pd\n",
    "import matplotlib.pyplot as plt\n",
    "import seaborn as sns\n",
    "import pandas_datareader as pdr\n",
    "import datetime\n",
    "import numpy as np"
   ]
  },
  {
   "cell_type": "code",
   "execution_count": 2,
   "id": "junior-funds",
   "metadata": {},
   "outputs": [],
   "source": [
    "start = datetime.datetime(2010, 1, 1)\n",
    "end = datetime.datetime(2020,12,31)"
   ]
  },
  {
   "cell_type": "code",
   "execution_count": 60,
   "id": "economic-fishing",
   "metadata": {},
   "outputs": [
    {
     "data": {
      "text/html": [
       "<div>\n",
       "<style scoped>\n",
       "    .dataframe tbody tr th:only-of-type {\n",
       "        vertical-align: middle;\n",
       "    }\n",
       "\n",
       "    .dataframe tbody tr th {\n",
       "        vertical-align: top;\n",
       "    }\n",
       "\n",
       "    .dataframe thead th {\n",
       "        text-align: right;\n",
       "    }\n",
       "</style>\n",
       "<table border=\"1\" class=\"dataframe\">\n",
       "  <thead>\n",
       "    <tr style=\"text-align: right;\">\n",
       "      <th></th>\n",
       "      <th>Volume</th>\n",
       "      <th>Close</th>\n",
       "    </tr>\n",
       "    <tr>\n",
       "      <th>Date</th>\n",
       "      <th></th>\n",
       "      <th></th>\n",
       "    </tr>\n",
       "  </thead>\n",
       "  <tbody>\n",
       "    <tr>\n",
       "      <th>2010-01-04</th>\n",
       "      <td>11950800.0</td>\n",
       "      <td>16180.0</td>\n",
       "    </tr>\n",
       "    <tr>\n",
       "      <th>2010-01-05</th>\n",
       "      <td>27925850.0</td>\n",
       "      <td>16440.0</td>\n",
       "    </tr>\n",
       "    <tr>\n",
       "      <th>2010-01-06</th>\n",
       "      <td>22948850.0</td>\n",
       "      <td>16820.0</td>\n",
       "    </tr>\n",
       "    <tr>\n",
       "      <th>2010-01-07</th>\n",
       "      <td>22107950.0</td>\n",
       "      <td>16260.0</td>\n",
       "    </tr>\n",
       "    <tr>\n",
       "      <th>2010-01-08</th>\n",
       "      <td>14777550.0</td>\n",
       "      <td>16420.0</td>\n",
       "    </tr>\n",
       "    <tr>\n",
       "      <th>...</th>\n",
       "      <td>...</td>\n",
       "      <td>...</td>\n",
       "    </tr>\n",
       "    <tr>\n",
       "      <th>2020-12-23</th>\n",
       "      <td>19411326.0</td>\n",
       "      <td>73900.0</td>\n",
       "    </tr>\n",
       "    <tr>\n",
       "      <th>2020-12-24</th>\n",
       "      <td>32502870.0</td>\n",
       "      <td>77800.0</td>\n",
       "    </tr>\n",
       "    <tr>\n",
       "      <th>2020-12-28</th>\n",
       "      <td>40085044.0</td>\n",
       "      <td>78700.0</td>\n",
       "    </tr>\n",
       "    <tr>\n",
       "      <th>2020-12-29</th>\n",
       "      <td>30339449.0</td>\n",
       "      <td>78300.0</td>\n",
       "    </tr>\n",
       "    <tr>\n",
       "      <th>2020-12-30</th>\n",
       "      <td>29417421.0</td>\n",
       "      <td>81000.0</td>\n",
       "    </tr>\n",
       "  </tbody>\n",
       "</table>\n",
       "<p>2708 rows × 2 columns</p>\n",
       "</div>"
      ],
      "text/plain": [
       "                Volume    Close\n",
       "Date                           \n",
       "2010-01-04  11950800.0  16180.0\n",
       "2010-01-05  27925850.0  16440.0\n",
       "2010-01-06  22948850.0  16820.0\n",
       "2010-01-07  22107950.0  16260.0\n",
       "2010-01-08  14777550.0  16420.0\n",
       "...                ...      ...\n",
       "2020-12-23  19411326.0  73900.0\n",
       "2020-12-24  32502870.0  77800.0\n",
       "2020-12-28  40085044.0  78700.0\n",
       "2020-12-29  30339449.0  78300.0\n",
       "2020-12-30  29417421.0  81000.0\n",
       "\n",
       "[2708 rows x 2 columns]"
      ]
     },
     "execution_count": 60,
     "metadata": {},
     "output_type": "execute_result"
    }
   ],
   "source": [
    "# 삼성전자 10년치 일 데이터 - 하나의 일 데이터를 하나의 tick data로 생각\n",
    "# close price를 p_t 라고 생각\n",
    "df = pdr.get_data_yahoo('005930.KS', start, end)\n",
    "tick = df[['Volume', 'Close']]\n",
    "tick"
   ]
  },
  {
   "cell_type": "code",
   "execution_count": 61,
   "id": "attended-drill",
   "metadata": {},
   "outputs": [],
   "source": [
    "# b_t(tick rule)\n",
    "def tick_rule(df):\n",
    "    diff = df['Close'] - df['Close'].shift(1)\n",
    "    b_t = np.abs(diff) / diff\n",
    "    return b_t"
   ]
  },
  {
   "cell_type": "code",
   "execution_count": 84,
   "id": "entertaining-performer",
   "metadata": {},
   "outputs": [],
   "source": [
    "# 첫 번째 tib(tick imbalance bar) 정하기위해서는 최초의 값들을 정해줘야 함(이전 bar size, 이전 tick rule 값)\n",
    "def tick_imbalance_bar(df, initial_expected_bar_size = 3, initial_expected_tick_rule = 1):\n",
    "    \n",
    "    \n",
    "    i = 0\n",
    "    bar_dict = dict()\n",
    "    \n",
    "    while i < 4:\n",
    "\n",
    "        if i == 0:\n",
    "            temp = df\n",
    "            temp['T'] = np.arange(len(temp)) + 1\n",
    "            temp['tick_rule'] = tick_rule(tick).fillna(method = 'ffill')\n",
    "            temp['tick_rule'][0] = 1\n",
    "            temp['tick_imbalance'] = temp['tick_rule'].cumsum()\n",
    "            temp['expected_tick_imbalance'] = initial_expected_bar_size * initial_expected_tick_rule\n",
    "            result = temp[abs(temp['tick_imbalance']) - temp['expected_tick_imbalance'] >=0]\n",
    "            T_star = result.index[0]\n",
    "            bar_sample = temp.loc[:T_star, :]\n",
    "\n",
    "            bar_dict[i] = bar_sample\n",
    "            i += 1\n",
    "            df = df.loc[T_star + datetime.timedelta(days = 1):, :]\n",
    "\n",
    "        else:\n",
    "            temp = df\n",
    "            temp['T'] = np.arange(len(temp)) + 1\n",
    "            temp['tick_rule'] = tick_rule(tick).fillna(method = 'ffill')\n",
    "            temp['tick_rule'][0] = 1\n",
    "            temp['tick_imbalance'] = temp['tick_rule'].cumsum()\n",
    "            estimated_E_T = bar_dict[i-1].ewm(com = 0.5).mean()['T'][-1]\n",
    "            estimated_b_t = bar_dict[i-1].ewm(com = 0.5).mean()['tick_rule'][-1]\n",
    "            temp['expected_tick_imbalance'] = estimated_E_T * np.abs(estimated_b_t)\n",
    "            result = temp[abs(temp['tick_imbalance']) - temp['expected_tick_imbalance'] >=0]\n",
    "            T_star = result.index[0]\n",
    "            bar_sample = temp.loc[:T_star, :]\n",
    "\n",
    "            bar_dict[i] = bar_sample\n",
    "            i += 1\n",
    "            df = df.loc[T_star + datetime.timedelta(days = 1):, :]\n",
    "\n",
    "    return bar_dict"
   ]
  },
  {
   "cell_type": "code",
   "execution_count": 86,
   "id": "declared-marina",
   "metadata": {},
   "outputs": [
    {
     "name": "stderr",
     "output_type": "stream",
     "text": [
      "c:\\users\\minguk\\desktop\\coding\\finance_ml\\venv\\lib\\site-packages\\ipykernel_launcher.py:14: SettingWithCopyWarning: \n",
      "A value is trying to be set on a copy of a slice from a DataFrame\n",
      "\n",
      "See the caveats in the documentation: https://pandas.pydata.org/pandas-docs/stable/user_guide/indexing.html#returning-a-view-versus-a-copy\n",
      "  \n",
      "c:\\users\\minguk\\desktop\\coding\\finance_ml\\venv\\lib\\site-packages\\ipykernel_launcher.py:27: SettingWithCopyWarning: \n",
      "A value is trying to be set on a copy of a slice from a DataFrame.\n",
      "Try using .loc[row_indexer,col_indexer] = value instead\n",
      "\n",
      "See the caveats in the documentation: https://pandas.pydata.org/pandas-docs/stable/user_guide/indexing.html#returning-a-view-versus-a-copy\n",
      "c:\\users\\minguk\\desktop\\coding\\finance_ml\\venv\\lib\\site-packages\\ipykernel_launcher.py:28: SettingWithCopyWarning: \n",
      "A value is trying to be set on a copy of a slice from a DataFrame.\n",
      "Try using .loc[row_indexer,col_indexer] = value instead\n",
      "\n",
      "See the caveats in the documentation: https://pandas.pydata.org/pandas-docs/stable/user_guide/indexing.html#returning-a-view-versus-a-copy\n",
      "c:\\users\\minguk\\desktop\\coding\\finance_ml\\venv\\lib\\site-packages\\ipykernel_launcher.py:29: SettingWithCopyWarning: \n",
      "A value is trying to be set on a copy of a slice from a DataFrame\n",
      "\n",
      "See the caveats in the documentation: https://pandas.pydata.org/pandas-docs/stable/user_guide/indexing.html#returning-a-view-versus-a-copy\n",
      "c:\\users\\minguk\\desktop\\coding\\finance_ml\\venv\\lib\\site-packages\\ipykernel_launcher.py:1: SettingWithCopyWarning: \n",
      "A value is trying to be set on a copy of a slice from a DataFrame\n",
      "\n",
      "See the caveats in the documentation: https://pandas.pydata.org/pandas-docs/stable/user_guide/indexing.html#returning-a-view-versus-a-copy\n",
      "  \"\"\"Entry point for launching an IPython kernel.\n",
      "c:\\users\\minguk\\desktop\\coding\\finance_ml\\venv\\lib\\site-packages\\ipykernel_launcher.py:30: SettingWithCopyWarning: \n",
      "A value is trying to be set on a copy of a slice from a DataFrame.\n",
      "Try using .loc[row_indexer,col_indexer] = value instead\n",
      "\n",
      "See the caveats in the documentation: https://pandas.pydata.org/pandas-docs/stable/user_guide/indexing.html#returning-a-view-versus-a-copy\n",
      "c:\\users\\minguk\\desktop\\coding\\finance_ml\\venv\\lib\\site-packages\\ipykernel_launcher.py:33: SettingWithCopyWarning: \n",
      "A value is trying to be set on a copy of a slice from a DataFrame.\n",
      "Try using .loc[row_indexer,col_indexer] = value instead\n",
      "\n",
      "See the caveats in the documentation: https://pandas.pydata.org/pandas-docs/stable/user_guide/indexing.html#returning-a-view-versus-a-copy\n",
      "c:\\users\\minguk\\desktop\\coding\\finance_ml\\venv\\lib\\site-packages\\ipykernel_launcher.py:29: SettingWithCopyWarning: \n",
      "A value is trying to be set on a copy of a slice from a DataFrame\n",
      "\n",
      "See the caveats in the documentation: https://pandas.pydata.org/pandas-docs/stable/user_guide/indexing.html#returning-a-view-versus-a-copy\n",
      "c:\\users\\minguk\\desktop\\coding\\finance_ml\\venv\\lib\\site-packages\\ipykernel_launcher.py:29: SettingWithCopyWarning: \n",
      "A value is trying to be set on a copy of a slice from a DataFrame\n",
      "\n",
      "See the caveats in the documentation: https://pandas.pydata.org/pandas-docs/stable/user_guide/indexing.html#returning-a-view-versus-a-copy\n"
     ]
    }
   ],
   "source": [
    "result_bar = tick_imbalance_bar(tick)"
   ]
  },
  {
   "cell_type": "code",
   "execution_count": 92,
   "id": "together-sixth",
   "metadata": {},
   "outputs": [
    {
     "data": {
      "text/plain": [
       "{Timestamp('2010-01-06 00:00:00'): 16820.0,\n",
       " Timestamp('2010-01-15 00:00:00'): 16840.0,\n",
       " Timestamp('2010-02-25 00:00:00'): 14720.0,\n",
       " Timestamp('2016-06-03 00:00:00'): 27540.0}"
      ]
     },
     "execution_count": 92,
     "metadata": {},
     "output_type": "execute_result"
    }
   ],
   "source": [
    "result_close = dict()\n",
    "for i in result_bar.keys():\n",
    "    key = result_bar[i].index[-1]\n",
    "    values = result_bar[i]['Close'][-1]\n",
    "    result_close[key] = values\n",
    "    \n",
    "result_close"
   ]
  },
  {
   "cell_type": "code",
   "execution_count": 45,
   "id": "according-remedy",
   "metadata": {},
   "outputs": [
    {
     "data": {
      "text/plain": [
       "Timestamp('2011-03-03 00:00:00')"
      ]
     },
     "execution_count": 45,
     "metadata": {},
     "output_type": "execute_result"
    }
   ],
   "source": [
    "x.index[0] + datetime.timedelta(days = 1)"
   ]
  }
 ],
 "metadata": {
  "kernelspec": {
   "display_name": "Python 3",
   "language": "python",
   "name": "python3"
  },
  "language_info": {
   "codemirror_mode": {
    "name": "ipython",
    "version": 3
   },
   "file_extension": ".py",
   "mimetype": "text/x-python",
   "name": "python",
   "nbconvert_exporter": "python",
   "pygments_lexer": "ipython3",
   "version": "3.6.8"
  }
 },
 "nbformat": 4,
 "nbformat_minor": 5
}
