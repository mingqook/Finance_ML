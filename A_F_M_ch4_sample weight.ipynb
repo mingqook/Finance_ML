{
 "cells": [
  {
   "cell_type": "code",
   "execution_count": 1,
   "id": "mathematical-compiler",
   "metadata": {},
   "outputs": [],
   "source": [
    "import pandas as pd\n",
    "from datetime import datetime"
   ]
  },
  {
   "cell_type": "markdown",
   "id": "lucky-thomson",
   "metadata": {},
   "source": [
    "#### 4.1 Estimating the Uniqueness of a label"
   ]
  },
  {
   "cell_type": "code",
   "execution_count": 2,
   "id": "optimum-publisher",
   "metadata": {},
   "outputs": [],
   "source": [
    "def mpNumCoEvents(closeIdx, t1, molecule):\n",
    "    #1 find events that span the period [molecule[0], molecule[-1]]\n",
    "    t1 = t1.fillna(closeIdx[-1])\n",
    "    t1 = t1[t1>=molecule[0]]\n",
    "    t1 = t1.loc[:t1[molecule].max()]\n",
    "    #2 count events spanninga bar\n",
    "    ilco = closeIdx.searchsorted(np.array([t1.index[0], t1.max()]))\n",
    "    count = pd.Series(0, index = closeIdx[iloc[0]:iloc[1] + 1])\n",
    "    for tIn, tOut in t1.iteritems(): count.loc[tIn:tOut] += 1\n",
    "    return count.loc[molecule[0] : t1[molecule].max()]"
   ]
  },
  {
   "cell_type": "markdown",
   "id": "absent-authority",
   "metadata": {},
   "source": [
    "#### 4.2 Estimating the Average Uniqueness of a label"
   ]
  },
  {
   "cell_type": "code",
   "execution_count": null,
   "id": "continuous-stanford",
   "metadata": {},
   "outputs": [],
   "source": [
    "def mpSampleTW(t1, numCoEvents, molecule):\n",
    "    # derive average uniqueness over the event's lifespan\n",
    "    wght = pd.Series(index = molecule)\n",
    "    for tIn, tOut in t1.loc[wght.index].iteritems():\n",
    "        wght.loc[tIn] = (1./numCoEvents.loc[tIn:tOut]).mean()\n",
    "    return wght\n",
    "\n",
    "numCoEvents = mpPandasObj(mpNumCoEvents, ('molecule', events.index), numThreads, closeIdx=close.index, t1 = events['t1'])\n",
    "numCoEvents = numCoEvents.loc[~numCoEvents.index.duplicated(keep = 'last')]\n",
    "numCoEvents = numCoEvents.reindex(close.index).fillna(0)\n",
    "out['tW'] = mpPandasObj(mpSampleTW, ('molecule', events.index), numThreads, t1 = events['t1'], numCoEvents = numCoEvents)"
   ]
  },
  {
   "cell_type": "code",
   "execution_count": null,
   "id": "weighted-humor",
   "metadata": {},
   "outputs": [],
   "source": []
  }
 ],
 "metadata": {
  "kernelspec": {
   "display_name": "Python 3",
   "language": "python",
   "name": "python3"
  },
  "language_info": {
   "codemirror_mode": {
    "name": "ipython",
    "version": 3
   },
   "file_extension": ".py",
   "mimetype": "text/x-python",
   "name": "python",
   "nbconvert_exporter": "python",
   "pygments_lexer": "ipython3",
   "version": "3.6.8"
  }
 },
 "nbformat": 4,
 "nbformat_minor": 5
}
