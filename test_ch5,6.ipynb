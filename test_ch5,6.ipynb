{
 "cells": [
  {
   "cell_type": "markdown",
   "id": "multiple-humanity",
   "metadata": {},
   "source": [
    "# os 모듈 사용법 - python/3.6 확인\n",
    "-----"
   ]
  },
  {
   "cell_type": "markdown",
   "id": "later-berlin",
   "metadata": {},
   "source": [
    "# 디렉토리 내에 폴더, 파일이 있는 지 먼저 확인\n",
    "# 없으면 폴더를 만들어서 크롤링한 데이터를 저장\n",
    "# 있으면 현재에 있는 데이터를 불러오거나 크롤링 데이터를 불러와서 덮어쓰기\n",
    "# 반복해서 쓰이는 함수는 새로운 함수를 만들어서 계속해서 불러와서 사용"
   ]
  },
  {
   "cell_type": "markdown",
   "id": "interim-examination",
   "metadata": {},
   "source": [
    "----------\n",
    "# Ch5\n",
    "# 업종분류 현황 크롤링 - 코스피"
   ]
  },
  {
   "cell_type": "code",
   "execution_count": 3,
   "id": "informal-monster",
   "metadata": {},
   "outputs": [],
   "source": [
    "import requests\n",
    "import pandas as pd\n",
    "import csv"
   ]
  },
  {
   "cell_type": "code",
   "execution_count": 3,
   "id": "reported-jackson",
   "metadata": {},
   "outputs": [],
   "source": [
    "gen_stk_otp_url = \"http://data.krx.co.kr/comm/fileDn/GenerateOTP/generate.cmd\"\n",
    "gen_stk_otp_data = {\n",
    "    'mktId' : 'STK',   #### 코스피 = stk, 코스닥 = ksq -> option으로 넣으면 될듯\n",
    "    'trdDd' : '20210312', #### 날짜 -> 추후 영업일로 사용! -> option으로 넣으면 될듯\n",
    "    'money' : '1',\n",
    "    'csvxls_isNo' : 'false',\n",
    "    'name' : 'fileDown',\n",
    "    'url' : \"dbms/MDC/STAT/standard/MDCSTAT03901\"\n",
    "}\n",
    "\n",
    "opt = requests.post(gen_stk_otp_url, data = gen_stk_otp_data) ##bytes 형태\n",
    "opt = opt.content.decode('utf-8') #### byte to string\n",
    "\n"
   ]
  },
  {
   "cell_type": "code",
   "execution_count": 4,
   "id": "coastal-newark",
   "metadata": {},
   "outputs": [],
   "source": [
    "down_stk_url = \"http://data.krx.co.kr/comm/fileDn/download_csv/download.cmd\"\n",
    "down_stk_data = {\n",
    "    'code' : opt\n",
    "}\n",
    "headers = {\n",
    "    \"Referer\" : gen_stk_otp_url  #### referer 추가 -> bot으로 인식 안하고 데이터를 제공\n",
    "}\n",
    "down = requests.post(down_stk_url, data = down_stk_data, headers = headers )"
   ]
  },
  {
   "cell_type": "code",
   "execution_count": 5,
   "id": "wrong-stock",
   "metadata": {},
   "outputs": [],
   "source": [
    "down_stk_data = down.content.decode('EUC-KR')  #### 다운받은 파일 한글로 디코딩\n",
    "down_stk_data = down_stk_data.split(\"\\n\")    #### \\n으로 구분되어 있는거 자르기 -> 한 번 더 ,로 나눠줘야함 -> 가운데 , 포함되어 있는 내용이 있음 ㅠ\n",
    "\n",
    "#### down_data to csv file -> 어짜피 종목코드랑 종목명만 필요! -> sector는 따로 가져 올 거임\n",
    "with open('down_stk.csv', 'w', newline = '') as file:\n",
    "    writer = csv.writer(file)\n",
    "    for i in range(len(down_stk_data)):\n",
    "        x = down_stk_data[i].split(\",\")\n",
    "        writer.writerow([x[0],x[1]])"
   ]
  },
  {
   "cell_type": "code",
   "execution_count": 6,
   "id": "attractive-cattle",
   "metadata": {},
   "outputs": [
    {
     "data": {
      "text/html": [
       "<div>\n",
       "<style scoped>\n",
       "    .dataframe tbody tr th:only-of-type {\n",
       "        vertical-align: middle;\n",
       "    }\n",
       "\n",
       "    .dataframe tbody tr th {\n",
       "        vertical-align: top;\n",
       "    }\n",
       "\n",
       "    .dataframe thead th {\n",
       "        text-align: right;\n",
       "    }\n",
       "</style>\n",
       "<table border=\"1\" class=\"dataframe\">\n",
       "  <thead>\n",
       "    <tr style=\"text-align: right;\">\n",
       "      <th></th>\n",
       "      <th>종목코드</th>\n",
       "      <th>종목명</th>\n",
       "    </tr>\n",
       "  </thead>\n",
       "  <tbody>\n",
       "    <tr>\n",
       "      <th>0</th>\n",
       "      <td>\"095570\"</td>\n",
       "      <td>\"AJ네트웍스\"</td>\n",
       "    </tr>\n",
       "    <tr>\n",
       "      <th>1</th>\n",
       "      <td>\"006840\"</td>\n",
       "      <td>\"AK홀딩스\"</td>\n",
       "    </tr>\n",
       "    <tr>\n",
       "      <th>2</th>\n",
       "      <td>\"027410\"</td>\n",
       "      <td>\"BGF\"</td>\n",
       "    </tr>\n",
       "    <tr>\n",
       "      <th>3</th>\n",
       "      <td>\"282330\"</td>\n",
       "      <td>\"BGF리테일\"</td>\n",
       "    </tr>\n",
       "    <tr>\n",
       "      <th>4</th>\n",
       "      <td>\"138930\"</td>\n",
       "      <td>\"BNK금융지주\"</td>\n",
       "    </tr>\n",
       "  </tbody>\n",
       "</table>\n",
       "</div>"
      ],
      "text/plain": [
       "       종목코드        종목명\n",
       "0  \"095570\"   \"AJ네트웍스\"\n",
       "1  \"006840\"    \"AK홀딩스\"\n",
       "2  \"027410\"      \"BGF\"\n",
       "3  \"282330\"   \"BGF리테일\"\n",
       "4  \"138930\"  \"BNK금융지주\""
      ]
     },
     "execution_count": 6,
     "metadata": {},
     "output_type": "execute_result"
    }
   ],
   "source": [
    "pd.read_csv(\"down_stk.csv\").head()"
   ]
  },
  {
   "cell_type": "markdown",
   "id": "returning-referral",
   "metadata": {},
   "source": [
    "------\n",
    "# 업종분류 현황 크롤링 - 코스닥 -> 추후 코스피랑 한번에 할 수 있도록 짜야함"
   ]
  },
  {
   "cell_type": "code",
   "execution_count": 8,
   "id": "legendary-distributor",
   "metadata": {},
   "outputs": [],
   "source": [
    "gen_ksq_otp_url = \"http://data.krx.co.kr/comm/fileDn/GenerateOTP/generate.cmd\"\n",
    "gen_ksq_otp_data = {\n",
    "    'mktId' : 'KSQ',   #### 코스피 = stk, 코스닥 = ksq -> option으로 넣으면 될듯\n",
    "    'trdDd' : '20210312', #### 날짜 -> 추후 영업일로 사용! -> option으로 넣으면 될듯\n",
    "    'money' : '1',\n",
    "    'csvxls_isNo' : 'false',\n",
    "    'name' : 'fileDown',\n",
    "    'url' : \"dbms/MDC/STAT/standard/MDCSTAT03901\"\n",
    "}\n",
    "\n",
    "opt = requests.post(gen_ksq_otp_url, data = gen_ksq_otp_data) ##bytes 형태\n",
    "opt = opt.content.decode('utf-8') #### byte to string\n",
    "\n",
    "down_ksq_url = \"http://data.krx.co.kr/comm/fileDn/download_csv/download.cmd\"\n",
    "down_ksq_data = {\n",
    "    'code' : opt\n",
    "}\n",
    "headers = {\n",
    "    \"Referer\" : gen_ksq_otp_url  #### referer 추가 -> bot으로 인식 안하고 데이터를 제공\n",
    "}\n",
    "down = requests.post(down_ksq_url, data = down_ksq_data, headers = headers )\n",
    "\n",
    "down_ksq_data = down.content.decode('EUC-KR')  #### 다운받은 파일 한글로 디코딩\n",
    "down_ksq_data = down_ksq_data.split(\"\\n\")    #### \\n으로 구분되어 있는거 자르기 -> 한 번 더 ,로 나눠줘야함 -> 가운데 , 포함되어 있는 내용이 있음 ㅠ\n",
    "\n",
    "#### down_data to csv file -> 어짜피 종목코드랑 종목명만 필요! -> sector는 따로 가져 올 거임\n",
    "with open('down_ksq.csv', 'w', newline = '') as file:\n",
    "    writer = csv.writer(file)\n",
    "    for i in range(len(down_ksq_data)):\n",
    "        x = down_ksq_data[i].split(\",\")\n",
    "        writer.writerow([x[0],x[1]])"
   ]
  },
  {
   "cell_type": "code",
   "execution_count": 9,
   "id": "modern-canon",
   "metadata": {},
   "outputs": [
    {
     "data": {
      "text/html": [
       "<div>\n",
       "<style scoped>\n",
       "    .dataframe tbody tr th:only-of-type {\n",
       "        vertical-align: middle;\n",
       "    }\n",
       "\n",
       "    .dataframe tbody tr th {\n",
       "        vertical-align: top;\n",
       "    }\n",
       "\n",
       "    .dataframe thead th {\n",
       "        text-align: right;\n",
       "    }\n",
       "</style>\n",
       "<table border=\"1\" class=\"dataframe\">\n",
       "  <thead>\n",
       "    <tr style=\"text-align: right;\">\n",
       "      <th></th>\n",
       "      <th>종목코드</th>\n",
       "      <th>종목명</th>\n",
       "    </tr>\n",
       "  </thead>\n",
       "  <tbody>\n",
       "    <tr>\n",
       "      <th>0</th>\n",
       "      <td>\"060310\"</td>\n",
       "      <td>\"3S\"</td>\n",
       "    </tr>\n",
       "    <tr>\n",
       "      <th>1</th>\n",
       "      <td>\"054620\"</td>\n",
       "      <td>\"APS홀딩스\"</td>\n",
       "    </tr>\n",
       "    <tr>\n",
       "      <th>2</th>\n",
       "      <td>\"265520\"</td>\n",
       "      <td>\"AP시스템\"</td>\n",
       "    </tr>\n",
       "    <tr>\n",
       "      <th>3</th>\n",
       "      <td>\"211270\"</td>\n",
       "      <td>\"AP위성\"</td>\n",
       "    </tr>\n",
       "    <tr>\n",
       "      <th>4</th>\n",
       "      <td>\"035760\"</td>\n",
       "      <td>\"CJ ENM\"</td>\n",
       "    </tr>\n",
       "  </tbody>\n",
       "</table>\n",
       "</div>"
      ],
      "text/plain": [
       "       종목코드       종목명\n",
       "0  \"060310\"      \"3S\"\n",
       "1  \"054620\"  \"APS홀딩스\"\n",
       "2  \"265520\"   \"AP시스템\"\n",
       "3  \"211270\"    \"AP위성\"\n",
       "4  \"035760\"  \"CJ ENM\""
      ]
     },
     "execution_count": 9,
     "metadata": {},
     "output_type": "execute_result"
    }
   ],
   "source": [
    "pd.read_csv(\"down_ksq.csv\").head()"
   ]
  },
  {
   "cell_type": "markdown",
   "id": "cheap-complex",
   "metadata": {},
   "source": [
    "------\n",
    "# 코스피, 코스닥 종목코드 합치기 "
   ]
  },
  {
   "cell_type": "code",
   "execution_count": 21,
   "id": "vertical-module",
   "metadata": {},
   "outputs": [],
   "source": [
    "stk = pd.read_csv(\"down_stk.csv\") # 코스피\n",
    "ksq = pd.read_csv(\"down_ksq.csv\") # 코스닥\n",
    "\n",
    "sec = pd.concat([stk, ksq])\n",
    "sec.to_csv('down_sec.csv', sep = ',', index = False)"
   ]
  },
  {
   "cell_type": "code",
   "execution_count": 26,
   "id": "negative-movie",
   "metadata": {},
   "outputs": [
    {
     "data": {
      "text/html": [
       "<div>\n",
       "<style scoped>\n",
       "    .dataframe tbody tr th:only-of-type {\n",
       "        vertical-align: middle;\n",
       "    }\n",
       "\n",
       "    .dataframe tbody tr th {\n",
       "        vertical-align: top;\n",
       "    }\n",
       "\n",
       "    .dataframe thead th {\n",
       "        text-align: right;\n",
       "    }\n",
       "</style>\n",
       "<table border=\"1\" class=\"dataframe\">\n",
       "  <thead>\n",
       "    <tr style=\"text-align: right;\">\n",
       "      <th></th>\n",
       "      <th>종목코드</th>\n",
       "      <th>종목명</th>\n",
       "    </tr>\n",
       "  </thead>\n",
       "  <tbody>\n",
       "    <tr>\n",
       "      <th>0</th>\n",
       "      <td>\"095570\"</td>\n",
       "      <td>\"AJ네트웍스\"</td>\n",
       "    </tr>\n",
       "    <tr>\n",
       "      <th>1</th>\n",
       "      <td>\"006840\"</td>\n",
       "      <td>\"AK홀딩스\"</td>\n",
       "    </tr>\n",
       "    <tr>\n",
       "      <th>2</th>\n",
       "      <td>\"027410\"</td>\n",
       "      <td>\"BGF\"</td>\n",
       "    </tr>\n",
       "    <tr>\n",
       "      <th>3</th>\n",
       "      <td>\"282330\"</td>\n",
       "      <td>\"BGF리테일\"</td>\n",
       "    </tr>\n",
       "    <tr>\n",
       "      <th>4</th>\n",
       "      <td>\"138930\"</td>\n",
       "      <td>\"BNK금융지주\"</td>\n",
       "    </tr>\n",
       "  </tbody>\n",
       "</table>\n",
       "</div>"
      ],
      "text/plain": [
       "       종목코드        종목명\n",
       "0  \"095570\"   \"AJ네트웍스\"\n",
       "1  \"006840\"    \"AK홀딩스\"\n",
       "2  \"027410\"      \"BGF\"\n",
       "3  \"282330\"   \"BGF리테일\"\n",
       "4  \"138930\"  \"BNK금융지주\""
      ]
     },
     "execution_count": 26,
     "metadata": {},
     "output_type": "execute_result"
    }
   ],
   "source": [
    "pd.read_csv(\"down_sec.csv\").head()"
   ]
  },
  {
   "cell_type": "markdown",
   "id": "extensive-trader",
   "metadata": {},
   "source": [
    "-------\n",
    "# 개별종목 지표 크롤링 -> 업종분류 현황이랑 합칠 수 있는 부분은 합칠 수 있을 듯\n",
    "## 아니면 if 문으로 하던지 그냥 따로 쓰던지!"
   ]
  },
  {
   "cell_type": "code",
   "execution_count": 328,
   "id": "economic-athletics",
   "metadata": {},
   "outputs": [],
   "source": [
    "gen_ind_otp_url = \"http://data.krx.co.kr/comm/fileDn/GenerateOTP/generate.cmd\"\n",
    "gen_ind_otp_data = {\n",
    "    'searchType' : '1',\n",
    "    'mktId' : 'ALL',   #### 코스피 = stk, 코스닥 = ksq\n",
    "    'trdDd' : '20210312', #### 날짜 -> 추후 영업일로 사용!\n",
    "    'csvxls_isNo' : 'false',\n",
    "    'name' : 'fileDown',\n",
    "    'url' : \"dbms/MDC/STAT/standard/MDCSTAT03501\"\n",
    "}\n",
    "\n",
    "opt = requests.post(gen_ind_otp_url, data = gen_ind_otp_data) ##bytes 형태\n",
    "opt = opt.content.decode('utf-8') #### byte to string"
   ]
  },
  {
   "cell_type": "code",
   "execution_count": 329,
   "id": "alternate-morrison",
   "metadata": {},
   "outputs": [],
   "source": [
    "down_ind_url = \"http://data.krx.co.kr/comm/fileDn/download_csv/download.cmd\"\n",
    "down_ind_data = {\n",
    "    'code' : opt\n",
    "}\n",
    "headers = {\n",
    "    \"Referer\" : gen_ind_otp_url  #### referer 추가 -> bot으로 인식 안하고 데이터를 제공\n",
    "}\n",
    "down = requests.post(down_ind_url, data = down_ind_data, headers = headers )"
   ]
  },
  {
   "cell_type": "code",
   "execution_count": 338,
   "id": "champion-tackle",
   "metadata": {},
   "outputs": [],
   "source": [
    "down_ind_data = down.content.decode('EUC-KR')  #### 다운받은 파일 한글로 디코딩\n",
    "down_ind_data = down_ind_data.split(\"\\n\")    #### \\n으로 구분되어 있는거 자르기 -> 한 번 더 ,로 나눠줘야함 -> 가운데 , 포함되어 있는 내용이 있음 ㅠ\n",
    "\n",
    "#### down_data to csv file -> 어짜피 종목코드랑 종목명만 필요! -> sector는 따로 가져 올 거임\n",
    "with open('down_ind.csv', 'w', newline = '') as file:\n",
    "    writer = csv.writer(file)\n",
    "    for i in range(len(down_ind_data)):\n",
    "        x = down_ind_data[i].split(\",\")\n",
    "        writer.writerow(x)"
   ]
  },
  {
   "cell_type": "code",
   "execution_count": 339,
   "id": "comparative-midwest",
   "metadata": {},
   "outputs": [
    {
     "data": {
      "text/html": [
       "<div>\n",
       "<style scoped>\n",
       "    .dataframe tbody tr th:only-of-type {\n",
       "        vertical-align: middle;\n",
       "    }\n",
       "\n",
       "    .dataframe tbody tr th {\n",
       "        vertical-align: top;\n",
       "    }\n",
       "\n",
       "    .dataframe thead th {\n",
       "        text-align: right;\n",
       "    }\n",
       "</style>\n",
       "<table border=\"1\" class=\"dataframe\">\n",
       "  <thead>\n",
       "    <tr style=\"text-align: right;\">\n",
       "      <th></th>\n",
       "      <th>종목코드</th>\n",
       "      <th>종목명</th>\n",
       "      <th>종가</th>\n",
       "      <th>대비</th>\n",
       "      <th>등락률</th>\n",
       "      <th>EPS</th>\n",
       "      <th>PER</th>\n",
       "      <th>BPS</th>\n",
       "      <th>PBR</th>\n",
       "      <th>주당배당금</th>\n",
       "      <th>배당수익률</th>\n",
       "    </tr>\n",
       "  </thead>\n",
       "  <tbody>\n",
       "    <tr>\n",
       "      <th>0</th>\n",
       "      <td>\"060310\"</td>\n",
       "      <td>\"3S \"</td>\n",
       "      <td>\"2400\"</td>\n",
       "      <td>\"5\"</td>\n",
       "      <td>\"0.21\"</td>\n",
       "      <td>NaN</td>\n",
       "      <td>NaN</td>\n",
       "      <td>\"745\"</td>\n",
       "      <td>\"3.22\"</td>\n",
       "      <td>\"0\"</td>\n",
       "      <td>\"0.00\"</td>\n",
       "    </tr>\n",
       "    <tr>\n",
       "      <th>1</th>\n",
       "      <td>\"095570\"</td>\n",
       "      <td>\"AJ네트웍스 \"</td>\n",
       "      <td>\"4000\"</td>\n",
       "      <td>\"30\"</td>\n",
       "      <td>\"0.76\"</td>\n",
       "      <td>\"982\"</td>\n",
       "      <td>\"4.07\"</td>\n",
       "      <td>\"6802\"</td>\n",
       "      <td>\"0.59\"</td>\n",
       "      <td>\"300\"</td>\n",
       "      <td>\"7.50\"</td>\n",
       "    </tr>\n",
       "    <tr>\n",
       "      <th>2</th>\n",
       "      <td>\"006840\"</td>\n",
       "      <td>\"AK홀딩스 \"</td>\n",
       "      <td>\"28700\"</td>\n",
       "      <td>\"50\"</td>\n",
       "      <td>\"0.17\"</td>\n",
       "      <td>\"2168\"</td>\n",
       "      <td>\"13.24\"</td>\n",
       "      <td>\"62448\"</td>\n",
       "      <td>\"0.46\"</td>\n",
       "      <td>\"750\"</td>\n",
       "      <td>\"2.61\"</td>\n",
       "    </tr>\n",
       "    <tr>\n",
       "      <th>3</th>\n",
       "      <td>\"054620\"</td>\n",
       "      <td>\"APS홀딩스 \"</td>\n",
       "      <td>\"7710\"</td>\n",
       "      <td>\"150\"</td>\n",
       "      <td>\"1.98\"</td>\n",
       "      <td>NaN</td>\n",
       "      <td>NaN</td>\n",
       "      <td>\"10530\"</td>\n",
       "      <td>\"0.73\"</td>\n",
       "      <td>\"0\"</td>\n",
       "      <td>\"0.00\"</td>\n",
       "    </tr>\n",
       "    <tr>\n",
       "      <th>4</th>\n",
       "      <td>\"265520\"</td>\n",
       "      <td>\"AP시스템 \"</td>\n",
       "      <td>\"29000\"</td>\n",
       "      <td>\"550\"</td>\n",
       "      <td>\"1.93\"</td>\n",
       "      <td>\"671\"</td>\n",
       "      <td>\"43.22\"</td>\n",
       "      <td>\"7468\"</td>\n",
       "      <td>\"3.88\"</td>\n",
       "      <td>\"50\"</td>\n",
       "      <td>\"0.17\"</td>\n",
       "    </tr>\n",
       "  </tbody>\n",
       "</table>\n",
       "</div>"
      ],
      "text/plain": [
       "       종목코드        종목명       종가     대비     등락률     EPS      PER      BPS  \\\n",
       "0  \"060310\"      \"3S \"   \"2400\"    \"5\"  \"0.21\"     NaN      NaN    \"745\"   \n",
       "1  \"095570\"  \"AJ네트웍스 \"   \"4000\"   \"30\"  \"0.76\"   \"982\"   \"4.07\"   \"6802\"   \n",
       "2  \"006840\"   \"AK홀딩스 \"  \"28700\"   \"50\"  \"0.17\"  \"2168\"  \"13.24\"  \"62448\"   \n",
       "3  \"054620\"  \"APS홀딩스 \"   \"7710\"  \"150\"  \"1.98\"     NaN      NaN  \"10530\"   \n",
       "4  \"265520\"   \"AP시스템 \"  \"29000\"  \"550\"  \"1.93\"   \"671\"  \"43.22\"   \"7468\"   \n",
       "\n",
       "      PBR  주당배당금   배당수익률  \n",
       "0  \"3.22\"    \"0\"  \"0.00\"  \n",
       "1  \"0.59\"  \"300\"  \"7.50\"  \n",
       "2  \"0.46\"  \"750\"  \"2.61\"  \n",
       "3  \"0.73\"    \"0\"  \"0.00\"  \n",
       "4  \"3.88\"   \"50\"  \"0.17\"  "
      ]
     },
     "execution_count": 339,
     "metadata": {},
     "output_type": "execute_result"
    }
   ],
   "source": [
    "pd.read_csv(\"down_ind.csv\").head()"
   ]
  },
  {
   "cell_type": "markdown",
   "id": "elementary-induction",
   "metadata": {},
   "source": [
    "------\n",
    "# 최근 영업일 기준 데이터 받기"
   ]
  },
  {
   "cell_type": "code",
   "execution_count": 320,
   "id": "experimental-sheet",
   "metadata": {},
   "outputs": [],
   "source": [
    "get_date_url = \"https://finance.naver.com/sise/sise_deposit.nhn\"\n",
    "\n",
    "get_date = requests.get(get_date_url)\n",
    "\n",
    "#### 진짜 삽질 개오졌네;;; 얼마나 소비한거야 ㅠ \n",
    "from lxml import html\n",
    "get_date = html.fromstring(get_date.content)\n",
    "date = get_date.xpath('/html/body/div[3]/div[1]/div[2]/div[1]/div[2]/div[1]/div/ul[2]/li/span')\n",
    "date = date[0].xpath('/html/body/div[3]/div[1]/div[2]/div[1]/div[2]/div[1]/div/ul[2]/li/span/text()')\n",
    "\n",
    "import re\n",
    "\n",
    "date = re.findall('[0-9]+\\.+[0-9]+\\.+[0-9]+', date[0])  #### yyyy.mm.dd 형태를 추출하기 위해 정규표현식 사용\n",
    "biz_date = date[0].replace(\".\", \"\") #### yyyy.mm.dd -> yyyymmdd 변환"
   ]
  },
  {
   "cell_type": "markdown",
   "id": "collect-vacation",
   "metadata": {},
   "source": [
    "------\n",
    "# 거래소 데이터 정리하기"
   ]
  },
  {
   "cell_type": "code",
   "execution_count": 118,
   "id": "eleven-probe",
   "metadata": {},
   "outputs": [],
   "source": [
    "sec = pd.read_csv(\"down_sec.csv\")\n",
    "ind = pd.read_csv(\"down_ind.csv\")"
   ]
  },
  {
   "cell_type": "code",
   "execution_count": 119,
   "id": "novel-haven",
   "metadata": {},
   "outputs": [
    {
     "data": {
      "text/plain": [
       "Index(['종목코드', '종목명', '종가', '대비', '등락률', 'EPS', 'PER', 'BPS', 'PBR', '주당배당금',\n",
       "       '배당수익률'],\n",
       "      dtype='object')"
      ]
     },
     "execution_count": 119,
     "metadata": {},
     "output_type": "execute_result"
    }
   ],
   "source": [
    "ind.columns"
   ]
  },
  {
   "cell_type": "code",
   "execution_count": 120,
   "id": "acoustic-norfolk",
   "metadata": {},
   "outputs": [
    {
     "data": {
      "text/plain": [
       "Index(['종목코드', '종목명'], dtype='object')"
      ]
     },
     "execution_count": 120,
     "metadata": {},
     "output_type": "execute_result"
    }
   ],
   "source": [
    "sec.columns"
   ]
  },
  {
   "cell_type": "code",
   "execution_count": 121,
   "id": "optional-humanity",
   "metadata": {},
   "outputs": [],
   "source": [
    "ind['종목명'] = ind['종목명'].str.replace(\" \", \"\") #### 종목명 제일 끝에 공백이 있음 -> 종목명에 공백도 제거 되버림\n",
    "sec['종목명'] = sec['종목명'].str.replace(\" \", \"\") #### 종목명 중간에 공백을 똑같이 제거 "
   ]
  },
  {
   "cell_type": "code",
   "execution_count": 122,
   "id": "instant-relevance",
   "metadata": {},
   "outputs": [],
   "source": [
    "diff = set(sec['종목명']) - set(ind['종목명']) #### 공통으로 포함되지 않은 종목"
   ]
  },
  {
   "cell_type": "code",
   "execution_count": 124,
   "id": "undefined-robinson",
   "metadata": {},
   "outputs": [
    {
     "data": {
      "text/plain": [
       "(2367, 11)"
      ]
     },
     "execution_count": 124,
     "metadata": {},
     "output_type": "execute_result"
    }
   ],
   "source": [
    "KOR_ticker = ind.merge(sec) #### ind를기준으로 공통인 애들로 묶어줌\n",
    "KOR_ticker.shape"
   ]
  },
  {
   "cell_type": "code",
   "execution_count": 114,
   "id": "gothic-approach",
   "metadata": {},
   "outputs": [
    {
     "data": {
      "text/plain": [
       "29        \"DB금융스팩8호\"\n",
       "68      \"IBKS제12호스팩\"\n",
       "69      \"IBKS제13호스팩\"\n",
       "70      \"IBKS제14호스팩\"\n",
       "71      \"IBKS제15호스팩\"\n",
       "183         \"SK4호스팩\"\n",
       "184         \"SK5호스팩\"\n",
       "185         \"SK6호스팩\"\n",
       "279        \"교보10호스팩\"\n",
       "280         \"교보9호스팩\"\n",
       "442     \"대신밸런스제7호스팩\"\n",
       "443     \"대신밸런스제8호스팩\"\n",
       "444     \"대신밸런스제9호스팩\"\n",
       "745     \"미래에셋대우스팩5호\"\n",
       "746     \"미래에셋대우스팩3호\"\n",
       "747     \"미래에셋대우스팩4호\"\n",
       "863         \"삼성스팩2호\"\n",
       "919      \"상상인이안1호스팩\"\n",
       "920     \"상상인이안제2호스팩\"\n",
       "1091        \"신영스팩5호\"\n",
       "1092        \"신영스팩6호\"\n",
       "1106       \"신한제6호스팩\"\n",
       "1107       \"신한제7호스팩\"\n",
       "1309    \"에이치엠씨제4호스팩\"\n",
       "1310    \"에이치엠씨제5호스팩\"\n",
       "1352     \"엔에이치스팩13호\"\n",
       "1353     \"엔에이치스팩16호\"\n",
       "1354     \"엔에이치스팩17호\"\n",
       "1355     \"엔에이치스팩18호\"\n",
       "1545      \"유안타제3호스팩\"\n",
       "1546      \"유안타제4호스팩\"\n",
       "1547      \"유안타제5호스팩\"\n",
       "1548      \"유안타제6호스팩\"\n",
       "1549      \"유안타제7호스팩\"\n",
       "1562        \"유진스팩4호\"\n",
       "1563        \"유진스팩5호\"\n",
       "1600      \"이베스트스팩5호\"\n",
       "1601    \"이베스트이안스팩1호\"\n",
       "1836      \"케이비17호스팩\"\n",
       "1838     \"케이비제18호스팩\"\n",
       "1839     \"케이비제19호스팩\"\n",
       "1840     \"케이비제20호스팩\"\n",
       "1951       \"키움제5호스팩\"\n",
       "2109     \"하나금융14호스팩\"\n",
       "2110     \"하나금융15호스팩\"\n",
       "2111     \"하나금융16호스팩\"\n",
       "2112     \"하나금융17호스팩\"\n",
       "2116     \"하나머스트7호스팩\"\n",
       "2117    \"하나머스트제6호스팩\"\n",
       "2128       \"하이제5호스팩\"\n",
       "2137        \"한국9호스팩\"\n",
       "2167       \"한국제8호스팩\"\n",
       "2259     \"한화에스비아이스팩\"\n",
       "2264    \"한화플러스제1호스팩\"\n",
       "Name: 종목명, dtype: object"
      ]
     },
     "execution_count": 114,
     "metadata": {},
     "output_type": "execute_result"
    }
   ],
   "source": [
    "KOR_ticker['종목명'][KOR_ticker['종목명'].str.find('스팩') >= 0] #### 스팩주"
   ]
  },
  {
   "cell_type": "code",
   "execution_count": 135,
   "id": "aquatic-programming",
   "metadata": {},
   "outputs": [],
   "source": [
    "KOR_ticker = KOR_ticker[KOR_ticker['종목명'].str.find(\"스팩\") == -1] #### 스팩주 제거"
   ]
  },
  {
   "cell_type": "code",
   "execution_count": 163,
   "id": "bright-procurement",
   "metadata": {},
   "outputs": [
    {
     "data": {
      "text/plain": [
       "10          \"BYC우\"\n",
       "14      \"CJ4우(전환)\"\n",
       "17       \"CJ씨푸드1우\"\n",
       "18           \"CJ우\"\n",
       "20       \"CJ제일제당우\"\n",
       "           ...    \n",
       "2302      \"현대차3우B\"\n",
       "2303        \"현대차우\"\n",
       "2317       \"호텔신라우\"\n",
       "2362     \"흥국화재2우B\"\n",
       "2363       \"흥국화재우\"\n",
       "Name: 종목명, Length: 121, dtype: object"
      ]
     },
     "execution_count": 163,
     "metadata": {},
     "output_type": "execute_result"
    }
   ],
   "source": [
    "KOR_ticker['종목명'][KOR_ticker['종목코드'].str[-2] != \"0\"] #### 우선주 목록 -> 가장 끝은 \"\"이라서 그 다음 문자열을 찾아줘야함"
   ]
  },
  {
   "cell_type": "code",
   "execution_count": 164,
   "id": "attached-intervention",
   "metadata": {},
   "outputs": [],
   "source": [
    "KOR_ticker = KOR_ticker[KOR_ticker['종목코드'].str[-2] == \"0\"] #### 우선주 제거"
   ]
  },
  {
   "cell_type": "code",
   "execution_count": 166,
   "id": "loaded-martial",
   "metadata": {},
   "outputs": [],
   "source": [
    "KOR_ticker.to_csv(\"KOR_ticker.csv\", index=False)"
   ]
  },
  {
   "cell_type": "markdown",
   "id": "sufficient-advice",
   "metadata": {},
   "source": [
    "-----\n",
    "# WICS 기준 섹터 정보 크롤링"
   ]
  },
  {
   "cell_type": "code",
   "execution_count": 219,
   "id": "instant-puzzle",
   "metadata": {},
   "outputs": [],
   "source": [
    "import time\n",
    "\n",
    "sector_code = ['G25', 'G35', 'G50', 'G40', 'G10',\n",
    "              'G20', 'G55', 'G30', 'G15', 'G45',]\n",
    "data_sector = pd.DataFrame()\n",
    "\n",
    "for code in sector_code:\n",
    "    url = \"http://www.wiseindex.com/Index/GetIndexComponets?ceil_yn=0&dt=20210316&sec_cd=\" + code\n",
    "    data = requests.get(url)\n",
    "    data_df = pd.DataFrame(data.json()['list']) #### 받아온 결과를 json으로 출력 -> dict로 출력되는 데 key가 'list'가 해당 정보\n",
    "    data_sector = pd.concat([data_sector, data_df])\n",
    "    time.sleep(1) #### 1초간 휴식 -> R에서 Sys.sleep(1)과 같은역할"
   ]
  },
  {
   "cell_type": "code",
   "execution_count": 227,
   "id": "multiple-butter",
   "metadata": {},
   "outputs": [],
   "source": [
    "data_sector.index = range(len(data_sector)) #### index를 편하게 숫자순서대로 변경"
   ]
  },
  {
   "cell_type": "code",
   "execution_count": 229,
   "id": "twelve-movement",
   "metadata": {},
   "outputs": [],
   "source": [
    "data_sector.to_csv(\"KOR_sector.csv\", index=False)"
   ]
  },
  {
   "cell_type": "markdown",
   "id": "adopted-choice",
   "metadata": {},
   "source": [
    "-----\n",
    "# Ch6\n",
    "# 개별 종목 수정주가 크롤링 - 더 효율적인 방법 찾아야함 - 너무 무식하게 짰다...."
   ]
  },
  {
   "cell_type": "code",
   "execution_count": 68,
   "id": "mature-running",
   "metadata": {},
   "outputs": [],
   "source": [
    "url = \"https://fchart.stock.naver.com/siseJson.nhn?symbol=005930&requestType=1&startTime=20190608&endTime=20200622&timeframe=day\""
   ]
  },
  {
   "cell_type": "code",
   "execution_count": 69,
   "id": "unlimited-precipitation",
   "metadata": {},
   "outputs": [],
   "source": [
    "url_data = requests.get(url)"
   ]
  },
  {
   "cell_type": "code",
   "execution_count": 70,
   "id": "popular-drunk",
   "metadata": {},
   "outputs": [],
   "source": [
    "url_data = url_data.content.decode(\"utf8\").replace(\"\\t\", \"\").replace(\"\\n\", \"\") #### \\t, \\n을 공백으로 대체"
   ]
  },
  {
   "cell_type": "code",
   "execution_count": 71,
   "id": "cultural-belarus",
   "metadata": {},
   "outputs": [],
   "source": [
    "url_data = url_data.replace(\"[\",\"\")\n",
    "url_data = url_data.replace(\" \",\"\")\n",
    "url_data = url_data.split(\"]\")    #### 최대한 안에 결과 값들만 뽑아내기 위함"
   ]
  },
  {
   "cell_type": "code",
   "execution_count": 72,
   "id": "beginning-bennett",
   "metadata": {},
   "outputs": [],
   "source": [
    "#### 맨 앞의 ','를 제거해주기 위함\n",
    "\n",
    "df = []\n",
    "df.append(url_data[0])  #### 가장 첫줄 먼저 포함\n",
    "for i in range(1, len(url_data)):\n",
    "    x = url_data[i][1:]\n",
    "    df.append(x)\n"
   ]
  },
  {
   "cell_type": "code",
   "execution_count": 73,
   "id": "studied-pursuit",
   "metadata": {},
   "outputs": [],
   "source": [
    "df = df[:-2] #### 가장 마지막 2개가 빈 칸이므로 제거"
   ]
  },
  {
   "cell_type": "code",
   "execution_count": 74,
   "id": "backed-calendar",
   "metadata": {},
   "outputs": [],
   "source": [
    "#### 최대한 dataframe에 맞춰서 만듦 - expand는 시리즈일 때만 있는 옵션인듯 - split 결과를 서로 다른 열에 넣어줌\n",
    "#### 첫번째 row를 행 이름으로 쓰기위해서 이 방법이 진짜 이게 최선이라고...? ㅋ\n",
    "df = pd.DataFrame(df)[0].str.split(\",\", expand=True)\n",
    "df.columns = df.iloc[0,:]\n",
    "df = df.iloc[1:,:]"
   ]
  },
  {
   "cell_type": "code",
   "execution_count": 75,
   "id": "spectacular-track",
   "metadata": {},
   "outputs": [],
   "source": [
    "df[\"'날짜'\"] = pd.to_datetime(df[\"'날짜'\"], format='\"%Y%m%d\"') #### 날짜형태로 변환 - columns 이름이랑 날짜 값들이 모두 \"\"를 값으로 포함"
   ]
  },
  {
   "cell_type": "code",
   "execution_count": 76,
   "id": "enhanced-raleigh",
   "metadata": {},
   "outputs": [],
   "source": [
    "df.set_index(\"'날짜'\", inplace = True) #### 날짜를 인덱스로 변환"
   ]
  },
  {
   "cell_type": "code",
   "execution_count": 82,
   "id": "cognitive-parts",
   "metadata": {},
   "outputs": [],
   "source": [
    "df_price_volume = df[[\"'종가'\", \"'거래량'\"]] #### 종가, 거래량 추출"
   ]
  },
  {
   "cell_type": "code",
   "execution_count": 90,
   "id": "ethical-count",
   "metadata": {},
   "outputs": [],
   "source": [
    "df_price_volume.to_csv(\"KOR_price_volume.csv\") #### csv로 저장"
   ]
  },
  {
   "cell_type": "markdown",
   "id": "complicated-retrieval",
   "metadata": {},
   "source": [
    "-------\n",
    "# 전 종목 주가 크롤링 - 위에서 짠 개인 종목을 ticker를 불러와서 ticker정보를 통해 url 변경\n",
    "# csv 파일이 많아지므로 새로운 폴더를 만드는 과정이 가장 먼저 필요"
   ]
  },
  {
   "cell_type": "code",
   "execution_count": null,
   "id": "dated-arrest",
   "metadata": {},
   "outputs": [],
   "source": []
  }
 ],
 "metadata": {
  "kernelspec": {
   "display_name": "Python 3",
   "language": "python",
   "name": "python3"
  },
  "language_info": {
   "codemirror_mode": {
    "name": "ipython",
    "version": 3
   },
   "file_extension": ".py",
   "mimetype": "text/x-python",
   "name": "python",
   "nbconvert_exporter": "python",
   "pygments_lexer": "ipython3",
   "version": "3.6.8"
  }
 },
 "nbformat": 4,
 "nbformat_minor": 5
}
